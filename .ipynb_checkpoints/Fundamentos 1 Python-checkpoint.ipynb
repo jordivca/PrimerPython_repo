{
 "cells": [
  {
   "cell_type": "markdown",
   "id": "60bb0b72",
   "metadata": {},
   "source": [
    "# Introducción a la programación en Python"
   ]
  },
  {
   "cell_type": "markdown",
   "id": "54b14c7e",
   "metadata": {},
   "source": [
    "**Laboratorio 1 :**\n",
    "*     Introducción a la programación en Python.\n",
    "*     Variables.\n",
    "*     Tipos de datos (int, float, string, boolean).\n",
    "*     Operadores.\n",
    "*     Control de flujo (if, while, for).\n",
    "*     Funciones.\n",
    "*     Operaciones con tipos de datos.\n",
    "*     Listas.\n",
    "*     Operaciones con listas.\n",
    "*     Diagrama de Flujo\n"
   ]
  },
  {
   "cell_type": "markdown",
   "id": "9614e4e9",
   "metadata": {},
   "source": [
    "## Introducción a la programación\n",
    "\n",
    "La programación es el proceso que se utiliza para diseñar e implementar un programa de computadora, valiéndose de algún lenguaje que permita comunicar una serie de acciones que se requiere que la computadora realice. Podemos pensar que es una caja negra que recibe alguna información, la cual es llamada *input* (entrada), realiza alguna acción, y devuelve información, la cual es llamada *output* (salida).\n",
    "\n",
    "![Black Box](https://raw.githubusercontent.com/IEEESBITBA/Curso-Python/master/_assets/BlackBox.png)\n",
    "\n",
    "## Lenguajes de programación\n",
    "Un lenguaje de programación es un [lenguaje formal](https://es.wikipedia.org/wiki/Lenguaje_formal) que proporciona una serie de instrucciones, las cuales permiten a un programador escribir secuencias de órdenes para controlar el comportamiento físico y lógico de una computadora, con el objetivo de que produzca diversas acciones deseadas por el programador (¡y los usuarios!).\n",
    "\n",
    "Algunos de los lenguajes mas populares en los últimos tiempos (lejos de ser los únicos) son Python, Java, C++, JavaScript, PHP, etc.\n",
    "\n",
    "<img src=\"https://i.imgur.com/12T9u0f.jpg\" height=\"300\" alt = \"Collage de lenguajes de programación populares\" title=\"Hay varios otros lenguajes, como Go, Go!, Gosu etc. \">"
   ]
  },
  {
   "cell_type": "markdown",
   "id": "6bcc77d3",
   "metadata": {},
   "source": [
    "### ¿Por qué Python?\n",
    "Elegimos Python porque es uno de los lenguajes de programación con reglas más simples e intuitivas que existen; esto explica la creciente popularidad que ha tenido en los ultimos tiempos.\n",
    "\n",
    "A pesar de su simpleza, es muy utilizado tanto en la industria para servidores y servicios web, así como también en el área académica para redes neuronales, deep learning, simulación, etc.\n",
    "\n",
    "La comunidad de Python es una de las más grandes. Por lo tanto cualquier duda que tengan, a partir de ahora, Google es su amigo: pueden buscar la duda que tengan y seguramente alguien ya haya tenido ese problema. Una de los sitios web más conocidos para este fin es [StackOverflow](https://stackoverflow.com/)."
   ]
  },
  {
   "cell_type": "markdown",
   "id": "401396b9",
   "metadata": {},
   "source": [
    "## Notebooks de IPython\n",
    "Este archivo - un notebook IPython -  no sigue el patrón estándar de código Python en un archivo de texto. En su lugar, un notebook IPython es almacenado como un archivo en el formato [JSON](http://es.wikipedia.org/wiki/JSON). La ventaja es que podemos mezclar texto formateado, código Python, y código de salida. Esto requiere estar ejecutando un servidor de notebook IPython, y por eso este tipo de archivo no es un programa Python independiente como se describió antes. Aparte de eso, no hay diferencia entre el código Python en un archivo de programa o en un notebook IPython."
   ]
  },
  {
   "cell_type": "markdown",
   "id": "85236ea3",
   "metadata": {},
   "source": [
    "## Variables y tipos\n",
    "### Nombres de símbolos\n",
    "Para poder realizar tareas es necesario guardar en la memoria de la computadora los datos que necesita mi aplicación para funcionar.En programación, se le asigna un nombre o apodo a cada pequeño segmento de la memoria que almacena un dato o un valor.. De esta forma en el programa cada vez que se usa este nombre se esta refiriendo al valor del dato almacenado en la memoria. Este es el concepto de \"variable\".\n",
    "\n",
    " Los nombres de las variables en Python pueden contener los caracteres `a-z`, `A-Z`, `0-9` y algunos caracteres especiales como `_`. Los nombres de variables normales deben comenzar con una letra. \n",
    "\n",
    "Por convención, los nombres de las variables comienzan con letra minúscula, mientras que los nombres de las clases comienzan con una letra mayúscula. \n",
    "\n",
    "Además, existen algunos palabras claves Python que no pueden ser usados como nombres de variables. Éstas son:\n",
    "\n",
    "    and, as, assert, break, class, continue, def, del, elif, else, except, \n",
    "    exec, finally, for, from, global, if, import, in, is, lambda, not, or,\n",
    "    pass, print, raise, return, try, while, with, yield\n",
    "\n",
    "Nota: Atención con la palabra `lambda`, que podría fácilmente ser un nombre de variable natural en un programa científico. Sin embargo, como es una palabra clave, no puede ser usado como nombre de una variable."
   ]
  },
  {
   "cell_type": "code",
   "execution_count": 3,
   "id": "f83aa3a3",
   "metadata": {},
   "outputs": [
    {
     "name": "stdout",
     "output_type": "stream",
     "text": [
      "5\n"
     ]
    }
   ],
   "source": [
    "x = 5\n",
    "print(x)"
   ]
  },
  {
   "cell_type": "markdown",
   "id": "38a67815",
   "metadata": {},
   "source": [
    "Este ejemplo utilizará un bloque de la memoria para almacenar el número 5, luego le asigna a este bloque el nombre x y por lo tanto a partir de entonces cada vez que se utiliza la palabra x en realidad nos referimos al valor almacenado dentro del bloque de memoria, al cual apodamos x."
   ]
  },
  {
   "cell_type": "markdown",
   "id": "ba7cfd8d",
   "metadata": {},
   "source": [
    "### Asignaciones\n",
    "El operador para asignar valores en Python es el signo igual (`=`). Python es un lenguage de _escritura dinámica_, de modo que no necesitamos especificar el tipo de una variable cuando la creamos.\n",
    "\n",
    "Al asignar un valor a una variable nueva se crea esa variable:"
   ]
  },
  {
   "cell_type": "code",
   "execution_count": 5,
   "id": "e97cdc0f",
   "metadata": {},
   "outputs": [
    {
     "name": "stdout",
     "output_type": "stream",
     "text": [
      "Hola\n",
      "Adios\n",
      "123\n"
     ]
    }
   ],
   "source": [
    "x = 'Hola'\n",
    "y = \"Adios\"\n",
    "z = 123\n",
    "print(x)\n",
    "print(y)\n",
    "print(z)"
   ]
  },
  {
   "cell_type": "markdown",
   "id": "5141d0e5",
   "metadata": {},
   "source": [
    "Noten que la instrucción print( ) permite mostrar el contenido de una variable. Cuando ponemos print(x) no imprime la letra x sino que imprime el contenido de x. Es por esto que para eliminar la confusión se usan comillas cuando queremos mostrar texto y no el contenido de una variable."
   ]
  },
  {
   "cell_type": "markdown",
   "id": "a31e4376",
   "metadata": {},
   "source": [
    "#### Unos tips  que ya pueden a empezar a usar son:\n",
    "* Separar el nombre de la variable, el operador de asignación y la expresión a evaluar con espacios.\n",
    "Es decir, en lugar de escribir:\n",
    "```python\n",
    "x=\"Hola mundo!\"\n",
    "```\n",
    "Es mejor escribir:\n",
    "```python\n",
    "x = \"Hola mundo!\"\n",
    "```\n",
    "\n",
    "* Elegir nombres de variables descriptivos, aunque nos de pereza escribirlos.\n",
    "\n",
    "```python\n",
    "radio = 5\n",
    "pi = 3.14\n",
    "perimetro = 2 * pi * radio\n",
    "areaEsfera = 4 * pi * radio**2\n",
    "volumenEsfera = 4 / 3 * pi * radio**3\n",
    "```\n"
   ]
  },
  {
   "cell_type": "markdown",
   "id": "206b9c54",
   "metadata": {},
   "source": [
    "#### **Mini-desafío:** Output y variables\n",
    "\n",
    "Diseñar un programa en el cual se definan exactamente 2 variables.\n",
    "- La primera se debe llamar `nombre` y debe contener tu nombre (entre comillas).\n",
    "- La segunda se debe llamar `edad` y debe contener tu edad (como un número simple, sin comillas).\n",
    "\n",
    "Por último el programa debe mostrar en pantalla la siguiente frase en una sóla línea: \n",
    "> (nombre) tiene (edad) años\n",
    "\n",
    "Por ejemplo:\n",
    "> Mati tiene 5 años\n",
    "\n",
    "**Tip:** La instrucción print() admite mostrar mensajes en un mismo renglón si se indican diferentes parámetros separados con comas.\n"
   ]
  },
  {
   "cell_type": "code",
   "execution_count": null,
   "id": "f04fa852",
   "metadata": {},
   "outputs": [],
   "source": []
  },
  {
   "cell_type": "markdown",
   "id": "f12cef86",
   "metadata": {},
   "source": [
    "### Tipos Fundamentales"
   ]
  },
  {
   "cell_type": "code",
   "execution_count": null,
   "id": "a99a3350",
   "metadata": {},
   "outputs": [],
   "source": [
    "# enteros\n",
    "x = 1\n",
    "type(x)"
   ]
  },
  {
   "cell_type": "code",
   "execution_count": null,
   "id": "bfd1e386",
   "metadata": {},
   "outputs": [],
   "source": [
    "# flotantes\n",
    "x = 1.0\n",
    "type(x)"
   ]
  },
  {
   "cell_type": "code",
   "execution_count": null,
   "id": "5f026e5e",
   "metadata": {},
   "outputs": [],
   "source": [
    "# booleanos\n",
    "b1 = True\n",
    "b2 = False\n",
    "\n",
    "type(b1)"
   ]
  },
  {
   "cell_type": "code",
   "execution_count": null,
   "id": "32813791",
   "metadata": {},
   "outputs": [],
   "source": [
    "# números complejos: note que se usa `j` para especificar la parte imaginaria\n",
    "x = 1.0 - 1.0j\n",
    "type(x)"
   ]
  },
  {
   "cell_type": "code",
   "execution_count": 10,
   "id": "3a86cd91",
   "metadata": {},
   "outputs": [
    {
     "name": "stdout",
     "output_type": "stream",
     "text": [
      "Hola\n"
     ]
    }
   ],
   "source": [
    "print(x)"
   ]
  },
  {
   "cell_type": "code",
   "execution_count": 11,
   "id": "27b51a3b",
   "metadata": {},
   "outputs": [
    {
     "data": {
      "text/plain": [
       "str"
      ]
     },
     "execution_count": 11,
     "metadata": {},
     "output_type": "execute_result"
    }
   ],
   "source": [
    "# Texto\n",
    "x = \"HOLA\"\n",
    "type(x)"
   ]
  },
  {
   "cell_type": "markdown",
   "id": "381be058",
   "metadata": {},
   "source": [
    "### Input\n",
    "El input de un programa es la manera de recibir información del entorno externo al programa. Esto puede ser un usuario, un archivo, otro programa, un sensor, etc. \n",
    "\n",
    "Para ingresar una variable podemos usar **input( \"Texto a mostrar:\" )**. Corran este código ustedes para que les de una pequeña casilla donde escribir, y luego el programa escribirá lo que ustedes ingresaron. "
   ]
  },
  {
   "cell_type": "code",
   "execution_count": 8,
   "id": "5ae60de9",
   "metadata": {},
   "outputs": [
    {
     "name": "stdout",
     "output_type": "stream",
     "text": [
      "Ingrese su nombre: Luiggi\n",
      "Ingrese su edad: 2\n",
      "nombre: Luiggi\n",
      "edad: 2\n"
     ]
    }
   ],
   "source": [
    "# Esto es un comentario!\n",
    "# Los comentarios no son ejecutados por Python\n",
    "# De esta forma el programador puede hacer una nota para humanos\n",
    "\n",
    "nombre = input(\"Ingrese su nombre: \")\n",
    "edad = int( input(\"Ingrese su edad: \") )\n",
    "\n",
    "print(\"nombre:\", nombre)\n",
    "print(\"edad:\", edad)"
   ]
  },
  {
   "cell_type": "markdown",
   "id": "700c5005",
   "metadata": {},
   "source": [
    "Un detalle a tener en cuenta es que la información ingresada por el usuario usando **input( )** será interpretada como texto, no como un número. Por eso cuando queremos ingresar un número usaremos **int( )** para convertir ese texto al número correspondiente. En la próxima clase quedará claro por qué debemos hacer esto y qué es el tipo de una variable."
   ]
  },
  {
   "cell_type": "markdown",
   "id": "95735dfb",
   "metadata": {},
   "source": [
    "## Operaciones básicas con variables\n",
    "### Operaciones de modificación\n",
    "\n",
    "No sería muy útil un programa si lo único que podemos hacer es guardar en una variable y mostrarla, por lo que existen algunas operaciones básicas que nos permiten modificar el contenido:\n",
    "\n",
    "- Sumar dos variables ( $a+b$ ):\n",
    "\n",
    "  `a + b`\n",
    "\n",
    "- Restar dos variables ( $a-b$ ):\n",
    "\n",
    "  `a − b`\n",
    "\n",
    "- Multiplicar dos variables ( $a\\cdot b$ ):\n",
    "\n",
    "  `a * b`\n",
    "\n",
    "- Dividir una variable por la otra ( $a\\div b$ ):\n",
    "\n",
    "  `a / b` \n",
    "\n",
    "- Una variable elevada a la otra ( $a^b$ ): \n",
    "\n",
    "  `a ** b`\n",
    "\n",
    "- Asignarle un valor a una variable ( $a\\leftarrow b$ ):\n",
    "\n",
    "  `a = b`\n",
    "  \n",
    "\n",
    "¿Cual será la salida del siguiente programa?"
   ]
  },
  {
   "cell_type": "code",
   "execution_count": null,
   "id": "1c3f5f6d",
   "metadata": {},
   "outputs": [],
   "source": [
    "x = 3\n",
    "y = -2\n",
    "y = x*y\n",
    "x = x**2\n",
    "print(\"y =\", y)\n",
    "print(\"x =\", x)"
   ]
  },
  {
   "cell_type": "markdown",
   "id": "0fa31e15",
   "metadata": {},
   "source": [
    "Python nos permite ahorrar código combinando el operando **=** con alguno de los anteriormente vistos:\n",
    "\n",
    "*   Suma a la varaible ( $a \\leftarrow a+ b$ ):\n",
    "\n",
    "  `a += b`\n",
    "\n",
    "*   Resta a la variable ( $a \\leftarrow a- b$ ):\n",
    "\n",
    "  `a -= b`\n",
    "\n",
    "*   Multiplica a la variable ( $a \\leftarrow a\\cdot b$ ):\n",
    "\n",
    "  `a *= b`\n",
    "\n",
    "*   Divide a la variable ( $a \\leftarrow a\\div b$ ):\n",
    "\n",
    "  `a /= b`\n",
    "\n",
    "¿Cual será la salida del siguiente codigo?"
   ]
  },
  {
   "cell_type": "code",
   "execution_count": 12,
   "id": "cd608313",
   "metadata": {},
   "outputs": [
    {
     "name": "stdout",
     "output_type": "stream",
     "text": [
      "x = 2.0\n"
     ]
    }
   ],
   "source": [
    "x = 17\n",
    "x += 3\n",
    "x /= 10\n",
    "print(\"x =\",x)"
   ]
  },
  {
   "cell_type": "markdown",
   "id": "d8105966",
   "metadata": {},
   "source": [
    "**Prolijidad y buenas prácticas**\n",
    "Al igual que al asignar, a veces introducir espacios al escribir expresiones vuelve más legible el código.\n",
    "\n",
    "¿Cúal de las siguientes asignaciones te parece más limpia y entendible?\n",
    "\n",
    "```python\n",
    "a = 5+7/4**5*3-7*x+b\n",
    "```\n",
    "```python\n",
    "a = 5 + 7 / 4**5 * 3 - 7 * x + b\n",
    "```"
   ]
  },
  {
   "cell_type": "markdown",
   "id": "0291d303",
   "metadata": {},
   "source": [
    "#### **Mini-desafío:** Operadores\n",
    "\n",
    "1. Diseñar un programa en el cual el usuario ingrese tres números, uno a la vez, y se muestre a la salida el promedio de los tres números.\n",
    "2. Diseñar un programa en el cual el usuario ingrese tres números, uno a la vez, y se muestre a la salida la [media geométrica](https://es.wikipedia.org/wiki/Media_geom%C3%A9trica) de los tres números.\n",
    "\n",
    "  **Tip:** Usando el operador de potencia se puede calcular una raíz cúbica ya que: $\\sqrt[3]{x}=x^{1/3}$"
   ]
  },
  {
   "cell_type": "code",
   "execution_count": null,
   "id": "ebd81968",
   "metadata": {},
   "outputs": [],
   "source": [
    "# Escribir el codigo"
   ]
  },
  {
   "cell_type": "markdown",
   "id": "f11e4a2e",
   "metadata": {},
   "source": [
    "### Operaciones de comparación\n",
    "\n",
    "Existen operaciones para comparar propiedades de las variables, que serán especialmente importantes para el próximo tema de la clase. Las principales comparaciones posibles son:\n",
    "\n",
    "*   Menor que ( $a < b$ ):\n",
    "\n",
    " `a < b`\n",
    "\n",
    "*   Mayor que ( $a > b$ ):\n",
    "\n",
    " `a > b`\n",
    "\n",
    "*   Menor o igual que ( $a \\leq b$ ):\n",
    "\n",
    " `a <= b`\n",
    "\n",
    "*   Mayor o igual que ( $a \\geq b$ ):\n",
    "\n",
    " `a >= b`\n",
    "\n",
    "*   Es igual ( $a = b$ ):\n",
    "\n",
    " `a == b` (Ojo: se utilizan 2 símbolos `=` para diferenciarse del operador asignación)\n",
    "\n",
    "*   Es distinto ( $a \\neq b$ ):\n",
    "\n",
    " `a != b`\n",
    "\n",
    "\n",
    "Al comprarar dos números se obtiene True o False (Verdadero o Falso) según si se cumple la condición:"
   ]
  },
  {
   "cell_type": "code",
   "execution_count": 13,
   "id": "396bf2b8",
   "metadata": {},
   "outputs": [
    {
     "name": "stdout",
     "output_type": "stream",
     "text": [
      "Es x mayor o igual a 4? True\n",
      "Es x menor a 3? False\n"
     ]
    }
   ],
   "source": [
    "x = 4\n",
    "print(\"Es x mayor o igual a 4?\", x >= 4)\n",
    "print(\"Es x menor a 3?\", x < 3)"
   ]
  },
  {
   "cell_type": "markdown",
   "id": "e480d885",
   "metadata": {},
   "source": [
    "También podemos combinar diversas condiciones:\n",
    "\n",
    "*  Si se cumplen las dos condiciones ( $a \\land b$ ):\n",
    "\n",
    "  `a and b`\n",
    "\n",
    "*  Si se cumple alguna de las condiciones ( $ a \\lor b$ ):\n",
    "\n",
    "  `a or b`\n",
    "\n",
    "*  Si no se cumple esa condición ( $ \\overline{a} $ ):\n",
    "\n",
    "  `not a`\n",
    "\n",
    "\n",
    "Veamos un ejemplo:"
   ]
  },
  {
   "cell_type": "code",
   "execution_count": 15,
   "id": "99df72ea",
   "metadata": {},
   "outputs": [
    {
     "name": "stdout",
     "output_type": "stream",
     "text": [
      "Ingrese un numero:5\n",
      "x > 5 y x < 7? False\n",
      "x > 5 ó x < 7? True\n",
      "Es x NO mayor a 5? True\n"
     ]
    }
   ],
   "source": [
    "x = int(input(\"Ingrese un numero:\"))\n",
    "y = x > 5 and x < 7\n",
    "z = x > 5 or x < 7\n",
    "k = not x > 5\n",
    "print(\"x > 5 y x < 7?\", y)\n",
    "print(\"x > 5 ó x < 7?\", z)\n",
    "print(\"Es x NO mayor a 5?\", k)"
   ]
  },
  {
   "cell_type": "markdown",
   "id": "2aeb1ea3",
   "metadata": {},
   "source": [
    "Estas condiciones pueden agruparse con ( condicion1 ) and/or ( condicion2 ), esto permite chequar condiciones complejas:"
   ]
  },
  {
   "cell_type": "code",
   "execution_count": null,
   "id": "d0f0f6f4",
   "metadata": {},
   "outputs": [],
   "source": [
    "x = int(input(\"Ingrese el primer número:\"))\n",
    "y = int(input(\"Ingrese el segundo número:\"))\n",
    "z = ( x > 15 or x < -15) and ( y > 15 or y < -15 )\n",
    "print(\"El valor absoluto de ambos numeros es mayor a 15?\", z)"
   ]
  },
  {
   "cell_type": "markdown",
   "id": "5e7cf9c1",
   "metadata": {},
   "source": [
    "### Reto\n",
    "Los operadores de comparación los hemos utilizado para comparar numeros.¿Alguno de ello servira para comparar texto?.\n",
    "Les reto a probar los operadores y encontrar aquellos que se pueden utilizar con texto."
   ]
  },
  {
   "cell_type": "code",
   "execution_count": null,
   "id": "686ecb1b",
   "metadata": {},
   "outputs": [],
   "source": [
    "#Escribir codigo"
   ]
  },
  {
   "cell_type": "markdown",
   "id": "42517ac6",
   "metadata": {},
   "source": [
    "## Control de Flujo\n",
    "Los programas siguen un \"flujo\" definido por el programador. Hasta ahora el flujo del programa siempre fue uno sólo, se ejecuta una instrucción, luego la siguiente, luego la siguiente a esta, etc. Sin embargo es posible realizar tareas diferentes dependiendo de ciertas condiciones, repetir segmentos de código, y modificar el flujo del programa de forma que no sea simplemente una secuencia lineal de instrucciones. Esto permite realizar tareas mucho más complejas, en la cuál el programa tome decisiones respecto a lo que debe hacer en función de la situación.\n",
    "\n",
    "Notar que todas estas estructuras terminan con un \"**:**\" , y la siguiente línea tiene un tab de indentación (como una sangría)."
   ]
  },
  {
   "cell_type": "markdown",
   "id": "758d0291",
   "metadata": {},
   "source": [
    "El **if** es la estructura básica que le permite al programador analizar si se cumple una condición, y realizar distintas acciones según si eso sucede o no. Las distintas formas de implementar la estructura son las siguientes:\n",
    "\n",
    "```python\n",
    "if (condicion):\n",
    "    #Lo que se hace si se cumple la condición\n",
    "```\n",
    "```python\n",
    "if (condicion):\n",
    "    #Lo que se hace si se cumple la condición\n",
    "else:\n",
    "    #Lo que se hace si no se cumple la condición\n",
    "```\n",
    "```python\n",
    "if (condicion1):\n",
    "    #Lo que se hace si se cumple la condición1\n",
    "elif (condicion2):\n",
    "    #Lo que se hace si no se cumple la condicion1, pero sí la condicion2\n",
    "elif (condicion3):\n",
    "    #Lo que se hace si no se cumple la condicion1 ni la condición2, pero sí la condición3\n",
    "else:\n",
    "    #Lo que se hace si no se cumple ninguna condición\n",
    "``` \n",
    "    \n",
    "Se debe prestar especial atención a la indentación/tabulación. Siempre que se define un **if** se crea un bloque de código (un conjunto de instrucciones) que son las que se ejecutan cuando se cumple la condición dada. Este bloque de código debe tener una \"sangría\", de esta forma Python comprende donde empieza y donde termina este bloque. Si se utiliza la \"sangría\" incorrectamente Python indicará que hay un error en el código y no se podrá ejecutar.\n",
    "\n",
    "Siempre se comienza con **if**, después puede haber cualquier cantidad de **elif** (o ninguno) y luego se puede terminar con **else** (o no). Luego del **else** no puede haber más **elif**.\n",
    " \n",
    " ¿Cual será la salida del siguiente programa?"
   ]
  },
  {
   "cell_type": "code",
   "execution_count": 17,
   "id": "1ad10022",
   "metadata": {},
   "outputs": [
    {
     "name": "stdout",
     "output_type": "stream",
     "text": [
      "6\n"
     ]
    }
   ],
   "source": [
    "x = 5\n",
    "y = 6\n",
    "if x == y:\n",
    "    print(x)\n",
    "elif y < 5 or y > 7:\n",
    "    print(x + y)\n",
    "else:\n",
    "    print(y)"
   ]
  },
  {
   "cell_type": "code",
   "execution_count": 18,
   "id": "2599248b",
   "metadata": {},
   "outputs": [
    {
     "name": "stdout",
     "output_type": "stream",
     "text": [
      "Ingrese el valor de y10\n",
      "Ingrese el valor de x6\n",
      "No adivinamos el valor de x  :(\n",
      "y es mayor que x\n"
     ]
    }
   ],
   "source": [
    "y = int(input(\"Ingrese el valor de y\"))\n",
    "if y == 13:\n",
    "    print(\"Adivinamos el valor de y!\")      \n",
    "\n",
    "x = int(input(\"Ingrese el valor de x\"))    \n",
    "if x == 93:\n",
    "    print(\"Adivinamos el valor de x!\")\n",
    "else:\n",
    "    print(\"No adivinamos el valor de x  :(\")\n",
    "    \n",
    "if x > y:\n",
    "    print(\"x es mayor que y\")\n",
    "elif x < y:\n",
    "    print(\"y es mayor que x\")\n",
    "elif x == y:\n",
    "    print(\"x e y son iguales\")\n",
    "else:\n",
    "    print(\"que anda pasando?\")"
   ]
  },
  {
   "cell_type": "markdown",
   "id": "0b26e279",
   "metadata": {},
   "source": [
    "**Tips**\n",
    "\n",
    "Para indentar y desindentar, se usa la tecla *tabulador* junto con la tecla *shift/mayus*. Recomendamos que busquen en su teclado esta tecla y si no la conocen, pueder pedirle ayuda a Google.\n",
    "\n",
    "Si se quiere añadir o quitar tabulaciones a varias líneas, pueden seleccionarlas primero."
   ]
  },
  {
   "cell_type": "markdown",
   "id": "5c39578c",
   "metadata": {},
   "source": [
    "#### **Mini-desafío:** if\n",
    "1. Realizar un programa que revise si una nota está aprobada (es decir si es mayor o igual a 4) utilizando un **if/else**. La nota será ingresada por el usuario usando **input()**.\n",
    "2. Realizar un programa que convierta una nota porcentual del 0 al 100 a una letra entre A y F de acuerdo a la siguiente conversión:\n",
    "\n",
    " - A: 90–100\n",
    "\n",
    " - B: 80–89\n",
    "\n",
    " - C: 70–79\n",
    "\n",
    " - D: 60–69\n",
    "\n",
    " - F: 0–59"
   ]
  },
  {
   "cell_type": "code",
   "execution_count": null,
   "id": "13a0fb0d",
   "metadata": {},
   "outputs": [],
   "source": [
    "# Escriba aquí su código para la parte 1\n"
   ]
  },
  {
   "cell_type": "code",
   "execution_count": 57,
   "id": "16913f6c",
   "metadata": {},
   "outputs": [],
   "source": [
    "# Escriba aquí su código para la parte 2\n",
    "# Escriba aquí su código para la parte 1\n"
   ]
  },
  {
   "cell_type": "markdown",
   "id": "69fb33f0",
   "metadata": {},
   "source": [
    "###  Estructura while"
   ]
  },
  {
   "cell_type": "markdown",
   "id": "e1352855",
   "metadata": {},
   "source": [
    "La estructura **while** permite implementar *ciclos* en nuestro programa (también llamados *loops* o *bucles*). Es decir, repetir una porción del código una y otra vez en tanto se verifique cierta condición. La estructura básica es la siguiente:\n",
    "\n",
    "\n",
    "\n",
    "```python\n",
    "while (condicion):\n",
    "    #Lo que se hace mientras que se cumpla la condicion\n",
    "    #Debe incluirse una operación que modifique la condición\n",
    "```\n",
    "\n",
    "En el siguiente bloque de código pueden ver a esta estructura en acción:"
   ]
  },
  {
   "cell_type": "code",
   "execution_count": 19,
   "id": "b176c22e",
   "metadata": {},
   "outputs": [
    {
     "name": "stdout",
     "output_type": "stream",
     "text": [
      "1\n",
      "2\n",
      "3\n",
      "4\n",
      "5\n",
      "6\n",
      "7\n",
      "8\n",
      "9\n",
      "Termina el while\n",
      "Continuo con el resto del programa\n"
     ]
    }
   ],
   "source": [
    "x = 1\n",
    "while x < 10:\n",
    "    print(x)\n",
    "    x += 1\n",
    "\n",
    "print('Termina el while')\n",
    "\n",
    "print(\"Continuo con el resto del programa\")"
   ]
  },
  {
   "cell_type": "code",
   "execution_count": 23,
   "id": "cfd64402",
   "metadata": {},
   "outputs": [
    {
     "name": "stdout",
     "output_type": "stream",
     "text": [
      "1\n",
      "2\n",
      "3\n",
      "4\n",
      "5\n",
      "6\n",
      "7\n",
      "8\n",
      "9\n",
      "Termina el while\n",
      "Continuo con el resto del programa\n"
     ]
    }
   ],
   "source": [
    "# Mas lento\n",
    "import time\n",
    "x = 1\n",
    "while x < 10:\n",
    "    print(x)\n",
    "    time.sleep(3)\n",
    "    x += 1\n",
    "\n",
    "print('Termina el while')\n",
    "\n",
    "print(\"Continuo con el resto del programa\")"
   ]
  },
  {
   "cell_type": "markdown",
   "id": "7cfdf17b",
   "metadata": {},
   "source": [
    "Es importante tener en cuenta que la condición se evalúa sólo al principio del ciclo y no se volverá a evaluar hasta no terminar de ejecutar todas las instrucciones contenidas en el bloque **while**.\n",
    "\n",
    "Al usar una variable auxiliar para contar la cantidad de repeticiones del while, es recomendable no modificar su valor dentro del bloque excepto para incrementar/decrementar su valor acordemente. Esto es porque se corre el riesgo de que la condición siempre sea *True* y el **while** se ejecute infinitamente, además es dificil darse cuenta de que la cantidad de ciclos será de hecho la que queremos.\n",
    "\n",
    "¿Qué realiza este programa?"
   ]
  },
  {
   "cell_type": "code",
   "execution_count": 22,
   "id": "fa04b79a",
   "metadata": {},
   "outputs": [
    {
     "name": "stdout",
     "output_type": "stream",
     "text": [
      "Ingrese un número del 1 al 10: 12\n",
      "Fuera de rango!\n",
      "Ingrese un número del 1 al 10: 13\n",
      "Fuera de rango!\n",
      "Ingrese un número del 1 al 10: 14\n",
      "Fuera de rango!\n",
      "Ingrese un número del 1 al 10: 0\n",
      "Fuera de rango!\n",
      "Ingrese un número del 1 al 10: 2\n",
      "La nota es mayor a 4? False\n"
     ]
    }
   ],
   "source": [
    "nota = int( input('Ingrese un número del 1 al 10: ') )\n",
    "\n",
    "while nota < 1 or nota > 10:\n",
    "  print('Fuera de rango!')\n",
    "  nota = int( input('Ingrese un número del 1 al 10: ') )\n",
    "\n",
    "print(\"La nota es mayor a 4?\", nota >= 4 )"
   ]
  },
  {
   "cell_type": "markdown",
   "id": "b5abbb3b",
   "metadata": {},
   "source": [
    "#### **Mini-desafío:** while\n",
    "\n",
    "1. Implementar un programa que reciba 2 números (A y B), y luego imprima en pantalla la secuencia de números enteros desde A hasta B. En el caso de que B sea menor que A, se debe repetir el pedido de B hasta que sea válido ( B $\\geq$ A ).\n",
    "\n",
    "2. Implementar un programa que muestre la siguiente secuencia:\n",
    "\n",
    "  1, 2, 3, 4, 5, 4, 3, 2, 1, 0\n",
    "\n",
    "  **Para un desafío mayor:** Utilizar 1 solo *while*, 1 solo *if* y 1 solo *else*. Es recomendable que la variable usada para contar los pasos se mantenga contando siempre de la misma forma. "
   ]
  },
  {
   "cell_type": "code",
   "execution_count": 77,
   "id": "e158fc8a",
   "metadata": {},
   "outputs": [],
   "source": [
    "# Escriba aquí su código para la parte 1\n"
   ]
  },
  {
   "cell_type": "code",
   "execution_count": 78,
   "id": "16967813",
   "metadata": {},
   "outputs": [],
   "source": [
    "# Escriba aquí su código para la parte 2\n"
   ]
  },
  {
   "cell_type": "code",
   "execution_count": 73,
   "id": "6095fdc8",
   "metadata": {},
   "outputs": [
    {
     "data": {
      "text/plain": [
       "6"
      ]
     },
     "execution_count": 73,
     "metadata": {},
     "output_type": "execute_result"
    }
   ],
   "source": [
    "i"
   ]
  },
  {
   "cell_type": "markdown",
   "id": "0d16ef2a",
   "metadata": {},
   "source": [
    "### Estructura for\n",
    "La estructura del **for** permite realizar una serie de acciones con una variable, que cambia su valor en cada repetición (también llamada *iteración*).\n",
    "\n",
    "```python\n",
    "for (variable) in (conjunto de valores):\n",
    "    #Lo que quieras hacer con tu variable\n",
    "```\n",
    "\n",
    "Veámoslo en un ejemplo de código:"
   ]
  },
  {
   "cell_type": "code",
   "execution_count": 25,
   "id": "25688fad",
   "metadata": {},
   "outputs": [
    {
     "name": "stdout",
     "output_type": "stream",
     "text": [
      "0\n",
      "5\n",
      "10\n"
     ]
    }
   ],
   "source": [
    "for x in range(0,15,5):\n",
    "    print(x)"
   ]
  },
  {
   "cell_type": "markdown",
   "id": "05e609b8",
   "metadata": {},
   "source": [
    "La instrucción `range(a,b,d)` genera los valores desde *a* hasta *b* (sin incluir) con incrementos de *d*, por ejemplo el siguiente codigo generara los numeros pares entre 0 y 10:"
   ]
  },
  {
   "cell_type": "code",
   "execution_count": 26,
   "id": "4b5cdb67",
   "metadata": {},
   "outputs": [
    {
     "name": "stdout",
     "output_type": "stream",
     "text": [
      "0\n",
      "2\n",
      "4\n",
      "6\n",
      "8\n"
     ]
    }
   ],
   "source": [
    "for x in range(0,10,2):\n",
    "    print(x)"
   ]
  },
  {
   "cell_type": "markdown",
   "id": "1f1735ae",
   "metadata": {},
   "source": [
    "Noten que el límite superior del rango nunca es incluído."
   ]
  },
  {
   "cell_type": "code",
   "execution_count": 27,
   "id": "661243b6",
   "metadata": {},
   "outputs": [
    {
     "name": "stdout",
     "output_type": "stream",
     "text": [
      "Ingrese el inicio:1\n",
      "Ingrese el fin:100\n",
      "Ingrese el salto:10\n",
      "x = 1\n",
      "x = 11\n",
      "x = 21\n",
      "x = 31\n",
      "x = 41\n",
      "x = 51\n",
      "x = 61\n",
      "x = 71\n",
      "x = 81\n",
      "x = 91\n"
     ]
    }
   ],
   "source": [
    "init = int(input(\"Ingrese el inicio:\"))\n",
    "fin = int(input(\"Ingrese el fin:\"))\n",
    "step = int(input(\"Ingrese el salto:\"))\n",
    "\n",
    "for x in range(init, fin, step):\n",
    "    print(\"x =\", x)"
   ]
  },
  {
   "cell_type": "markdown",
   "id": "502bd7cb",
   "metadata": {},
   "source": [
    "Al utilizar la instrucción range( ) no es necesario proporcionar siempre los 3 parámetros. Observen qué sucede cuando se proporcionan solamente 1 o 2 parámetros:"
   ]
  },
  {
   "cell_type": "code",
   "execution_count": 28,
   "id": "51d8ffdb",
   "metadata": {},
   "outputs": [
    {
     "name": "stdout",
     "output_type": "stream",
     "text": [
      "range(5):\n",
      "0\n",
      "1\n",
      "2\n",
      "3\n",
      "4\n",
      "range(10, 15):\n",
      "10\n",
      "11\n",
      "12\n",
      "13\n",
      "14\n"
     ]
    }
   ],
   "source": [
    "print(\"range(5):\")\n",
    "for x in range(5):\n",
    "    print(x)\n",
    "\n",
    "print(\"range(10, 15):\")\n",
    "for x in range(10, 15):\n",
    "    print(x)"
   ]
  },
  {
   "cell_type": "markdown",
   "id": "c3d13e1a",
   "metadata": {},
   "source": [
    "#### **Mini-desafío:** for\n",
    "Realizar un programa para controlar el sistema de impresión de etiquetas con códigos de barras en un supermercado. Primero se debe ingresar la cantidad de productos diferentes que necesitan etiquetas. Luego, para cada producto, se ingresa el código a imprimir y la cantidad de veces que hay que imprimirlo. Posteriormente el programa imprimirá dicho código.\n",
    "\n",
    "![Barcode Printer](https://raw.githubusercontent.com/IEEESBITBA/Curso-Python/master/_assets/barcode_printer.jpg)\n",
    "\n",
    "Imprimir en pantalla los códigos solicitados la cantidad requerida de veces.\n",
    "\n",
    "**Ejemplo:**\n",
    "\n",
    "Las líneas indicadas con ```>>``` corresponden a *Inputs*. Las líneas sin indicaciones corresponden a *Outputs*:\n",
    "```\n",
    ">> 3 (cantidad total de productos)\n",
    ">> 000000123 (primer código)\n",
    ">> 1 (veces que hay que imprimir dicho código)\n",
    "000000123\n",
    ">> 123000789 (segundo código)\n",
    ">> 3\n",
    "123000789\n",
    "123000789\n",
    "123000789\n",
    ">> 000031416 (tercer código)\n",
    ">> 2\n",
    "000031416\n",
    "000031416\n",
    "```\n",
    "\n",
    "**Observación:**\n",
    "\n",
    "Los códigos se imprimen a medida que se ingresan, no es necesario guardar todos los códigos y sus cantidades e imprimirlos al final de la ejecución. "
   ]
  },
  {
   "cell_type": "code",
   "execution_count": 79,
   "id": "ec66436a",
   "metadata": {},
   "outputs": [
    {
     "name": "stdout",
     "output_type": "stream",
     "text": [
      "Ingrese la variedad de productos:2\n",
      "Ingrese el codigo de barras correspondiente:12222\n",
      "Ingrese la cantidad del producto:3\n",
      "12222\n",
      "12222\n",
      "12222\n",
      "Ingrese el codigo de barras correspondiente:144\n",
      "Ingrese la cantidad del producto:2\n",
      "144\n",
      "144\n"
     ]
    }
   ],
   "source": []
  },
  {
   "cell_type": "markdown",
   "id": "f925b1cb",
   "metadata": {},
   "source": [
    "## Funciones\n",
    "Podemos pensar que una función es como tomar un conjunto de instrucciones y empaquetarlas bajo el mismo nombre, es como un pequeño programa dentro del programa, una manera de crear nuestras propias instrucciones. Las funciones son bloques que nos permiten acortar el código, no repitiendo estructuras que necesitamos utilizar mucho. Al igual que los programas las funciones tienen un *input* y un *output*: el input son las variables de entrada y su output es el valor o valores que devuelven.\n",
    "\n",
    "Por ejemplo, supongamos que frecuentemente necesito calcular las ganancias totales generadas por cierto producto que se encuentra a la venta en mi negocio. Cada vez que quiera realizar este cálculo tendré que obtener el costo de venta, restarle el costo de fabricación y multiplicarlo por la cantidad de ventas. Usando una función puedo crear mi propia instrucción a la que se le ingrese el código de producto y devuelva el resultado. Así puedo escribir el nombre de la función cada vez que quiera hacer este cálculo sin tener que escribir nuevamente el procedimiento completo.\n",
    "\n",
    "En Python las funciones se implementan de la siguiente forma:\n",
    "\n",
    "```python\n",
    "def miFuncion( a , b , c , ...):\n",
    "    \n",
    "    #Hago lo que necesite con las variables a, b, c, ...\n",
    "    \n",
    "    return x , y , z , ...\n",
    "```\n",
    "En este ejemplo, el nombre de la función es `miFuncion`, los parámetros de entrada son las variables `a , b , c , ...` que se indican entre paréntesis, y los parámetros que la función devuelve son `x , y , z , ...` que se indican con la instrucción **return**.\n",
    "\n",
    "En el caso de que la función no necesite recibir información, los paréntesis se deben dejar vacíos. Al ejecutar la función no hay que olvidarse de escribir estos paréntesis, incluso aunque estén vacíos. Es la forma que tiene Python de diferenciar variables de funciones:"
   ]
  },
  {
   "cell_type": "code",
   "execution_count": 29,
   "id": "b3352dc0",
   "metadata": {},
   "outputs": [
    {
     "name": "stdout",
     "output_type": "stream",
     "text": [
      "A continuación se imprimirán tres saludos:\n",
      "¡Hola! Que tengas un buen día :)\n",
      "¡Hola! Que tengas un buen día :)\n",
      "¡Hola! Que tengas un buen día :)\n"
     ]
    }
   ],
   "source": [
    "def saludar():\n",
    "    print( \"¡Hola! Que tengas un buen día :)\")\n",
    " \n",
    "print(\"A continuación se imprimirán tres saludos:\")\n",
    "saludar()\n",
    "saludar()\n",
    "saludar()"
   ]
  },
  {
   "cell_type": "markdown",
   "id": "df61cf54",
   "metadata": {},
   "source": [
    "Noten que no siempre es necesario poner la instrucción **return** al final de la función. En este caso la función termina cuando finaliza el bloque indentado (con sangría).\n",
    "\n",
    "Es importante tener en cuenta que la *definición* de la función no provoca ninguna acción, solamente le indica a la computadora que la próxima vez que se escriba el nombre de la función, esta debe realizar las instrucciones indicadas por la definición. En consecuencia, en preferible escribir todas las definiciones de funciones al inicio del programa, así estarán definidas para cuando se las quiera ejecutar más adelante.\n",
    "\n",
    "Veamos un ejemplo:"
   ]
  },
  {
   "cell_type": "code",
   "execution_count": 30,
   "id": "3fa16a58",
   "metadata": {},
   "outputs": [
    {
     "name": "stdout",
     "output_type": "stream",
     "text": [
      "3 + 4 = 7\n",
      "Ingrese el primer sumando: 5\n",
      "Ingrese el segundo sumando: 3\n",
      "x + y = 8\n"
     ]
    }
   ],
   "source": [
    "def suma(a, b):\n",
    "    s = a + b\n",
    "    return s\n",
    "\n",
    "z = suma(3, 4)\n",
    "print(\"3 + 4 =\", z)\n",
    "\n",
    "x = int(input(\"Ingrese el primer sumando: \"))\n",
    "y = int(input(\"Ingrese el segundo sumando: \"))\n",
    "z = suma(x, y)\n",
    "print(\"x + y =\", z)"
   ]
  },
  {
   "cell_type": "markdown",
   "id": "6297fce8",
   "metadata": {},
   "source": [
    "En este ejemplo podemos ver que los nombres que le damos a las variables de input (`a, b`) son utilizados de forma interna a la función. Cuando ejecutamos la función con los valores `3` y `4`, las variables pasan a tomar estos valores y luego se ejecutan las instrucciones correspondientes. Cuando ejecutamos la función con los parámetros `x, y` lo que sucede es que `a` y `b` copian los valores de estas variables indicadas.\n",
    "\n",
    "La instrucción **return** sirve para indicar el resultado que la función \"devuelve\". Una vez que se alcanza la instrucción **return** la función termina y devuelve el valor indicado. En general es preferible devolver información usando **return** antes que imprimirla usando **print** ya que esto permite reutilizar la función para una cantidad de casos mayor, donde no siempre quiero mostrar el resultado en pantalla, aunque queda a criterio de cada uno para lo que necesite.\n",
    "\n",
    "Al concepto de función también podemos combinarlo con las estructuras que vimos previamente:"
   ]
  },
  {
   "cell_type": "code",
   "execution_count": 31,
   "id": "c40d30fd",
   "metadata": {},
   "outputs": [
    {
     "name": "stdout",
     "output_type": "stream",
     "text": [
      "Ingrese contraseña: Hola\n",
      "Contraseña incorrecta. Ingrese de nuevo:Secreto\n",
      "Contraseña correcta.\n"
     ]
    }
   ],
   "source": [
    "def chequarContraseña(c):\n",
    "    if c == \"Secreto\":\n",
    "        resultado = True\n",
    "    else:\n",
    "        resultado = False\n",
    "    return resultado\n",
    "\n",
    "\n",
    "ingresado = input(\"Ingrese contraseña: \")        \n",
    "while not chequarContraseña(ingresado):\n",
    "    ingresado = input(\"Contraseña incorrecta. Ingrese de nuevo:\")\n",
    "else:\n",
    "    print(\"Contraseña correcta.\")"
   ]
  },
  {
   "cell_type": "markdown",
   "id": "cb002293",
   "metadata": {},
   "source": [
    "#### **Mini-desafío:** Funciones\n",
    "1. Escribir una función que chequee los siguientes usuarios y contraseñas:\n",
    "*  *Usuario:* Juan\n",
    "\n",
    " *Contraseña:* 12345_\n",
    "*  *Usuario:* Pablo\n",
    "\n",
    " *Contraseña:* xDcFvGbHn\n",
    "\n",
    "  La función debe recibir como parámetros el usuario y la contraseña, y debe devolver el valor True o False.\n",
    "\n",
    "\\\n",
    "2. Escribir una función que recibe un número N y retorna la cantidad de divisores del mismo.\n",
    "\n",
    "  *Ejemplos:*\n",
    "\n",
    "  `contarDivisores(9) → 3`  (El número 9 tiene 3 divisores: 1, 3, 9)\n",
    "\n",
    "  `contarDivisores(10) → 4` (El número 10 tiene 4 divisores: 1, 2, 5, 10)"
   ]
  },
  {
   "cell_type": "code",
   "execution_count": 83,
   "id": "17a1c538",
   "metadata": {},
   "outputs": [],
   "source": [
    "# Escriba aquí su código para la parte 1\n"
   ]
  },
  {
   "cell_type": "code",
   "execution_count": null,
   "id": "6142535b",
   "metadata": {},
   "outputs": [],
   "source": [
    "# Escriba aquí su código para la parte 2"
   ]
  },
  {
   "cell_type": "markdown",
   "id": "f77cd162",
   "metadata": {},
   "source": [
    "# $\\color{\\green}\\blacktriangleright$ Desafío a Entregar: La conjetura del Dr. Lothar\n",
    "\n",
    "\n",
    "\n",
    "Escriba un programa que reciba un numero del usuario y repita el siguiente proceso usando un **while**:\n",
    "\n",
    "\n",
    "*   Si el número es par, se debe dividir por $2$.\n",
    "*   Si el número es impar, se debe multiplicar por $3$ y sumar $1$.\n",
    "\n",
    "Este proceso se repite hasta llegar al numero $1$ y luego muestra en pantalla la cantidad de pasos que tardó en llegar.\n",
    "\n",
    "\n",
    "\n",
    "**Ejemplos:**\n",
    "\n",
    "- *Input:* `6`\n",
    "\n",
    "  *Output:* `8` (Los pasos a seguir son: 6, 3, 10, 5, 16, 8, 4, 2, 1)\n",
    "\n",
    "- *Input:* `13`\n",
    "\n",
    "  *Output:* `9` (Los pasos a seguir son: 13, 40, 20, 10, 5, 16, 8, 4, 2, 1)"
   ]
  },
  {
   "cell_type": "code",
   "execution_count": null,
   "id": "a728e785",
   "metadata": {},
   "outputs": [],
   "source": [
    "# Escriba aquí su código para la parte 1"
   ]
  },
  {
   "cell_type": "markdown",
   "id": "df1de027",
   "metadata": {},
   "source": [
    "### Operaciones Tipo texto: string"
   ]
  },
  {
   "cell_type": "markdown",
   "id": "8c2d3c05",
   "metadata": {},
   "source": [
    "Los strings son un tipo de dato utilizado para guardar letras, palabras, oraciones, texto, etc.\n",
    "Se pueden realizar muchas operaciones con strings que serán se suma utilidad, por ejemplo:\n",
    "\n",
    "- **x + y**: en esta operacion se agrega al final de la string x el contenido de y, lo que se conoce como concatenación."
   ]
  },
  {
   "cell_type": "code",
   "execution_count": 34,
   "id": "2020cc39",
   "metadata": {},
   "outputs": [
    {
     "name": "stdout",
     "output_type": "stream",
     "text": [
      "hola\n",
      "laho\n"
     ]
    }
   ],
   "source": [
    "x = 'ho'\n",
    "y = 'la'\n",
    "print(x + y)\n",
    "print(y + x)"
   ]
  },
  {
   "cell_type": "code",
   "execution_count": null,
   "id": "f1f89a81",
   "metadata": {},
   "outputs": [],
   "source": [
    " - **len**( $string$ ): obtiene el tamaño de un string."
   ]
  },
  {
   "cell_type": "code",
   "execution_count": null,
   "id": "ff22111c",
   "metadata": {},
   "outputs": [],
   "source": [
    "x = \"Hola\"\n",
    "y = 'Adios'\n",
    "\n",
    "print( len(x) )\n",
    "print( len(y) )"
   ]
  },
  {
   "cell_type": "markdown",
   "id": "cd460c09",
   "metadata": {},
   "source": [
    "- *stringA* **in** *stringB*: pregunta si un string aparece dentro de otro (si es un **substring**)."
   ]
  },
  {
   "cell_type": "code",
   "execution_count": 35,
   "id": "3172a379",
   "metadata": {},
   "outputs": [
    {
     "name": "stdout",
     "output_type": "stream",
     "text": [
      "True\n",
      "True\n",
      "False\n",
      "False\n",
      "True\n"
     ]
    }
   ],
   "source": [
    "vocales = \"aeiou\"\n",
    "print(\"a\" in vocales)\n",
    "print(\"eio\" in vocales)\n",
    "print(\"eoi\" in vocales)\n",
    "print(\"z\" in vocales)\n",
    "print(vocales in vocales)"
   ]
  },
  {
   "cell_type": "markdown",
   "id": "5d513d00",
   "metadata": {},
   "source": [
    " - **.startswith**( $algo$ ): le preguntamos a la string si empieza con cierto texto."
   ]
  },
  {
   "cell_type": "code",
   "execution_count": null,
   "id": "b0fb09bf",
   "metadata": {},
   "outputs": [],
   "source": [
    "x = 'hola'\n",
    "print(x.startswith('h'))\n",
    "print(x.startswith('x'))"
   ]
  },
  {
   "cell_type": "markdown",
   "id": "e712f95e",
   "metadata": {},
   "source": [
    " - **.endswith**( $algo$ ): le preguntamos a la string si termina con cierto texto."
   ]
  },
  {
   "cell_type": "code",
   "execution_count": null,
   "id": "de141187",
   "metadata": {},
   "outputs": [],
   "source": [
    "x = 'hola'\n",
    "print(x.endswith('h'))\n",
    "print(x.endswith('a'))"
   ]
  },
  {
   "cell_type": "markdown",
   "id": "3fa490d2",
   "metadata": {},
   "source": [
    " - **[ *índice* ]**: se pueden obtener letras de un string. Entre corchetes se indica el *índice* de la letra deseada, empezando a contar desde cero."
   ]
  },
  {
   "cell_type": "code",
   "execution_count": null,
   "id": "5bcdda37",
   "metadata": {},
   "outputs": [],
   "source": [
    "x = 'hola'\n",
    "\n",
    "print(x[0])\n",
    "print(x[1])\n",
    "print(x[2])\n",
    "print(x[3])\n",
    "\n",
    "print(x[3]+x[2]+x[1]+x[0]+x[3])"
   ]
  },
  {
   "cell_type": "markdown",
   "id": "403ea47d",
   "metadata": {},
   "source": [
    "* **.replace**(*string_viejo*, *string_nuevo*, *cantidad*): cada vez que aparece el *string_viejo* dentro del texto, se reemplaza por el *string_nuevo*. Adicionalmente se puede especificar la *cantidad* de veces que se realizará un reemplazo."
   ]
  },
  {
   "cell_type": "code",
   "execution_count": null,
   "id": "8e66c5cb",
   "metadata": {},
   "outputs": [],
   "source": [
    "x = \"acalambrar\"\n",
    "y = x.replace('a', 'e', 2)\n",
    "z = x.replace('a', 'e')\n",
    "print(y)\n",
    "print(z)"
   ]
  },
  {
   "cell_type": "markdown",
   "id": "84ee30c0",
   "metadata": {},
   "source": [
    " - **[ *comienzo* : *fin* ]**: Se puede obtener una secuencia consecutiva de letras de un string. Entre corchetes se indica el índice de la primer letra deseada, luego dos puntos, y por último el índice de la última letra (la última letra no será incluída)."
   ]
  },
  {
   "cell_type": "code",
   "execution_count": null,
   "id": "b2175fe1",
   "metadata": {},
   "outputs": [],
   "source": [
    "x = 'programacion'\n",
    "\n",
    "# Ayudín:\n",
    "#  p   r   o   g   r   a   m   a   c   i   o   n\n",
    "#  0   1   2   3   4   5   6   7   8   9   10  11\n",
    "# -12 -11 -10 -9  -8  -7  -6  -5  -4  -3  -2  -1\n",
    "\n",
    "print( x[0:8] )\n",
    "print( x[4:8] )\n",
    "\n",
    "# Se pueden usar signos negativos para referir los índices desde el final para atras\n",
    "print( x[-7:-4] )\n",
    "\n",
    "# Se puede omitir el parametro de fin para seguir hasta el final\n",
    "print( x[8: ])\n",
    "\n",
    "# Se puede omitir el parametro de inicio para comenzar desde el principio\n",
    "print( x[ :8])"
   ]
  },
  {
   "cell_type": "markdown",
   "id": "99eecee1",
   "metadata": {},
   "source": [
    " - **[ *comienzo* : *fin* : *salto* ]**: Se puede obtener una secuencia de letras a una separación regular de un string. Entre corchetes se indica el índice de la primer letra deseada, luego dos puntos, después el índice de la última letra, luego 2 puntos, y por último el salto entre letra y letra (la última letra no será incluída)."
   ]
  },
  {
   "cell_type": "code",
   "execution_count": 36,
   "id": "3d4947f5",
   "metadata": {},
   "outputs": [
    {
     "name": "stdout",
     "output_type": "stream",
     "text": [
      "Cro\n",
      "CsdPh\n",
      "tPe s\n",
      "nohtyP ed osruC\n"
     ]
    }
   ],
   "source": [
    "x = 'Curso de Python'\n",
    "\n",
    "print( x[0:5:2] )\n",
    "\n",
    "# Se pueden usar signos negativos para referir los índices desde el final para atras\n",
    "# Se puede omitir el parametro de inicio para comenzar desde el principio\n",
    "# Se puede omitir el parametro de fin para seguir hasta el final\n",
    "print( x[0: :3] )\n",
    "\n",
    "# Se puede usar un salto negativo para recorrer el string en sentido inverso\n",
    "print( x[11:1:-2] )\n",
    "# Se puede invertir un string de la siguiente forma\n",
    "print( x[ : :-1] )"
   ]
  },
  {
   "cell_type": "markdown",
   "id": "1fd2c190",
   "metadata": {},
   "source": [
    "#### for sobre un string\n",
    "La estructura *for* que vimos la clase pasada tiene una gran versatilidad, ya que como veremos, no está limitada a recorrer los valores generados por *range()*. También es posible recorrer los caracteres de un string usando *for* como se muestra a continuación:"
   ]
  },
  {
   "cell_type": "code",
   "execution_count": null,
   "id": "4907a87c",
   "metadata": {},
   "outputs": [],
   "source": [
    "texto = \"Curso de Python\"\n",
    "vocales = 0\n",
    "for c in texto:\n",
    "  if c == 'a' or c == 'e' or c == 'i' or c == 'o' or c == 'u':\n",
    "    vocales += 1\n",
    "\n",
    "print(\"Vocales: \", vocales)"
   ]
  },
  {
   "cell_type": "markdown",
   "id": "e5203501",
   "metadata": {},
   "source": [
    "##### **Mini-desafío:** Operaciones con strings\n",
    "Hacer un programa que permita ingresar un nombre y un apellido usando dos veces la función input( ). Luego debe crear la variable *nombre_y_apellido* que contenga ambos datos separados por un espacio. Un fabricante de tarjetas admite la impresión de hasta 26 caracteres para el nombre del dueño de la tarjeta, el programa debe imprimir \"Nombre admitido\" si *nombre_y_apellido* cumple con esta restricción y \"Nombre no admitido\" en caso contrario (el espacio cuenta como uno de los 26 caracteres disponibles).\n",
    "\n",
    "\\\n",
    "<img height=\"150\" src=\"https://raw.githubusercontent.com/IEEESBITBA/Curso-Python/master/_assets/credit_cards.png\">\n",
    "\n",
    "\n",
    "**Para un desafío mayor:** Si *nombre_y_apellido* cumple la restricción, mostrar el nombre y apellido. En caso contrario *nombre_y_apellido* debe valer la inicial del nombre y luego el apellido separado por un espacio. Si todavía no se cumple la restricción entonces el valor será la inicial del nombre y las primeras 24 letras del apellido. Mostrar el nombre resultante."
   ]
  },
  {
   "cell_type": "markdown",
   "id": "12abc032",
   "metadata": {},
   "source": [
    "## Estructuras de datos\n",
    "Se suele llamar \"estructura de datos\" a cierta clase de tipos de datos más complejos, los cuales nos permiten organizar la información de manera más efectiva. \n",
    "\n",
    "### Listas\n",
    "Las listas nos permiten almacenar elementos de manera secuencial, los cuales pueden ser accedidos mediante el conocimiento de su posición en la lista. Estas las creamos usando corchetes de la siguiente manera:\n",
    "\n",
    "> a = **[** $ a_{0}, a_{1}, a_{2}, \\dots $ **]**\n",
    "\n",
    "A continuación se mostrara un ejemplo sencillo con listas:"
   ]
  },
  {
   "cell_type": "code",
   "execution_count": 37,
   "id": "c881a73a",
   "metadata": {},
   "outputs": [
    {
     "name": "stdout",
     "output_type": "stream",
     "text": [
      "[13, 40, 10, 30, 67]\n",
      "[]\n",
      "[]\n"
     ]
    }
   ],
   "source": [
    "# Creamos una lista con elementos\n",
    "a = [ 13, 40, 10, 30, 67 ] \n",
    "print(a)\n",
    "\n",
    "# Creamos una lista vacía\n",
    "b = []\n",
    "print(b)\n",
    "\n",
    "# Creamos una lista vacía\n",
    "c = list()\n",
    "print(c)"
   ]
  },
  {
   "cell_type": "markdown",
   "id": "37496997",
   "metadata": {},
   "source": [
    "Para acceder a un elemento de una lista se utiliza `lista[índice]` de forma similar a como funcionan los strings.\n",
    "Podemos modificar el elemento asignándole un valor.\n",
    "\n",
    "Al igual que los strings, las listas permiten hacer **slicing**. Esto significa obtener una sub-lista a partir de valores de comienzo, fin y step indicados entre corchetes y separados por dos puntos."
   ]
  },
  {
   "cell_type": "code",
   "execution_count": 38,
   "id": "1023c3a1",
   "metadata": {},
   "outputs": [
    {
     "name": "stdout",
     "output_type": "stream",
     "text": [
      "a = [5, 6, 7, 8]\n",
      "a[0] = 5\n",
      "a[2] = 7\n",
      "a = [5, 6, 0, 8]\n"
     ]
    }
   ],
   "source": [
    "a = [5, 6, 7, 8]\n",
    "print('a =', a)\n",
    "print('a[0] =', a[0]) \n",
    "print('a[2] =', a[2])\n",
    "\n",
    "a[2] = 0\n",
    "print('a =', a)"
   ]
  },
  {
   "cell_type": "code",
   "execution_count": 39,
   "id": "b12f2eb8",
   "metadata": {},
   "outputs": [
    {
     "name": "stdout",
     "output_type": "stream",
     "text": [
      "a = [6, 5, 0, 8]\n"
     ]
    }
   ],
   "source": [
    "# Se pueden intercambiar dos elementos de una lista de la siguiente forma\n",
    "a[0], a[1] = a[1], a[0]\n",
    "print('a =', a)"
   ]
  },
  {
   "cell_type": "code",
   "execution_count": 40,
   "id": "7e6f3756",
   "metadata": {},
   "outputs": [
    {
     "name": "stdout",
     "output_type": "stream",
     "text": [
      "a[-1] = 8\n"
     ]
    }
   ],
   "source": [
    "# Se pueden usar signos negativos para referir los índices desde el final para atras\n",
    "print('a[-1] =', a[-1]) "
   ]
  },
  {
   "cell_type": "code",
   "execution_count": 41,
   "id": "a4b9e65a",
   "metadata": {},
   "outputs": [
    {
     "name": "stdout",
     "output_type": "stream",
     "text": [
      "a[1:3] = [5, 0]\n",
      "a[ : :-1] = [8, 0, 5, 6]\n"
     ]
    }
   ],
   "source": [
    "# Slicing\n",
    "print('a[1:3] =', a[1:3])    \n",
    "\n",
    "# Se puede omitir el parametro de inicio para comenzar desde el principio\n",
    "# Se puede omitir el parametro de fin para seguir hasta el final\n",
    "# Se puede usar un salto negativo para recorrer la lista en sentido inverso\n",
    "# Se puede invertir una lista de la siguiente forma\n",
    "print('a[ : :-1] =', a[ : :-1] )"
   ]
  },
  {
   "cell_type": "markdown",
   "id": "fc9dec77",
   "metadata": {},
   "source": [
    "Notar que, a diferencia de lo que diría el sentido común, el primer elemento de la lista se accede con el índice $0$. Esto sucede en muchos lenguajes de programación hoy en día y una vez que uno se acostumbra resulta muy práctico empezar a contar desde $0$ para aplicaciones de programación.\n",
    "\n",
    "Otro tema a tener en cuenta es que no es posible ponerle el nombre *list* a una lista, ya que es una palabra reservada. Esta es una función para generar una lista a partir de otro objeto, como un string. Por ejemplo:"
   ]
  },
  {
   "cell_type": "code",
   "execution_count": 42,
   "id": "2438b8ee",
   "metadata": {},
   "outputs": [
    {
     "name": "stdout",
     "output_type": "stream",
     "text": [
      "Hola\n",
      "['H', 'o', 'l', 'a']\n"
     ]
    }
   ],
   "source": [
    "texto = \"Hola\"\n",
    "lista = list(texto)\n",
    "\n",
    "print(texto)\n",
    "print(lista)"
   ]
  },
  {
   "cell_type": "markdown",
   "id": "9adbfa30",
   "metadata": {},
   "source": [
    "Una forma alternativa de generar una lista es utilizando la instrucción *for* dentro de los corchetes de la siguiente manera:\n",
    "\n",
    "> b = **[** x **for** x **in** **range**(N) **]**"
   ]
  },
  {
   "cell_type": "code",
   "execution_count": 43,
   "id": "99b3e14f",
   "metadata": {},
   "outputs": [
    {
     "name": "stdout",
     "output_type": "stream",
     "text": [
      "[0, 1, 2, 3, 4, 5, 6, 7, 8, 9]\n"
     ]
    }
   ],
   "source": [
    "b = [x for x in range(10)]\n",
    "print(b)"
   ]
  },
  {
   "cell_type": "markdown",
   "id": "41f90930",
   "metadata": {},
   "source": [
    "\n",
    "Podemos también aplicar una operación a la variable x\n",
    "> a = **[** (operacion con x) **for** x **in** **range**(N) **]**"
   ]
  },
  {
   "cell_type": "code",
   "execution_count": 44,
   "id": "53c815ea",
   "metadata": {},
   "outputs": [
    {
     "name": "stdout",
     "output_type": "stream",
     "text": [
      "[0, 1, 2, 3, 4, 5, 6, 7, 8, 9, 10, 11, 12, 13, 14, 15, 16, 17, 18, 19, 20, 21, 22, 23, 24, 25, 26, 27, 28, 29, 30, 31, 32, 33, 34, 35, 36, 37, 38, 39, 40, 41, 42, 43, 44, 45, 46, 47, 48, 49, 50, 51, 52, 53, 54, 55, 56, 57, 58, 59, 60, 61, 62, 63, 64, 65, 66, 67, 68, 69, 70, 71, 72, 73, 74, 75, 76, 77, 78, 79, 80, 81, 82, 83, 84, 85, 86, 87, 88, 89, 90, 91, 92, 93, 94, 95, 96, 97, 98, 99, 100]\n",
      "[0, 2, 4, 6, 8, 10, 12, 14, 16, 18, 20, 22, 24, 26, 28]\n"
     ]
    }
   ],
   "source": [
    "a = [x for x in range(0, 101)]\n",
    "print(a)\n",
    "\n",
    "b = [2 * x for x in range(15)]\n",
    "print(b)"
   ]
  },
  {
   "cell_type": "markdown",
   "id": "9e5773d5",
   "metadata": {},
   "source": [
    "También es posible utilizar un objeto iterable, en lugar de usar **range( )**."
   ]
  },
  {
   "cell_type": "code",
   "execution_count": 46,
   "id": "b0b79e98",
   "metadata": {},
   "outputs": [
    {
     "name": "stdout",
     "output_type": "stream",
     "text": [
      "['hhh', 'ooo', 'lll', 'aaa']\n",
      "[11, 12, 13, 14]\n"
     ]
    }
   ],
   "source": [
    "c = [3 * letra for letra in \"hola\"]\n",
    "print(c)\n",
    "\n",
    "d = [10 + n for n in [1, 2, 3, 4]]\n",
    "print(d)"
   ]
  },
  {
   "cell_type": "markdown",
   "id": "582d7b58",
   "metadata": {},
   "source": [
    "##### **Mini-desafío:** Listas\n",
    "1. Crear una lista con los números pares menores a 50. ¿Cuántas formas diferentes de lograr esto se les ocurren?\n",
    "2. Crear un programa en el cual el usuario ingresa un *string* y dos índices numéricos. El programa debe crear una lista a partir de las letras del string, luego intercambiar dos letras de lugar a partir de los índices indicados por el usuario. Por último debe combinar las letras de la lista nuevamente en un *string* e imprimir el resultado. Si los índices son inválidos mostrar un mensaje de error.\n",
    "\n",
    " **Tips**:\n",
    " - Usando `list( mi_string )` pueden obtener una lista que contiene las letras de `mi_string`.\n",
    " - Usando el método [str.join()](https://docs.python.org/3/library/stdtypes.html#str.join) pueden unir las letras o strings de una lista dentro de un mismo string:\n",
    " ```python\n",
    " lista = [\"Uno\", \"Dos\", \"Tres\"]\n",
    " texto = \"\".join( lista )\n",
    " ```\n",
    " A la izquierda del `.join()` se indica el string con el cual unir los elementos como por ejemplo `\", \"`. Si utilizamos un string vacío no intercala ningún caracter entre los elementos."
   ]
  },
  {
   "cell_type": "code",
   "execution_count": null,
   "id": "4ba908ec",
   "metadata": {},
   "outputs": [],
   "source": [
    "# Parte 2\n"
   ]
  },
  {
   "cell_type": "markdown",
   "id": "61045e02",
   "metadata": {},
   "source": [
    "#### Operaciones sobre una lista\n",
    "Podemos realizar múltiples operaciones sobre una lista:\n",
    "\n",
    "- **a + b**: al igual que los strings se agrega el contenido de **b** al final de **a**."
   ]
  },
  {
   "cell_type": "code",
   "execution_count": null,
   "id": "6c88f9b3",
   "metadata": {},
   "outputs": [],
   "source": [
    "a = [1,2]\n",
    "b = [3,4]\n",
    "z = a + b\n",
    "print(z)"
   ]
  },
  {
   "cell_type": "code",
   "execution_count": null,
   "id": "6b3a8b60",
   "metadata": {},
   "outputs": [],
   "source": [
    "- **len**( $lista$ ): obtiene el largo de una lista."
   ]
  },
  {
   "cell_type": "code",
   "execution_count": null,
   "id": "5acc2945",
   "metadata": {},
   "outputs": [],
   "source": [
    "a = [1,2,3,4]\n",
    "print(len(a))"
   ]
  },
  {
   "cell_type": "code",
   "execution_count": null,
   "id": "f6e6a3cb",
   "metadata": {},
   "outputs": [],
   "source": [
    "- **.sort**(): ordena los elementos de la lista."
   ]
  },
  {
   "cell_type": "code",
   "execution_count": 47,
   "id": "cb28922b",
   "metadata": {},
   "outputs": [
    {
     "name": "stdout",
     "output_type": "stream",
     "text": [
      "['Adios', 'Buen día', 'Como esta', 'Hola']\n",
      "[1, 2, 3, 12, 23, 123]\n",
      "[123, 23, 12, 3, 2, 1]\n"
     ]
    }
   ],
   "source": [
    "a = [\"Hola\", \"Adios\", \"Como esta\", \"Buen día\" ]\n",
    "a.sort()\n",
    "print(a)\n",
    "\n",
    "b = [1, 2, 3, 123, 23, 12]\n",
    "b.sort()\n",
    "print(b)\n",
    "\n",
    "# Es posible hacer un orden inverso indicando reverse=True\n",
    "b.sort(reverse=True)\n",
    "print(b)"
   ]
  },
  {
   "cell_type": "code",
   "execution_count": null,
   "id": "b2015207",
   "metadata": {},
   "outputs": [],
   "source": [
    "- **.append**($algo$): permite agregar un elemento al final de la lista."
   ]
  },
  {
   "cell_type": "code",
   "execution_count": null,
   "id": "a1750b3d",
   "metadata": {},
   "outputs": [],
   "source": [
    "mensaje = \"Hola como estas\"\n",
    "v = [50, mensaje, 150.5, True]\n",
    "print(v)\n",
    "\n",
    "# Agrego al final de la lista un elemento que vale 200 (tipo int)\n",
    "v.append(200)      \n",
    "\n",
    "# Agrego una lista de elementos\n",
    "# Los elementos de la lista no son agregados individualmente\n",
    "# En cambio, la lista se agrega como un elemento en sí misma\n",
    "v.append([\"Uno\", \"Dos\", \"Tres\"]) \n",
    "print(v)"
   ]
  },
  {
   "cell_type": "code",
   "execution_count": null,
   "id": "543168a4",
   "metadata": {},
   "outputs": [],
   "source": [
    "- **.extend**($lista$): permite agregar elementos de una lista al final de otra. Es muy similar a la suma de listas."
   ]
  },
  {
   "cell_type": "code",
   "execution_count": null,
   "id": "a3f80f86",
   "metadata": {},
   "outputs": [],
   "source": [
    "v = [1, 2, 3]\n",
    "v.extend([\"Uno\", \"Dos\", \"Tres\"]) \n",
    "print(v)"
   ]
  },
  {
   "cell_type": "code",
   "execution_count": null,
   "id": "0f0074fd",
   "metadata": {},
   "outputs": [],
   "source": [
    "- **.pop**(): permite remover el ultimo elemento de la lista."
   ]
  },
  {
   "cell_type": "code",
   "execution_count": null,
   "id": "467b874c",
   "metadata": {},
   "outputs": [],
   "source": [
    "v = [\"Uno\", 2, \"Tres\", 4, \"Cinco\"]\n",
    "v.pop() # Quito el ultimo elemento \n",
    "print(v)"
   ]
  },
  {
   "cell_type": "code",
   "execution_count": null,
   "id": "4066db8e",
   "metadata": {},
   "outputs": [],
   "source": [
    "- **.remove**($valor$): remueve el primer elemento de la lista cuyo valor sea el indicado."
   ]
  },
  {
   "cell_type": "code",
   "execution_count": null,
   "id": "0fe06b45",
   "metadata": {},
   "outputs": [],
   "source": [
    "v = [1,2,1,2]\n",
    "v.remove(2) # elimino el primer valor igual a 2\n",
    "print(v)\n",
    "v.remove(2) # elimino el primer valor igual a 2\n",
    "print(v)"
   ]
  },
  {
   "cell_type": "code",
   "execution_count": null,
   "id": "fc7f9d1e",
   "metadata": {},
   "outputs": [],
   "source": [
    "- **del** lista**[*índice*]**: para eliminar un elemento en una posición determinada."
   ]
  },
  {
   "cell_type": "code",
   "execution_count": null,
   "id": "39950ddc",
   "metadata": {},
   "outputs": [],
   "source": [
    "a = [\"hola\",\"como\",\"estas\"]\n",
    "del a[1]\n",
    "print(a)"
   ]
  },
  {
   "cell_type": "code",
   "execution_count": null,
   "id": "16da93d7",
   "metadata": {},
   "outputs": [],
   "source": [
    "- $algo$ **in** lista: muchas veces es necesario saber si un elemento esta dentro de una lista, para ello utilizamos esta herrramienta."
   ]
  },
  {
   "cell_type": "code",
   "execution_count": null,
   "id": "ec374ebe",
   "metadata": {},
   "outputs": [],
   "source": [
    "x = [1,2,3]\n",
    "if 5 in x:\n",
    "    x.remove(5)\n",
    "else:\n",
    "  print(5,'no esta en la lista')\n",
    "  \n",
    "print(x)"
   ]
  },
  {
   "cell_type": "code",
   "execution_count": null,
   "id": "4f3f3492",
   "metadata": {},
   "outputs": [],
   "source": [
    "- **max**($lista$): Obtiene el valor más alto de la lista."
   ]
  },
  {
   "cell_type": "code",
   "execution_count": null,
   "id": "66fc1179",
   "metadata": {},
   "outputs": [],
   "source": [
    "valor = max( [1, 2, 3, 4, 5, 4, 3, 2, 1] )\n",
    "print(valor)\n",
    "\n",
    "valor = max( [\"Curso\", \"De\", \"Python\"] )\n",
    "print(valor)"
   ]
  },
  {
   "cell_type": "code",
   "execution_count": null,
   "id": "75dfd5f0",
   "metadata": {},
   "outputs": [],
   "source": [
    "- **min**($lista$): Obtiene el valor más bajo de la lista."
   ]
  },
  {
   "cell_type": "code",
   "execution_count": null,
   "id": "57270551",
   "metadata": {},
   "outputs": [],
   "source": [
    "valor = min( [1, 2, 3, 4, 5, 4, 3, 2, 1] )\n",
    "print(valor)\n",
    "\n",
    "valor = min( [\"Curso\", \"De\", \"Python\"] )\n",
    "print(valor)"
   ]
  },
  {
   "cell_type": "code",
   "execution_count": null,
   "id": "ad9bdfa3",
   "metadata": {},
   "outputs": [],
   "source": [
    "#### for sobre una lista\n",
    "Al igual que con strings, la instrucción *for* puede ir avanzando sobre todos los elementos de una lista:"
   ]
  },
  {
   "cell_type": "code",
   "execution_count": null,
   "id": "e327f062",
   "metadata": {},
   "outputs": [],
   "source": [
    "lista = [1, 10, 100, 1000, [5, 6, 7], 5, \"hola\"]\n",
    "\n",
    "for elemento in lista:\n",
    "    print(elemento)"
   ]
  },
  {
   "cell_type": "markdown",
   "id": "9cb101fc",
   "metadata": {},
   "source": [
    "##### **Mini-desafío:** Operaciones sobre una lista\n",
    "Realizar un programa que ordena nombres alfabéticamente. Primero debe pedir al usuario que ingrese la cantidad de nombres que serán ingresados. Luego debe pedir al usuario que ingrese un nombre y repetir ese pedido la cantidad de veces indicada. Dichos nombres deben ir agregandose a una lista. Por último, ordenar la lista alfabéticamente y mostrar en pantalla de a uno por vez los nombres ordenados."
   ]
  },
  {
   "cell_type": "markdown",
   "id": "abbeb7be",
   "metadata": {},
   "source": []
  },
  {
   "cell_type": "markdown",
   "id": "b7a989fa",
   "metadata": {},
   "source": [
    "## Diagrama de flujo\n",
    "\n",
    "Pueden existir situaciones en las que a la hora de diseñar un programa, nos resulta difícil saber por dónde empezar. Al igual que al documentar y describir una porción de código, el objetivo principal de los diagramas de flujo es poder simplificar, organizar y visualizar ideas complejas.\n",
    "\n",
    "Un diagrama de flujo es un gráfico que representa un proceso, sistema o  programa de computación. \n",
    "\n",
    "Se construyen mediante el uso de diferentes tipos de cajas de acción, unidas mediante flechas.\n",
    "\n",
    "Existen diferentes **tipos de cajas de acción**:\n",
    "\n",
    "* *INICIO*: Se utiliza únicamente para indicar el inicio del programa.\n",
    "\n",
    "* *PROCESO*: Se utiliza para describir lo que hace el programa en ese momento.\n",
    "\n",
    "* *DECISIÓN*: Se utiliza para tomar una decisión.\n",
    "\n",
    "* *FINAL*: Se utiliza únicamente para indicar el final del programa.\n",
    "\n",
    "<img src=\"https://raw.githubusercontent.com/IEEESBITBA/Curso-Python/master/_assets/Diagrama_cajas.PNG\" width=300>\n",
    "\n",
    "Ahora bien, estas cajas van a estar conectadas entre sí a través de flechas, las cuales van a indicar el flujo del programa.\n",
    "\n",
    "Veamos un ejemplo que nos ayudará a entender todo lo visto.\n"
   ]
  },
  {
   "cell_type": "markdown",
   "id": "ebbeb5f9",
   "metadata": {},
   "source": [
    "### Ejemplo\n",
    "\n",
    "Nuestro objetivo en este ejemplo es que Juan ingrese un día de la semana y el programa le responda qué debe almorzar ese día.\n",
    "\n",
    "Ahora bien, la forma mas fácil para resolver esto es ir de un paso a la vez. Primero explicamos qué tiene que hacer nuestro programa, luego pasamos esa explicación a un diagrama de flujo y finalmente escribimos el código.\n",
    "\n",
    "\\\n",
    "**Explicación del programa**\n",
    "\n",
    "Juan va a tener que ingresar un día de la semana, y a partir de ahí se realiza una toma de decisiones.\n",
    "\n",
    "Si es Lunes, tiene que comer pasta.\n",
    "Si es Martes, tiene que comer milanesa.\n",
    "Si es Miércoles, tiene que comer pollo.\n",
    "Si es Jueves, tiene que comer carne.\n",
    "Si es Viernes, tiene que comer verduras.\n",
    "Si es Sábado, tiene que comer pizza.\n",
    "Si es Domingo, tiene que comer hamburguesa.\n",
    "\n",
    "Si no es ninguna de las anteriores, significa que Juan no ingresó un día de la semana válido en nuestras opciones. Por ello vamos a avisar que hubo un error.\n",
    "\n",
    "\\\n",
    "**Diagramación**\n",
    "\n",
    "Ahora pasamos toda esa explicación a nuestro diagrama de flujo:\n",
    "\n",
    "![Example Diagrama](https://raw.githubusercontent.com/IEEESBITBA/Curso-Python/master/_assets/Diagrama_Ejemplo_1.PNG)\n",
    "\n",
    "\\\\\n",
    "\n",
    "**Programa**\n",
    "\n",
    "Nos resulta ahora bastante más sencillo entender el comportamiento del programa, y lo que tenemos que hacer para que el mismo funcione. Ahora pasaremos a escribir nuestro código a partir de dicho diagrama, lo que se conoce como *implementación*."
   ]
  },
  {
   "cell_type": "code",
   "execution_count": 48,
   "id": "0abc93f8",
   "metadata": {},
   "outputs": [
    {
     "name": "stdout",
     "output_type": "stream",
     "text": [
      "Ingresa el dia de la semana:Martes\n",
      "Hoy comés milanesa.\n"
     ]
    }
   ],
   "source": [
    "#En el siguiente programa, veremos qué lineas de codigo representa cada una de las cajas \n",
    "\n",
    "#INICIO\n",
    "\n",
    "#PROCESO: Le pido a Juan que ingrese el día de la semana\n",
    "dia = input(\"Ingresa el dia de la semana:\")\n",
    "\n",
    "\n",
    "#DECISION:Es Lunes?\n",
    "if(dia == \"Lunes\"):\n",
    "    #SI\n",
    "    #PROCESO: Tiene que comer pasta\n",
    "    print(\"Hoy comés pasta.\")\n",
    "\n",
    "#NO\n",
    "\n",
    "\n",
    "#DECISION:Es Martes?\n",
    "elif(dia == \"Martes\"):\n",
    "  #SI\n",
    "  #PROCESO: Tiene que comer milanesa\n",
    "  print(\"Hoy comés milanesa.\")\n",
    "\n",
    "#NO\n",
    "\n",
    "#DECISION: Es Miercoles?\n",
    "elif(dia == \"Miercoles\"):\n",
    "  #SI\n",
    "  #PROCESO: Tiene que comer pollo\n",
    "  print(\"Hoy comés pollo.\")\n",
    "\n",
    "#NO\n",
    "\n",
    "#DECISION: Es Jueves?\n",
    "elif(dia == \"Jueves\"):\n",
    "  #SI\n",
    "  #PROCESO: Tiene que comer carne\n",
    "  print(\"Hoy comés carne.\")\n",
    "\n",
    "#NO\n",
    "\n",
    "#DECISION: Es Viernes?\n",
    "elif(dia == \"Viernes\"):\n",
    "  #SI\n",
    "  #PROCESO: Tiene que comer verdura\n",
    "  print(\"Hoy comés verdura.\")\n",
    "\n",
    "#NO\n",
    "\n",
    "#DECISION: Es Sábado?\n",
    "elif(dia == \"Sabado\"):\n",
    "  #SI\n",
    "  #PROCESO: Tiene que comer pizza\n",
    "  print(\"Hoy comés pizza.\")\n",
    "\n",
    "#NO\n",
    "\n",
    "#DECISION: Es Domingo?\n",
    "elif(dia == \"Domingo\"):\n",
    "  #SI\n",
    "  #PROCESO: Tiene que comer hamburguesa\n",
    "  print(\"Hoy comés hamburguesa.\")\n",
    "\n",
    "#NO\n",
    "\n",
    "#PROCESO: Error: no se ingreso un día correcto\n",
    "else:\n",
    "  print(\"Hubo un error al ingresar el día.\")\n",
    "\n",
    "#FIN"
   ]
  },
  {
   "cell_type": "markdown",
   "id": "c4a1d3cf",
   "metadata": {},
   "source": [
    "# $\\color{\\green}\\blacktriangleright$ Desafío a Entregar: Ahorcado\n",
    "\n",
    "\n",
    "Les proponemos programar el famoso juego \"Ahorcado\" donde un jugador ingresa una palabra y otro jugador intenta adivinarla. En cada turno, el segundo jugador indica una letra que cree que se encuentra en la palabra elegida.\n",
    "\n",
    "Una vez que el segundo jugador adivina todas las letras que se encuentran en la palabra, el juego termina y se muestra la cantidad de intentos que fueron necesarios. En esta versión del juego, si se adivina una letra que aparece varias veces en la palabra, todas las ocurrencias cuentan como adivinadas.\n",
    "\n",
    "**Formato del input:**\n",
    "\n",
    "* Primero se recibe la palabra que se debe adivinar (por defecto vendrá en mayúsculas).\n",
    "* Luego se reciben cierta cantidad de letras, una por línea, sin repetir. (por defecto vendrán en mayúsculas).\n",
    "\n",
    "Una vez que se haya adivinado la palabra del ahorcado, ya no se recibirán más letras. Su tarea es determinar la cantidad de intentos que fueron necesarios para adivinar la palabra completa, e imprimir ese número.\n",
    "\n",
    "**Ejemplos:**\n",
    "\n",
    "* Ejemplo 1\n",
    "\n",
    "  *Input:*\n",
    " \n",
    "  ```python\n",
    "  PYTHON\n",
    "  A\n",
    "  B\n",
    "  C\n",
    "  P\n",
    "  Y\n",
    "  T\n",
    "  H\n",
    "  O\n",
    "  N\n",
    "  ```\n",
    " *Output:*\n",
    "  ```python\n",
    "  9\n",
    "  ```\n",
    "  El programa imprime la cantidad de turnos que se tardaron en adivinar la palabra, a pesar de que tuvo tres intentos erróneos (```'A','B' y 'C'```)\n",
    "  \n",
    "* Ejemplo 2:\n",
    "\n",
    "  *Input:*\n",
    " \n",
    "  ```python\n",
    "  IEEE\n",
    "  X\n",
    "  Y\n",
    "  E\n",
    "  I\n",
    "  ```\n",
    " *Output:*\n",
    "  ```python\n",
    "  4\n",
    "  ```\n",
    "  La palabra original tiene letras repetidas, por lo cual al adivinar las letras ```'I' y 'E'``` alcanza para completar la palabra.\n",
    "\n",
    "\\\n",
    "\n",
    "**Tip:** Pueden eliminar todas las ocurrencias de cierto caracter en un string utilizando el método **.replace()**:\n",
    "\n",
    "```python\n",
    "palabra = palabra.replace( \"A\", \"\" )"
   ]
  },
  {
   "cell_type": "code",
   "execution_count": null,
   "id": "968d9e79",
   "metadata": {},
   "outputs": [
    {
     "name": "stdout",
     "output_type": "stream",
     "text": [
      "Ingrese su palabra : HOLA\n",
      "Adivine las letras\n",
      "H\n",
      "H\n"
     ]
    }
   ],
   "source": [
    "palabra = input(\"Ingrese su palabra : \")\n",
    "intentos = 0\n",
    "print(\"Adivine las letras\")\n",
    "while len(palabra)>0:\n",
    "    letra = input ()\n",
    "    palabra = palabra.replace(letra,\"\")\n",
    "    intentos +=1\n",
    "print(\"Intentos :\", intentos)"
   ]
  },
  {
   "cell_type": "markdown",
   "id": "6bb70391",
   "metadata": {},
   "source": [
    "#### TAREA\n",
    "1. Mostrar el precio del IGV de un producto con un valor de 100 y su precio final.\n",
    "2. Obtener el mayor de dos números\n",
    "3. Mostrar los números pares entre 1 y 20\n",
    "4. Mostrar el siguiente triángulo\n",
    "* 1\n",
    "* 3 1\n",
    "* 5 3 1\n",
    "* 7 5 3 1\n",
    "* 9 7 5 3 1\n",
    "5. Test de primalidad \n",
    "Escribir una función que recibe un número y devuelve *True* si el número es primo y *False* en caso contrario.\n",
    "\n",
    "Mediante un *for* verificar la *primalidad* de los numeros del $1$ al $20$, es decir, decidir si cada número es primo o no.\n",
    "\n",
    "**Tips:**\n",
    "\n",
    "* Un número $N$ es primo cuando tiene exactamente $2$ divisores ($1$ y $N$).\n",
    "* Sin embargo, alcanza con verificar que no es múltiplo de ningún número entre $2$ y $\\sqrt{N}$ (recordar que $\\sqrt{N}=N^{0.5}$)\n",
    "* El numero 1 **NO** es primo.\n"
   ]
  },
  {
   "cell_type": "code",
   "execution_count": null,
   "id": "939d268e",
   "metadata": {},
   "outputs": [],
   "source": []
  }
 ],
 "metadata": {
  "kernelspec": {
   "display_name": "Python 3 (ipykernel)",
   "language": "python",
   "name": "python3"
  },
  "language_info": {
   "codemirror_mode": {
    "name": "ipython",
    "version": 3
   },
   "file_extension": ".py",
   "mimetype": "text/x-python",
   "name": "python",
   "nbconvert_exporter": "python",
   "pygments_lexer": "ipython3",
   "version": "3.8.5"
  }
 },
 "nbformat": 4,
 "nbformat_minor": 5
}
