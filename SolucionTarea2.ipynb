{
 "cells": [
  {
   "cell_type": "markdown",
   "id": "9b19a5de",
   "metadata": {},
   "source": [
    "TAREA\n",
    "\n",
    "1.Mostrar el precio del IGV de un producto con un valor de 100 y su precio final.\n",
    "2.Obtener el mayor de dos números\n",
    "3.Mostrar los números pares entre 1 y 20\n",
    "4.Mostrar el siguiente triángulo\n",
    "\n",
    "1\n",
    "3 1\n",
    "5 3 1\n",
    "7 5 3 1\n",
    "9 7 5 3 1\n",
    "\n",
    "\n",
    "5.Test de primalidad Escribir una función que recibe un número y devuelve True si el número es primo y False en caso contrario.\n",
    "  Mediante un for verificar la primalidad de los numeros del  1 al  20, es decir, decidir si cada número es primo o no."
   ]
  },
  {
   "cell_type": "code",
   "execution_count": 1,
   "id": "080fcf95",
   "metadata": {},
   "outputs": [
    {
     "name": "stdout",
     "output_type": "stream",
     "text": [
      "Ingrese el valor del producto: 10\n",
      "Ingrese el valor del IGV en el Perú en decimales: 20\n",
      "El precio del producto es: S/.10.0\n",
      "El valor actual del IGV en el Perú es:  2000.0 %\n",
      "El precio del igv es: S/.200.0\n"
     ]
    }
   ],
   "source": [
    "#1.- Mostrar el precio del IGV de un producto con un valor de 100 y su precio final.\n",
    "Vp = float(input(\"Ingrese el valor del producto: \"))\n",
    "igv =float(input(\"Ingrese el valor del IGV en el Perú en decimales: \"))\n",
    "Vigv = Vp * igv\n",
    "print(\"El precio del producto es: S/.\" + str(Vp))\n",
    "print(\"El valor actual del IGV en el Perú es: \", igv * 100, \"%\")\n",
    "print(\"El precio del igv es: S/.\" + str(Vigv))"
   ]
  },
  {
   "cell_type": "code",
   "execution_count": 2,
   "id": "6bf6f6e0",
   "metadata": {},
   "outputs": [
    {
     "name": "stdout",
     "output_type": "stream",
     "text": [
      "Ingrese el primer número: 10\n",
      "Ingrese el segundo número: 20\n",
      "El mayor es:  20.0\n"
     ]
    }
   ],
   "source": [
    "#2.- Obtener el mayor de dos números.\n",
    "n1 = float(input(\"Ingrese el primer número: \"))\n",
    "n2 = float(input(\"Ingrese el segundo número: \"))\n",
    "if n1 < n2:\n",
    "    print(\"El mayor es: \", n2)\n",
    "elif n1 > n2:\n",
    "    print(\"El mayor es \", n1)\n",
    "else:\n",
    "    print(\"Son números iguales\")"
   ]
  },
  {
   "cell_type": "code",
   "execution_count": 3,
   "id": "07ea67a4",
   "metadata": {},
   "outputs": [
    {
     "name": "stdout",
     "output_type": "stream",
     "text": [
      "2 4 6 8 10 12 14 16 18 20 "
     ]
    }
   ],
   "source": [
    "#3.- Mostrar los números pares entre 1 y 20\n",
    "for x in range(1,21):\n",
    "    if x%2 == 0:\n",
    "        print(x, end= \" \")"
   ]
  },
  {
   "cell_type": "code",
   "execution_count": 4,
   "id": "48ba5528",
   "metadata": {},
   "outputs": [
    {
     "name": "stdout",
     "output_type": "stream",
     "text": [
      "[1]\n",
      "[3, 1]\n",
      "[5, 3, 1]\n",
      "[7, 5, 3, 1]\n",
      "[9, 7, 5, 3, 1]\n"
     ]
    }
   ],
   "source": [
    "#4.- Mostrar el siguiente triángulo\n",
    "#1\n",
    "#3 1\n",
    "#5 3 1\n",
    "#7 5 3 1\n",
    "#9 7 5 3 1\n",
    "lst = []\n",
    "for x in range(1,11,2):\n",
    "    lst.append(x)\n",
    "    lst.sort(reverse = True)\n",
    "    print(lst)"
   ]
  },
  {
   "cell_type": "code",
   "execution_count": 5,
   "id": "164f2603",
   "metadata": {},
   "outputs": [
    {
     "name": "stdout",
     "output_type": "stream",
     "text": [
      "¿Qué número quieres saber si es primo? 20\n",
      "Nro divisor: 1\n",
      "Nro divisor: 2\n",
      "Nro divisor: 4\n",
      "Nro divisor: 5\n",
      "Nro divisor: 10\n",
      "El número no es primo\n"
     ]
    }
   ],
   "source": [
    "#5.- Test de primalidad Escribir una función que recibe un número y devuelve True si el número es primo y False en caso contrario\n",
    "n3= int(input(\"¿Qué número quieres saber si es primo? \"))\n",
    "valor= range(1,n3)\n",
    "contador = 0\n",
    "for n in valor:\n",
    "    if n3 % n == 0:\n",
    "        contador +=1\n",
    "        print(\"Nro divisor:\", n)\n",
    "\n",
    "if contador > 0 :\n",
    "    print(\"El número no es primo\" )\n",
    "else:\n",
    "    print(\"El nÚmero es primo\")\n"
   ]
  }
 ],
 "metadata": {
  "kernelspec": {
   "display_name": "Python 3 (ipykernel)",
   "language": "python",
   "name": "python3"
  },
  "language_info": {
   "codemirror_mode": {
    "name": "ipython",
    "version": 3
   },
   "file_extension": ".py",
   "mimetype": "text/x-python",
   "name": "python",
   "nbconvert_exporter": "python",
   "pygments_lexer": "ipython3",
   "version": "3.8.5"
  }
 },
 "nbformat": 4,
 "nbformat_minor": 5
}
