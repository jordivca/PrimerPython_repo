{
 "cells": [
  {
   "cell_type": "markdown",
   "id": "76a1c6a7",
   "metadata": {},
   "source": [
    "## Librerías\n",
    "\n",
    "Como último tópico del curso, hablaremos del uso de librerías y mostraremos diversos ejemplos. No es para que se los aprendan de memoria, sino para que conozcan estas herramientas y puedan aprender a utilizar nuevas librerías en el futuro, en base a sus necesidades particulares.\n"
   ]
  },
  {
   "cell_type": "markdown",
   "id": "b741e041",
   "metadata": {},
   "source": [
    "Una *librería* o *biblioteca* es un conjunto de funciones implementadas por otro programador que nos facilitan realizar tareas, principalmente porque no debemos volver a programar este código. \n",
    "\n",
    "<img src=\"http://www.goalexandria.com/wp-content/uploads/2016/02/alt-lib.png\" width=200px>\n",
    "\n",
    "*¿Como usamos una librería?* Primero debemos importarla, para lo cual tenemos opciones. A continuación, se expone la sintaxis general junto con un ejemplo:\n",
    "\n",
    "* Opción 1: importar una librería, sin alias.\n",
    "\n",
    "  > **import** (nombre de la libreria) \n",
    "\n",
    "  ```python\n",
    "  import math\n",
    "\n",
    "  ```\n",
    "\n",
    "* Opción 2: importar una librería, con alias.\n",
    "\n",
    "  > **import** (nombre de la libreria) **as** (nombre abreviado)\n",
    "\n",
    "  ```python\n",
    "  import pandas as pd\n",
    "\n",
    "  ```\n",
    "\n",
    "Las librerías muchas veces están separadas en distintos módulos. Podríamos decir que la librería es como un estante de libros, y en cada libro se encuentran las funciones de un tema en común, incluso un \"libro\" podría estar subdividido en \"capítulos\". Es decir, los distintos módulos de una librería podrían llegar a estar subdivididos en módulos, y cada módulo podría estar nuevamente subdividido.\n",
    "\n",
    "Si lo que queremos son módulos o funciones particulares de una librería, podemos importar de a uno o más de diversas formas.\n",
    "\n",
    "* Opción 1: importar un módulo o función, sin alias.\n",
    "\n",
    "  > **from** (nombre de la libreria) **import** (nombre de un módulo)\n",
    "\n",
    "  ```python\n",
    "  from random import randint\n",
    "\n",
    "  ``` \n",
    "\n",
    "* Opción 2: importar más de un módulo o función.\n",
    "\n",
    "  > **from** (nombre de la libreria) **import** (nombre de un módulo), (nombre de otro módulo), ...\n",
    "\n",
    "  ```python\n",
    "  from random import randint, randrange\n",
    "\n",
    "  ``` \n",
    "\n",
    "* Opción 3: importar un módulo o función, con un alias.\n",
    "\n",
    "  > **from** (nombre de la libreria) **import** (nombre de un módulo) **as** (nombre abreviado)\n",
    "\n",
    "  ```python\n",
    "  from matplotlib import pyplot as plt\n",
    "\n",
    "  ``` \n",
    "\n",
    "* Opción 4: importar un módulo o función, con un alias, otra forma.\n",
    "\n",
    "  > **import** (nombre de la libreria)**.**(nombre de un módulo) **as** (nombre abreviado)\n",
    "\n",
    "  ```python\n",
    "  import matplotlib.pyplot as plt\n",
    "\n",
    "  ``` \n",
    "\n",
    "* Opción 5: importar todos los módulos o funciones de una librería.\n",
    "\n",
    "  > **from** (nombre de la librería) **import** * (todo)\n",
    "\n",
    "  ```python\n",
    "  from numpy import *\n",
    "\n",
    "  ``` \n",
    "\n",
    "Una vez importada la librería, podremos utilizar las funciones y variables definidas en ella. La utilización de una función o variable dependerá de cómo hayamos realizado la importación. Ejemplos:\n",
    "\n",
    "* Si se importó una librería o módulo:\n",
    "  > (nombre de la libreria/módulo)**.**función*(argumentos)*\n",
    "\n",
    "  > (nombre de la libreria/módulo)**.**(nombre de la variable)\n",
    "\n",
    "  ```python\n",
    "  import math\n",
    "\n",
    "  print(math.sin(math.pi / 2))\n",
    "\n",
    "  ```\n",
    "\n",
    "* Si se importó una función o variable:\n",
    "  > función(argumentos)\n",
    "\n",
    "  > variable \n",
    "\n",
    "  ```python\n",
    "  from math import sin, pi\n",
    "\n",
    "  print(sin(pi / 2))\n",
    "\n",
    "  ```\n",
    "\n",
    "* Si se importó una librería dividida en módulos:\n",
    "\n",
    "  > (nombre de la libreria)**.**(nombre del módulo)**.**función*(argumentos)*\n",
    "\n",
    "  ```python\n",
    "  import matplotlib\n",
    "\n",
    "  datos = [i for i in range(-10, 10)]\n",
    "  print(matplotlib.pyplot.plot(datos, datos))\n",
    "\n",
    "  ```\n",
    "\n",
    "\n",
    "**Notas:**\n",
    "- No es obligatorio especificar un nombre abreviado con **as**, puede utilizarse una librería con su nombre original omitiendo este comando.\n",
    "- No sólo pueden importarse módulos de una librería, sino también funciones sueltas, según lo que necesiten. Siempre tengan cuidado de que los nombres de función sean únicos. Si importan una función directamente entonces no querrán definir su propia función con el mismo nombre.\n",
    "- Es una buena práctica que todas las librerías se importen al principio del programa, o sea que las instrucciones de **import** se encuentren arriba de todo.\n",
    "\n",
    "\n",
    "**Ejemplos:**"
   ]
  },
  {
   "cell_type": "code",
   "execution_count": 19,
   "id": "c6934edb",
   "metadata": {},
   "outputs": [
    {
     "name": "stdout",
     "output_type": "stream",
     "text": [
      "El seno de 0 es  0.0 y el coseno 1.0\n"
     ]
    }
   ],
   "source": [
    "import math  # Importamos la libreria math\n",
    "\n",
    "print('El seno de 0 es ', math.sin(0), 'y el coseno', math.cos(0))"
   ]
  },
  {
   "cell_type": "code",
   "execution_count": 20,
   "id": "062abaf6",
   "metadata": {},
   "outputs": [
    {
     "name": "stdout",
     "output_type": "stream",
     "text": [
      "El seno de 0 es  0.0 y el coseno 1.0\n"
     ]
    }
   ],
   "source": [
    "from math import sin, cos  # Importamos directamente las funciones que usaremos \n",
    "print('El seno de 0 es ', sin(0), 'y el coseno', cos(0))"
   ]
  },
  {
   "cell_type": "code",
   "execution_count": 21,
   "id": "bf51117a",
   "metadata": {},
   "outputs": [
    {
     "name": "stdout",
     "output_type": "stream",
     "text": [
      "El seno de 0 es  0.0 y el coseno 1.0\n"
     ]
    }
   ],
   "source": [
    "import math as m  # Importamos la libreria math abreviada como m\n",
    "\n",
    "print('El seno de 0 es ', m.sin(0), 'y el coseno', m.cos(0))"
   ]
  },
  {
   "cell_type": "markdown",
   "id": "042fde81",
   "metadata": {},
   "source": [
    "Algunas librerías muy conocidas y utilizadas son:\n",
    "\n",
    "\n",
    "*   [numpy](https://numpy.org/) (Cálculo matricial)\n",
    "*   [pandas](https://pandas.pydata.org/) (Lectura de bases de datos)\n",
    "*   [maplotlib](https://matplotlib.org/) (Gráficos)\n",
    "*   [tkinter](https://docs.python.org/3/library/tk.html) (Interfaces gráficas)\n",
    "*   [Qt](https://www.qt.io/qt-for-python) (Interfaces gráficas)\n",
    "*   [scipy](https://www.scipy.org/) (Ciencia de datos)\n",
    "*   [scikit-learn](https://scikit-learn.org) (Machine Learning)\n",
    "*   [TensorFlow](https://www.tensorflow.org/) (Machine Learning avanzado)"
   ]
  },
  {
   "cell_type": "markdown",
   "id": "6d048330",
   "metadata": {},
   "source": [
    "#### [random](https://docs.python.org/3/library/random.html)\n",
    "\n",
    "* *Generación aleatoria de números*"
   ]
  },
  {
   "cell_type": "code",
   "execution_count": 22,
   "id": "6a3d16b9",
   "metadata": {},
   "outputs": [
    {
     "name": "stdout",
     "output_type": "stream",
     "text": [
      "Bananas\n",
      "19\n",
      "0.6897971494204869\n",
      "0.12246039078427898\n"
     ]
    }
   ],
   "source": [
    "import random\n",
    "\n",
    "# Elige entre elementos de una lista\n",
    "opciones = ['Manzanas', 'Bananas', 'Naranjas']\n",
    "print( random.choice(opciones) )\n",
    "\n",
    "# Número entero entre 10 y 20\n",
    "print( random.randint( 10, 20 ) )\n",
    "\n",
    "# Número real que pertenece al intervalo [0, 1)\n",
    "print( random.random() )\n",
    "\n",
    "# Número real con distribución gaussiana de media 0 y desvío estándar 1\n",
    "print( random.gauss(0, 1) )"
   ]
  },
  {
   "cell_type": "markdown",
   "id": "38749db4",
   "metadata": {},
   "source": [
    "#### [time](https://docs.python.org/3/library/time.html)\n",
    "\n",
    "* *Funciones relacionadas al manejo del tiempo*"
   ]
  },
  {
   "cell_type": "code",
   "execution_count": 23,
   "id": "77a9f12c",
   "metadata": {},
   "outputs": [
    {
     "name": "stdout",
     "output_type": "stream",
     "text": [
      "1\n",
      "2\n",
      "3\n",
      "4\n",
      "5\n",
      "Adiós!\n"
     ]
    }
   ],
   "source": [
    "import time\n",
    "\n",
    "print(1)\n",
    "time.sleep(1)\n",
    "print(2)\n",
    "time.sleep(1)\n",
    "print(3)\n",
    "time.sleep(1)\n",
    "print(4)\n",
    "time.sleep(1)\n",
    "print(5)\n",
    "time.sleep(1)\n",
    "print('Adiós!')"
   ]
  },
  {
   "cell_type": "markdown",
   "id": "d506abfe",
   "metadata": {},
   "source": [
    "#### [datetime](https://docs.python.org/3/library/datetime.html)\n",
    "\n",
    "* *Manipulación de fechas y horarios*"
   ]
  },
  {
   "cell_type": "code",
   "execution_count": 24,
   "id": "6c53112e",
   "metadata": {},
   "outputs": [
    {
     "name": "stdout",
     "output_type": "stream",
     "text": [
      "2022-12-28 16:53:36.951930\n",
      "16:53:36.951930\n",
      "2010-02-06 10:08:20\n",
      "2010-03-09 11:08:20\n"
     ]
    }
   ],
   "source": [
    "from datetime import datetime, timedelta\n",
    "\n",
    "now = datetime.now()\n",
    "print(now)\n",
    "print(now.time())\n",
    "\n",
    "new_time = datetime(2010, 2, 6, 10, 8, 20, 0)\n",
    "print(new_time)\n",
    "new_time += timedelta(days=31, hours=1)\n",
    "print(new_time)"
   ]
  },
  {
   "cell_type": "markdown",
   "id": "8557c215",
   "metadata": {},
   "source": [
    "#### [Numpy](https://numpy.org/) (Cálculo matricial)\n",
    "\n",
    "* *Manipulación de vectores*"
   ]
  },
  {
   "cell_type": "code",
   "execution_count": 2,
   "id": "916fe906",
   "metadata": {},
   "outputs": [],
   "source": [
    "import numpy as np # Importamos la librería que utilizaremos\n"
   ]
  },
  {
   "cell_type": "markdown",
   "id": "e8095d1a",
   "metadata": {},
   "source": [
    "### Básico"
   ]
  },
  {
   "cell_type": "code",
   "execution_count": 4,
   "id": "d0df5c69",
   "metadata": {},
   "outputs": [
    {
     "name": "stdout",
     "output_type": "stream",
     "text": [
      "[1 2 3]\n"
     ]
    }
   ],
   "source": [
    "a = np.array([1,2,3]) # Generamos un vector simple\n",
    "print(a)"
   ]
  },
  {
   "cell_type": "code",
   "execution_count": 5,
   "id": "fa43dbe6",
   "metadata": {},
   "outputs": [
    {
     "name": "stdout",
     "output_type": "stream",
     "text": [
      "[[6. 7. 8.]\n",
      " [3. 4. 5.]]\n"
     ]
    }
   ],
   "source": [
    "b = np.array([[6.0,7.0,8.0],[3.0,4.0,5.0]]) # Generamos una matriz 2x3\n",
    "print(b)"
   ]
  },
  {
   "cell_type": "code",
   "execution_count": 6,
   "id": "7c6c7d87",
   "metadata": {},
   "outputs": [
    {
     "name": "stdout",
     "output_type": "stream",
     "text": [
      "[[[  1   2   3]\n",
      "  [  4   5   6]\n",
      "  [  7   8   9]]\n",
      "\n",
      " [[ 10  20  30]\n",
      "  [ 40  50  60]\n",
      "  [ 70  80  90]]\n",
      "\n",
      " [[100 200 300]\n",
      "  [400 500 600]\n",
      "  [700 800 900]]]\n"
     ]
    }
   ],
   "source": [
    "c = np.array([[[1,2,3],[4,5,6],[7,8,9]],[[10,20,30],[40,50,60],[70,80,90]],[[100,200,300],[400,500,600],[700,800,900]]])\n",
    "# Generamos un tensor 3x3x3\n",
    "print(c)"
   ]
  },
  {
   "cell_type": "code",
   "execution_count": 29,
   "id": "f1e6caf4",
   "metadata": {},
   "outputs": [],
   "source": [
    "#Ejercicio\n",
    "#Cree un vector 1x9 desde un range del 0 a 8\n"
   ]
  },
  {
   "cell_type": "markdown",
   "id": "b444f461",
   "metadata": {},
   "source": [
    "### Dimensión de la matriz"
   ]
  },
  {
   "cell_type": "code",
   "execution_count": 7,
   "id": "37ff7c78",
   "metadata": {},
   "outputs": [
    {
     "name": "stdout",
     "output_type": "stream",
     "text": [
      "1\n",
      "(3,)\n"
     ]
    }
   ],
   "source": [
    "print(a.ndim) # Obtenemos la cantidad de filas\n",
    "print(a.shape) # Obtenemos la forma del vector/matriz"
   ]
  },
  {
   "cell_type": "code",
   "execution_count": 8,
   "id": "84724fd1",
   "metadata": {},
   "outputs": [
    {
     "name": "stdout",
     "output_type": "stream",
     "text": [
      "2\n",
      "(2, 3)\n"
     ]
    }
   ],
   "source": [
    "print(b.ndim) # Obtenemos la cantidad de filas de b\n",
    "print(b.shape) # Obtenemos la forma de la matriz (filas, columnas)"
   ]
  },
  {
   "cell_type": "code",
   "execution_count": 9,
   "id": "b4aca65c",
   "metadata": {},
   "outputs": [
    {
     "name": "stdout",
     "output_type": "stream",
     "text": [
      "3\n",
      "(3, 3, 3)\n"
     ]
    }
   ],
   "source": [
    "print (c.ndim) # Obtenemos la cantidad de filas de c\n",
    "print(c.shape) # Obtenemos la forma del tensor (filas, columnas, profundidad)"
   ]
  },
  {
   "cell_type": "markdown",
   "id": "6b5c1cb1",
   "metadata": {},
   "source": [
    "## Acceso, cambiar elementos, filas, columnas y más"
   ]
  },
  {
   "cell_type": "code",
   "execution_count": 10,
   "id": "945ee736",
   "metadata": {},
   "outputs": [
    {
     "name": "stdout",
     "output_type": "stream",
     "text": [
      "[[1 2 3]\n",
      " [4 5 6]\n",
      " [7 8 9]]\n"
     ]
    }
   ],
   "source": [
    "b = np.array([[1,2,3],[4,5,6],[7,8,9]])\n",
    "print(b)"
   ]
  },
  {
   "cell_type": "code",
   "execution_count": 34,
   "id": "92b6cb24",
   "metadata": {},
   "outputs": [
    {
     "data": {
      "text/plain": [
       "(3, 3)"
      ]
     },
     "execution_count": 34,
     "metadata": {},
     "output_type": "execute_result"
    }
   ],
   "source": [
    "b.shape"
   ]
  },
  {
   "cell_type": "markdown",
   "id": "42661347",
   "metadata": {},
   "source": [
    "#### Obtener un elemento de la matriz [fila,columna] o vector [posición]"
   ]
  },
  {
   "cell_type": "code",
   "execution_count": 11,
   "id": "f47fd73d",
   "metadata": {},
   "outputs": [
    {
     "data": {
      "text/plain": [
       "1"
      ]
     },
     "execution_count": 11,
     "metadata": {},
     "output_type": "execute_result"
    }
   ],
   "source": [
    "# Debemos tener en cuenta que el índice comienza en 0\n",
    "# Tambien tener en cuenta que podemos usar indice negativo siendo el último -1, penúltimo -2, etc...\n",
    "# por lo tanto:\n",
    "# Para obtener 1 haremos:\n",
    "b[0,0]"
   ]
  },
  {
   "cell_type": "code",
   "execution_count": 15,
   "id": "f4ccc206",
   "metadata": {},
   "outputs": [
    {
     "data": {
      "text/plain": [
       "6"
      ]
     },
     "execution_count": 15,
     "metadata": {},
     "output_type": "execute_result"
    }
   ],
   "source": [
    "# Entonces para obtener el 7 haremos:\n",
    "b[1,2]"
   ]
  },
  {
   "cell_type": "code",
   "execution_count": 17,
   "id": "6e6cf291",
   "metadata": {},
   "outputs": [
    {
     "name": "stdout",
     "output_type": "stream",
     "text": [
      "7\n",
      "7\n"
     ]
    }
   ],
   "source": [
    "# Con índices negativos para obtener el 7 haremos\n",
    "print(b[-1,0])\n",
    "# o tambien podemos usar:\n",
    "print(b[-1,-3])\n",
    "# en ambos casos obtenemos el 7\n",
    "# aunque para mejor entendimiento no es tan recomendable esta practica"
   ]
  },
  {
   "cell_type": "code",
   "execution_count": 20,
   "id": "a9dd24bf",
   "metadata": {},
   "outputs": [
    {
     "data": {
      "text/plain": [
       "5"
      ]
     },
     "execution_count": 20,
     "metadata": {},
     "output_type": "execute_result"
    }
   ],
   "source": [
    "## Reto: ¿Como hallaria el numero 5?\n",
    "#b[1,1]\n",
    "b[-2,-2]"
   ]
  },
  {
   "cell_type": "markdown",
   "id": "1fc207ff",
   "metadata": {},
   "source": [
    "#### Obtener una determinada fila o columna de la matriz"
   ]
  },
  {
   "cell_type": "code",
   "execution_count": 21,
   "id": "e527e3b6",
   "metadata": {},
   "outputs": [
    {
     "data": {
      "text/plain": [
       "array([4, 5, 6])"
      ]
     },
     "execution_count": 21,
     "metadata": {},
     "output_type": "execute_result"
    }
   ],
   "source": [
    "# Para obtener una fila determinada de la matriz\n",
    "# en este caso será la fila 2\n",
    "b[1,:]"
   ]
  },
  {
   "cell_type": "code",
   "execution_count": 25,
   "id": "21969f32",
   "metadata": {},
   "outputs": [
    {
     "data": {
      "text/plain": [
       "array([1, 4, 7])"
      ]
     },
     "execution_count": 25,
     "metadata": {},
     "output_type": "execute_result"
    }
   ],
   "source": [
    "# Para obtener una columna determinada de la matriz\n",
    "# en este caso será la columna 1\n",
    "b[:,0]"
   ]
  },
  {
   "cell_type": "code",
   "execution_count": 41,
   "id": "da991254",
   "metadata": {},
   "outputs": [
    {
     "data": {
      "text/plain": [
       "array([1, 3])"
      ]
     },
     "execution_count": 41,
     "metadata": {},
     "output_type": "execute_result"
    }
   ],
   "source": [
    "# Para recorrer cierta cantidad de elementos en una fila usaremos\n",
    "# indicecomienzo:indicefinal+1(Como es un rango siempre es 1 menos):paso(opcional)\n",
    "# Por ejemplo para tomar el 1 y el 3 de la fila 1 haremos\n",
    "b[0,0:3:2]"
   ]
  },
  {
   "cell_type": "code",
   "execution_count": 42,
   "id": "88bc8538",
   "metadata": {},
   "outputs": [
    {
     "data": {
      "text/plain": [
       "array([[1, 3],\n",
       "       [7, 9]])"
      ]
     },
     "execution_count": 42,
     "metadata": {},
     "output_type": "execute_result"
    }
   ],
   "source": [
    "# Para obtener las esquinas (1.1,1.3,3.1 y 3.3) de una matriz 3x3 haremos\n",
    "b[0:3:2,0:3:2] # siendo n el numero de filas y m el numero de columnas\n",
    "# Esta fórmula para obtener las esquinas es [0:n:n-1,0:m:m-1]"
   ]
  },
  {
   "cell_type": "code",
   "execution_count": 43,
   "id": "d17c3d0b",
   "metadata": {},
   "outputs": [],
   "source": [
    "#reto\n",
    "#obtenga la submatriz inferior derecha 2x2\n"
   ]
  },
  {
   "cell_type": "markdown",
   "id": "4062eb01",
   "metadata": {},
   "source": [
    "#### Cambiar un elemento específico en una matriz"
   ]
  },
  {
   "cell_type": "code",
   "execution_count": 44,
   "id": "19433cb8",
   "metadata": {},
   "outputs": [
    {
     "name": "stdout",
     "output_type": "stream",
     "text": [
      "[[10  2  3]\n",
      " [ 4  5  6]\n",
      " [ 7  8  9]]\n"
     ]
    }
   ],
   "source": [
    "# Para cambiar un elemento específico \n",
    "# primero lo \"llamamos\" como lo haríamos\n",
    "# luego le realizamos la nueva asignación (todo en la misma linea)\n",
    "# de esta forma:\n",
    "b[0,0] = 10 # recordemos que es 1, pero lo cambiamos a 10\n",
    "# Si mostramos b, veremos el cambio\n",
    "print(b)"
   ]
  },
  {
   "cell_type": "code",
   "execution_count": 45,
   "id": "3e3ff51d",
   "metadata": {},
   "outputs": [
    {
     "name": "stdout",
     "output_type": "stream",
     "text": [
      "[[10 20 30]\n",
      " [ 4  5  6]\n",
      " [ 7  8  9]]\n"
     ]
    }
   ],
   "source": [
    "# Para cambiar una serie de números usamos la misma lógica\n",
    "# \"Llamamos\" y luego asignamos\n",
    "# Por ejemplo para cambiar la fila 1 podemos realizar\n",
    "b[0,:]=[10,20,30]\n",
    "print(b) # mostramos la matriz para ver el cambio"
   ]
  },
  {
   "cell_type": "code",
   "execution_count": 46,
   "id": "30758718",
   "metadata": {},
   "outputs": [
    {
     "name": "stdout",
     "output_type": "stream",
     "text": [
      "[[10  2 30]\n",
      " [ 4  2  6]\n",
      " [ 7  2  9]]\n"
     ]
    }
   ],
   "source": [
    "# Podemos hacer lo mismo asignando a todos un mismo valor\n",
    "# en este caso pondremos todos 2 en la columna 2\n",
    "b[:,1] = 2\n",
    "print(b)"
   ]
  },
  {
   "cell_type": "code",
   "execution_count": 47,
   "id": "7cfe361d",
   "metadata": {},
   "outputs": [],
   "source": [
    "#reto\n",
    "#a cada esquina pongalen el valor de 0\n"
   ]
  },
  {
   "cell_type": "markdown",
   "id": "a161f59e",
   "metadata": {},
   "source": [
    "## Iniciar Matrices Específicas"
   ]
  },
  {
   "cell_type": "code",
   "execution_count": 48,
   "id": "43bc5f37",
   "metadata": {},
   "outputs": [
    {
     "name": "stdout",
     "output_type": "stream",
     "text": [
      "[0. 0. 0.] vector \n",
      "\n",
      "[[0. 0. 0.]\n",
      " [0. 0. 0.]\n",
      " [0. 0. 0.]] matriz \n",
      "\n",
      "[[[0. 0. 0.]\n",
      "  [0. 0. 0.]\n",
      "  [0. 0. 0.]]\n",
      "\n",
      " [[0. 0. 0.]\n",
      "  [0. 0. 0.]\n",
      "  [0. 0. 0.]]\n",
      "\n",
      " [[0. 0. 0.]\n",
      "  [0. 0. 0.]\n",
      "  [0. 0. 0.]]] tensor 3d\n"
     ]
    }
   ],
   "source": [
    "# matriz con todos 0s - funcion np.zeros(forma)\n",
    "print(np.zeros(3),\"vector \\n\") # vector longitud = 3\n",
    "print(np.zeros((3,3)),\"matriz \\n\") # matriz nm = 3x3\n",
    "print(np.zeros((3,3,3)),\"tensor 3d\") # Tensor 3d = 3x3x3"
   ]
  },
  {
   "cell_type": "code",
   "execution_count": 49,
   "id": "838fbdd7",
   "metadata": {},
   "outputs": [
    {
     "name": "stdout",
     "output_type": "stream",
     "text": [
      "[1. 1.] vector \n",
      "\n",
      "[[0. 0.]\n",
      " [0. 0.]] matriz \n",
      "\n",
      "[[[0. 0.]\n",
      "  [0. 0.]]\n",
      "\n",
      " [[0. 0.]\n",
      "  [0. 0.]]] tensor 3d\n"
     ]
    }
   ],
   "source": [
    "# matriz con todos 1s - funcion np.ones(forma)\n",
    "print(np.ones(2),\"vector \\n\") # vector longitud = 2\n",
    "print(np.zeros((2,2)),\"matriz \\n\") # matriz nm = 2x2\n",
    "print(np.zeros((2,2,2)),\"tensor 3d\") # Tensor 3d = 2x2x2"
   ]
  },
  {
   "cell_type": "code",
   "execution_count": 50,
   "id": "a896107a",
   "metadata": {},
   "outputs": [
    {
     "name": "stdout",
     "output_type": "stream",
     "text": [
      "[7 7 7 7] vector \n",
      "\n",
      "[[7 7 7 7]\n",
      " [7 7 7 7]\n",
      " [7 7 7 7]\n",
      " [7 7 7 7]] matriz \n",
      "\n",
      "[[[7 7 7 7]\n",
      "  [7 7 7 7]]\n",
      "\n",
      " [[7 7 7 7]\n",
      "  [7 7 7 7]]\n",
      "\n",
      " [[7 7 7 7]\n",
      "  [7 7 7 7]]] tensor 3d\n"
     ]
    }
   ],
   "source": [
    "# matriz con un número distinto de 0 y 1 - función np.full(forma,número)\n",
    "\n",
    "print(np.full(4,7),\"vector \\n\") # 4 columnas\n",
    "print(np.full((4,4),7),\"matriz \\n\") # 4 fil, 4 col\n",
    "print(np.full((3,2,4),7),\"tensor 3d\") # 3 capas, 2 filas, 4 col"
   ]
  },
  {
   "cell_type": "code",
   "execution_count": 51,
   "id": "7e9edcac",
   "metadata": {},
   "outputs": [
    {
     "data": {
      "text/plain": [
       "array([[0.63481837, 0.83643384],\n",
       "       [0.14225438, 0.78696519],\n",
       "       [0.63634827, 0.20145471],\n",
       "       [0.47015366, 0.49458314]])"
      ]
     },
     "execution_count": 51,
     "metadata": {},
     "output_type": "execute_result"
    }
   ],
   "source": [
    "# matriz de números decimales aleatorios entre 0 y 1 - función np.random.rand(forma)\n",
    "np.random.rand(4,2)"
   ]
  },
  {
   "cell_type": "code",
   "execution_count": 52,
   "id": "5ab7922e",
   "metadata": {},
   "outputs": [
    {
     "data": {
      "text/plain": [
       "array([[0, 9, 3],\n",
       "       [0, 8, 7],\n",
       "       [6, 4, 9]])"
      ]
     },
     "execution_count": 52,
     "metadata": {},
     "output_type": "execute_result"
    }
   ],
   "source": [
    "np.random.randint(0,10,size = (3,3)) # matriz 3x3 de aleatorios entre 0 y 10"
   ]
  },
  {
   "cell_type": "code",
   "execution_count": 53,
   "id": "4d48291c",
   "metadata": {},
   "outputs": [
    {
     "data": {
      "text/plain": [
       "array([[1, 0, 0],\n",
       "       [0, 0, 1],\n",
       "       [0, 0, 0]])"
      ]
     },
     "execution_count": 53,
     "metadata": {},
     "output_type": "execute_result"
    }
   ],
   "source": [
    "np.random.randint(2,size = (3,3)) # matriz 3x3 booleana aleatoria"
   ]
  },
  {
   "cell_type": "code",
   "execution_count": 54,
   "id": "d3bd27d3",
   "metadata": {},
   "outputs": [
    {
     "data": {
      "text/plain": [
       "array([[[-3,  3, -2],\n",
       "        [ 0,  0, -2],\n",
       "        [ 3, -1, -1]],\n",
       "\n",
       "       [[ 3, -1, -3],\n",
       "        [ 3, -3,  1],\n",
       "        [-1, -2, -3]],\n",
       "\n",
       "       [[-3,  3,  1],\n",
       "        [-2,  2,  3],\n",
       "        [ 3,  0, -3]]])"
      ]
     },
     "execution_count": 54,
     "metadata": {},
     "output_type": "execute_result"
    }
   ],
   "source": [
    "# Estas pueden tomar como parametro números negativos, por ejemplo\n",
    "np.random.randint(-3,4,size = (3,3,3)) # matriz 3x3x3 de num aleatorios entre -3 y 3"
   ]
  },
  {
   "cell_type": "code",
   "execution_count": 55,
   "id": "ff573a45",
   "metadata": {},
   "outputs": [
    {
     "data": {
      "text/plain": [
       "array([[1., 0., 0.],\n",
       "       [0., 1., 0.],\n",
       "       [0., 0., 1.]])"
      ]
     },
     "execution_count": 55,
     "metadata": {},
     "output_type": "execute_result"
    }
   ],
   "source": [
    "# matriz identidad - función np.identity(tamaño)\n",
    "# Por defecto las matrices identidad son cuadradas por lo que el tamaño ingresado = t\n",
    "# Dará como resultado una matriz donde filas = t y columnas = t y tiene 1s en la diagonal principal, por ejemplo\n",
    "np.identity(3)"
   ]
  },
  {
   "cell_type": "code",
   "execution_count": 56,
   "id": "de25d41b",
   "metadata": {},
   "outputs": [
    {
     "name": "stdout",
     "output_type": "stream",
     "text": [
      "[[1 0 0]\n",
      " [0 1 0]\n",
      " [0 0 1]]\n",
      "[[1 3 1]\n",
      " [0 3 1]\n",
      " [0 0 1]]\n",
      "[[2 0 0]\n",
      " [2 1 0]\n",
      " [2 1 2]]\n"
     ]
    }
   ],
   "source": [
    "# Para generar una matriz diagonal - función np.diag(tamaño)\n",
    "# daremos un ejemplo\n",
    "diag = np.diag((1,1,1)) # Construimos la matriz poniendo los elementos que van en la diagonal\n",
    "print(diag)\n",
    "\n",
    "# Para generar una matriz de elementos en el triangulo superior de la matriz\n",
    "print(np.triu((1,3,1))) # Indicamos los números que queremos en las columnas que formen el triang superior\n",
    "\n",
    "print(np.tril((2,1,2))) # Nuevamente indicamos los números que queremos en las col que forman el triang inferior"
   ]
  },
  {
   "cell_type": "markdown",
   "id": "e4162221",
   "metadata": {},
   "source": [
    "## Matemáticas con Numpy\n",
    "### Operaciones Básicas"
   ]
  },
  {
   "cell_type": "code",
   "execution_count": 57,
   "id": "a59d1f73",
   "metadata": {},
   "outputs": [
    {
     "name": "stdout",
     "output_type": "stream",
     "text": [
      "[1 2 3 4]\n",
      "[3 4 5 6]\n"
     ]
    }
   ],
   "source": [
    "# Podemos operar entre matrices y escalares, para ello...\n",
    "a = np.array([1,2,3,4])\n",
    "print(a)\n",
    "a += 2 # Por cada elemento le sumamos 2\n",
    "print(a)"
   ]
  },
  {
   "cell_type": "code",
   "execution_count": 58,
   "id": "dcb5d719",
   "metadata": {},
   "outputs": [
    {
     "name": "stdout",
     "output_type": "stream",
     "text": [
      "[0 1 2 3]\n"
     ]
    }
   ],
   "source": [
    "# De la misma forma podemos restar, a continuación por cada elemento restaremos 3\n",
    "a -= 3\n",
    "print(a)"
   ]
  },
  {
   "cell_type": "code",
   "execution_count": 59,
   "id": "97951617",
   "metadata": {},
   "outputs": [
    {
     "name": "stdout",
     "output_type": "stream",
     "text": [
      "[ 0  5 10 15]\n"
     ]
    }
   ],
   "source": [
    "# A continuación veremos que tambien se puede multiplicar a cada elemento por un escalar\n",
    "# En el ejemplo multiplicaremos cada elemento por 5\n",
    "\n",
    "a = a*5\n",
    "print(a)\n",
    "\n",
    "# Como vemos en estos casos estamos modificando la matriz\n",
    "# En caso de querer practicar las operaciones sin modificarlas podemos hacer\n",
    "# print(a*2) o print(a-4), etc"
   ]
  },
  {
   "cell_type": "code",
   "execution_count": 60,
   "id": "ca375a84",
   "metadata": {},
   "outputs": [
    {
     "name": "stdout",
     "output_type": "stream",
     "text": [
      "[0.  2.5 5.  7.5]\n"
     ]
    }
   ],
   "source": [
    "# De la misma forma podemos dividir cada elemento entre un escalar\n",
    "# En este ejemplo dividiremos por 2\n",
    "a = a/2\n",
    "print(a)\n",
    "# Esto nos devolverá una matriz de números decimales ya que la división no es exacta"
   ]
  },
  {
   "cell_type": "code",
   "execution_count": 61,
   "id": "a9600921",
   "metadata": {},
   "outputs": [
    {
     "name": "stdout",
     "output_type": "stream",
     "text": [
      "[0.  2.5 5.  7.5]\n",
      "[10.   2.5  0.   2.5]\n",
      "[10.  5.  5. 10.]\n"
     ]
    }
   ],
   "source": [
    "# También podremos sumar matrices siempre que estas tengan el mismo tamaño\n",
    "# Por ejemplo al actual valor en a le sumaremos una nueva matriz b\n",
    "\n",
    "b = np.array([10,2.5,0,2.5])\n",
    "c = a+b # Creamos una nueva matriz que guarde el valor de la suma entre a y b\n",
    "print(a)\n",
    "print(b)\n",
    "print(c)"
   ]
  },
  {
   "cell_type": "code",
   "execution_count": 62,
   "id": "db89ce87",
   "metadata": {},
   "outputs": [
    {
     "name": "stdout",
     "output_type": "stream",
     "text": [
      "[100.  25.  25. 100.]\n",
      "[100.  25.  25. 100.]\n"
     ]
    }
   ],
   "source": [
    "# Otra operación que podremos realizar es elevar cada elemento de la matriz por un número\n",
    "# en este ejemplo elevaremos c al cuadrado\n",
    "print (c**2)\n",
    "# Tambien existe una función para elevar cada elemento a un número, la misma es np.exp\n",
    "print(np.power(c,2)) # Tambien podremos elevar una matriz por otra"
   ]
  },
  {
   "cell_type": "code",
   "execution_count": 63,
   "id": "fbc88983",
   "metadata": {},
   "outputs": [
    {
     "name": "stdout",
     "output_type": "stream",
     "text": [
      "[[2 4 6 8]]\n",
      "[[2 4 6 8]\n",
      " [2 4 6 8]\n",
      " [2 4 6 8]]\n",
      "20\n",
      "[ 6 12 18 24]\n",
      "384\n",
      "[  8  64 216 512]\n"
     ]
    }
   ],
   "source": [
    "# Podemos calcular la sumatoria y la multiplicación de los elementos del vector con la funcion\n",
    "# Los mismos se pueden calcular como la sumatoria por fila (axis = 1) o sumatoria por columnas (axis = 0)\n",
    "# Para ello utilizaremos las siguientes funciones\n",
    "a = np.array([[2,4,6,8]])\n",
    "a2d = a.repeat(3,axis = 0)\n",
    "print(a)\n",
    "print(a2d)\n",
    "print(a.sum())\n",
    "print(a2d.sum(axis = 0))\n",
    "print(a.prod())\n",
    "print(a2d.prod(axis = 0))"
   ]
  },
  {
   "cell_type": "code",
   "execution_count": 64,
   "id": "ffaaaaaf",
   "metadata": {},
   "outputs": [],
   "source": [
    "#reto\n",
    "# Calcule la suma de 2 vectores aleatorios 4x4 \n",
    "# al vector resultante elevelo al cubo"
   ]
  },
  {
   "cell_type": "markdown",
   "id": "a97cfad2",
   "metadata": {},
   "source": [
    "### Redondeo, Truncamiento y otras"
   ]
  },
  {
   "cell_type": "code",
   "execution_count": 65,
   "id": "092b4731",
   "metadata": {},
   "outputs": [
    {
     "name": "stdout",
     "output_type": "stream",
     "text": [
      "[1. 3. 5.]\n",
      "[1.39 3.67 5.79]\n",
      "[1.4 3.7 5.8]\n",
      "[1. 3. 5.]\n",
      "[2. 4. 6.]\n"
     ]
    }
   ],
   "source": [
    "# Para realizar truncamientos, redondeos y demas utilizaremos las funciones\n",
    "a = np.array([1.394,3.666,5.788])\n",
    "print(np.trunc(a)) # Devuelve solo el número entero\n",
    "print(np.around(a,2)) # Devuelve los números redondeados a la cifra que indiquemos\n",
    "print(np.round(a,1))\n",
    "print(np.floor(a)) # Devuelve el número entero menor más cercano\n",
    "print(np.ceil(a)) # Devuelve el número entero mayor más cercano"
   ]
  },
  {
   "cell_type": "code",
   "execution_count": 66,
   "id": "b9ffd290",
   "metadata": {},
   "outputs": [
    {
     "name": "stdout",
     "output_type": "stream",
     "text": [
      "4\n",
      "72\n"
     ]
    }
   ],
   "source": [
    "# Para encontrar el mcm y dcm de dos números usaremos las funciones\n",
    "# DCM - función np.gcd(x1,x2)\n",
    "# mcm - función np.lcm(x1,x2)\n",
    "print(np.gcd(8,20)) # Máximo común divisor entre 8 y 20 = 4\n",
    "print(np.lcm(8,18)) # Mínimo común múltiplo entre 8 y 18 = 72"
   ]
  },
  {
   "cell_type": "markdown",
   "id": "90e05ca2",
   "metadata": {},
   "source": [
    "## Álgebra lineal con Numpy"
   ]
  },
  {
   "cell_type": "markdown",
   "id": "d0015520",
   "metadata": {},
   "source": [
    "La multiplicacion de matrices\n",
    "<img src=\"https://i.stack.imgur.com/0N7TO.png\" width=800px>\n",
    "\n"
   ]
  },
  {
   "cell_type": "code",
   "execution_count": 67,
   "id": "a3e85991",
   "metadata": {},
   "outputs": [
    {
     "name": "stdout",
     "output_type": "stream",
     "text": [
      "[1 2 3 4]\n",
      "[5 6 7 8]\n",
      "70\n",
      "[[1 2]\n",
      " [3 4]]\n",
      "[[5 6]\n",
      " [7 8]]\n",
      "[[19 22]\n",
      " [43 50]] \n",
      "\n",
      "[[17 23]\n",
      " [39 53]]\n",
      "[[ 5  6  7  8]\n",
      " [10 12 14 16]\n",
      " [15 18 21 24]\n",
      " [20 24 28 32]]\n"
     ]
    }
   ],
   "source": [
    "# Para realizar el producto punto entre dos vectores- función np.vdot(vect1,vect2)\n",
    "a = np.array([1,2,3,4])\n",
    "b = np.array([5,6,7,8])\n",
    "print(a)\n",
    "print(b)\n",
    "print(np.vdot(a,b)) # realiza (a[0]*b[0])+(a[1]*b[1])+....(a[n]*b[n])\n",
    "\n",
    "# Para realizar el producto punto entre dos matrices - función np.dot(matriz1,matriz2)\n",
    "amat = np.array([[1,2],[3,4]])\n",
    "bmat = np.array([[5,6],[7,8]])\n",
    "print(amat)\n",
    "print(bmat)\n",
    "print(np.dot(amat,bmat),\"\\n\") # Realiza para c[1,1] = a[1,1] * b[1,1] + a[1,2] * b[2,1], igual para el resto\n",
    "\n",
    "# Para realizar el producto escalar entre dos matrices - función np.inner(matriz1,matriz2)\n",
    "print(np.inner(amat,bmat))\n",
    "\n",
    "# Para realizar el producto escalar entre dos vectores - función np.outer(vect1,vect2)\n",
    "print(np.outer(a,b)) \n",
    "# Realiza a[0]*b, a[1]*b, a[2]*b, a[3]*b .. Forma una matriz con los elementos de a como escalares y las filas de b"
   ]
  },
  {
   "cell_type": "code",
   "execution_count": 68,
   "id": "05144201",
   "metadata": {},
   "outputs": [
    {
     "name": "stdout",
     "output_type": "stream",
     "text": [
      "[[1 0 0]\n",
      " [0 1 0]\n",
      " [0 0 1]]\n",
      "[[5 5 5]\n",
      " [5 5 5]\n",
      " [5 5 5]]\n",
      "[[5 5 5]\n",
      " [5 5 5]\n",
      " [5 5 5]]\n"
     ]
    }
   ],
   "source": [
    "# Recordemos que para multiplicar matrices, debemos de tener una matriz a n.m y b n.m\n",
    "# de modo tal que la cant de col de a sea igual a la cant de filas de b \n",
    "# y que las filas de a y las columnas de b determinarán su tamaño, para ello\n",
    "# usaremos la función np.matmul(matriz1,matriz2)\n",
    "\n",
    "a = np.identity(3,dtype=\"int16\") # Matriz a = identidad 3x3(1s en la diagonal principal)\n",
    "print(a)\n",
    "\n",
    "b = np.full((3,3),5) # matriz b = matriz 3x3 completa con 5\n",
    "print (b)\n",
    "\n",
    "print(np.matmul(a,b)) # Producto entre la matriz a y la matriz b, nueva matriz 3x3\n",
    "# Véase el producto entre matrices en https://es.wikipedia.org/wiki/Multiplicaci%C3%B3n_de_matrices"
   ]
  },
  {
   "cell_type": "code",
   "execution_count": 69,
   "id": "0f50f808",
   "metadata": {},
   "outputs": [
    {
     "name": "stdout",
     "output_type": "stream",
     "text": [
      "[[1 1]\n",
      " [2 1]]\n",
      "-1.0\n"
     ]
    }
   ],
   "source": [
    "# Para buscar el Determinante de una matriz debemos de recordar que la matriz debe de ser cuadrada\n",
    "# El Determinante indicará el número de soluciones de los respectivos sistemas de ecuaciones lineales\n",
    "a = np.array([[1,1],[2,1]])\n",
    "print(a)\n",
    "print(np.linalg.det(a)) \n",
    "# Determinante de a que es lo mismo que\n",
    "# la diferencia entre la mult de los elementos de la diag principal y la mult de los elementos de la diag secundaria\n",
    "# queda conformada una x en la matriz, por ejemplo para este caso es [1*1]-[1*2] que nos dará como resultado -1"
   ]
  },
  {
   "cell_type": "code",
   "execution_count": 70,
   "id": "e91bff0b",
   "metadata": {},
   "outputs": [],
   "source": [
    "#reto\n",
    "# https://how.okpedia.org/es/python/como-calcular-la-matriz-inversa-en-python\n",
    "# Creee una matriz aleatoria\n",
    "# Genere una matriz inversa\n",
    "# Multiplique ambas matrices\n",
    "# ¿Cual es la respuesta?"
   ]
  },
  {
   "cell_type": "code",
   "execution_count": null,
   "id": "3fa6ed56",
   "metadata": {},
   "outputs": [],
   "source": []
  },
  {
   "cell_type": "markdown",
   "id": "59206eac",
   "metadata": {},
   "source": [
    "### Estadísticas con Numpy"
   ]
  },
  {
   "cell_type": "code",
   "execution_count": 71,
   "id": "b51b1c18",
   "metadata": {},
   "outputs": [
    {
     "name": "stdout",
     "output_type": "stream",
     "text": [
      "[[1 2 3]\n",
      " [4 5 6]\n",
      " [7 8 9]]\n",
      "1\n",
      "9\n",
      "[1 2 3]\n",
      "[1 4 7]\n",
      "[7 8 9]\n",
      "[3 6 9]\n",
      "[4. 5. 6.]\n",
      "[2. 5. 8.]\n"
     ]
    }
   ],
   "source": [
    "# Podemos obtener el mínimo de una matriz - Función np.min(matriz)\n",
    "estadisticas = np.array ([[1,2,3],[4,5,6],[7,8,9]])\n",
    "print(estadisticas)\n",
    "\n",
    "minimo = np.min(estadisticas)\n",
    "print(minimo)\n",
    "\n",
    "# También podremos obtener el máximo de una matriz - Función np.max(matriz)\n",
    "maximo = np.max(estadisticas)\n",
    "print(maximo)\n",
    "\n",
    "# Esos serían los mínimos y máximos de toda la matriz pero que pasa si queremos obtenerlos por filas o columnas?\n",
    "# Debemos agregar el parametro axis en la función np.max(), por ejemplo\n",
    "\n",
    "print(np.min(estadisticas,axis = 0)) # Por columna obtenemos que los menores son 1 2 y 3\n",
    "print(np.min(estadisticas,axis = 1)) # Por fila obtenemos que los menores son 1 4 y 7\n",
    "\n",
    "print(np.max(estadisticas,axis = 0)) # Por columna obtenemos que los más grandes son 7 8 y 9\n",
    "print(np.max(estadisticas,axis = 1)) # Por fila obtenemos que los más grandes son 3 6 y 9\n",
    "\n",
    "\n",
    "print(np.mean(estadisticas,axis = 0)) # Por columna obtenemos que los más grandes son 7 8 y 9\n",
    "print(np.mean(estadisticas,axis = 1)) # Por fila obtenemos que los más grandes son 3 6 y 9"
   ]
  },
  {
   "cell_type": "code",
   "execution_count": 72,
   "id": "3250ff7b",
   "metadata": {},
   "outputs": [],
   "source": [
    "#Reto: \n",
    "# genere un vector aleatorio de 10 x 10 y calcule el max , el minimo , la media , mediana y moda"
   ]
  },
  {
   "cell_type": "markdown",
   "id": "4cf9af8e",
   "metadata": {},
   "source": [
    "### Reorganizar Matrices"
   ]
  },
  {
   "cell_type": "code",
   "execution_count": 73,
   "id": "c26344aa",
   "metadata": {},
   "outputs": [],
   "source": [
    "# Para cambiarle la forma a una matriz - Función np.reshape(matriz,(cantfilas,cantcol)) o nombmatriz.reshape(forma)\n",
    "\n",
    "antes = np.array ([[1,2],[3,4],[5,6],[7,8]])\n",
    "despues = np.reshape(antes,(2,4)) # Generamos una matriz 2x4 con la Forma 1 "
   ]
  },
  {
   "cell_type": "code",
   "execution_count": 74,
   "id": "2e2055ed",
   "metadata": {},
   "outputs": [
    {
     "name": "stdout",
     "output_type": "stream",
     "text": [
      "[[1 2]\n",
      " [3 4]\n",
      " [5 6]\n",
      " [7 8]]\n"
     ]
    }
   ],
   "source": [
    "print(antes)"
   ]
  },
  {
   "cell_type": "code",
   "execution_count": 75,
   "id": "593e2cb6",
   "metadata": {},
   "outputs": [
    {
     "name": "stdout",
     "output_type": "stream",
     "text": [
      "[[1 2 3 4]\n",
      " [5 6 7 8]]\n"
     ]
    }
   ],
   "source": [
    "print(despues)"
   ]
  },
  {
   "cell_type": "markdown",
   "id": "2f8711ce",
   "metadata": {},
   "source": [
    "### Transponer Matrices"
   ]
  },
  {
   "cell_type": "code",
   "execution_count": 76,
   "id": "fb648194",
   "metadata": {},
   "outputs": [
    {
     "data": {
      "text/plain": [
       "array([[1, 3, 5, 7],\n",
       "       [2, 4, 6, 8]])"
      ]
     },
     "execution_count": 76,
     "metadata": {},
     "output_type": "execute_result"
    }
   ],
   "source": [
    "np.transpose(antes)"
   ]
  },
  {
   "cell_type": "markdown",
   "id": "117b0595",
   "metadata": {},
   "source": [
    "## Pandas\n",
    "\n",
    "Pandas es una libería para trabajo con datos en formato tabular. Es una librería construida sobre Numpy así que todo lo que hemos visto hasta ahora sigue siendo válido para Pandas también. La única diferencia es que Pandas nos proporciona una interfaz más sencilla para el manejo de datos estructurados (tabulares). Aunque por debajo Pandas utilice Numpy, es interesante aprender Pandas para preprocesado de datos, ya que las herramientas visuales y de preprocesado han sido desarrolladas específicamente para este tipo de datos, y por lo tanto suelen ser mucho más amigables con el usuario.\n",
    "\n",
    "**Para comenzar, vamos a importar la librería pandas**. "
   ]
  },
  {
   "cell_type": "code",
   "execution_count": 3,
   "id": "e942fd3f",
   "metadata": {},
   "outputs": [],
   "source": [
    "# Cómo importar pandas:\n",
    "import pandas as pd"
   ]
  },
  {
   "cell_type": "markdown",
   "id": "96f6af47",
   "metadata": {},
   "source": [
    "### La estructura básica de Pandas: El DataFrame\n",
    "\n",
    "El **DataFrame** es el elemento básico que compone a la estructura de datos que vamos a ver en el curso. El DataFrame es una estructura pensada como un formato **tabular y columnar**, en el que cada columna es una serie, un elemento indexado que contiene un elemento por cada fila del DataFrame para esa columna. Por lo tanto si tenemos una tabla de precios para cada producto, nuestra columna \"Producto\" podría tener el nombe o ID del producto, mientras que la columna \"Precio\" podría tener el precio establecido para dicho producto. Esas dos columnas serían en realidad dos Series, que son elementos que almacenan la información indexada y ordenada para mantener la coherencia del DataFrame.\n",
    "\n",
    "El DataFrame es un tipo de dato de la librería pandas pensado para el manejo de datos en **formato tabular**. Es el elemento más utilizado en ciencia de datos hoy en día, porque incluye muchas funcionalidades pensadas para el manejo de datos de este estilo:\n",
    "\n",
    "- Operaciones tabulares\n",
    "- Agregar/quitar/modificar columnas\n",
    "- Renombrar\n",
    "- Operaciones de cadenas de texto\n",
    "\n",
    "\n",
    "#### Creación de DataFrames:\n",
    "\n",
    "Hay muchas formas de crear un DataFrame de pandas. Podemos utilizar arrays de Numpy, una lista de columnas y lista de índices, podemos utilizar listas de datos, columnas e índices, o podemos utilizar diccionarios y listas. Personalmente, prefiero la última, porque es la forma más intuitiva de ver la información en ese formato **columnar**."
   ]
  },
  {
   "cell_type": "code",
   "execution_count": 4,
   "id": "01a1d3d7",
   "metadata": {},
   "outputs": [
    {
     "data": {
      "text/html": [
       "<div>\n",
       "<style scoped>\n",
       "    .dataframe tbody tr th:only-of-type {\n",
       "        vertical-align: middle;\n",
       "    }\n",
       "\n",
       "    .dataframe tbody tr th {\n",
       "        vertical-align: top;\n",
       "    }\n",
       "\n",
       "    .dataframe thead th {\n",
       "        text-align: right;\n",
       "    }\n",
       "</style>\n",
       "<table border=\"1\" class=\"dataframe\">\n",
       "  <thead>\n",
       "    <tr style=\"text-align: right;\">\n",
       "      <th></th>\n",
       "      <th>col1</th>\n",
       "      <th>col2</th>\n",
       "    </tr>\n",
       "  </thead>\n",
       "  <tbody>\n",
       "    <tr>\n",
       "      <th>0</th>\n",
       "      <td>1</td>\n",
       "      <td>A</td>\n",
       "    </tr>\n",
       "    <tr>\n",
       "      <th>1</th>\n",
       "      <td>2</td>\n",
       "      <td>B</td>\n",
       "    </tr>\n",
       "    <tr>\n",
       "      <th>2</th>\n",
       "      <td>3</td>\n",
       "      <td>C</td>\n",
       "    </tr>\n",
       "    <tr>\n",
       "      <th>3</th>\n",
       "      <td>5</td>\n",
       "      <td>D</td>\n",
       "    </tr>\n",
       "  </tbody>\n",
       "</table>\n",
       "</div>"
      ],
      "text/plain": [
       "   col1 col2\n",
       "0     1    A\n",
       "1     2    B\n",
       "2     3    C\n",
       "3     5    D"
      ]
     },
     "execution_count": 4,
     "metadata": {},
     "output_type": "execute_result"
    }
   ],
   "source": [
    "df = pd.DataFrame({'col1': [1, 2, 3, 5], 'col2': ['A', 'B', 'C', 'D']})\n",
    "df"
   ]
  },
  {
   "cell_type": "markdown",
   "id": "9f79f79b",
   "metadata": {},
   "source": [
    "#### Creación de DataFrames a partir de ficheros:\n",
    "\n",
    "Pandas ha diseñado funciones para la lectura de ficheros de muchos tipos diferentes. Podemos leer ficheros en formato **csv, excel, parquet, json, html, feather, pickle, y muchos más**. La ventaja de este proceso es que nos da la flexibilidad de tener ficheros de múltiples formatos distintos, y unificarlos bajo la misma estructura (el DataFrame).\n",
    "\n",
    "Para utilizar estos métodos debemos utilizar la librería de pandas y sus funciones de lectura (read_\"formato de fichero\"). La sintáxis es:\n",
    "- Para csv: pd.read_csv(\"ruta del fichero\") --> También podemos especificar otros argumentos como el separador en csv.\n",
    "- Para parquet: pd.read_parquet(\"ruta del fichero\")\n",
    "- Para json: pd.read_json(\"ruta del fichero\")\n",
    "- La sintaxis para los demás tipos de fichero es clara... Podemos ver los formatos que soporta la API [aqui](https://pandas.pydata.org/docs/reference/io.html)\n",
    "\n",
    "**Vamos a leer un dataset de Kaggle:**"
   ]
  },
  {
   "cell_type": "code",
   "execution_count": 5,
   "id": "111c7f81",
   "metadata": {},
   "outputs": [
    {
     "data": {
      "text/html": [
       "<div>\n",
       "<style scoped>\n",
       "    .dataframe tbody tr th:only-of-type {\n",
       "        vertical-align: middle;\n",
       "    }\n",
       "\n",
       "    .dataframe tbody tr th {\n",
       "        vertical-align: top;\n",
       "    }\n",
       "\n",
       "    .dataframe thead th {\n",
       "        text-align: right;\n",
       "    }\n",
       "</style>\n",
       "<table border=\"1\" class=\"dataframe\">\n",
       "  <thead>\n",
       "    <tr style=\"text-align: right;\">\n",
       "      <th></th>\n",
       "      <th>ID</th>\n",
       "      <th>income</th>\n",
       "      <th>age</th>\n",
       "      <th>gender</th>\n",
       "      <th>education_level</th>\n",
       "    </tr>\n",
       "  </thead>\n",
       "  <tbody>\n",
       "    <tr>\n",
       "      <th>0</th>\n",
       "      <td>12182</td>\n",
       "      <td>86519.608537</td>\n",
       "      <td>45</td>\n",
       "      <td>M</td>\n",
       "      <td>2.0</td>\n",
       "    </tr>\n",
       "    <tr>\n",
       "      <th>1</th>\n",
       "      <td>81213</td>\n",
       "      <td>83085.864980</td>\n",
       "      <td>30</td>\n",
       "      <td>M</td>\n",
       "      <td>2.0</td>\n",
       "    </tr>\n",
       "    <tr>\n",
       "      <th>2</th>\n",
       "      <td>1996</td>\n",
       "      <td>82606.214973</td>\n",
       "      <td>22</td>\n",
       "      <td>M</td>\n",
       "      <td>2.0</td>\n",
       "    </tr>\n",
       "    <tr>\n",
       "      <th>3</th>\n",
       "      <td>9366</td>\n",
       "      <td>81551.229988</td>\n",
       "      <td>36</td>\n",
       "      <td>M</td>\n",
       "      <td>2.0</td>\n",
       "    </tr>\n",
       "    <tr>\n",
       "      <th>4</th>\n",
       "      <td>9733</td>\n",
       "      <td>79593.253224</td>\n",
       "      <td>51</td>\n",
       "      <td>M</td>\n",
       "      <td>1.0</td>\n",
       "    </tr>\n",
       "    <tr>\n",
       "      <th>...</th>\n",
       "      <td>...</td>\n",
       "      <td>...</td>\n",
       "      <td>...</td>\n",
       "      <td>...</td>\n",
       "      <td>...</td>\n",
       "    </tr>\n",
       "    <tr>\n",
       "      <th>99995</th>\n",
       "      <td>35271</td>\n",
       "      <td>15000.000000</td>\n",
       "      <td>38</td>\n",
       "      <td>M</td>\n",
       "      <td>1.0</td>\n",
       "    </tr>\n",
       "    <tr>\n",
       "      <th>99996</th>\n",
       "      <td>50709</td>\n",
       "      <td>15000.000000</td>\n",
       "      <td>20</td>\n",
       "      <td>M</td>\n",
       "      <td>0.0</td>\n",
       "    </tr>\n",
       "    <tr>\n",
       "      <th>99997</th>\n",
       "      <td>98689</td>\n",
       "      <td>15000.000000</td>\n",
       "      <td>32</td>\n",
       "      <td>F</td>\n",
       "      <td>0.0</td>\n",
       "    </tr>\n",
       "    <tr>\n",
       "      <th>99998</th>\n",
       "      <td>92169</td>\n",
       "      <td>15000.000000</td>\n",
       "      <td>21</td>\n",
       "      <td>M</td>\n",
       "      <td>2.0</td>\n",
       "    </tr>\n",
       "    <tr>\n",
       "      <th>99999</th>\n",
       "      <td>91145</td>\n",
       "      <td>15000.000000</td>\n",
       "      <td>27</td>\n",
       "      <td>M</td>\n",
       "      <td>0.0</td>\n",
       "    </tr>\n",
       "  </tbody>\n",
       "</table>\n",
       "<p>100000 rows × 5 columns</p>\n",
       "</div>"
      ],
      "text/plain": [
       "          ID        income  age gender  education_level\n",
       "0      12182  86519.608537   45      M              2.0\n",
       "1      81213  83085.864980   30      M              2.0\n",
       "2       1996  82606.214973   22      M              2.0\n",
       "3       9366  81551.229988   36      M              2.0\n",
       "4       9733  79593.253224   51      M              1.0\n",
       "...      ...           ...  ...    ...              ...\n",
       "99995  35271  15000.000000   38      M              1.0\n",
       "99996  50709  15000.000000   20      M              0.0\n",
       "99997  98689  15000.000000   32      F              0.0\n",
       "99998  92169  15000.000000   21      M              2.0\n",
       "99999  91145  15000.000000   27      M              0.0\n",
       "\n",
       "[100000 rows x 5 columns]"
      ]
     },
     "execution_count": 5,
     "metadata": {},
     "output_type": "execute_result"
    }
   ],
   "source": [
    "df_kaggle = pd.read_csv('salary_data.csv', sep=';')\n",
    "df_kaggle"
   ]
  },
  {
   "cell_type": "markdown",
   "id": "b84f78b2",
   "metadata": {},
   "source": [
    "**También vamos a crear un DataFrame desde cero utilizando un diccionario de listas:**"
   ]
  },
  {
   "cell_type": "code",
   "execution_count": 80,
   "id": "d01da6ae",
   "metadata": {},
   "outputs": [
    {
     "data": {
      "text/html": [
       "<div>\n",
       "<style scoped>\n",
       "    .dataframe tbody tr th:only-of-type {\n",
       "        vertical-align: middle;\n",
       "    }\n",
       "\n",
       "    .dataframe tbody tr th {\n",
       "        vertical-align: top;\n",
       "    }\n",
       "\n",
       "    .dataframe thead th {\n",
       "        text-align: right;\n",
       "    }\n",
       "</style>\n",
       "<table border=\"1\" class=\"dataframe\">\n",
       "  <thead>\n",
       "    <tr style=\"text-align: right;\">\n",
       "      <th></th>\n",
       "      <th>col1</th>\n",
       "      <th>col2</th>\n",
       "      <th>col3</th>\n",
       "    </tr>\n",
       "  </thead>\n",
       "  <tbody>\n",
       "    <tr>\n",
       "      <th>0</th>\n",
       "      <td>1</td>\n",
       "      <td>3</td>\n",
       "      <td>A</td>\n",
       "    </tr>\n",
       "    <tr>\n",
       "      <th>1</th>\n",
       "      <td>5</td>\n",
       "      <td>6</td>\n",
       "      <td>B</td>\n",
       "    </tr>\n",
       "    <tr>\n",
       "      <th>2</th>\n",
       "      <td>10</td>\n",
       "      <td>9</td>\n",
       "      <td>C</td>\n",
       "    </tr>\n",
       "    <tr>\n",
       "      <th>3</th>\n",
       "      <td>15</td>\n",
       "      <td>12</td>\n",
       "      <td>A</td>\n",
       "    </tr>\n",
       "    <tr>\n",
       "      <th>4</th>\n",
       "      <td>20</td>\n",
       "      <td>15</td>\n",
       "      <td>C</td>\n",
       "    </tr>\n",
       "    <tr>\n",
       "      <th>5</th>\n",
       "      <td>25</td>\n",
       "      <td>18</td>\n",
       "      <td>A</td>\n",
       "    </tr>\n",
       "  </tbody>\n",
       "</table>\n",
       "</div>"
      ],
      "text/plain": [
       "   col1  col2 col3\n",
       "0     1     3    A\n",
       "1     5     6    B\n",
       "2    10     9    C\n",
       "3    15    12    A\n",
       "4    20    15    C\n",
       "5    25    18    A"
      ]
     },
     "execution_count": 80,
     "metadata": {},
     "output_type": "execute_result"
    }
   ],
   "source": [
    "df = pd.DataFrame({'col1': [1, 5, 10, 15, 20, 25], 'col2': [3, 6, 9, 12, 15, 18], 'col3': ['A', 'B', 'C', 'A', 'C', 'A']})\n",
    "df"
   ]
  },
  {
   "cell_type": "markdown",
   "id": "3ff79b89",
   "metadata": {},
   "source": [
    "Podemos ver los primeros 5 registros de nuestro DataFrame con el método **.head()** y los últimos con el método **.tail()**. También podemos hacer un sample aleatorio de N elementos utilizando el método **.sample()**:"
   ]
  },
  {
   "cell_type": "code",
   "execution_count": 6,
   "id": "4620ef2e",
   "metadata": {},
   "outputs": [
    {
     "data": {
      "text/html": [
       "<div>\n",
       "<style scoped>\n",
       "    .dataframe tbody tr th:only-of-type {\n",
       "        vertical-align: middle;\n",
       "    }\n",
       "\n",
       "    .dataframe tbody tr th {\n",
       "        vertical-align: top;\n",
       "    }\n",
       "\n",
       "    .dataframe thead th {\n",
       "        text-align: right;\n",
       "    }\n",
       "</style>\n",
       "<table border=\"1\" class=\"dataframe\">\n",
       "  <thead>\n",
       "    <tr style=\"text-align: right;\">\n",
       "      <th></th>\n",
       "      <th>ID</th>\n",
       "      <th>income</th>\n",
       "      <th>age</th>\n",
       "      <th>gender</th>\n",
       "      <th>education_level</th>\n",
       "    </tr>\n",
       "  </thead>\n",
       "  <tbody>\n",
       "    <tr>\n",
       "      <th>0</th>\n",
       "      <td>12182</td>\n",
       "      <td>86519.608537</td>\n",
       "      <td>45</td>\n",
       "      <td>M</td>\n",
       "      <td>2.0</td>\n",
       "    </tr>\n",
       "    <tr>\n",
       "      <th>1</th>\n",
       "      <td>81213</td>\n",
       "      <td>83085.864980</td>\n",
       "      <td>30</td>\n",
       "      <td>M</td>\n",
       "      <td>2.0</td>\n",
       "    </tr>\n",
       "    <tr>\n",
       "      <th>2</th>\n",
       "      <td>1996</td>\n",
       "      <td>82606.214973</td>\n",
       "      <td>22</td>\n",
       "      <td>M</td>\n",
       "      <td>2.0</td>\n",
       "    </tr>\n",
       "    <tr>\n",
       "      <th>3</th>\n",
       "      <td>9366</td>\n",
       "      <td>81551.229988</td>\n",
       "      <td>36</td>\n",
       "      <td>M</td>\n",
       "      <td>2.0</td>\n",
       "    </tr>\n",
       "    <tr>\n",
       "      <th>4</th>\n",
       "      <td>9733</td>\n",
       "      <td>79593.253224</td>\n",
       "      <td>51</td>\n",
       "      <td>M</td>\n",
       "      <td>1.0</td>\n",
       "    </tr>\n",
       "  </tbody>\n",
       "</table>\n",
       "</div>"
      ],
      "text/plain": [
       "      ID        income  age gender  education_level\n",
       "0  12182  86519.608537   45      M              2.0\n",
       "1  81213  83085.864980   30      M              2.0\n",
       "2   1996  82606.214973   22      M              2.0\n",
       "3   9366  81551.229988   36      M              2.0\n",
       "4   9733  79593.253224   51      M              1.0"
      ]
     },
     "execution_count": 6,
     "metadata": {},
     "output_type": "execute_result"
    }
   ],
   "source": [
    "df_kaggle.head()"
   ]
  },
  {
   "cell_type": "code",
   "execution_count": 7,
   "id": "e926a5a0",
   "metadata": {},
   "outputs": [
    {
     "data": {
      "text/html": [
       "<div>\n",
       "<style scoped>\n",
       "    .dataframe tbody tr th:only-of-type {\n",
       "        vertical-align: middle;\n",
       "    }\n",
       "\n",
       "    .dataframe tbody tr th {\n",
       "        vertical-align: top;\n",
       "    }\n",
       "\n",
       "    .dataframe thead th {\n",
       "        text-align: right;\n",
       "    }\n",
       "</style>\n",
       "<table border=\"1\" class=\"dataframe\">\n",
       "  <thead>\n",
       "    <tr style=\"text-align: right;\">\n",
       "      <th></th>\n",
       "      <th>ID</th>\n",
       "      <th>income</th>\n",
       "      <th>age</th>\n",
       "      <th>gender</th>\n",
       "      <th>education_level</th>\n",
       "    </tr>\n",
       "  </thead>\n",
       "  <tbody>\n",
       "    <tr>\n",
       "      <th>99995</th>\n",
       "      <td>35271</td>\n",
       "      <td>15000.0</td>\n",
       "      <td>38</td>\n",
       "      <td>M</td>\n",
       "      <td>1.0</td>\n",
       "    </tr>\n",
       "    <tr>\n",
       "      <th>99996</th>\n",
       "      <td>50709</td>\n",
       "      <td>15000.0</td>\n",
       "      <td>20</td>\n",
       "      <td>M</td>\n",
       "      <td>0.0</td>\n",
       "    </tr>\n",
       "    <tr>\n",
       "      <th>99997</th>\n",
       "      <td>98689</td>\n",
       "      <td>15000.0</td>\n",
       "      <td>32</td>\n",
       "      <td>F</td>\n",
       "      <td>0.0</td>\n",
       "    </tr>\n",
       "    <tr>\n",
       "      <th>99998</th>\n",
       "      <td>92169</td>\n",
       "      <td>15000.0</td>\n",
       "      <td>21</td>\n",
       "      <td>M</td>\n",
       "      <td>2.0</td>\n",
       "    </tr>\n",
       "    <tr>\n",
       "      <th>99999</th>\n",
       "      <td>91145</td>\n",
       "      <td>15000.0</td>\n",
       "      <td>27</td>\n",
       "      <td>M</td>\n",
       "      <td>0.0</td>\n",
       "    </tr>\n",
       "  </tbody>\n",
       "</table>\n",
       "</div>"
      ],
      "text/plain": [
       "          ID   income  age gender  education_level\n",
       "99995  35271  15000.0   38      M              1.0\n",
       "99996  50709  15000.0   20      M              0.0\n",
       "99997  98689  15000.0   32      F              0.0\n",
       "99998  92169  15000.0   21      M              2.0\n",
       "99999  91145  15000.0   27      M              0.0"
      ]
     },
     "execution_count": 7,
     "metadata": {},
     "output_type": "execute_result"
    }
   ],
   "source": [
    "df_kaggle.tail()"
   ]
  },
  {
   "cell_type": "code",
   "execution_count": 8,
   "id": "9a3ca55a",
   "metadata": {},
   "outputs": [
    {
     "data": {
      "text/html": [
       "<div>\n",
       "<style scoped>\n",
       "    .dataframe tbody tr th:only-of-type {\n",
       "        vertical-align: middle;\n",
       "    }\n",
       "\n",
       "    .dataframe tbody tr th {\n",
       "        vertical-align: top;\n",
       "    }\n",
       "\n",
       "    .dataframe thead th {\n",
       "        text-align: right;\n",
       "    }\n",
       "</style>\n",
       "<table border=\"1\" class=\"dataframe\">\n",
       "  <thead>\n",
       "    <tr style=\"text-align: right;\">\n",
       "      <th></th>\n",
       "      <th>ID</th>\n",
       "      <th>income</th>\n",
       "      <th>age</th>\n",
       "      <th>gender</th>\n",
       "      <th>education_level</th>\n",
       "    </tr>\n",
       "  </thead>\n",
       "  <tbody>\n",
       "    <tr>\n",
       "      <th>43660</th>\n",
       "      <td>12288</td>\n",
       "      <td>41644.463833</td>\n",
       "      <td>32</td>\n",
       "      <td>M</td>\n",
       "      <td>1.0</td>\n",
       "    </tr>\n",
       "    <tr>\n",
       "      <th>87278</th>\n",
       "      <td>40109</td>\n",
       "      <td>28653.093344</td>\n",
       "      <td>31</td>\n",
       "      <td>F</td>\n",
       "      <td>2.0</td>\n",
       "    </tr>\n",
       "    <tr>\n",
       "      <th>14317</th>\n",
       "      <td>77803</td>\n",
       "      <td>50655.334728</td>\n",
       "      <td>49</td>\n",
       "      <td>F</td>\n",
       "      <td>1.0</td>\n",
       "    </tr>\n",
       "    <tr>\n",
       "      <th>81932</th>\n",
       "      <td>48685</td>\n",
       "      <td>30901.999218</td>\n",
       "      <td>31</td>\n",
       "      <td>F</td>\n",
       "      <td>1.0</td>\n",
       "    </tr>\n",
       "    <tr>\n",
       "      <th>95321</th>\n",
       "      <td>38964</td>\n",
       "      <td>23290.023201</td>\n",
       "      <td>19</td>\n",
       "      <td>M</td>\n",
       "      <td>1.0</td>\n",
       "    </tr>\n",
       "  </tbody>\n",
       "</table>\n",
       "</div>"
      ],
      "text/plain": [
       "          ID        income  age gender  education_level\n",
       "43660  12288  41644.463833   32      M              1.0\n",
       "87278  40109  28653.093344   31      F              2.0\n",
       "14317  77803  50655.334728   49      F              1.0\n",
       "81932  48685  30901.999218   31      F              1.0\n",
       "95321  38964  23290.023201   19      M              1.0"
      ]
     },
     "execution_count": 8,
     "metadata": {},
     "output_type": "execute_result"
    }
   ],
   "source": [
    "df_kaggle.sample(5, random_state=1) # El random state hace un sampling aleatorio repetible, esto es muy recomendable en procesos aleatorios."
   ]
  },
  {
   "cell_type": "markdown",
   "id": "a746f0f4",
   "metadata": {},
   "source": [
    "#### CALIDAD DE DATOS"
   ]
  },
  {
   "cell_type": "code",
   "execution_count": 9,
   "id": "3fd6dfc6",
   "metadata": {},
   "outputs": [
    {
     "data": {
      "text/plain": [
       "ID                   0\n",
       "income               0\n",
       "age                  0\n",
       "gender               0\n",
       "education_level    431\n",
       "dtype: int64"
      ]
     },
     "execution_count": 9,
     "metadata": {},
     "output_type": "execute_result"
    }
   ],
   "source": [
    "#revisaremos si existen valores nulos en nuestro dataset\n",
    "df_kaggle.isnull().sum()"
   ]
  },
  {
   "cell_type": "code",
   "execution_count": 11,
   "id": "dee27827",
   "metadata": {},
   "outputs": [
    {
     "data": {
      "text/plain": [
       "(100000, 5)"
      ]
     },
     "execution_count": 11,
     "metadata": {},
     "output_type": "execute_result"
    }
   ],
   "source": [
    "df_kaggle.shape"
   ]
  },
  {
   "cell_type": "code",
   "execution_count": 13,
   "id": "e8705d4e",
   "metadata": {},
   "outputs": [
    {
     "data": {
      "text/plain": [
       "0.43099999999999994"
      ]
     },
     "execution_count": 13,
     "metadata": {},
     "output_type": "execute_result"
    }
   ],
   "source": [
    "(431/100000)*100"
   ]
  },
  {
   "cell_type": "markdown",
   "id": "a66eae90",
   "metadata": {},
   "source": [
    "#### Selección de columnas:\n",
    "\n",
    "Podemos seleccionar columnas específicas del DataFrame pasándole al DataFrame el nombre de la columna. Podemos hacerlo cómo atributo (con un punto) o como lista (con una lista de nombres de columnas). Mi preferencia es por la segunda, porque nos permite utilizar cualquier nombre de columna, mientras que el primero es más rápido pero más restrictivo.\n",
    "\n",
    "Además, el método (2) nos permite seleccionar conjuntos de columnas (slicing)."
   ]
  },
  {
   "cell_type": "code",
   "execution_count": 85,
   "id": "ffc10d28",
   "metadata": {},
   "outputs": [
    {
     "data": {
      "text/plain": [
       "0     1\n",
       "1     5\n",
       "2    10\n",
       "3    15\n",
       "4    20\n",
       "5    25\n",
       "Name: col1, dtype: int64"
      ]
     },
     "execution_count": 85,
     "metadata": {},
     "output_type": "execute_result"
    }
   ],
   "source": [
    "df.col1"
   ]
  },
  {
   "cell_type": "code",
   "execution_count": 86,
   "id": "2e1a7c66",
   "metadata": {},
   "outputs": [
    {
     "data": {
      "text/plain": [
       "0     1\n",
       "1     5\n",
       "2    10\n",
       "3    15\n",
       "4    20\n",
       "5    25\n",
       "Name: col1, dtype: int64"
      ]
     },
     "execution_count": 86,
     "metadata": {},
     "output_type": "execute_result"
    }
   ],
   "source": [
    "# Personalmente, prefiero éste\n",
    "df['col1']"
   ]
  },
  {
   "cell_type": "code",
   "execution_count": 87,
   "id": "4d017717",
   "metadata": {},
   "outputs": [
    {
     "data": {
      "text/html": [
       "<div>\n",
       "<style scoped>\n",
       "    .dataframe tbody tr th:only-of-type {\n",
       "        vertical-align: middle;\n",
       "    }\n",
       "\n",
       "    .dataframe tbody tr th {\n",
       "        vertical-align: top;\n",
       "    }\n",
       "\n",
       "    .dataframe thead th {\n",
       "        text-align: right;\n",
       "    }\n",
       "</style>\n",
       "<table border=\"1\" class=\"dataframe\">\n",
       "  <thead>\n",
       "    <tr style=\"text-align: right;\">\n",
       "      <th></th>\n",
       "      <th>col1</th>\n",
       "      <th>col2</th>\n",
       "    </tr>\n",
       "  </thead>\n",
       "  <tbody>\n",
       "    <tr>\n",
       "      <th>0</th>\n",
       "      <td>1</td>\n",
       "      <td>3</td>\n",
       "    </tr>\n",
       "    <tr>\n",
       "      <th>1</th>\n",
       "      <td>5</td>\n",
       "      <td>6</td>\n",
       "    </tr>\n",
       "    <tr>\n",
       "      <th>2</th>\n",
       "      <td>10</td>\n",
       "      <td>9</td>\n",
       "    </tr>\n",
       "    <tr>\n",
       "      <th>3</th>\n",
       "      <td>15</td>\n",
       "      <td>12</td>\n",
       "    </tr>\n",
       "    <tr>\n",
       "      <th>4</th>\n",
       "      <td>20</td>\n",
       "      <td>15</td>\n",
       "    </tr>\n",
       "    <tr>\n",
       "      <th>5</th>\n",
       "      <td>25</td>\n",
       "      <td>18</td>\n",
       "    </tr>\n",
       "  </tbody>\n",
       "</table>\n",
       "</div>"
      ],
      "text/plain": [
       "   col1  col2\n",
       "0     1     3\n",
       "1     5     6\n",
       "2    10     9\n",
       "3    15    12\n",
       "4    20    15\n",
       "5    25    18"
      ]
     },
     "execution_count": 87,
     "metadata": {},
     "output_type": "execute_result"
    }
   ],
   "source": [
    "# Slicing (ver el doble corchete!!):\n",
    "df[['col1', 'col2']]"
   ]
  },
  {
   "cell_type": "markdown",
   "id": "af424634",
   "metadata": {},
   "source": [
    "#### Visualización de Tipos de Datos:\n",
    "\n",
    "Podemos ver los tipos de datos del DataFrame de forma individual (columna a columna) o global sobre todo el elemento. Esto lo hacemos utilizando el método .dtype (sobre una columna) o el método .dtypes (sobre el DataFrame entero) --> **Atención:** Ver que la diferencia es la letra \"s\" al final."
   ]
  },
  {
   "cell_type": "code",
   "execution_count": 88,
   "id": "b6bb7e74",
   "metadata": {},
   "outputs": [
    {
     "data": {
      "text/plain": [
       "dtype('int64')"
      ]
     },
     "execution_count": 88,
     "metadata": {},
     "output_type": "execute_result"
    }
   ],
   "source": [
    "# Comprobar el tipo de dato de una columna\n",
    "df['col1'].dtype"
   ]
  },
  {
   "cell_type": "code",
   "execution_count": 89,
   "id": "3838e3a0",
   "metadata": {},
   "outputs": [
    {
     "data": {
      "text/plain": [
       "col1     int64\n",
       "col2     int64\n",
       "col3    object\n",
       "dtype: object"
      ]
     },
     "execution_count": 89,
     "metadata": {},
     "output_type": "execute_result"
    }
   ],
   "source": [
    "# Comprobar el tipo de dato de cada columna\n",
    "df.dtypes"
   ]
  },
  {
   "cell_type": "markdown",
   "id": "58a7220b",
   "metadata": {},
   "source": [
    "#### Otros métodos útiles de DataFrames:\n",
    "\n",
    "La tabla a continuación presenta algunos de los métodos más comunes a la hora de analizar valores de un DataFrame. Métodos como el head/tail/sample nos permiten ver rápidamente cómo es la estructura del dataframe, mientras que los demás nos dan una perspectiva rápida de cómo se comportan los datos frente a los estadísticos más comunes utilizados en la práctica, como la media, mediana, etc.\n",
    "\n",
    "| Método              | Descripción                                                 |\n",
    "|---------------------|-------------------------------------------------------------|\n",
    "| .head(N)            | Ver primeras N filas                                        |\n",
    "| .tail(N)            | Ver últimas N filas                                         |\n",
    "| .describe()         | Genera estadísticas descriptivas                            |\n",
    "| .max / .min()       | Devuelve el valor máximo / mínimo de las columnas numéricas |\n",
    "| .mean() / .median() | Devuelve la media / mediana de las columnas numéricas       |\n",
    "| .std()              | Devuelve la desviación típica de las columnas numéricas     |\n",
    "| .sample(N)          | Devuelve una muestra de N registros del DataFrame           |\n",
    "| .dropna()           | Elimina los registros que tengan valores nulos              |"
   ]
  },
  {
   "cell_type": "markdown",
   "id": "2b8d0555",
   "metadata": {},
   "source": [
    "### Otras operaciones clave en los DataFrames"
   ]
  },
  {
   "cell_type": "markdown",
   "id": "257b3eec",
   "metadata": {},
   "source": [
    "#### Filtrado\n",
    "\n",
    "El filtrado es la operación más común que utilizaremos en nuestro trabajo. Se basa en conservar **únicamente** aquellos valores del DataFrame que **cumplen cierta condición**. Por ejemplo, queremos aquellos platos cuyo precio es mayor a 18.\n",
    "\n",
    "Podemos utilizar cualquier operador booleano para crear subconjuntos de datos: mayor >, menor <, mayor o igual >=,menor o igual <=, igual ==, distinto !=\n"
   ]
  },
  {
   "cell_type": "code",
   "execution_count": 90,
   "id": "bf343170",
   "metadata": {},
   "outputs": [
    {
     "data": {
      "text/html": [
       "<div>\n",
       "<style scoped>\n",
       "    .dataframe tbody tr th:only-of-type {\n",
       "        vertical-align: middle;\n",
       "    }\n",
       "\n",
       "    .dataframe tbody tr th {\n",
       "        vertical-align: top;\n",
       "    }\n",
       "\n",
       "    .dataframe thead th {\n",
       "        text-align: right;\n",
       "    }\n",
       "</style>\n",
       "<table border=\"1\" class=\"dataframe\">\n",
       "  <thead>\n",
       "    <tr style=\"text-align: right;\">\n",
       "      <th></th>\n",
       "      <th>ID</th>\n",
       "      <th>income</th>\n",
       "      <th>age</th>\n",
       "      <th>gender</th>\n",
       "      <th>education_level</th>\n",
       "    </tr>\n",
       "  </thead>\n",
       "  <tbody>\n",
       "    <tr>\n",
       "      <th>0</th>\n",
       "      <td>12182</td>\n",
       "      <td>86519.608537</td>\n",
       "      <td>45</td>\n",
       "      <td>M</td>\n",
       "      <td>2.0</td>\n",
       "    </tr>\n",
       "    <tr>\n",
       "      <th>1</th>\n",
       "      <td>81213</td>\n",
       "      <td>83085.864980</td>\n",
       "      <td>30</td>\n",
       "      <td>M</td>\n",
       "      <td>2.0</td>\n",
       "    </tr>\n",
       "    <tr>\n",
       "      <th>2</th>\n",
       "      <td>1996</td>\n",
       "      <td>82606.214973</td>\n",
       "      <td>22</td>\n",
       "      <td>M</td>\n",
       "      <td>2.0</td>\n",
       "    </tr>\n",
       "    <tr>\n",
       "      <th>3</th>\n",
       "      <td>9366</td>\n",
       "      <td>81551.229988</td>\n",
       "      <td>36</td>\n",
       "      <td>M</td>\n",
       "      <td>2.0</td>\n",
       "    </tr>\n",
       "    <tr>\n",
       "      <th>4</th>\n",
       "      <td>9733</td>\n",
       "      <td>79593.253224</td>\n",
       "      <td>51</td>\n",
       "      <td>M</td>\n",
       "      <td>1.0</td>\n",
       "    </tr>\n",
       "  </tbody>\n",
       "</table>\n",
       "</div>"
      ],
      "text/plain": [
       "      ID        income  age gender  education_level\n",
       "0  12182  86519.608537   45      M              2.0\n",
       "1  81213  83085.864980   30      M              2.0\n",
       "2   1996  82606.214973   22      M              2.0\n",
       "3   9366  81551.229988   36      M              2.0\n",
       "4   9733  79593.253224   51      M              1.0"
      ]
     },
     "execution_count": 90,
     "metadata": {},
     "output_type": "execute_result"
    }
   ],
   "source": [
    "df_kaggle.head()"
   ]
  },
  {
   "cell_type": "markdown",
   "id": "ac0b8891",
   "metadata": {},
   "source": [
    "Vamos a filtrar el DataFrame que hemos leído de Kaggle para ver solamente aquellos que tengan solamente educación secundaria terminada (education_level = 2):"
   ]
  },
  {
   "cell_type": "code",
   "execution_count": 91,
   "id": "8ef68c68",
   "metadata": {},
   "outputs": [
    {
     "data": {
      "text/html": [
       "<div>\n",
       "<style scoped>\n",
       "    .dataframe tbody tr th:only-of-type {\n",
       "        vertical-align: middle;\n",
       "    }\n",
       "\n",
       "    .dataframe tbody tr th {\n",
       "        vertical-align: top;\n",
       "    }\n",
       "\n",
       "    .dataframe thead th {\n",
       "        text-align: right;\n",
       "    }\n",
       "</style>\n",
       "<table border=\"1\" class=\"dataframe\">\n",
       "  <thead>\n",
       "    <tr style=\"text-align: right;\">\n",
       "      <th></th>\n",
       "      <th>ID</th>\n",
       "      <th>income</th>\n",
       "      <th>age</th>\n",
       "      <th>gender</th>\n",
       "      <th>education_level</th>\n",
       "    </tr>\n",
       "  </thead>\n",
       "  <tbody>\n",
       "    <tr>\n",
       "      <th>0</th>\n",
       "      <td>12182</td>\n",
       "      <td>86519.608537</td>\n",
       "      <td>45</td>\n",
       "      <td>M</td>\n",
       "      <td>2.0</td>\n",
       "    </tr>\n",
       "    <tr>\n",
       "      <th>1</th>\n",
       "      <td>81213</td>\n",
       "      <td>83085.864980</td>\n",
       "      <td>30</td>\n",
       "      <td>M</td>\n",
       "      <td>2.0</td>\n",
       "    </tr>\n",
       "    <tr>\n",
       "      <th>2</th>\n",
       "      <td>1996</td>\n",
       "      <td>82606.214973</td>\n",
       "      <td>22</td>\n",
       "      <td>M</td>\n",
       "      <td>2.0</td>\n",
       "    </tr>\n",
       "    <tr>\n",
       "      <th>3</th>\n",
       "      <td>9366</td>\n",
       "      <td>81551.229988</td>\n",
       "      <td>36</td>\n",
       "      <td>M</td>\n",
       "      <td>2.0</td>\n",
       "    </tr>\n",
       "    <tr>\n",
       "      <th>8</th>\n",
       "      <td>56872</td>\n",
       "      <td>78211.307213</td>\n",
       "      <td>51</td>\n",
       "      <td>M</td>\n",
       "      <td>2.0</td>\n",
       "    </tr>\n",
       "    <tr>\n",
       "      <th>...</th>\n",
       "      <td>...</td>\n",
       "      <td>...</td>\n",
       "      <td>...</td>\n",
       "      <td>...</td>\n",
       "      <td>...</td>\n",
       "    </tr>\n",
       "    <tr>\n",
       "      <th>99974</th>\n",
       "      <td>80757</td>\n",
       "      <td>15000.000000</td>\n",
       "      <td>18</td>\n",
       "      <td>F</td>\n",
       "      <td>2.0</td>\n",
       "    </tr>\n",
       "    <tr>\n",
       "      <th>99976</th>\n",
       "      <td>7413</td>\n",
       "      <td>15000.000000</td>\n",
       "      <td>23</td>\n",
       "      <td>M</td>\n",
       "      <td>2.0</td>\n",
       "    </tr>\n",
       "    <tr>\n",
       "      <th>99982</th>\n",
       "      <td>18873</td>\n",
       "      <td>15000.000000</td>\n",
       "      <td>24</td>\n",
       "      <td>F</td>\n",
       "      <td>2.0</td>\n",
       "    </tr>\n",
       "    <tr>\n",
       "      <th>99994</th>\n",
       "      <td>58041</td>\n",
       "      <td>15000.000000</td>\n",
       "      <td>38</td>\n",
       "      <td>M</td>\n",
       "      <td>2.0</td>\n",
       "    </tr>\n",
       "    <tr>\n",
       "      <th>99998</th>\n",
       "      <td>92169</td>\n",
       "      <td>15000.000000</td>\n",
       "      <td>21</td>\n",
       "      <td>M</td>\n",
       "      <td>2.0</td>\n",
       "    </tr>\n",
       "  </tbody>\n",
       "</table>\n",
       "<p>41969 rows × 5 columns</p>\n",
       "</div>"
      ],
      "text/plain": [
       "          ID        income  age gender  education_level\n",
       "0      12182  86519.608537   45      M              2.0\n",
       "1      81213  83085.864980   30      M              2.0\n",
       "2       1996  82606.214973   22      M              2.0\n",
       "3       9366  81551.229988   36      M              2.0\n",
       "8      56872  78211.307213   51      M              2.0\n",
       "...      ...           ...  ...    ...              ...\n",
       "99974  80757  15000.000000   18      F              2.0\n",
       "99976   7413  15000.000000   23      M              2.0\n",
       "99982  18873  15000.000000   24      F              2.0\n",
       "99994  58041  15000.000000   38      M              2.0\n",
       "99998  92169  15000.000000   21      M              2.0\n",
       "\n",
       "[41969 rows x 5 columns]"
      ]
     },
     "execution_count": 91,
     "metadata": {},
     "output_type": "execute_result"
    }
   ],
   "source": [
    "df_filtrado = df_kaggle[df_kaggle['education_level'] == 2]\n",
    "df_filtrado"
   ]
  },
  {
   "cell_type": "markdown",
   "id": "038e0524",
   "metadata": {},
   "source": [
    "**EJERCICIO: Utilizando algunos de los metodos de estadística descriptiva de pandas:**\n",
    "\n",
    "Ahora podemos aprovechar este filtrado para realizar algunas operaciones de estadística que podrían interesarnos en la práctica. Calculemos:\n",
    "- Máximo sueldo\n",
    "- Mínimo sueldo\n",
    "- Sueldo medio\n",
    "- Sueldo mediano\n",
    "- Rango de edades (rango es valor máximo - valor mínimo)"
   ]
  },
  {
   "cell_type": "code",
   "execution_count": 92,
   "id": "f03a6330",
   "metadata": {},
   "outputs": [
    {
     "name": "stdout",
     "output_type": "stream",
     "text": [
      "El máximo sueldo es: $285342.4919699969\n",
      "El mínimo sueldo es: $15000.0\n",
      "El sueldo medio es de: $40540.06907112477\n",
      "El sueldo mediano es de: $40072.23863624918\n",
      "El rango de edades es de: 51 años\n"
     ]
    }
   ],
   "source": [
    "max_sueldo = df_filtrado['income'].max()\n",
    "min_sueldo = df_filtrado['income'].min()\n",
    "mean_sueldo = df_filtrado['income'].mean()\n",
    "median_sueldo = df_filtrado['income'].median()\n",
    "rango_edad = df_filtrado['age'].max() - df_filtrado['age'].min()\n",
    "\n",
    "print(f'El máximo sueldo es: ${max_sueldo}')\n",
    "print(f'El mínimo sueldo es: ${min_sueldo}')\n",
    "print(f'El sueldo medio es de: ${mean_sueldo}')\n",
    "print(f'El sueldo mediano es de: ${median_sueldo}')\n",
    "print(f'El rango de edades es de: {rango_edad} años')"
   ]
  },
  {
   "cell_type": "markdown",
   "id": "44b28186",
   "metadata": {},
   "source": [
    "Vamos a obtener estadísticos descriptivos sobre los valores. Veremos que el método .describe() proporciona valores por defecto sobre los valores numéricos. Podemos cambiar el scope de este método para que nos devuelva los estadísticos descriptivos más frecuentes en variables categóricas utilizando el argumento: include='object'"
   ]
  },
  {
   "cell_type": "code",
   "execution_count": 93,
   "id": "1cb40dda",
   "metadata": {},
   "outputs": [
    {
     "data": {
      "text/html": [
       "<div>\n",
       "<style scoped>\n",
       "    .dataframe tbody tr th:only-of-type {\n",
       "        vertical-align: middle;\n",
       "    }\n",
       "\n",
       "    .dataframe tbody tr th {\n",
       "        vertical-align: top;\n",
       "    }\n",
       "\n",
       "    .dataframe thead th {\n",
       "        text-align: right;\n",
       "    }\n",
       "</style>\n",
       "<table border=\"1\" class=\"dataframe\">\n",
       "  <thead>\n",
       "    <tr style=\"text-align: right;\">\n",
       "      <th></th>\n",
       "      <th>ID</th>\n",
       "      <th>income</th>\n",
       "      <th>age</th>\n",
       "      <th>education_level</th>\n",
       "    </tr>\n",
       "  </thead>\n",
       "  <tbody>\n",
       "    <tr>\n",
       "      <th>count</th>\n",
       "      <td>100000.000000</td>\n",
       "      <td>100000.000000</td>\n",
       "      <td>100000.000000</td>\n",
       "      <td>99569.000000</td>\n",
       "    </tr>\n",
       "    <tr>\n",
       "      <th>mean</th>\n",
       "      <td>49999.500000</td>\n",
       "      <td>40412.516471</td>\n",
       "      <td>32.971000</td>\n",
       "      <td>1.687594</td>\n",
       "    </tr>\n",
       "    <tr>\n",
       "      <th>std</th>\n",
       "      <td>28867.657797</td>\n",
       "      <td>10830.793058</td>\n",
       "      <td>9.395403</td>\n",
       "      <td>0.834609</td>\n",
       "    </tr>\n",
       "    <tr>\n",
       "      <th>min</th>\n",
       "      <td>0.000000</td>\n",
       "      <td>15000.000000</td>\n",
       "      <td>18.000000</td>\n",
       "      <td>0.000000</td>\n",
       "    </tr>\n",
       "    <tr>\n",
       "      <th>25%</th>\n",
       "      <td>24999.750000</td>\n",
       "      <td>33354.667673</td>\n",
       "      <td>26.000000</td>\n",
       "      <td>1.000000</td>\n",
       "    </tr>\n",
       "    <tr>\n",
       "      <th>50%</th>\n",
       "      <td>49999.500000</td>\n",
       "      <td>40097.697667</td>\n",
       "      <td>32.000000</td>\n",
       "      <td>2.000000</td>\n",
       "    </tr>\n",
       "    <tr>\n",
       "      <th>75%</th>\n",
       "      <td>74999.250000</td>\n",
       "      <td>46950.875508</td>\n",
       "      <td>38.000000</td>\n",
       "      <td>2.000000</td>\n",
       "    </tr>\n",
       "    <tr>\n",
       "      <th>max</th>\n",
       "      <td>99999.000000</td>\n",
       "      <td>285342.491970</td>\n",
       "      <td>69.000000</td>\n",
       "      <td>3.000000</td>\n",
       "    </tr>\n",
       "  </tbody>\n",
       "</table>\n",
       "</div>"
      ],
      "text/plain": [
       "                  ID         income            age  education_level\n",
       "count  100000.000000  100000.000000  100000.000000     99569.000000\n",
       "mean    49999.500000   40412.516471      32.971000         1.687594\n",
       "std     28867.657797   10830.793058       9.395403         0.834609\n",
       "min         0.000000   15000.000000      18.000000         0.000000\n",
       "25%     24999.750000   33354.667673      26.000000         1.000000\n",
       "50%     49999.500000   40097.697667      32.000000         2.000000\n",
       "75%     74999.250000   46950.875508      38.000000         2.000000\n",
       "max     99999.000000  285342.491970      69.000000         3.000000"
      ]
     },
     "execution_count": 93,
     "metadata": {},
     "output_type": "execute_result"
    }
   ],
   "source": [
    "df_kaggle.describe()"
   ]
  },
  {
   "cell_type": "code",
   "execution_count": 94,
   "id": "89d03185",
   "metadata": {},
   "outputs": [
    {
     "data": {
      "text/html": [
       "<div>\n",
       "<style scoped>\n",
       "    .dataframe tbody tr th:only-of-type {\n",
       "        vertical-align: middle;\n",
       "    }\n",
       "\n",
       "    .dataframe tbody tr th {\n",
       "        vertical-align: top;\n",
       "    }\n",
       "\n",
       "    .dataframe thead th {\n",
       "        text-align: right;\n",
       "    }\n",
       "</style>\n",
       "<table border=\"1\" class=\"dataframe\">\n",
       "  <thead>\n",
       "    <tr style=\"text-align: right;\">\n",
       "      <th></th>\n",
       "      <th>gender</th>\n",
       "    </tr>\n",
       "  </thead>\n",
       "  <tbody>\n",
       "    <tr>\n",
       "      <th>count</th>\n",
       "      <td>100000</td>\n",
       "    </tr>\n",
       "    <tr>\n",
       "      <th>unique</th>\n",
       "      <td>2</td>\n",
       "    </tr>\n",
       "    <tr>\n",
       "      <th>top</th>\n",
       "      <td>M</td>\n",
       "    </tr>\n",
       "    <tr>\n",
       "      <th>freq</th>\n",
       "      <td>50000</td>\n",
       "    </tr>\n",
       "  </tbody>\n",
       "</table>\n",
       "</div>"
      ],
      "text/plain": [
       "        gender\n",
       "count   100000\n",
       "unique       2\n",
       "top          M\n",
       "freq     50000"
      ]
     },
     "execution_count": 94,
     "metadata": {},
     "output_type": "execute_result"
    }
   ],
   "source": [
    "df_kaggle.describe(include='object')"
   ]
  },
  {
   "cell_type": "markdown",
   "id": "1a4703cc",
   "metadata": {},
   "source": [
    "#### Filtrado por operadores lógicos en pandas:\n",
    "\n",
    "Pandas introduce una forma diferente de trabajar con los operadores lógicos utilizando los caracteres: \n",
    "\n",
    "- & (AND)\n",
    "- | (OR)\n",
    "- ~ (NOT)\n",
    "\n",
    "Si queremos filtrar los sueldos mayores a 100K y el nivel educativo terciario o mayor terminado podemos utilizar el siguiente formato. Siempre se recomienda utilizar paréntesis entre cada condicional."
   ]
  },
  {
   "cell_type": "code",
   "execution_count": 95,
   "id": "37ee2290",
   "metadata": {},
   "outputs": [
    {
     "data": {
      "text/html": [
       "<div>\n",
       "<style scoped>\n",
       "    .dataframe tbody tr th:only-of-type {\n",
       "        vertical-align: middle;\n",
       "    }\n",
       "\n",
       "    .dataframe tbody tr th {\n",
       "        vertical-align: top;\n",
       "    }\n",
       "\n",
       "    .dataframe thead th {\n",
       "        text-align: right;\n",
       "    }\n",
       "</style>\n",
       "<table border=\"1\" class=\"dataframe\">\n",
       "  <thead>\n",
       "    <tr style=\"text-align: right;\">\n",
       "      <th></th>\n",
       "      <th>ID</th>\n",
       "      <th>income</th>\n",
       "      <th>age</th>\n",
       "      <th>gender</th>\n",
       "      <th>education_level</th>\n",
       "    </tr>\n",
       "  </thead>\n",
       "  <tbody>\n",
       "    <tr>\n",
       "      <th>83</th>\n",
       "      <td>45784</td>\n",
       "      <td>112068.498394</td>\n",
       "      <td>46</td>\n",
       "      <td>M</td>\n",
       "      <td>3.0</td>\n",
       "    </tr>\n",
       "    <tr>\n",
       "      <th>2217</th>\n",
       "      <td>7580</td>\n",
       "      <td>111059.672798</td>\n",
       "      <td>43</td>\n",
       "      <td>F</td>\n",
       "      <td>2.0</td>\n",
       "    </tr>\n",
       "    <tr>\n",
       "      <th>2639</th>\n",
       "      <td>50748</td>\n",
       "      <td>101937.229252</td>\n",
       "      <td>44</td>\n",
       "      <td>F</td>\n",
       "      <td>3.0</td>\n",
       "    </tr>\n",
       "    <tr>\n",
       "      <th>4609</th>\n",
       "      <td>82832</td>\n",
       "      <td>104017.547953</td>\n",
       "      <td>49</td>\n",
       "      <td>M</td>\n",
       "      <td>2.0</td>\n",
       "    </tr>\n",
       "    <tr>\n",
       "      <th>5875</th>\n",
       "      <td>3116</td>\n",
       "      <td>106548.464433</td>\n",
       "      <td>47</td>\n",
       "      <td>F</td>\n",
       "      <td>3.0</td>\n",
       "    </tr>\n",
       "    <tr>\n",
       "      <th>...</th>\n",
       "      <td>...</td>\n",
       "      <td>...</td>\n",
       "      <td>...</td>\n",
       "      <td>...</td>\n",
       "      <td>...</td>\n",
       "    </tr>\n",
       "    <tr>\n",
       "      <th>90210</th>\n",
       "      <td>2617</td>\n",
       "      <td>106168.331983</td>\n",
       "      <td>41</td>\n",
       "      <td>M</td>\n",
       "      <td>3.0</td>\n",
       "    </tr>\n",
       "    <tr>\n",
       "      <th>90600</th>\n",
       "      <td>13454</td>\n",
       "      <td>104165.978008</td>\n",
       "      <td>46</td>\n",
       "      <td>F</td>\n",
       "      <td>2.0</td>\n",
       "    </tr>\n",
       "    <tr>\n",
       "      <th>91612</th>\n",
       "      <td>65505</td>\n",
       "      <td>104182.731570</td>\n",
       "      <td>45</td>\n",
       "      <td>F</td>\n",
       "      <td>3.0</td>\n",
       "    </tr>\n",
       "    <tr>\n",
       "      <th>91925</th>\n",
       "      <td>156</td>\n",
       "      <td>103214.882829</td>\n",
       "      <td>49</td>\n",
       "      <td>M</td>\n",
       "      <td>2.0</td>\n",
       "    </tr>\n",
       "    <tr>\n",
       "      <th>93363</th>\n",
       "      <td>59216</td>\n",
       "      <td>105460.930397</td>\n",
       "      <td>49</td>\n",
       "      <td>F</td>\n",
       "      <td>3.0</td>\n",
       "    </tr>\n",
       "  </tbody>\n",
       "</table>\n",
       "<p>62 rows × 5 columns</p>\n",
       "</div>"
      ],
      "text/plain": [
       "          ID         income  age gender  education_level\n",
       "83     45784  112068.498394   46      M              3.0\n",
       "2217    7580  111059.672798   43      F              2.0\n",
       "2639   50748  101937.229252   44      F              3.0\n",
       "4609   82832  104017.547953   49      M              2.0\n",
       "5875    3116  106548.464433   47      F              3.0\n",
       "...      ...            ...  ...    ...              ...\n",
       "90210   2617  106168.331983   41      M              3.0\n",
       "90600  13454  104165.978008   46      F              2.0\n",
       "91612  65505  104182.731570   45      F              3.0\n",
       "91925    156  103214.882829   49      M              2.0\n",
       "93363  59216  105460.930397   49      F              3.0\n",
       "\n",
       "[62 rows x 5 columns]"
      ]
     },
     "execution_count": 95,
     "metadata": {},
     "output_type": "execute_result"
    }
   ],
   "source": [
    "df_kaggle[(df_kaggle['income'] > 100000) & (df_kaggle['education_level'] >= 2)]"
   ]
  },
  {
   "cell_type": "markdown",
   "id": "9e929179",
   "metadata": {},
   "source": [
    "Si queremos obtener todos aquellos que no tengan estudios de posgrado, debemos seleccionar aquellos cuyo nivel educativo sea distinto de 3, o podemos seleccionar todos los que su nivel educativo sea 3 y usar el **~ (NOT)** para obtener el contrario:"
   ]
  },
  {
   "cell_type": "code",
   "execution_count": 96,
   "id": "2907b3dc",
   "metadata": {},
   "outputs": [
    {
     "data": {
      "text/html": [
       "<div>\n",
       "<style scoped>\n",
       "    .dataframe tbody tr th:only-of-type {\n",
       "        vertical-align: middle;\n",
       "    }\n",
       "\n",
       "    .dataframe tbody tr th {\n",
       "        vertical-align: top;\n",
       "    }\n",
       "\n",
       "    .dataframe thead th {\n",
       "        text-align: right;\n",
       "    }\n",
       "</style>\n",
       "<table border=\"1\" class=\"dataframe\">\n",
       "  <thead>\n",
       "    <tr style=\"text-align: right;\">\n",
       "      <th></th>\n",
       "      <th>ID</th>\n",
       "      <th>income</th>\n",
       "      <th>age</th>\n",
       "      <th>gender</th>\n",
       "      <th>education_level</th>\n",
       "    </tr>\n",
       "  </thead>\n",
       "  <tbody>\n",
       "    <tr>\n",
       "      <th>0</th>\n",
       "      <td>12182</td>\n",
       "      <td>86519.608537</td>\n",
       "      <td>45</td>\n",
       "      <td>M</td>\n",
       "      <td>2.0</td>\n",
       "    </tr>\n",
       "    <tr>\n",
       "      <th>1</th>\n",
       "      <td>81213</td>\n",
       "      <td>83085.864980</td>\n",
       "      <td>30</td>\n",
       "      <td>M</td>\n",
       "      <td>2.0</td>\n",
       "    </tr>\n",
       "    <tr>\n",
       "      <th>2</th>\n",
       "      <td>1996</td>\n",
       "      <td>82606.214973</td>\n",
       "      <td>22</td>\n",
       "      <td>M</td>\n",
       "      <td>2.0</td>\n",
       "    </tr>\n",
       "    <tr>\n",
       "      <th>3</th>\n",
       "      <td>9366</td>\n",
       "      <td>81551.229988</td>\n",
       "      <td>36</td>\n",
       "      <td>M</td>\n",
       "      <td>2.0</td>\n",
       "    </tr>\n",
       "    <tr>\n",
       "      <th>4</th>\n",
       "      <td>9733</td>\n",
       "      <td>79593.253224</td>\n",
       "      <td>51</td>\n",
       "      <td>M</td>\n",
       "      <td>1.0</td>\n",
       "    </tr>\n",
       "  </tbody>\n",
       "</table>\n",
       "</div>"
      ],
      "text/plain": [
       "      ID        income  age gender  education_level\n",
       "0  12182  86519.608537   45      M              2.0\n",
       "1  81213  83085.864980   30      M              2.0\n",
       "2   1996  82606.214973   22      M              2.0\n",
       "3   9366  81551.229988   36      M              2.0\n",
       "4   9733  79593.253224   51      M              1.0"
      ]
     },
     "execution_count": 96,
     "metadata": {},
     "output_type": "execute_result"
    }
   ],
   "source": [
    "no_posgrados = df_kaggle[~(df_kaggle['education_level'] == 3)]\n",
    "no_posgrados.head()"
   ]
  },
  {
   "cell_type": "markdown",
   "id": "59bef7e9",
   "metadata": {},
   "source": [
    "Verifiquemos que realmente hemos obtenido solamente los no terciarios:"
   ]
  },
  {
   "cell_type": "code",
   "execution_count": 97,
   "id": "73c616d3",
   "metadata": {},
   "outputs": [
    {
     "data": {
      "text/plain": [
       "2.0    41969\n",
       "1.0    33616\n",
       "0.0     7158\n",
       "Name: education_level, dtype: int64"
      ]
     },
     "execution_count": 97,
     "metadata": {},
     "output_type": "execute_result"
    }
   ],
   "source": [
    "no_posgrados['education_level'].value_counts()"
   ]
  },
  {
   "cell_type": "markdown",
   "id": "a17666f2",
   "metadata": {},
   "source": [
    "#### Selección de filas:\n",
    "\n",
    "Si necesitamos un rango de filas, podemos especificarlo respecto a su índice utilizando los dos puntos \":\" (semicolon en inglés). Seleccionemos las filas que van desde el índice 10 al 19:"
   ]
  },
  {
   "cell_type": "code",
   "execution_count": 98,
   "id": "7a13a2fe",
   "metadata": {},
   "outputs": [
    {
     "data": {
      "text/html": [
       "<div>\n",
       "<style scoped>\n",
       "    .dataframe tbody tr th:only-of-type {\n",
       "        vertical-align: middle;\n",
       "    }\n",
       "\n",
       "    .dataframe tbody tr th {\n",
       "        vertical-align: top;\n",
       "    }\n",
       "\n",
       "    .dataframe thead th {\n",
       "        text-align: right;\n",
       "    }\n",
       "</style>\n",
       "<table border=\"1\" class=\"dataframe\">\n",
       "  <thead>\n",
       "    <tr style=\"text-align: right;\">\n",
       "      <th></th>\n",
       "      <th>ID</th>\n",
       "      <th>income</th>\n",
       "      <th>age</th>\n",
       "      <th>gender</th>\n",
       "      <th>education_level</th>\n",
       "    </tr>\n",
       "  </thead>\n",
       "  <tbody>\n",
       "    <tr>\n",
       "      <th>10</th>\n",
       "      <td>65033</td>\n",
       "      <td>77667.280990</td>\n",
       "      <td>33</td>\n",
       "      <td>M</td>\n",
       "      <td>3.0</td>\n",
       "    </tr>\n",
       "    <tr>\n",
       "      <th>11</th>\n",
       "      <td>23777</td>\n",
       "      <td>77553.401424</td>\n",
       "      <td>33</td>\n",
       "      <td>M</td>\n",
       "      <td>2.0</td>\n",
       "    </tr>\n",
       "    <tr>\n",
       "      <th>12</th>\n",
       "      <td>15177</td>\n",
       "      <td>77135.114046</td>\n",
       "      <td>45</td>\n",
       "      <td>F</td>\n",
       "      <td>1.0</td>\n",
       "    </tr>\n",
       "    <tr>\n",
       "      <th>13</th>\n",
       "      <td>65024</td>\n",
       "      <td>77075.995523</td>\n",
       "      <td>55</td>\n",
       "      <td>M</td>\n",
       "      <td>2.0</td>\n",
       "    </tr>\n",
       "    <tr>\n",
       "      <th>14</th>\n",
       "      <td>48887</td>\n",
       "      <td>76524.868206</td>\n",
       "      <td>34</td>\n",
       "      <td>M</td>\n",
       "      <td>1.0</td>\n",
       "    </tr>\n",
       "    <tr>\n",
       "      <th>15</th>\n",
       "      <td>17233</td>\n",
       "      <td>76393.523034</td>\n",
       "      <td>36</td>\n",
       "      <td>F</td>\n",
       "      <td>2.0</td>\n",
       "    </tr>\n",
       "    <tr>\n",
       "      <th>16</th>\n",
       "      <td>94613</td>\n",
       "      <td>75989.722195</td>\n",
       "      <td>30</td>\n",
       "      <td>F</td>\n",
       "      <td>2.0</td>\n",
       "    </tr>\n",
       "    <tr>\n",
       "      <th>17</th>\n",
       "      <td>96440</td>\n",
       "      <td>75894.807643</td>\n",
       "      <td>40</td>\n",
       "      <td>M</td>\n",
       "      <td>2.0</td>\n",
       "    </tr>\n",
       "    <tr>\n",
       "      <th>18</th>\n",
       "      <td>39513</td>\n",
       "      <td>75769.315870</td>\n",
       "      <td>30</td>\n",
       "      <td>F</td>\n",
       "      <td>2.0</td>\n",
       "    </tr>\n",
       "    <tr>\n",
       "      <th>19</th>\n",
       "      <td>95263</td>\n",
       "      <td>75730.420204</td>\n",
       "      <td>40</td>\n",
       "      <td>F</td>\n",
       "      <td>2.0</td>\n",
       "    </tr>\n",
       "  </tbody>\n",
       "</table>\n",
       "</div>"
      ],
      "text/plain": [
       "       ID        income  age gender  education_level\n",
       "10  65033  77667.280990   33      M              3.0\n",
       "11  23777  77553.401424   33      M              2.0\n",
       "12  15177  77135.114046   45      F              1.0\n",
       "13  65024  77075.995523   55      M              2.0\n",
       "14  48887  76524.868206   34      M              1.0\n",
       "15  17233  76393.523034   36      F              2.0\n",
       "16  94613  75989.722195   30      F              2.0\n",
       "17  96440  75894.807643   40      M              2.0\n",
       "18  39513  75769.315870   30      F              2.0\n",
       "19  95263  75730.420204   40      F              2.0"
      ]
     },
     "execution_count": 98,
     "metadata": {},
     "output_type": "execute_result"
    }
   ],
   "source": [
    "df_kaggle[10:20]"
   ]
  },
  {
   "cell_type": "markdown",
   "id": "ac8ac214",
   "metadata": {},
   "source": [
    "Ver que el \"slice\" que definimos del DataFrame está **indexado de forma similar a las listas** de Python que vimos antes. El df_kaggle partido tiene 10 elementos, que van desde el primero que indicamos (el 10) hasta el último valor **antes** del último que indicamos (el 20)."
   ]
  },
  {
   "cell_type": "markdown",
   "id": "701f7ec4",
   "metadata": {},
   "source": [
    "#### Selección de filas por índice y columna:\n",
    "\n",
    "Pandas tiene tres métodos para filtrar por condiciones, índices y filas. El primero, que ya vimos es el filtrado convencional. Per Pandas también provee dos métodos más para realizar filtrados de DataFrames por índices y columnas:\n",
    "- El método **.loc[ ]**. Éste permite \"localizar\" elementos en el DataFrame por índices (o condiciones) en las filas, y por nombres de columnas (o condiciones) en las columnas.\n",
    "\n",
    "- El método **iloc[ ]**. Éste permite \"localizar\" elementos por índices de fila y columna"
   ]
  },
  {
   "cell_type": "code",
   "execution_count": 99,
   "id": "cb368f07",
   "metadata": {},
   "outputs": [
    {
     "data": {
      "text/html": [
       "<div>\n",
       "<style scoped>\n",
       "    .dataframe tbody tr th:only-of-type {\n",
       "        vertical-align: middle;\n",
       "    }\n",
       "\n",
       "    .dataframe tbody tr th {\n",
       "        vertical-align: top;\n",
       "    }\n",
       "\n",
       "    .dataframe thead th {\n",
       "        text-align: right;\n",
       "    }\n",
       "</style>\n",
       "<table border=\"1\" class=\"dataframe\">\n",
       "  <thead>\n",
       "    <tr style=\"text-align: right;\">\n",
       "      <th></th>\n",
       "      <th>ID</th>\n",
       "      <th>income</th>\n",
       "    </tr>\n",
       "  </thead>\n",
       "  <tbody>\n",
       "    <tr>\n",
       "      <th>10</th>\n",
       "      <td>65033</td>\n",
       "      <td>77667.280990</td>\n",
       "    </tr>\n",
       "    <tr>\n",
       "      <th>11</th>\n",
       "      <td>23777</td>\n",
       "      <td>77553.401424</td>\n",
       "    </tr>\n",
       "    <tr>\n",
       "      <th>12</th>\n",
       "      <td>15177</td>\n",
       "      <td>77135.114046</td>\n",
       "    </tr>\n",
       "    <tr>\n",
       "      <th>13</th>\n",
       "      <td>65024</td>\n",
       "      <td>77075.995523</td>\n",
       "    </tr>\n",
       "    <tr>\n",
       "      <th>14</th>\n",
       "      <td>48887</td>\n",
       "      <td>76524.868206</td>\n",
       "    </tr>\n",
       "    <tr>\n",
       "      <th>15</th>\n",
       "      <td>17233</td>\n",
       "      <td>76393.523034</td>\n",
       "    </tr>\n",
       "    <tr>\n",
       "      <th>16</th>\n",
       "      <td>94613</td>\n",
       "      <td>75989.722195</td>\n",
       "    </tr>\n",
       "    <tr>\n",
       "      <th>17</th>\n",
       "      <td>96440</td>\n",
       "      <td>75894.807643</td>\n",
       "    </tr>\n",
       "    <tr>\n",
       "      <th>18</th>\n",
       "      <td>39513</td>\n",
       "      <td>75769.315870</td>\n",
       "    </tr>\n",
       "    <tr>\n",
       "      <th>19</th>\n",
       "      <td>95263</td>\n",
       "      <td>75730.420204</td>\n",
       "    </tr>\n",
       "    <tr>\n",
       "      <th>20</th>\n",
       "      <td>81152</td>\n",
       "      <td>75596.010349</td>\n",
       "    </tr>\n",
       "  </tbody>\n",
       "</table>\n",
       "</div>"
      ],
      "text/plain": [
       "       ID        income\n",
       "10  65033  77667.280990\n",
       "11  23777  77553.401424\n",
       "12  15177  77135.114046\n",
       "13  65024  77075.995523\n",
       "14  48887  76524.868206\n",
       "15  17233  76393.523034\n",
       "16  94613  75989.722195\n",
       "17  96440  75894.807643\n",
       "18  39513  75769.315870\n",
       "19  95263  75730.420204\n",
       "20  81152  75596.010349"
      ]
     },
     "execution_count": 99,
     "metadata": {},
     "output_type": "execute_result"
    }
   ],
   "source": [
    "df_kaggle.loc[10:20, ['ID', 'income']]"
   ]
  },
  {
   "cell_type": "code",
   "execution_count": 100,
   "id": "9bb3cc08",
   "metadata": {},
   "outputs": [
    {
     "data": {
      "text/html": [
       "<div>\n",
       "<style scoped>\n",
       "    .dataframe tbody tr th:only-of-type {\n",
       "        vertical-align: middle;\n",
       "    }\n",
       "\n",
       "    .dataframe tbody tr th {\n",
       "        vertical-align: top;\n",
       "    }\n",
       "\n",
       "    .dataframe thead th {\n",
       "        text-align: right;\n",
       "    }\n",
       "</style>\n",
       "<table border=\"1\" class=\"dataframe\">\n",
       "  <thead>\n",
       "    <tr style=\"text-align: right;\">\n",
       "      <th></th>\n",
       "      <th>ID</th>\n",
       "      <th>age</th>\n",
       "    </tr>\n",
       "  </thead>\n",
       "  <tbody>\n",
       "    <tr>\n",
       "      <th>10</th>\n",
       "      <td>65033</td>\n",
       "      <td>33</td>\n",
       "    </tr>\n",
       "    <tr>\n",
       "      <th>11</th>\n",
       "      <td>23777</td>\n",
       "      <td>33</td>\n",
       "    </tr>\n",
       "    <tr>\n",
       "      <th>12</th>\n",
       "      <td>15177</td>\n",
       "      <td>45</td>\n",
       "    </tr>\n",
       "    <tr>\n",
       "      <th>13</th>\n",
       "      <td>65024</td>\n",
       "      <td>55</td>\n",
       "    </tr>\n",
       "    <tr>\n",
       "      <th>14</th>\n",
       "      <td>48887</td>\n",
       "      <td>34</td>\n",
       "    </tr>\n",
       "    <tr>\n",
       "      <th>15</th>\n",
       "      <td>17233</td>\n",
       "      <td>36</td>\n",
       "    </tr>\n",
       "    <tr>\n",
       "      <th>16</th>\n",
       "      <td>94613</td>\n",
       "      <td>30</td>\n",
       "    </tr>\n",
       "    <tr>\n",
       "      <th>17</th>\n",
       "      <td>96440</td>\n",
       "      <td>40</td>\n",
       "    </tr>\n",
       "    <tr>\n",
       "      <th>18</th>\n",
       "      <td>39513</td>\n",
       "      <td>30</td>\n",
       "    </tr>\n",
       "    <tr>\n",
       "      <th>19</th>\n",
       "      <td>95263</td>\n",
       "      <td>40</td>\n",
       "    </tr>\n",
       "  </tbody>\n",
       "</table>\n",
       "</div>"
      ],
      "text/plain": [
       "       ID  age\n",
       "10  65033   33\n",
       "11  23777   33\n",
       "12  15177   45\n",
       "13  65024   55\n",
       "14  48887   34\n",
       "15  17233   36\n",
       "16  94613   30\n",
       "17  96440   40\n",
       "18  39513   30\n",
       "19  95263   40"
      ]
     },
     "execution_count": 100,
     "metadata": {},
     "output_type": "execute_result"
    }
   ],
   "source": [
    "df_kaggle.iloc[10:20, [0, 2]]"
   ]
  },
  {
   "cell_type": "markdown",
   "id": "2255f415",
   "metadata": {},
   "source": [
    "También podemos utilizar el método .loc para filtrar de la forma que vimos antes y seleccionar únicamente aquellas columnas que nos interesen. En el filtrado que vimos en la sección anterior, devolvíamos el DataFrame completo filtrado por aquellas personas que tenían únicamente educación secundaria completa. **¿Y si quisiéramos sólo el ingreso y el género de aquellas personas que cumplen esa condición?** --> Podemos hacerlo con el método **.loc[ ]**"
   ]
  },
  {
   "cell_type": "code",
   "execution_count": 101,
   "id": "209e3483",
   "metadata": {},
   "outputs": [
    {
     "data": {
      "text/html": [
       "<div>\n",
       "<style scoped>\n",
       "    .dataframe tbody tr th:only-of-type {\n",
       "        vertical-align: middle;\n",
       "    }\n",
       "\n",
       "    .dataframe tbody tr th {\n",
       "        vertical-align: top;\n",
       "    }\n",
       "\n",
       "    .dataframe thead th {\n",
       "        text-align: right;\n",
       "    }\n",
       "</style>\n",
       "<table border=\"1\" class=\"dataframe\">\n",
       "  <thead>\n",
       "    <tr style=\"text-align: right;\">\n",
       "      <th></th>\n",
       "      <th>ID</th>\n",
       "      <th>age</th>\n",
       "      <th>income</th>\n",
       "    </tr>\n",
       "  </thead>\n",
       "  <tbody>\n",
       "    <tr>\n",
       "      <th>0</th>\n",
       "      <td>12182</td>\n",
       "      <td>45</td>\n",
       "      <td>86519.608537</td>\n",
       "    </tr>\n",
       "    <tr>\n",
       "      <th>1</th>\n",
       "      <td>81213</td>\n",
       "      <td>30</td>\n",
       "      <td>83085.864980</td>\n",
       "    </tr>\n",
       "    <tr>\n",
       "      <th>2</th>\n",
       "      <td>1996</td>\n",
       "      <td>22</td>\n",
       "      <td>82606.214973</td>\n",
       "    </tr>\n",
       "    <tr>\n",
       "      <th>3</th>\n",
       "      <td>9366</td>\n",
       "      <td>36</td>\n",
       "      <td>81551.229988</td>\n",
       "    </tr>\n",
       "    <tr>\n",
       "      <th>8</th>\n",
       "      <td>56872</td>\n",
       "      <td>51</td>\n",
       "      <td>78211.307213</td>\n",
       "    </tr>\n",
       "    <tr>\n",
       "      <th>...</th>\n",
       "      <td>...</td>\n",
       "      <td>...</td>\n",
       "      <td>...</td>\n",
       "    </tr>\n",
       "    <tr>\n",
       "      <th>99974</th>\n",
       "      <td>80757</td>\n",
       "      <td>18</td>\n",
       "      <td>15000.000000</td>\n",
       "    </tr>\n",
       "    <tr>\n",
       "      <th>99976</th>\n",
       "      <td>7413</td>\n",
       "      <td>23</td>\n",
       "      <td>15000.000000</td>\n",
       "    </tr>\n",
       "    <tr>\n",
       "      <th>99982</th>\n",
       "      <td>18873</td>\n",
       "      <td>24</td>\n",
       "      <td>15000.000000</td>\n",
       "    </tr>\n",
       "    <tr>\n",
       "      <th>99994</th>\n",
       "      <td>58041</td>\n",
       "      <td>38</td>\n",
       "      <td>15000.000000</td>\n",
       "    </tr>\n",
       "    <tr>\n",
       "      <th>99998</th>\n",
       "      <td>92169</td>\n",
       "      <td>21</td>\n",
       "      <td>15000.000000</td>\n",
       "    </tr>\n",
       "  </tbody>\n",
       "</table>\n",
       "<p>41969 rows × 3 columns</p>\n",
       "</div>"
      ],
      "text/plain": [
       "          ID  age        income\n",
       "0      12182   45  86519.608537\n",
       "1      81213   30  83085.864980\n",
       "2       1996   22  82606.214973\n",
       "3       9366   36  81551.229988\n",
       "8      56872   51  78211.307213\n",
       "...      ...  ...           ...\n",
       "99974  80757   18  15000.000000\n",
       "99976   7413   23  15000.000000\n",
       "99982  18873   24  15000.000000\n",
       "99994  58041   38  15000.000000\n",
       "99998  92169   21  15000.000000\n",
       "\n",
       "[41969 rows x 3 columns]"
      ]
     },
     "execution_count": 101,
     "metadata": {},
     "output_type": "execute_result"
    }
   ],
   "source": [
    "df_kaggle.loc[df_kaggle['education_level'] == 2, ['ID', 'age', 'income']]"
   ]
  },
  {
   "cell_type": "markdown",
   "id": "7fde57e2",
   "metadata": {},
   "source": [
    "#### Ordenando valores:\n",
    "\n",
    "Podemos ordenar los valores de un DataFrame por su magnitud utilizando el método **.sort_values()**. El método permite pasar el nombre de una columna y un argumento llamado ascending que acepta valores booleanos (True/False). El método sort_values también acepta listas de elementos para ordenar (se ordenan por orden en que se encuentren en la lista) y también podemos pasar una lista que especifique qué tipo de ordenado (ascendente o descendente) queremos aplicar para cada uno."
   ]
  },
  {
   "cell_type": "code",
   "execution_count": 102,
   "id": "338f6683",
   "metadata": {},
   "outputs": [
    {
     "data": {
      "text/html": [
       "<div>\n",
       "<style scoped>\n",
       "    .dataframe tbody tr th:only-of-type {\n",
       "        vertical-align: middle;\n",
       "    }\n",
       "\n",
       "    .dataframe tbody tr th {\n",
       "        vertical-align: top;\n",
       "    }\n",
       "\n",
       "    .dataframe thead th {\n",
       "        text-align: right;\n",
       "    }\n",
       "</style>\n",
       "<table border=\"1\" class=\"dataframe\">\n",
       "  <thead>\n",
       "    <tr style=\"text-align: right;\">\n",
       "      <th></th>\n",
       "      <th>ID</th>\n",
       "      <th>income</th>\n",
       "      <th>age</th>\n",
       "      <th>gender</th>\n",
       "      <th>education_level</th>\n",
       "    </tr>\n",
       "  </thead>\n",
       "  <tbody>\n",
       "    <tr>\n",
       "      <th>99999</th>\n",
       "      <td>91145</td>\n",
       "      <td>15000.000000</td>\n",
       "      <td>27</td>\n",
       "      <td>M</td>\n",
       "      <td>0.0</td>\n",
       "    </tr>\n",
       "    <tr>\n",
       "      <th>99595</th>\n",
       "      <td>31414</td>\n",
       "      <td>15000.000000</td>\n",
       "      <td>29</td>\n",
       "      <td>M</td>\n",
       "      <td>0.0</td>\n",
       "    </tr>\n",
       "    <tr>\n",
       "      <th>99594</th>\n",
       "      <td>66945</td>\n",
       "      <td>15000.000000</td>\n",
       "      <td>29</td>\n",
       "      <td>M</td>\n",
       "      <td>2.0</td>\n",
       "    </tr>\n",
       "    <tr>\n",
       "      <th>99593</th>\n",
       "      <td>71904</td>\n",
       "      <td>15000.000000</td>\n",
       "      <td>27</td>\n",
       "      <td>F</td>\n",
       "      <td>1.0</td>\n",
       "    </tr>\n",
       "    <tr>\n",
       "      <th>99592</th>\n",
       "      <td>66931</td>\n",
       "      <td>15000.000000</td>\n",
       "      <td>27</td>\n",
       "      <td>M</td>\n",
       "      <td>1.0</td>\n",
       "    </tr>\n",
       "    <tr>\n",
       "      <th>...</th>\n",
       "      <td>...</td>\n",
       "      <td>...</td>\n",
       "      <td>...</td>\n",
       "      <td>...</td>\n",
       "      <td>...</td>\n",
       "    </tr>\n",
       "    <tr>\n",
       "      <th>21252</th>\n",
       "      <td>75961</td>\n",
       "      <td>181406.635439</td>\n",
       "      <td>67</td>\n",
       "      <td>F</td>\n",
       "      <td>2.0</td>\n",
       "    </tr>\n",
       "    <tr>\n",
       "      <th>32466</th>\n",
       "      <td>46089</td>\n",
       "      <td>182555.897397</td>\n",
       "      <td>69</td>\n",
       "      <td>M</td>\n",
       "      <td>1.0</td>\n",
       "    </tr>\n",
       "    <tr>\n",
       "      <th>59709</th>\n",
       "      <td>59148</td>\n",
       "      <td>187006.102853</td>\n",
       "      <td>52</td>\n",
       "      <td>M</td>\n",
       "      <td>3.0</td>\n",
       "    </tr>\n",
       "    <tr>\n",
       "      <th>27183</th>\n",
       "      <td>13330</td>\n",
       "      <td>195398.472324</td>\n",
       "      <td>60</td>\n",
       "      <td>F</td>\n",
       "      <td>2.0</td>\n",
       "    </tr>\n",
       "    <tr>\n",
       "      <th>6276</th>\n",
       "      <td>45694</td>\n",
       "      <td>285342.491970</td>\n",
       "      <td>69</td>\n",
       "      <td>F</td>\n",
       "      <td>2.0</td>\n",
       "    </tr>\n",
       "  </tbody>\n",
       "</table>\n",
       "<p>100000 rows × 5 columns</p>\n",
       "</div>"
      ],
      "text/plain": [
       "          ID         income  age gender  education_level\n",
       "99999  91145   15000.000000   27      M              0.0\n",
       "99595  31414   15000.000000   29      M              0.0\n",
       "99594  66945   15000.000000   29      M              2.0\n",
       "99593  71904   15000.000000   27      F              1.0\n",
       "99592  66931   15000.000000   27      M              1.0\n",
       "...      ...            ...  ...    ...              ...\n",
       "21252  75961  181406.635439   67      F              2.0\n",
       "32466  46089  182555.897397   69      M              1.0\n",
       "59709  59148  187006.102853   52      M              3.0\n",
       "27183  13330  195398.472324   60      F              2.0\n",
       "6276   45694  285342.491970   69      F              2.0\n",
       "\n",
       "[100000 rows x 5 columns]"
      ]
     },
     "execution_count": 102,
     "metadata": {},
     "output_type": "execute_result"
    }
   ],
   "source": [
    "df_kaggle.sort_values(by='income')"
   ]
  },
  {
   "cell_type": "code",
   "execution_count": 103,
   "id": "d4c940b0",
   "metadata": {},
   "outputs": [
    {
     "data": {
      "text/html": [
       "<div>\n",
       "<style scoped>\n",
       "    .dataframe tbody tr th:only-of-type {\n",
       "        vertical-align: middle;\n",
       "    }\n",
       "\n",
       "    .dataframe tbody tr th {\n",
       "        vertical-align: top;\n",
       "    }\n",
       "\n",
       "    .dataframe thead th {\n",
       "        text-align: right;\n",
       "    }\n",
       "</style>\n",
       "<table border=\"1\" class=\"dataframe\">\n",
       "  <thead>\n",
       "    <tr style=\"text-align: right;\">\n",
       "      <th></th>\n",
       "      <th>ID</th>\n",
       "      <th>income</th>\n",
       "      <th>age</th>\n",
       "      <th>gender</th>\n",
       "      <th>education_level</th>\n",
       "    </tr>\n",
       "  </thead>\n",
       "  <tbody>\n",
       "    <tr>\n",
       "      <th>6276</th>\n",
       "      <td>45694</td>\n",
       "      <td>285342.491970</td>\n",
       "      <td>69</td>\n",
       "      <td>F</td>\n",
       "      <td>2.0</td>\n",
       "    </tr>\n",
       "    <tr>\n",
       "      <th>27183</th>\n",
       "      <td>13330</td>\n",
       "      <td>195398.472324</td>\n",
       "      <td>60</td>\n",
       "      <td>F</td>\n",
       "      <td>2.0</td>\n",
       "    </tr>\n",
       "    <tr>\n",
       "      <th>59709</th>\n",
       "      <td>59148</td>\n",
       "      <td>187006.102853</td>\n",
       "      <td>52</td>\n",
       "      <td>M</td>\n",
       "      <td>3.0</td>\n",
       "    </tr>\n",
       "    <tr>\n",
       "      <th>32466</th>\n",
       "      <td>46089</td>\n",
       "      <td>182555.897397</td>\n",
       "      <td>69</td>\n",
       "      <td>M</td>\n",
       "      <td>1.0</td>\n",
       "    </tr>\n",
       "    <tr>\n",
       "      <th>21252</th>\n",
       "      <td>75961</td>\n",
       "      <td>181406.635439</td>\n",
       "      <td>67</td>\n",
       "      <td>F</td>\n",
       "      <td>2.0</td>\n",
       "    </tr>\n",
       "    <tr>\n",
       "      <th>...</th>\n",
       "      <td>...</td>\n",
       "      <td>...</td>\n",
       "      <td>...</td>\n",
       "      <td>...</td>\n",
       "      <td>...</td>\n",
       "    </tr>\n",
       "    <tr>\n",
       "      <th>99593</th>\n",
       "      <td>71904</td>\n",
       "      <td>15000.000000</td>\n",
       "      <td>27</td>\n",
       "      <td>F</td>\n",
       "      <td>1.0</td>\n",
       "    </tr>\n",
       "    <tr>\n",
       "      <th>99594</th>\n",
       "      <td>66945</td>\n",
       "      <td>15000.000000</td>\n",
       "      <td>29</td>\n",
       "      <td>M</td>\n",
       "      <td>2.0</td>\n",
       "    </tr>\n",
       "    <tr>\n",
       "      <th>99595</th>\n",
       "      <td>31414</td>\n",
       "      <td>15000.000000</td>\n",
       "      <td>29</td>\n",
       "      <td>M</td>\n",
       "      <td>0.0</td>\n",
       "    </tr>\n",
       "    <tr>\n",
       "      <th>99596</th>\n",
       "      <td>16323</td>\n",
       "      <td>15000.000000</td>\n",
       "      <td>32</td>\n",
       "      <td>M</td>\n",
       "      <td>0.0</td>\n",
       "    </tr>\n",
       "    <tr>\n",
       "      <th>99999</th>\n",
       "      <td>91145</td>\n",
       "      <td>15000.000000</td>\n",
       "      <td>27</td>\n",
       "      <td>M</td>\n",
       "      <td>0.0</td>\n",
       "    </tr>\n",
       "  </tbody>\n",
       "</table>\n",
       "<p>100000 rows × 5 columns</p>\n",
       "</div>"
      ],
      "text/plain": [
       "          ID         income  age gender  education_level\n",
       "6276   45694  285342.491970   69      F              2.0\n",
       "27183  13330  195398.472324   60      F              2.0\n",
       "59709  59148  187006.102853   52      M              3.0\n",
       "32466  46089  182555.897397   69      M              1.0\n",
       "21252  75961  181406.635439   67      F              2.0\n",
       "...      ...            ...  ...    ...              ...\n",
       "99593  71904   15000.000000   27      F              1.0\n",
       "99594  66945   15000.000000   29      M              2.0\n",
       "99595  31414   15000.000000   29      M              0.0\n",
       "99596  16323   15000.000000   32      M              0.0\n",
       "99999  91145   15000.000000   27      M              0.0\n",
       "\n",
       "[100000 rows x 5 columns]"
      ]
     },
     "execution_count": 103,
     "metadata": {},
     "output_type": "execute_result"
    }
   ],
   "source": [
    "df_kaggle.sort_values(by='income', ascending=False)"
   ]
  },
  {
   "cell_type": "code",
   "execution_count": 104,
   "id": "83921261",
   "metadata": {},
   "outputs": [
    {
     "data": {
      "text/html": [
       "<div>\n",
       "<style scoped>\n",
       "    .dataframe tbody tr th:only-of-type {\n",
       "        vertical-align: middle;\n",
       "    }\n",
       "\n",
       "    .dataframe tbody tr th {\n",
       "        vertical-align: top;\n",
       "    }\n",
       "\n",
       "    .dataframe thead th {\n",
       "        text-align: right;\n",
       "    }\n",
       "</style>\n",
       "<table border=\"1\" class=\"dataframe\">\n",
       "  <thead>\n",
       "    <tr style=\"text-align: right;\">\n",
       "      <th></th>\n",
       "      <th>ID</th>\n",
       "      <th>income</th>\n",
       "      <th>age</th>\n",
       "      <th>gender</th>\n",
       "      <th>education_level</th>\n",
       "    </tr>\n",
       "  </thead>\n",
       "  <tbody>\n",
       "    <tr>\n",
       "      <th>59709</th>\n",
       "      <td>59148</td>\n",
       "      <td>187006.102853</td>\n",
       "      <td>52</td>\n",
       "      <td>M</td>\n",
       "      <td>3.0</td>\n",
       "    </tr>\n",
       "    <tr>\n",
       "      <th>70887</th>\n",
       "      <td>52050</td>\n",
       "      <td>176440.674704</td>\n",
       "      <td>65</td>\n",
       "      <td>M</td>\n",
       "      <td>3.0</td>\n",
       "    </tr>\n",
       "    <tr>\n",
       "      <th>30239</th>\n",
       "      <td>21019</td>\n",
       "      <td>175191.287691</td>\n",
       "      <td>66</td>\n",
       "      <td>M</td>\n",
       "      <td>3.0</td>\n",
       "    </tr>\n",
       "    <tr>\n",
       "      <th>77469</th>\n",
       "      <td>85317</td>\n",
       "      <td>120549.973336</td>\n",
       "      <td>61</td>\n",
       "      <td>M</td>\n",
       "      <td>3.0</td>\n",
       "    </tr>\n",
       "    <tr>\n",
       "      <th>49432</th>\n",
       "      <td>86162</td>\n",
       "      <td>113882.477366</td>\n",
       "      <td>46</td>\n",
       "      <td>M</td>\n",
       "      <td>3.0</td>\n",
       "    </tr>\n",
       "    <tr>\n",
       "      <th>...</th>\n",
       "      <td>...</td>\n",
       "      <td>...</td>\n",
       "      <td>...</td>\n",
       "      <td>...</td>\n",
       "      <td>...</td>\n",
       "    </tr>\n",
       "    <tr>\n",
       "      <th>96940</th>\n",
       "      <td>33147</td>\n",
       "      <td>21337.276649</td>\n",
       "      <td>22</td>\n",
       "      <td>M</td>\n",
       "      <td>NaN</td>\n",
       "    </tr>\n",
       "    <tr>\n",
       "      <th>98002</th>\n",
       "      <td>88986</td>\n",
       "      <td>19468.840766</td>\n",
       "      <td>38</td>\n",
       "      <td>F</td>\n",
       "      <td>NaN</td>\n",
       "    </tr>\n",
       "    <tr>\n",
       "      <th>98039</th>\n",
       "      <td>72758</td>\n",
       "      <td>19397.574466</td>\n",
       "      <td>23</td>\n",
       "      <td>M</td>\n",
       "      <td>NaN</td>\n",
       "    </tr>\n",
       "    <tr>\n",
       "      <th>98932</th>\n",
       "      <td>37756</td>\n",
       "      <td>17020.649024</td>\n",
       "      <td>31</td>\n",
       "      <td>F</td>\n",
       "      <td>NaN</td>\n",
       "    </tr>\n",
       "    <tr>\n",
       "      <th>99043</th>\n",
       "      <td>98946</td>\n",
       "      <td>16609.859905</td>\n",
       "      <td>19</td>\n",
       "      <td>F</td>\n",
       "      <td>NaN</td>\n",
       "    </tr>\n",
       "  </tbody>\n",
       "</table>\n",
       "<p>100000 rows × 5 columns</p>\n",
       "</div>"
      ],
      "text/plain": [
       "          ID         income  age gender  education_level\n",
       "59709  59148  187006.102853   52      M              3.0\n",
       "70887  52050  176440.674704   65      M              3.0\n",
       "30239  21019  175191.287691   66      M              3.0\n",
       "77469  85317  120549.973336   61      M              3.0\n",
       "49432  86162  113882.477366   46      M              3.0\n",
       "...      ...            ...  ...    ...              ...\n",
       "96940  33147   21337.276649   22      M              NaN\n",
       "98002  88986   19468.840766   38      F              NaN\n",
       "98039  72758   19397.574466   23      M              NaN\n",
       "98932  37756   17020.649024   31      F              NaN\n",
       "99043  98946   16609.859905   19      F              NaN\n",
       "\n",
       "[100000 rows x 5 columns]"
      ]
     },
     "execution_count": 104,
     "metadata": {},
     "output_type": "execute_result"
    }
   ],
   "source": [
    "# Ordenamos por nivel de educación y ingresos ambos en forma descendente:\n",
    "df_kaggle.sort_values(by=['education_level', 'income'], ascending=[False, False])"
   ]
  },
  {
   "cell_type": "markdown",
   "id": "2b6ffcc7",
   "metadata": {},
   "source": [
    "# Estadística descriptiva en Pandas\n",
    "\n",
    "Como Pandas es una librería para manejo de datos tabulares, es razonable pensar que también tendrá formas de realizar cálculos estadísticos sobre los datos que manejemos. Pero antes de ver qué herramientas de estadística descriptiva tenemos disponibles en Pandas, debemos definir **qué es la estadística descriptiva y qué uso podemos darle en Ciencia de Datos**.\n",
    "\n",
    "La estadística es una **ciencia** que permite **cuantificar la incertidumbre** de nuestras predicciones, modelos y métodos. Nos permite entender mejor nuestros datos, poder dar valoraciones más precisas sobre su comportamiento y determinar qué tan seguros estamos de los resultados que presentamos.\n",
    "\n",
    "Pandas provee métodos para calcular las funciones de agregación clásicas sobre sus DataFrames."
   ]
  },
  {
   "cell_type": "markdown",
   "id": "ad8247bb",
   "metadata": {},
   "source": [
    "### Funciones de agregación:\n",
    " \n",
    "En la práctica muchas veces queremos mostrar resultados agrupados bajo ciertas categorías. Si tenemos un histórico de precios por producto podría interesarnos:\n",
    "\n",
    "- El precio medio histórico por producto\n",
    "- El máximo histórico del producto X\n",
    "- La desviación típica de los productos en los últimos 6 meses.\n",
    "\n",
    "Estas funciones en estadística se conocen como **funciones de agregación**. Su valor es que nos dan una **medida del comportamiento de una categoría bajo cierta unidad de medida que podemos elegir**.\n",
    "\n",
    "Pandas provee una forma muy sencilla de calcular estas funciones de agregación sobre nuestros DataFrames con la siguiente sintaxis:\n",
    "df**.groupby**(*[‘lista de columnas de las categorías que quiero agrupar’]*).**funcion_de_agregación()**\n",
    "\n",
    "Lista de funciones de agregación nativas de Pandas:\n",
    "- max()\n",
    "- min()\n",
    "- mean()\n",
    "- median()\n",
    "- std()\n",
    "- count()\n",
    "- size()\n",
    "- [hay más!](https://sparkbyexamples.com/pandas/pandas-aggregate-functions-with-examples/)\n",
    "\n",
    "Imaginemos que queremos calcular el sueldo promedio para cada uno de los niveles de educación. Para ellos tendríamos que \"filtrar\" el DataFrame por cada nivel de educación y luego calcular la media sobre esos resultados. El método **groupby** nos permite hacer eso mismo en una sola ejecución!"
   ]
  },
  {
   "cell_type": "code",
   "execution_count": 105,
   "id": "43d5f8b6",
   "metadata": {},
   "outputs": [
    {
     "name": "stderr",
     "output_type": "stream",
     "text": [
      "C:\\Users\\LUIGGI\\AppData\\Local\\Temp\\ipykernel_31320\\4275496929.py:1: FutureWarning: The default value of numeric_only in DataFrameGroupBy.mean is deprecated. In a future version, numeric_only will default to False. Either specify numeric_only or select only columns which should be valid for the function.\n",
      "  df_kaggle.groupby(['education_level']).mean()[['income']]\n"
     ]
    },
    {
     "data": {
      "text/html": [
       "<div>\n",
       "<style scoped>\n",
       "    .dataframe tbody tr th:only-of-type {\n",
       "        vertical-align: middle;\n",
       "    }\n",
       "\n",
       "    .dataframe tbody tr th {\n",
       "        vertical-align: top;\n",
       "    }\n",
       "\n",
       "    .dataframe thead th {\n",
       "        text-align: right;\n",
       "    }\n",
       "</style>\n",
       "<table border=\"1\" class=\"dataframe\">\n",
       "  <thead>\n",
       "    <tr style=\"text-align: right;\">\n",
       "      <th></th>\n",
       "      <th>income</th>\n",
       "    </tr>\n",
       "    <tr>\n",
       "      <th>education_level</th>\n",
       "      <th></th>\n",
       "    </tr>\n",
       "  </thead>\n",
       "  <tbody>\n",
       "    <tr>\n",
       "      <th>0.0</th>\n",
       "      <td>34177.745355</td>\n",
       "    </tr>\n",
       "    <tr>\n",
       "      <th>1.0</th>\n",
       "      <td>39369.589101</td>\n",
       "    </tr>\n",
       "    <tr>\n",
       "      <th>2.0</th>\n",
       "      <td>40540.069071</td>\n",
       "    </tr>\n",
       "    <tr>\n",
       "      <th>3.0</th>\n",
       "      <td>44859.626462</td>\n",
       "    </tr>\n",
       "  </tbody>\n",
       "</table>\n",
       "</div>"
      ],
      "text/plain": [
       "                       income\n",
       "education_level              \n",
       "0.0              34177.745355\n",
       "1.0              39369.589101\n",
       "2.0              40540.069071\n",
       "3.0              44859.626462"
      ]
     },
     "execution_count": 105,
     "metadata": {},
     "output_type": "execute_result"
    }
   ],
   "source": [
    "df_kaggle.groupby(['education_level']).mean()[['income']]"
   ]
  },
  {
   "cell_type": "markdown",
   "id": "fe97ceb6",
   "metadata": {},
   "source": [
    "Y si queremos ver el valor máximo para hombres y mujeres? Nuevamente, groupby nos permite hacerlo rápidamente..."
   ]
  },
  {
   "cell_type": "code",
   "execution_count": 106,
   "id": "f02e52ac",
   "metadata": {},
   "outputs": [
    {
     "data": {
      "text/html": [
       "<div>\n",
       "<style scoped>\n",
       "    .dataframe tbody tr th:only-of-type {\n",
       "        vertical-align: middle;\n",
       "    }\n",
       "\n",
       "    .dataframe tbody tr th {\n",
       "        vertical-align: top;\n",
       "    }\n",
       "\n",
       "    .dataframe thead th {\n",
       "        text-align: right;\n",
       "    }\n",
       "</style>\n",
       "<table border=\"1\" class=\"dataframe\">\n",
       "  <thead>\n",
       "    <tr style=\"text-align: right;\">\n",
       "      <th></th>\n",
       "      <th>income</th>\n",
       "    </tr>\n",
       "    <tr>\n",
       "      <th>gender</th>\n",
       "      <th></th>\n",
       "    </tr>\n",
       "  </thead>\n",
       "  <tbody>\n",
       "    <tr>\n",
       "      <th>F</th>\n",
       "      <td>285342.491970</td>\n",
       "    </tr>\n",
       "    <tr>\n",
       "      <th>M</th>\n",
       "      <td>187006.102853</td>\n",
       "    </tr>\n",
       "  </tbody>\n",
       "</table>\n",
       "</div>"
      ],
      "text/plain": [
       "               income\n",
       "gender               \n",
       "F       285342.491970\n",
       "M       187006.102853"
      ]
     },
     "execution_count": 106,
     "metadata": {},
     "output_type": "execute_result"
    }
   ],
   "source": [
    "df_kaggle.groupby(['gender']).max()[['income']]"
   ]
  },
  {
   "cell_type": "markdown",
   "id": "bb261bf4",
   "metadata": {},
   "source": [
    "### El método **.agg**\n",
    "\n",
    "A veces necesitamos aplicar más de un método de agregación a la vez o incluso un método de agregación personalizado. Para esto utilizamos el método .agg con la siguiente sintaxis:\n",
    "\n",
    "df*[[“columnas”, “que nos interesan”]]*.**agg([“funciones de”,  “agregación que”, “nos interesan”])**\n",
    "\n",
    "Por ejemplo, un caso muy habitual es querer ver la media de ingresos, pero también su desviación estándar y los valores máximo y mínimo para detectar valores anómalos. Hacemos esto mismo a continuación:"
   ]
  },
  {
   "cell_type": "code",
   "execution_count": 107,
   "id": "fbcfa9f3",
   "metadata": {},
   "outputs": [
    {
     "name": "stderr",
     "output_type": "stream",
     "text": [
      "C:\\Users\\LUIGGI\\AppData\\Local\\Temp\\ipykernel_31320\\2658046957.py:1: FutureWarning: ['gender'] did not aggregate successfully. If any error is raised this will raise in a future version of pandas. Drop these columns/ops to avoid this warning.\n",
      "  df_kaggle.groupby(['education_level']).agg(['mean', 'std', 'min', 'max'])[['income']]\n"
     ]
    },
    {
     "data": {
      "text/html": [
       "<div>\n",
       "<style scoped>\n",
       "    .dataframe tbody tr th:only-of-type {\n",
       "        vertical-align: middle;\n",
       "    }\n",
       "\n",
       "    .dataframe tbody tr th {\n",
       "        vertical-align: top;\n",
       "    }\n",
       "\n",
       "    .dataframe thead tr th {\n",
       "        text-align: left;\n",
       "    }\n",
       "\n",
       "    .dataframe thead tr:last-of-type th {\n",
       "        text-align: right;\n",
       "    }\n",
       "</style>\n",
       "<table border=\"1\" class=\"dataframe\">\n",
       "  <thead>\n",
       "    <tr>\n",
       "      <th></th>\n",
       "      <th colspan=\"4\" halign=\"left\">income</th>\n",
       "    </tr>\n",
       "    <tr>\n",
       "      <th></th>\n",
       "      <th>mean</th>\n",
       "      <th>std</th>\n",
       "      <th>min</th>\n",
       "      <th>max</th>\n",
       "    </tr>\n",
       "    <tr>\n",
       "      <th>education_level</th>\n",
       "      <th></th>\n",
       "      <th></th>\n",
       "      <th></th>\n",
       "      <th></th>\n",
       "    </tr>\n",
       "  </thead>\n",
       "  <tbody>\n",
       "    <tr>\n",
       "      <th>0.0</th>\n",
       "      <td>34177.745355</td>\n",
       "      <td>12360.921538</td>\n",
       "      <td>15000.0</td>\n",
       "      <td>83587.337748</td>\n",
       "    </tr>\n",
       "    <tr>\n",
       "      <th>1.0</th>\n",
       "      <td>39369.589101</td>\n",
       "      <td>10506.057304</td>\n",
       "      <td>15000.0</td>\n",
       "      <td>182555.897397</td>\n",
       "    </tr>\n",
       "    <tr>\n",
       "      <th>2.0</th>\n",
       "      <td>40540.069071</td>\n",
       "      <td>9801.800212</td>\n",
       "      <td>15000.0</td>\n",
       "      <td>285342.491970</td>\n",
       "    </tr>\n",
       "    <tr>\n",
       "      <th>3.0</th>\n",
       "      <td>44859.626462</td>\n",
       "      <td>11455.215360</td>\n",
       "      <td>15000.0</td>\n",
       "      <td>187006.102853</td>\n",
       "    </tr>\n",
       "  </tbody>\n",
       "</table>\n",
       "</div>"
      ],
      "text/plain": [
       "                       income                                      \n",
       "                         mean           std      min            max\n",
       "education_level                                                    \n",
       "0.0              34177.745355  12360.921538  15000.0   83587.337748\n",
       "1.0              39369.589101  10506.057304  15000.0  182555.897397\n",
       "2.0              40540.069071   9801.800212  15000.0  285342.491970\n",
       "3.0              44859.626462  11455.215360  15000.0  187006.102853"
      ]
     },
     "execution_count": 107,
     "metadata": {},
     "output_type": "execute_result"
    }
   ],
   "source": [
    "df_kaggle.groupby(['education_level']).agg(['mean', 'std', 'min', 'max'])[['income']]"
   ]
  },
  {
   "cell_type": "markdown",
   "id": "04419cb0",
   "metadata": {},
   "source": [
    "### El método para exportar bases de datos\n",
    "se utilisa el metodo **.to_excel(\"Nombre_archivo.xlsx\",index=False)** parar guardar una base en excel\n",
    "\n",
    "se utilisa el metodo **.to_csv(\"Nombre_archivo.csv\",index=False)** para guardar una base en csv\n",
    "\n",
    "se utilisa el metodo **.to_csv(\"Nombre_archivo.csv\",index=False , sep=\"|\")** para guardar una base en csv\n",
    "\n",
    "\n"
   ]
  },
  {
   "cell_type": "code",
   "execution_count": 108,
   "id": "a26765f1",
   "metadata": {},
   "outputs": [
    {
     "name": "stderr",
     "output_type": "stream",
     "text": [
      "C:\\Users\\LUIGGI\\AppData\\Local\\Temp\\ipykernel_31320\\3275872599.py:1: FutureWarning: ['gender'] did not aggregate successfully. If any error is raised this will raise in a future version of pandas. Drop these columns/ops to avoid this warning.\n",
      "  tmp = df_kaggle.groupby(['education_level']).agg(['mean', 'std', 'min', 'max'])[['income']]\n"
     ]
    }
   ],
   "source": [
    "tmp = df_kaggle.groupby(['education_level']).agg(['mean', 'std', 'min', 'max'])[['income']]\n",
    "tmp.to_csv(\"Sample.csv\")"
   ]
  },
  {
   "cell_type": "markdown",
   "id": "a1660654",
   "metadata": {},
   "source": [
    "### Como crear una nueva variable en el dataframe\n",
    "\n",
    "Para crear una nueva variable se realiza lo siguiente\n",
    "\n",
    "df[\"NOMBRE DE LA NUEVA VARIABLE\"] = \"VALOR DE LA VARIABLE\""
   ]
  },
  {
   "cell_type": "code",
   "execution_count": 113,
   "id": "e56f4969",
   "metadata": {},
   "outputs": [],
   "source": [
    "df_kaggle['Nueva_variable'] = df_kaggle['age'] /2"
   ]
  },
  {
   "cell_type": "markdown",
   "id": "2ca9153e",
   "metadata": {},
   "source": [
    "### El método Apply:\n",
    "\n",
    "El método apply aplica una función a cada uno de los elementos del DataFrame a través de un eje (filas o columnas). Es como si recorriéramos cada fila/columna y en cada paso ejecutáramos una operación (función) sobre dicha fila/columna."
   ]
  },
  {
   "cell_type": "code",
   "execution_count": 115,
   "id": "35ca6b41",
   "metadata": {},
   "outputs": [
    {
     "data": {
      "text/html": [
       "<div>\n",
       "<style scoped>\n",
       "    .dataframe tbody tr th:only-of-type {\n",
       "        vertical-align: middle;\n",
       "    }\n",
       "\n",
       "    .dataframe tbody tr th {\n",
       "        vertical-align: top;\n",
       "    }\n",
       "\n",
       "    .dataframe thead th {\n",
       "        text-align: right;\n",
       "    }\n",
       "</style>\n",
       "<table border=\"1\" class=\"dataframe\">\n",
       "  <thead>\n",
       "    <tr style=\"text-align: right;\">\n",
       "      <th></th>\n",
       "      <th>ID</th>\n",
       "      <th>income</th>\n",
       "      <th>age</th>\n",
       "      <th>gender</th>\n",
       "      <th>education_level</th>\n",
       "      <th>nueva_columna</th>\n",
       "    </tr>\n",
       "  </thead>\n",
       "  <tbody>\n",
       "    <tr>\n",
       "      <th>0</th>\n",
       "      <td>12182</td>\n",
       "      <td>86519.608537</td>\n",
       "      <td>45</td>\n",
       "      <td>M</td>\n",
       "      <td>2.0</td>\n",
       "      <td>indet.</td>\n",
       "    </tr>\n",
       "    <tr>\n",
       "      <th>1</th>\n",
       "      <td>81213</td>\n",
       "      <td>83085.864980</td>\n",
       "      <td>30</td>\n",
       "      <td>M</td>\n",
       "      <td>2.0</td>\n",
       "      <td>indet.</td>\n",
       "    </tr>\n",
       "    <tr>\n",
       "      <th>2</th>\n",
       "      <td>1996</td>\n",
       "      <td>82606.214973</td>\n",
       "      <td>22</td>\n",
       "      <td>M</td>\n",
       "      <td>2.0</td>\n",
       "      <td>indet.</td>\n",
       "    </tr>\n",
       "    <tr>\n",
       "      <th>3</th>\n",
       "      <td>9366</td>\n",
       "      <td>81551.229988</td>\n",
       "      <td>36</td>\n",
       "      <td>M</td>\n",
       "      <td>2.0</td>\n",
       "      <td>indet.</td>\n",
       "    </tr>\n",
       "    <tr>\n",
       "      <th>4</th>\n",
       "      <td>9733</td>\n",
       "      <td>79593.253224</td>\n",
       "      <td>51</td>\n",
       "      <td>M</td>\n",
       "      <td>1.0</td>\n",
       "      <td>indet.</td>\n",
       "    </tr>\n",
       "    <tr>\n",
       "      <th>...</th>\n",
       "      <td>...</td>\n",
       "      <td>...</td>\n",
       "      <td>...</td>\n",
       "      <td>...</td>\n",
       "      <td>...</td>\n",
       "      <td>...</td>\n",
       "    </tr>\n",
       "    <tr>\n",
       "      <th>99995</th>\n",
       "      <td>35271</td>\n",
       "      <td>15000.000000</td>\n",
       "      <td>38</td>\n",
       "      <td>M</td>\n",
       "      <td>1.0</td>\n",
       "      <td>indet.</td>\n",
       "    </tr>\n",
       "    <tr>\n",
       "      <th>99996</th>\n",
       "      <td>50709</td>\n",
       "      <td>15000.000000</td>\n",
       "      <td>20</td>\n",
       "      <td>M</td>\n",
       "      <td>0.0</td>\n",
       "      <td>indet.</td>\n",
       "    </tr>\n",
       "    <tr>\n",
       "      <th>99997</th>\n",
       "      <td>98689</td>\n",
       "      <td>15000.000000</td>\n",
       "      <td>32</td>\n",
       "      <td>F</td>\n",
       "      <td>0.0</td>\n",
       "      <td>indet.</td>\n",
       "    </tr>\n",
       "    <tr>\n",
       "      <th>99998</th>\n",
       "      <td>92169</td>\n",
       "      <td>15000.000000</td>\n",
       "      <td>21</td>\n",
       "      <td>M</td>\n",
       "      <td>2.0</td>\n",
       "      <td>indet.</td>\n",
       "    </tr>\n",
       "    <tr>\n",
       "      <th>99999</th>\n",
       "      <td>91145</td>\n",
       "      <td>15000.000000</td>\n",
       "      <td>27</td>\n",
       "      <td>M</td>\n",
       "      <td>0.0</td>\n",
       "      <td>indet.</td>\n",
       "    </tr>\n",
       "  </tbody>\n",
       "</table>\n",
       "<p>100000 rows × 6 columns</p>\n",
       "</div>"
      ],
      "text/plain": [
       "          ID        income  age gender  education_level nueva_columna\n",
       "0      12182  86519.608537   45      M              2.0        indet.\n",
       "1      81213  83085.864980   30      M              2.0        indet.\n",
       "2       1996  82606.214973   22      M              2.0        indet.\n",
       "3       9366  81551.229988   36      M              2.0        indet.\n",
       "4       9733  79593.253224   51      M              1.0        indet.\n",
       "...      ...           ...  ...    ...              ...           ...\n",
       "99995  35271  15000.000000   38      M              1.0        indet.\n",
       "99996  50709  15000.000000   20      M              0.0        indet.\n",
       "99997  98689  15000.000000   32      F              0.0        indet.\n",
       "99998  92169  15000.000000   21      M              2.0        indet.\n",
       "99999  91145  15000.000000   27      M              0.0        indet.\n",
       "\n",
       "[100000 rows x 6 columns]"
      ]
     },
     "execution_count": 115,
     "metadata": {},
     "output_type": "execute_result"
    }
   ],
   "source": [
    "def generar_f50k(fila):\n",
    "    genero = fila['gender']\n",
    "    sueldo = fila['income']\n",
    "    if ((genero == \"F\") and (sueldo > 50000)):\n",
    "        return 'F+50K'\n",
    "    else:\n",
    "        return 'indet.'\n",
    "    \n",
    "# Aplicamos la función a nuestro DataFrame:\n",
    "df_kaggle[\"nueva_columna\"] = df_kaggle.apply(generar_f50k, axis=1)\n",
    "df_kaggle"
   ]
  },
  {
   "cell_type": "markdown",
   "id": "c4a325bd",
   "metadata": {},
   "source": [
    "Si buscamos los valores del dataframe que en la nueva columna valen \"F+50K\" deberíamos encontrar personas de género femenino con ingresos mayores a 50K."
   ]
  },
  {
   "cell_type": "code",
   "execution_count": null,
   "id": "195fa55b",
   "metadata": {},
   "outputs": [],
   "source": [
    "df_kaggle[df_kaggle['nueva_columna'] == 'F+50K']"
   ]
  },
  {
   "cell_type": "markdown",
   "id": "f3e9ac15",
   "metadata": {},
   "source": [
    "### El método variables condicionales:\n",
    "\n",
    "si quiere realizar una nueva varibales utilizando condicionales se puede realizar de la siguiente manera:\n",
    "\n",
    "**df['Condicion_df'] = np.where(\"ESCRIBA LA CONDICION\", \"VALOR SI CUMPLE\",\"VALOR SI NO CUMPLE\")**"
   ]
  },
  {
   "cell_type": "code",
   "execution_count": 2,
   "id": "9b75bdf1",
   "metadata": {},
   "outputs": [
    {
     "ename": "NameError",
     "evalue": "name 'np' is not defined",
     "output_type": "error",
     "traceback": [
      "\u001b[1;31m---------------------------------------------------------------------------\u001b[0m",
      "\u001b[1;31mNameError\u001b[0m                                 Traceback (most recent call last)",
      "Cell \u001b[1;32mIn[2], line 1\u001b[0m\n\u001b[1;32m----> 1\u001b[0m percentile \u001b[38;5;241m=\u001b[39m \u001b[43mnp\u001b[49m\u001b[38;5;241m.\u001b[39mpercentile(df_kaggle[\u001b[38;5;124m'\u001b[39m\u001b[38;5;124mincome\u001b[39m\u001b[38;5;124m'\u001b[39m],\u001b[38;5;241m75\u001b[39m)\n",
      "\u001b[1;31mNameError\u001b[0m: name 'np' is not defined"
     ]
    }
   ],
   "source": [
    "percentile = np.percentile(df_kaggle['income'],75)"
   ]
  },
  {
   "cell_type": "code",
   "execution_count": 1,
   "id": "58566650",
   "metadata": {},
   "outputs": [
    {
     "ename": "NameError",
     "evalue": "name 'np' is not defined",
     "output_type": "error",
     "traceback": [
      "\u001b[1;31m---------------------------------------------------------------------------\u001b[0m",
      "\u001b[1;31mNameError\u001b[0m                                 Traceback (most recent call last)",
      "Cell \u001b[1;32mIn[1], line 1\u001b[0m\n\u001b[1;32m----> 1\u001b[0m df_kaggle[\u001b[38;5;124m'\u001b[39m\u001b[38;5;124mIngresos percentile 75\u001b[39m\u001b[38;5;124m%\u001b[39m\u001b[38;5;124m'\u001b[39m] \u001b[38;5;241m=\u001b[39m \u001b[43mnp\u001b[49m\u001b[38;5;241m.\u001b[39mwhere(df_kaggle[\u001b[38;5;124m'\u001b[39m\u001b[38;5;124mincome\u001b[39m\u001b[38;5;124m'\u001b[39m]\u001b[38;5;241m>\u001b[39mpercentile, \u001b[38;5;241m1\u001b[39m, \u001b[38;5;241m0\u001b[39m)\n",
      "\u001b[1;31mNameError\u001b[0m: name 'np' is not defined"
     ]
    }
   ],
   "source": [
    "df_kaggle['Ingresos percentile 75%'] = np.where(df_kaggle['income']>percentile, 1, 0)"
   ]
  },
  {
   "cell_type": "code",
   "execution_count": 120,
   "id": "cf0d2bbf",
   "metadata": {},
   "outputs": [],
   "source": [
    "df_kaggle['Ingresos percentile 75% Hombre target'] = np.where((df_kaggle['income']>percentile) & (df_kaggle['gender'] == \"M\"), 1, 0)"
   ]
  },
  {
   "cell_type": "code",
   "execution_count": 121,
   "id": "31bad68f",
   "metadata": {},
   "outputs": [],
   "source": [
    "#reto escriba un codigo donde marque con 1 aquellas mujeres que ganan mas del 90% del total de ingresos"
   ]
  },
  {
   "cell_type": "markdown",
   "id": "a256742b",
   "metadata": {},
   "source": [
    "# Union de DataFrames\n",
    "\n",
    "Si están familiarizados con el lenguaje de SQL, podrán ver similitudes entre algunas de las operaciones de unión entre DataFrames. Empezaremos por las operaciones más sencillas, hasta las más complejas.\n",
    "\n",
    "### Append:\n",
    "\n",
    "Añade una o más filas de un DataFrame a otro (similar al append de listas)."
   ]
  },
  {
   "cell_type": "code",
   "execution_count": 116,
   "id": "a7d4aa2b",
   "metadata": {},
   "outputs": [
    {
     "data": {
      "text/html": [
       "<div>\n",
       "<style scoped>\n",
       "    .dataframe tbody tr th:only-of-type {\n",
       "        vertical-align: middle;\n",
       "    }\n",
       "\n",
       "    .dataframe tbody tr th {\n",
       "        vertical-align: top;\n",
       "    }\n",
       "\n",
       "    .dataframe thead th {\n",
       "        text-align: right;\n",
       "    }\n",
       "</style>\n",
       "<table border=\"1\" class=\"dataframe\">\n",
       "  <thead>\n",
       "    <tr style=\"text-align: right;\">\n",
       "      <th></th>\n",
       "      <th>A</th>\n",
       "      <th>B</th>\n",
       "      <th>C</th>\n",
       "    </tr>\n",
       "  </thead>\n",
       "  <tbody>\n",
       "    <tr>\n",
       "      <th>0</th>\n",
       "      <td>1</td>\n",
       "      <td>10</td>\n",
       "      <td>A</td>\n",
       "    </tr>\n",
       "    <tr>\n",
       "      <th>1</th>\n",
       "      <td>2</td>\n",
       "      <td>20</td>\n",
       "      <td>B</td>\n",
       "    </tr>\n",
       "    <tr>\n",
       "      <th>2</th>\n",
       "      <td>3</td>\n",
       "      <td>30</td>\n",
       "      <td>C</td>\n",
       "    </tr>\n",
       "    <tr>\n",
       "      <th>3</th>\n",
       "      <td>4</td>\n",
       "      <td>40</td>\n",
       "      <td>D</td>\n",
       "    </tr>\n",
       "    <tr>\n",
       "      <th>4</th>\n",
       "      <td>5</td>\n",
       "      <td>50</td>\n",
       "      <td>E</td>\n",
       "    </tr>\n",
       "  </tbody>\n",
       "</table>\n",
       "</div>"
      ],
      "text/plain": [
       "   A   B  C\n",
       "0  1  10  A\n",
       "1  2  20  B\n",
       "2  3  30  C\n",
       "3  4  40  D\n",
       "4  5  50  E"
      ]
     },
     "execution_count": 116,
     "metadata": {},
     "output_type": "execute_result"
    }
   ],
   "source": [
    "df_base = pd.DataFrame({'A': [1, 2, 3, 4, 5], 'B': [10, 20, 30 ,40, 50], 'C': ['A', 'B', 'C', 'D', 'E']})\n",
    "df_base"
   ]
  },
  {
   "cell_type": "code",
   "execution_count": 117,
   "id": "507a323b",
   "metadata": {},
   "outputs": [
    {
     "data": {
      "text/html": [
       "<div>\n",
       "<style scoped>\n",
       "    .dataframe tbody tr th:only-of-type {\n",
       "        vertical-align: middle;\n",
       "    }\n",
       "\n",
       "    .dataframe tbody tr th {\n",
       "        vertical-align: top;\n",
       "    }\n",
       "\n",
       "    .dataframe thead th {\n",
       "        text-align: right;\n",
       "    }\n",
       "</style>\n",
       "<table border=\"1\" class=\"dataframe\">\n",
       "  <thead>\n",
       "    <tr style=\"text-align: right;\">\n",
       "      <th></th>\n",
       "      <th>A</th>\n",
       "      <th>B</th>\n",
       "      <th>C</th>\n",
       "    </tr>\n",
       "  </thead>\n",
       "  <tbody>\n",
       "    <tr>\n",
       "      <th>0</th>\n",
       "      <td>1000</td>\n",
       "      <td>1000</td>\n",
       "      <td>Z</td>\n",
       "    </tr>\n",
       "  </tbody>\n",
       "</table>\n",
       "</div>"
      ],
      "text/plain": [
       "      A     B  C\n",
       "0  1000  1000  Z"
      ]
     },
     "execution_count": 117,
     "metadata": {},
     "output_type": "execute_result"
    }
   ],
   "source": [
    "df_append = pd.DataFrame({'A': [1000], 'B': [1000], 'C': ['Z']})\n",
    "df_append"
   ]
  },
  {
   "cell_type": "code",
   "execution_count": 118,
   "id": "a389e1b9",
   "metadata": {},
   "outputs": [
    {
     "name": "stderr",
     "output_type": "stream",
     "text": [
      "C:\\Users\\LUIGGI\\AppData\\Local\\Temp\\ipykernel_26460\\507693919.py:1: FutureWarning: The frame.append method is deprecated and will be removed from pandas in a future version. Use pandas.concat instead.\n",
      "  df_base.append(df_append)\n"
     ]
    },
    {
     "data": {
      "text/html": [
       "<div>\n",
       "<style scoped>\n",
       "    .dataframe tbody tr th:only-of-type {\n",
       "        vertical-align: middle;\n",
       "    }\n",
       "\n",
       "    .dataframe tbody tr th {\n",
       "        vertical-align: top;\n",
       "    }\n",
       "\n",
       "    .dataframe thead th {\n",
       "        text-align: right;\n",
       "    }\n",
       "</style>\n",
       "<table border=\"1\" class=\"dataframe\">\n",
       "  <thead>\n",
       "    <tr style=\"text-align: right;\">\n",
       "      <th></th>\n",
       "      <th>A</th>\n",
       "      <th>B</th>\n",
       "      <th>C</th>\n",
       "    </tr>\n",
       "  </thead>\n",
       "  <tbody>\n",
       "    <tr>\n",
       "      <th>0</th>\n",
       "      <td>1</td>\n",
       "      <td>10</td>\n",
       "      <td>A</td>\n",
       "    </tr>\n",
       "    <tr>\n",
       "      <th>1</th>\n",
       "      <td>2</td>\n",
       "      <td>20</td>\n",
       "      <td>B</td>\n",
       "    </tr>\n",
       "    <tr>\n",
       "      <th>2</th>\n",
       "      <td>3</td>\n",
       "      <td>30</td>\n",
       "      <td>C</td>\n",
       "    </tr>\n",
       "    <tr>\n",
       "      <th>3</th>\n",
       "      <td>4</td>\n",
       "      <td>40</td>\n",
       "      <td>D</td>\n",
       "    </tr>\n",
       "    <tr>\n",
       "      <th>4</th>\n",
       "      <td>5</td>\n",
       "      <td>50</td>\n",
       "      <td>E</td>\n",
       "    </tr>\n",
       "    <tr>\n",
       "      <th>0</th>\n",
       "      <td>1000</td>\n",
       "      <td>1000</td>\n",
       "      <td>Z</td>\n",
       "    </tr>\n",
       "  </tbody>\n",
       "</table>\n",
       "</div>"
      ],
      "text/plain": [
       "      A     B  C\n",
       "0     1    10  A\n",
       "1     2    20  B\n",
       "2     3    30  C\n",
       "3     4    40  D\n",
       "4     5    50  E\n",
       "0  1000  1000  Z"
      ]
     },
     "execution_count": 118,
     "metadata": {},
     "output_type": "execute_result"
    }
   ],
   "source": [
    "df_base.append(df_append)"
   ]
  },
  {
   "cell_type": "markdown",
   "id": "a17e6365",
   "metadata": {},
   "source": [
    "### Concat:\n",
    "\n",
    "La operación de concatenado es igual a la de concat pero no es un método del DataFrame, sino una función de pandas. Tiene la ventaja de que podemos pasarle una lista de DataFrames y los pegará todos juntos. Como vimos con el método apply, podremos aplicar concat para pegar dos dataframes por filas (0) o por columnas (1)."
   ]
  },
  {
   "cell_type": "code",
   "execution_count": 119,
   "id": "583a4510",
   "metadata": {},
   "outputs": [
    {
     "data": {
      "text/html": [
       "<div>\n",
       "<style scoped>\n",
       "    .dataframe tbody tr th:only-of-type {\n",
       "        vertical-align: middle;\n",
       "    }\n",
       "\n",
       "    .dataframe tbody tr th {\n",
       "        vertical-align: top;\n",
       "    }\n",
       "\n",
       "    .dataframe thead th {\n",
       "        text-align: right;\n",
       "    }\n",
       "</style>\n",
       "<table border=\"1\" class=\"dataframe\">\n",
       "  <thead>\n",
       "    <tr style=\"text-align: right;\">\n",
       "      <th></th>\n",
       "      <th>D</th>\n",
       "    </tr>\n",
       "  </thead>\n",
       "  <tbody>\n",
       "    <tr>\n",
       "      <th>0</th>\n",
       "      <td>99</td>\n",
       "    </tr>\n",
       "    <tr>\n",
       "      <th>1</th>\n",
       "      <td>99</td>\n",
       "    </tr>\n",
       "    <tr>\n",
       "      <th>2</th>\n",
       "      <td>99</td>\n",
       "    </tr>\n",
       "    <tr>\n",
       "      <th>3</th>\n",
       "      <td>99</td>\n",
       "    </tr>\n",
       "    <tr>\n",
       "      <th>4</th>\n",
       "      <td>99</td>\n",
       "    </tr>\n",
       "  </tbody>\n",
       "</table>\n",
       "</div>"
      ],
      "text/plain": [
       "    D\n",
       "0  99\n",
       "1  99\n",
       "2  99\n",
       "3  99\n",
       "4  99"
      ]
     },
     "execution_count": 119,
     "metadata": {},
     "output_type": "execute_result"
    }
   ],
   "source": [
    "df_concat_cols = pd.DataFrame({'D': [99, 99, 99, 99, 99]})\n",
    "df_concat_cols"
   ]
  },
  {
   "cell_type": "code",
   "execution_count": 120,
   "id": "090876fd",
   "metadata": {},
   "outputs": [
    {
     "data": {
      "text/html": [
       "<div>\n",
       "<style scoped>\n",
       "    .dataframe tbody tr th:only-of-type {\n",
       "        vertical-align: middle;\n",
       "    }\n",
       "\n",
       "    .dataframe tbody tr th {\n",
       "        vertical-align: top;\n",
       "    }\n",
       "\n",
       "    .dataframe thead th {\n",
       "        text-align: right;\n",
       "    }\n",
       "</style>\n",
       "<table border=\"1\" class=\"dataframe\">\n",
       "  <thead>\n",
       "    <tr style=\"text-align: right;\">\n",
       "      <th></th>\n",
       "      <th>A</th>\n",
       "      <th>B</th>\n",
       "      <th>C</th>\n",
       "      <th>D</th>\n",
       "    </tr>\n",
       "  </thead>\n",
       "  <tbody>\n",
       "    <tr>\n",
       "      <th>0</th>\n",
       "      <td>1</td>\n",
       "      <td>10</td>\n",
       "      <td>A</td>\n",
       "      <td>99</td>\n",
       "    </tr>\n",
       "    <tr>\n",
       "      <th>1</th>\n",
       "      <td>2</td>\n",
       "      <td>20</td>\n",
       "      <td>B</td>\n",
       "      <td>99</td>\n",
       "    </tr>\n",
       "    <tr>\n",
       "      <th>2</th>\n",
       "      <td>3</td>\n",
       "      <td>30</td>\n",
       "      <td>C</td>\n",
       "      <td>99</td>\n",
       "    </tr>\n",
       "    <tr>\n",
       "      <th>3</th>\n",
       "      <td>4</td>\n",
       "      <td>40</td>\n",
       "      <td>D</td>\n",
       "      <td>99</td>\n",
       "    </tr>\n",
       "    <tr>\n",
       "      <th>4</th>\n",
       "      <td>5</td>\n",
       "      <td>50</td>\n",
       "      <td>E</td>\n",
       "      <td>99</td>\n",
       "    </tr>\n",
       "  </tbody>\n",
       "</table>\n",
       "</div>"
      ],
      "text/plain": [
       "   A   B  C   D\n",
       "0  1  10  A  99\n",
       "1  2  20  B  99\n",
       "2  3  30  C  99\n",
       "3  4  40  D  99\n",
       "4  5  50  E  99"
      ]
     },
     "execution_count": 120,
     "metadata": {},
     "output_type": "execute_result"
    }
   ],
   "source": [
    "pd.concat([df_base, df_concat_cols], axis=1)"
   ]
  },
  {
   "cell_type": "code",
   "execution_count": 121,
   "id": "f432f979",
   "metadata": {},
   "outputs": [
    {
     "data": {
      "text/html": [
       "<div>\n",
       "<style scoped>\n",
       "    .dataframe tbody tr th:only-of-type {\n",
       "        vertical-align: middle;\n",
       "    }\n",
       "\n",
       "    .dataframe tbody tr th {\n",
       "        vertical-align: top;\n",
       "    }\n",
       "\n",
       "    .dataframe thead th {\n",
       "        text-align: right;\n",
       "    }\n",
       "</style>\n",
       "<table border=\"1\" class=\"dataframe\">\n",
       "  <thead>\n",
       "    <tr style=\"text-align: right;\">\n",
       "      <th></th>\n",
       "      <th>A</th>\n",
       "      <th>B</th>\n",
       "      <th>C</th>\n",
       "    </tr>\n",
       "  </thead>\n",
       "  <tbody>\n",
       "    <tr>\n",
       "      <th>0</th>\n",
       "      <td>fila</td>\n",
       "      <td>nueva</td>\n",
       "      <td>soy</td>\n",
       "    </tr>\n",
       "  </tbody>\n",
       "</table>\n",
       "</div>"
      ],
      "text/plain": [
       "      A      B    C\n",
       "0  fila  nueva  soy"
      ]
     },
     "execution_count": 121,
     "metadata": {},
     "output_type": "execute_result"
    }
   ],
   "source": [
    "df_concat_filas = pd.DataFrame({'A': ['fila'], 'B': ['nueva'], 'C': ['soy']})\n",
    "df_concat_filas"
   ]
  },
  {
   "cell_type": "code",
   "execution_count": 122,
   "id": "b408d429",
   "metadata": {},
   "outputs": [
    {
     "data": {
      "text/html": [
       "<div>\n",
       "<style scoped>\n",
       "    .dataframe tbody tr th:only-of-type {\n",
       "        vertical-align: middle;\n",
       "    }\n",
       "\n",
       "    .dataframe tbody tr th {\n",
       "        vertical-align: top;\n",
       "    }\n",
       "\n",
       "    .dataframe thead th {\n",
       "        text-align: right;\n",
       "    }\n",
       "</style>\n",
       "<table border=\"1\" class=\"dataframe\">\n",
       "  <thead>\n",
       "    <tr style=\"text-align: right;\">\n",
       "      <th></th>\n",
       "      <th>A</th>\n",
       "      <th>B</th>\n",
       "      <th>C</th>\n",
       "    </tr>\n",
       "  </thead>\n",
       "  <tbody>\n",
       "    <tr>\n",
       "      <th>0</th>\n",
       "      <td>1</td>\n",
       "      <td>10</td>\n",
       "      <td>A</td>\n",
       "    </tr>\n",
       "    <tr>\n",
       "      <th>1</th>\n",
       "      <td>2</td>\n",
       "      <td>20</td>\n",
       "      <td>B</td>\n",
       "    </tr>\n",
       "    <tr>\n",
       "      <th>2</th>\n",
       "      <td>3</td>\n",
       "      <td>30</td>\n",
       "      <td>C</td>\n",
       "    </tr>\n",
       "    <tr>\n",
       "      <th>3</th>\n",
       "      <td>4</td>\n",
       "      <td>40</td>\n",
       "      <td>D</td>\n",
       "    </tr>\n",
       "    <tr>\n",
       "      <th>4</th>\n",
       "      <td>5</td>\n",
       "      <td>50</td>\n",
       "      <td>E</td>\n",
       "    </tr>\n",
       "    <tr>\n",
       "      <th>0</th>\n",
       "      <td>fila</td>\n",
       "      <td>nueva</td>\n",
       "      <td>soy</td>\n",
       "    </tr>\n",
       "  </tbody>\n",
       "</table>\n",
       "</div>"
      ],
      "text/plain": [
       "      A      B    C\n",
       "0     1     10    A\n",
       "1     2     20    B\n",
       "2     3     30    C\n",
       "3     4     40    D\n",
       "4     5     50    E\n",
       "0  fila  nueva  soy"
      ]
     },
     "execution_count": 122,
     "metadata": {},
     "output_type": "execute_result"
    }
   ],
   "source": [
    "pd.concat([df_base, df_concat_filas])"
   ]
  },
  {
   "cell_type": "markdown",
   "id": "eb46e675",
   "metadata": {},
   "source": [
    "### Merge:\n",
    "\n",
    "Utiliza una sintáxis similar a la de SQL, en la que se define un elemento \"izquierdo\" y un elemento \"derecho\" y podemos realizar distintas operaciones sobre ellos y unir sus columnas utilizando como eje de unión una o más columnas. El tipo de merge más básico es el **\"inner join\"** en el que se unen dos DataFrames trayendo del \"izquierdo\" y del \"derecho\" únicamente las filas para los que ambos DataFrames tienen el mismo valor.\n",
    "\n",
    "El opuesto a este será el **\"outer join\"**. En este caso el merge unirá los dos DataFrames trayendo todos los registros que tiene cada uno en la columna de unión. Qué pasa pasa aquellos casos en los que el DataFrame izquierdo no tenga resitros para algunos de los valores del derecho en esa columna? Se rellenarán con nulos. Lo mismo sucede para los valores del derecho que no tengan su equivalente en el DataFrame izquierdo.\n",
    "\n",
    "A veces queremos conservar un DataFrame tal cual está y traernos todos los registros del otro DataFrame que coincidan con el que hemos marcado, pero no los que estén presentes en el otro DataFrame que no estén en el que queremos conservar. Para esto utilizamos el **\"left join\"** o **\"right join\"**. En la práctica el left y right join son simétricos, ya que solo se basan en qué DataFrame definamos nosotros como \"left\" y \"right\". Por lo tanto, se suele utilizar el \"left join\".\n",
    "\n",
    "Pueden ver [aqui](https://realpython.com/pandas-merge-join-and-concat/) una explicación más detallada y un diagrama que suele utilizarse para representar los tipos de merges que podemos encontrar en Pandas.\n",
    "\n",
    "<img src=\"https://miro.medium.com/max/1200/1*9eH1_7VbTZPZd9jBiGIyNA.png\" width=800px>\n"
   ]
  },
  {
   "cell_type": "code",
   "execution_count": 123,
   "id": "bf866158",
   "metadata": {},
   "outputs": [],
   "source": [
    "df_merge1 = pd.DataFrame(\n",
    "    {'precio_usd': [100, 200, 300, 400, 500], 'id': ['A', 'B', 'C', 'D', 'E']}\n",
    ")\n",
    "\n",
    "df_merge2 = pd.DataFrame(\n",
    "    {'color': ['rojo', 'verde', 'azul', 'blanco'], 'id': ['A', 'C', 'D', 'F']}\n",
    ")"
   ]
  },
  {
   "cell_type": "code",
   "execution_count": 124,
   "id": "6c64c23b",
   "metadata": {},
   "outputs": [
    {
     "data": {
      "text/html": [
       "<div>\n",
       "<style scoped>\n",
       "    .dataframe tbody tr th:only-of-type {\n",
       "        vertical-align: middle;\n",
       "    }\n",
       "\n",
       "    .dataframe tbody tr th {\n",
       "        vertical-align: top;\n",
       "    }\n",
       "\n",
       "    .dataframe thead th {\n",
       "        text-align: right;\n",
       "    }\n",
       "</style>\n",
       "<table border=\"1\" class=\"dataframe\">\n",
       "  <thead>\n",
       "    <tr style=\"text-align: right;\">\n",
       "      <th></th>\n",
       "      <th>precio_usd</th>\n",
       "      <th>id</th>\n",
       "      <th>color</th>\n",
       "    </tr>\n",
       "  </thead>\n",
       "  <tbody>\n",
       "    <tr>\n",
       "      <th>0</th>\n",
       "      <td>100</td>\n",
       "      <td>A</td>\n",
       "      <td>rojo</td>\n",
       "    </tr>\n",
       "    <tr>\n",
       "      <th>1</th>\n",
       "      <td>300</td>\n",
       "      <td>C</td>\n",
       "      <td>verde</td>\n",
       "    </tr>\n",
       "    <tr>\n",
       "      <th>2</th>\n",
       "      <td>400</td>\n",
       "      <td>D</td>\n",
       "      <td>azul</td>\n",
       "    </tr>\n",
       "  </tbody>\n",
       "</table>\n",
       "</div>"
      ],
      "text/plain": [
       "   precio_usd id  color\n",
       "0         100  A   rojo\n",
       "1         300  C  verde\n",
       "2         400  D   azul"
      ]
     },
     "execution_count": 124,
     "metadata": {},
     "output_type": "execute_result"
    }
   ],
   "source": [
    "# Inner join\n",
    "df_merge1.merge(df_merge2, how='inner', on='id')"
   ]
  },
  {
   "cell_type": "code",
   "execution_count": 125,
   "id": "063c857c",
   "metadata": {},
   "outputs": [
    {
     "data": {
      "text/html": [
       "<div>\n",
       "<style scoped>\n",
       "    .dataframe tbody tr th:only-of-type {\n",
       "        vertical-align: middle;\n",
       "    }\n",
       "\n",
       "    .dataframe tbody tr th {\n",
       "        vertical-align: top;\n",
       "    }\n",
       "\n",
       "    .dataframe thead th {\n",
       "        text-align: right;\n",
       "    }\n",
       "</style>\n",
       "<table border=\"1\" class=\"dataframe\">\n",
       "  <thead>\n",
       "    <tr style=\"text-align: right;\">\n",
       "      <th></th>\n",
       "      <th>precio_usd</th>\n",
       "      <th>id</th>\n",
       "      <th>color</th>\n",
       "    </tr>\n",
       "  </thead>\n",
       "  <tbody>\n",
       "    <tr>\n",
       "      <th>0</th>\n",
       "      <td>100</td>\n",
       "      <td>A</td>\n",
       "      <td>rojo</td>\n",
       "    </tr>\n",
       "    <tr>\n",
       "      <th>1</th>\n",
       "      <td>200</td>\n",
       "      <td>B</td>\n",
       "      <td>NaN</td>\n",
       "    </tr>\n",
       "    <tr>\n",
       "      <th>2</th>\n",
       "      <td>300</td>\n",
       "      <td>C</td>\n",
       "      <td>verde</td>\n",
       "    </tr>\n",
       "    <tr>\n",
       "      <th>3</th>\n",
       "      <td>400</td>\n",
       "      <td>D</td>\n",
       "      <td>azul</td>\n",
       "    </tr>\n",
       "    <tr>\n",
       "      <th>4</th>\n",
       "      <td>500</td>\n",
       "      <td>E</td>\n",
       "      <td>NaN</td>\n",
       "    </tr>\n",
       "  </tbody>\n",
       "</table>\n",
       "</div>"
      ],
      "text/plain": [
       "   precio_usd id  color\n",
       "0         100  A   rojo\n",
       "1         200  B    NaN\n",
       "2         300  C  verde\n",
       "3         400  D   azul\n",
       "4         500  E    NaN"
      ]
     },
     "execution_count": 125,
     "metadata": {},
     "output_type": "execute_result"
    }
   ],
   "source": [
    "# Left join (left en este caso es df_merge1)\n",
    "df_merge1.merge(df_merge2, how='left', on='id')"
   ]
  },
  {
   "cell_type": "code",
   "execution_count": 126,
   "id": "e788dfd2",
   "metadata": {},
   "outputs": [
    {
     "data": {
      "text/html": [
       "<div>\n",
       "<style scoped>\n",
       "    .dataframe tbody tr th:only-of-type {\n",
       "        vertical-align: middle;\n",
       "    }\n",
       "\n",
       "    .dataframe tbody tr th {\n",
       "        vertical-align: top;\n",
       "    }\n",
       "\n",
       "    .dataframe thead th {\n",
       "        text-align: right;\n",
       "    }\n",
       "</style>\n",
       "<table border=\"1\" class=\"dataframe\">\n",
       "  <thead>\n",
       "    <tr style=\"text-align: right;\">\n",
       "      <th></th>\n",
       "      <th>precio_usd</th>\n",
       "      <th>id</th>\n",
       "      <th>color</th>\n",
       "    </tr>\n",
       "  </thead>\n",
       "  <tbody>\n",
       "    <tr>\n",
       "      <th>0</th>\n",
       "      <td>100.0</td>\n",
       "      <td>A</td>\n",
       "      <td>rojo</td>\n",
       "    </tr>\n",
       "    <tr>\n",
       "      <th>1</th>\n",
       "      <td>200.0</td>\n",
       "      <td>B</td>\n",
       "      <td>NaN</td>\n",
       "    </tr>\n",
       "    <tr>\n",
       "      <th>2</th>\n",
       "      <td>300.0</td>\n",
       "      <td>C</td>\n",
       "      <td>verde</td>\n",
       "    </tr>\n",
       "    <tr>\n",
       "      <th>3</th>\n",
       "      <td>400.0</td>\n",
       "      <td>D</td>\n",
       "      <td>azul</td>\n",
       "    </tr>\n",
       "    <tr>\n",
       "      <th>4</th>\n",
       "      <td>500.0</td>\n",
       "      <td>E</td>\n",
       "      <td>NaN</td>\n",
       "    </tr>\n",
       "    <tr>\n",
       "      <th>5</th>\n",
       "      <td>NaN</td>\n",
       "      <td>F</td>\n",
       "      <td>blanco</td>\n",
       "    </tr>\n",
       "  </tbody>\n",
       "</table>\n",
       "</div>"
      ],
      "text/plain": [
       "   precio_usd id   color\n",
       "0       100.0  A    rojo\n",
       "1       200.0  B     NaN\n",
       "2       300.0  C   verde\n",
       "3       400.0  D    azul\n",
       "4       500.0  E     NaN\n",
       "5         NaN  F  blanco"
      ]
     },
     "execution_count": 126,
     "metadata": {},
     "output_type": "execute_result"
    }
   ],
   "source": [
    "# Outer join (ver que hay nulos por todas partes)\n",
    "df_merge1.merge(df_merge2, how='outer', on='id')"
   ]
  },
  {
   "cell_type": "markdown",
   "id": "22b98ae7",
   "metadata": {},
   "source": [
    "**Nota:** Como comentábamos antes, el right join se puede hacer indiferentemente cambiendo el valor del argumento how='right' o simplemente cambiando el luegar del df_merge1 por el df_merge2. Esto dependerá de ustedes..."
   ]
  },
  {
   "cell_type": "code",
   "execution_count": 127,
   "id": "1b726a60",
   "metadata": {},
   "outputs": [
    {
     "data": {
      "text/html": [
       "<div>\n",
       "<style scoped>\n",
       "    .dataframe tbody tr th:only-of-type {\n",
       "        vertical-align: middle;\n",
       "    }\n",
       "\n",
       "    .dataframe tbody tr th {\n",
       "        vertical-align: top;\n",
       "    }\n",
       "\n",
       "    .dataframe thead th {\n",
       "        text-align: right;\n",
       "    }\n",
       "</style>\n",
       "<table border=\"1\" class=\"dataframe\">\n",
       "  <thead>\n",
       "    <tr style=\"text-align: right;\">\n",
       "      <th></th>\n",
       "      <th>precio_usd</th>\n",
       "      <th>id</th>\n",
       "      <th>color</th>\n",
       "    </tr>\n",
       "  </thead>\n",
       "  <tbody>\n",
       "    <tr>\n",
       "      <th>0</th>\n",
       "      <td>100.0</td>\n",
       "      <td>A</td>\n",
       "      <td>rojo</td>\n",
       "    </tr>\n",
       "    <tr>\n",
       "      <th>1</th>\n",
       "      <td>300.0</td>\n",
       "      <td>C</td>\n",
       "      <td>verde</td>\n",
       "    </tr>\n",
       "    <tr>\n",
       "      <th>2</th>\n",
       "      <td>400.0</td>\n",
       "      <td>D</td>\n",
       "      <td>azul</td>\n",
       "    </tr>\n",
       "    <tr>\n",
       "      <th>3</th>\n",
       "      <td>NaN</td>\n",
       "      <td>F</td>\n",
       "      <td>blanco</td>\n",
       "    </tr>\n",
       "  </tbody>\n",
       "</table>\n",
       "</div>"
      ],
      "text/plain": [
       "   precio_usd id   color\n",
       "0       100.0  A    rojo\n",
       "1       300.0  C   verde\n",
       "2       400.0  D    azul\n",
       "3         NaN  F  blanco"
      ]
     },
     "execution_count": 127,
     "metadata": {},
     "output_type": "execute_result"
    }
   ],
   "source": [
    "# Right join (right en este caso es df_merge2)\n",
    "df_merge1.merge(df_merge2, how='right', on='id')"
   ]
  },
  {
   "cell_type": "code",
   "execution_count": 128,
   "id": "102fbf06",
   "metadata": {},
   "outputs": [
    {
     "data": {
      "text/html": [
       "<div>\n",
       "<style scoped>\n",
       "    .dataframe tbody tr th:only-of-type {\n",
       "        vertical-align: middle;\n",
       "    }\n",
       "\n",
       "    .dataframe tbody tr th {\n",
       "        vertical-align: top;\n",
       "    }\n",
       "\n",
       "    .dataframe thead th {\n",
       "        text-align: right;\n",
       "    }\n",
       "</style>\n",
       "<table border=\"1\" class=\"dataframe\">\n",
       "  <thead>\n",
       "    <tr style=\"text-align: right;\">\n",
       "      <th></th>\n",
       "      <th>color</th>\n",
       "      <th>id</th>\n",
       "      <th>precio_usd</th>\n",
       "    </tr>\n",
       "  </thead>\n",
       "  <tbody>\n",
       "    <tr>\n",
       "      <th>0</th>\n",
       "      <td>rojo</td>\n",
       "      <td>A</td>\n",
       "      <td>100.0</td>\n",
       "    </tr>\n",
       "    <tr>\n",
       "      <th>1</th>\n",
       "      <td>verde</td>\n",
       "      <td>C</td>\n",
       "      <td>300.0</td>\n",
       "    </tr>\n",
       "    <tr>\n",
       "      <th>2</th>\n",
       "      <td>azul</td>\n",
       "      <td>D</td>\n",
       "      <td>400.0</td>\n",
       "    </tr>\n",
       "    <tr>\n",
       "      <th>3</th>\n",
       "      <td>blanco</td>\n",
       "      <td>F</td>\n",
       "      <td>NaN</td>\n",
       "    </tr>\n",
       "  </tbody>\n",
       "</table>\n",
       "</div>"
      ],
      "text/plain": [
       "    color id  precio_usd\n",
       "0    rojo  A       100.0\n",
       "1   verde  C       300.0\n",
       "2    azul  D       400.0\n",
       "3  blanco  F         NaN"
      ]
     },
     "execution_count": 128,
     "metadata": {},
     "output_type": "execute_result"
    }
   ],
   "source": [
    "# Left join (left en este caso es df_merge1)\n",
    "df_merge2.merge(df_merge1, how='left', on='id')"
   ]
  },
  {
   "cell_type": "markdown",
   "id": "1ce05c99",
   "metadata": {},
   "source": [
    "# Adicional\n",
    "## GRAFICOS DE PANDAS\n",
    "Tipos de graficas en Pandas\n",
    "\n",
    "Hay varios tipos de plots integradas a pandas, la mayoría de estos plots sobn para estadística por naturaleza:\n",
    "\n",
    "* df.plot.area\n",
    "* df.plot.barh\n",
    "* df.plot.density\n",
    "* df.plot.hist\n",
    "* df.plot.line\n",
    "* df.plot.scatter\n",
    "* df.plot.bar\n",
    "* df.plot.box\n",
    "* df.plot.hexbin\n",
    "* df.plot.kde\n",
    "* df.plot.pie"
   ]
  },
  {
   "cell_type": "code",
   "execution_count": 133,
   "id": "4e5e2fd2",
   "metadata": {},
   "outputs": [
    {
     "data": {
      "text/plain": [
       "<AxesSubplot: >"
      ]
     },
     "execution_count": 133,
     "metadata": {},
     "output_type": "execute_result"
    },
    {
     "data": {
      "image/png": "[encoded data removed]",
      "text/plain": [
       "<Figure size 640x480 with 1 Axes>"
      ]
     },
     "metadata": {},
     "output_type": "display_data"
    }
   ],
   "source": [
    "#graficos Histograma\n",
    "df_kaggle[\"age\"].hist()"
   ]
  },
  {
   "cell_type": "code",
   "execution_count": 134,
   "id": "3d510376",
   "metadata": {},
   "outputs": [
    {
     "data": {
      "text/plain": [
       "<AxesSubplot: >"
      ]
     },
     "execution_count": 134,
     "metadata": {},
     "output_type": "execute_result"
    },
    {
     "data": {
      "image/png": "[encoded data removed]",
      "text/plain": [
       "<Figure size 640x480 with 1 Axes>"
      ]
     },
     "metadata": {},
     "output_type": "display_data"
    }
   ],
   "source": [
    "#graficos Histograma\n",
    "df_kaggle[\"age\"].hist(bins=20)"
   ]
  },
  {
   "cell_type": "code",
   "execution_count": 137,
   "id": "850b7dc2",
   "metadata": {},
   "outputs": [
    {
     "data": {
      "text/plain": [
       "<AxesSubplot: xlabel='gender'>"
      ]
     },
     "execution_count": 137,
     "metadata": {},
     "output_type": "execute_result"
    },
    {
     "data": {
      "image/png": "[encoded data removed]",
      "text/plain": [
       "<Figure size 640x480 with 1 Axes>"
      ]
     },
     "metadata": {},
     "output_type": "display_data"
    }
   ],
   "source": [
    "df_kaggle.groupby(['gender']).count()[['income']].plot(kind='bar')"
   ]
  },
  {
   "cell_type": "code",
   "execution_count": 144,
   "id": "17f4bbd5",
   "metadata": {},
   "outputs": [
    {
     "data": {
      "text/plain": [
       "<AxesSubplot: ylabel='income'>"
      ]
     },
     "execution_count": 144,
     "metadata": {},
     "output_type": "execute_result"
    },
    {
     "data": {
      "image/png": "[encoded data removed]",
      "text/plain": [
       "<Figure size 500x600 with 1 Axes>"
      ]
     },
     "metadata": {},
     "output_type": "display_data"
    }
   ],
   "source": [
    "df_kaggle.groupby(['gender']).count()['income'].plot(kind='pie',\n",
    "                            figsize=(5, 6),\n",
    "                            autopct='%1.1f%%', # add in percentages\n",
    "                            startangle=90,     # start angle 90° (Africa)\n",
    "                            shadow=True,       # add shadow      \n",
    "                            )"
   ]
  },
  {
   "cell_type": "code",
   "execution_count": 140,
   "id": "fb846733",
   "metadata": {},
   "outputs": [
    {
     "data": {
      "text/plain": [
       "<AxesSubplot: xlabel='age', ylabel='income'>"
      ]
     },
     "execution_count": 140,
     "metadata": {},
     "output_type": "execute_result"
    },
    {
     "data": {
      "image/png": "[encoded data removed]",
      "text/plain": [
       "<Figure size 640x480 with 1 Axes>"
      ]
     },
     "metadata": {},
     "output_type": "display_data"
    }
   ],
   "source": [
    "\n",
    "df_kaggle.plot(kind='scatter',y='income',x='age')\n"
   ]
  },
  {
   "cell_type": "code",
   "execution_count": 2,
   "id": "8d92bd70",
   "metadata": {},
   "outputs": [
    {
     "data": {
      "text/html": [
       "<div>\n",
       "<style scoped>\n",
       "    .dataframe tbody tr th:only-of-type {\n",
       "        vertical-align: middle;\n",
       "    }\n",
       "\n",
       "    .dataframe tbody tr th {\n",
       "        vertical-align: top;\n",
       "    }\n",
       "\n",
       "    .dataframe thead th {\n",
       "        text-align: right;\n",
       "    }\n",
       "</style>\n",
       "<table border=\"1\" class=\"dataframe\">\n",
       "  <thead>\n",
       "    <tr style=\"text-align: right;\">\n",
       "      <th></th>\n",
       "      <th>sepal_length</th>\n",
       "      <th>sepal_width</th>\n",
       "      <th>petal_length</th>\n",
       "      <th>petal_width</th>\n",
       "      <th>species</th>\n",
       "    </tr>\n",
       "  </thead>\n",
       "  <tbody>\n",
       "    <tr>\n",
       "      <th>0</th>\n",
       "      <td>5.1</td>\n",
       "      <td>3.5</td>\n",
       "      <td>1.4</td>\n",
       "      <td>0.2</td>\n",
       "      <td>setosa</td>\n",
       "    </tr>\n",
       "    <tr>\n",
       "      <th>1</th>\n",
       "      <td>4.9</td>\n",
       "      <td>3.0</td>\n",
       "      <td>1.4</td>\n",
       "      <td>0.2</td>\n",
       "      <td>setosa</td>\n",
       "    </tr>\n",
       "    <tr>\n",
       "      <th>2</th>\n",
       "      <td>4.7</td>\n",
       "      <td>3.2</td>\n",
       "      <td>1.3</td>\n",
       "      <td>0.2</td>\n",
       "      <td>setosa</td>\n",
       "    </tr>\n",
       "    <tr>\n",
       "      <th>3</th>\n",
       "      <td>4.6</td>\n",
       "      <td>3.1</td>\n",
       "      <td>1.5</td>\n",
       "      <td>0.2</td>\n",
       "      <td>setosa</td>\n",
       "    </tr>\n",
       "    <tr>\n",
       "      <th>4</th>\n",
       "      <td>5.0</td>\n",
       "      <td>3.6</td>\n",
       "      <td>1.4</td>\n",
       "      <td>0.2</td>\n",
       "      <td>setosa</td>\n",
       "    </tr>\n",
       "  </tbody>\n",
       "</table>\n",
       "</div>"
      ],
      "text/plain": [
       "   sepal_length  sepal_width  petal_length  petal_width species\n",
       "0           5.1          3.5           1.4          0.2  setosa\n",
       "1           4.9          3.0           1.4          0.2  setosa\n",
       "2           4.7          3.2           1.3          0.2  setosa\n",
       "3           4.6          3.1           1.5          0.2  setosa\n",
       "4           5.0          3.6           1.4          0.2  setosa"
      ]
     },
     "execution_count": 2,
     "metadata": {},
     "output_type": "execute_result"
    }
   ],
   "source": [
    "# Otros ejemplos\n",
    "import pandas as pd\n",
    "df2 = pd.read_csv('https://github.com/mwaskom/seaborn-data/raw/master/iris.csv')\n",
    "df2.head()\n"
   ]
  },
  {
   "cell_type": "code",
   "execution_count": 4,
   "id": "13b09d04",
   "metadata": {},
   "outputs": [
    {
     "data": {
      "image/png": "[encoded data removed]",
      "text/plain": [
       "<Figure size 640x480 with 1 Axes>"
      ]
     },
     "metadata": {},
     "output_type": "display_data"
    }
   ],
   "source": [
    "#Grafico de area\n",
    "# Se puede hacer de las siguiente manera\n",
    "#df2.plot(kind='area',alpha = 0.4)\n",
    "\n",
    "df2.plot.area(alpha=0.4);"
   ]
  },
  {
   "cell_type": "code",
   "execution_count": 5,
   "id": "acbf7afa",
   "metadata": {},
   "outputs": [
    {
     "data": {
      "image/png": "[encoded data removed]",
      "text/plain": [
       "<Figure size 640x480 with 1 Axes>"
      ]
     },
     "metadata": {},
     "output_type": "display_data"
    }
   ],
   "source": [
    "#Grafico Barplots\n",
    "# Visualizacion de datos\n",
    "df2.iloc[2:8].plot.bar();"
   ]
  },
  {
   "cell_type": "code",
   "execution_count": 6,
   "id": "4e10fe59",
   "metadata": {},
   "outputs": [
    {
     "data": {
      "image/png": "[encoded data removed]",
      "text/plain": [
       "<Figure size 640x480 with 1 Axes>"
      ]
     },
     "metadata": {},
     "output_type": "display_data"
    }
   ],
   "source": [
    "df2.iloc[2:8].plot.bar(stacked=True);"
   ]
  },
  {
   "cell_type": "code",
   "execution_count": 8,
   "id": "7437c0b9",
   "metadata": {},
   "outputs": [
    {
     "data": {
      "image/png": "[encoded data removed]",
      "text/plain": [
       "<Figure size 640x480 with 1 Axes>"
      ]
     },
     "metadata": {},
     "output_type": "display_data"
    }
   ],
   "source": [
    "#histogramas\n",
    "df2['sepal_length'].plot.hist(bins=50);"
   ]
  },
  {
   "cell_type": "code",
   "execution_count": 7,
   "id": "76a5a487",
   "metadata": {},
   "outputs": [
    {
     "data": {
      "image/png": "[encoded data removed]",
      "text/plain": [
       "<Figure size 1200x300 with 1 Axes>"
      ]
     },
     "metadata": {},
     "output_type": "display_data"
    }
   ],
   "source": [
    "df2.plot.line(y='sepal_length',figsize=(12,3),lw=1);"
   ]
  },
  {
   "cell_type": "code",
   "execution_count": 11,
   "id": "771f3d8d",
   "metadata": {},
   "outputs": [
    {
     "data": {
      "image/png": "[encoded data removed]",
      "text/plain": [
       "<Figure size 640x480 with 1 Axes>"
      ]
     },
     "metadata": {},
     "output_type": "display_data"
    }
   ],
   "source": [
    "df2.plot.scatter(x='sepal_length',y='sepal_width');"
   ]
  },
  {
   "cell_type": "code",
   "execution_count": 12,
   "id": "adbe6571",
   "metadata": {},
   "outputs": [
    {
     "data": {
      "image/png": "[encoded data removed]",
      "text/plain": [
       "<Figure size 640x480 with 2 Axes>"
      ]
     },
     "metadata": {},
     "output_type": "display_data"
    }
   ],
   "source": [
    "df2.plot.scatter(x='sepal_length',y='sepal_width',c='petal_width',cmap='coolwarm');"
   ]
  },
  {
   "cell_type": "code",
   "execution_count": 13,
   "id": "2ecac6ab",
   "metadata": {},
   "outputs": [
    {
     "data": {
      "image/png": "[encoded data removed]",
      "text/plain": [
       "<Figure size 640x480 with 1 Axes>"
      ]
     },
     "metadata": {},
     "output_type": "display_data"
    }
   ],
   "source": [
    "df2.plot.box();"
   ]
  },
  {
   "cell_type": "code",
   "execution_count": 15,
   "id": "f0d1ec98",
   "metadata": {},
   "outputs": [
    {
     "data": {
      "image/png": "[encoded data removed]",
      "text/plain": [
       "<Figure size 600x600 with 1 Axes>"
      ]
     },
     "metadata": {},
     "output_type": "display_data"
    }
   ],
   "source": [
    "import numpy as np\n",
    "serie = pd.Series(3 * np.random.rand(4), index=['a', 'b', 'c', 'd'], name='series')\n",
    "serie.plot.pie(figsize=(6, 6));"
   ]
  },
  {
   "cell_type": "code",
   "execution_count": 16,
   "id": "8e9657e5",
   "metadata": {},
   "outputs": [
    {
     "data": {
      "image/png": "[encoded data removed]",
      "text/plain": [
       "<Figure size 800x800 with 16 Axes>"
      ]
     },
     "metadata": {},
     "output_type": "display_data"
    }
   ],
   "source": [
    "pd.plotting.scatter_matrix(df2, figsize=(8, 8));"
   ]
  },
  {
   "cell_type": "code",
   "execution_count": null,
   "id": "9d0ea9ae",
   "metadata": {},
   "outputs": [],
   "source": []
  }
 ],
 "metadata": {
  "kernelspec": {
   "display_name": "Python 3 (ipykernel)",
   "language": "python",
   "name": "python3"
  },
  "language_info": {
   "codemirror_mode": {
    "name": "ipython",
    "version": 3
   },
   "file_extension": ".py",
   "mimetype": "text/x-python",
   "name": "python",
   "nbconvert_exporter": "python",
   "pygments_lexer": "ipython3",
   "version": "3.8.5"
  }
 },
 "nbformat": 4,
 "nbformat_minor": 5
}
