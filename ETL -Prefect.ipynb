{
 "cells": [
  {
   "cell_type": "markdown",
   "id": "0c11cbae",
   "metadata": {},
   "source": [
    "# Laboratorio 1"
   ]
  },
  {
   "cell_type": "code",
   "execution_count": 3,
   "id": "180881a4",
   "metadata": {},
   "outputs": [
    {
     "name": "stdout",
     "output_type": "stream",
     "text": [
      "Looking in indexes: https://pypi.org/simple, https://pypi.ngc.nvidia.com\n",
      "Collecting pendulum==2.0.3\n",
      "  Downloading pendulum-2.0.3.tar.gz (75 kB)\n",
      "  Installing build dependencies: started\n",
      "  Installing build dependencies: finished with status 'done'\n",
      "  Getting requirements to build wheel: started\n",
      "  Getting requirements to build wheel: finished with status 'done'\n",
      "  Preparing metadata (pyproject.toml): started\n",
      "  Preparing metadata (pyproject.toml): finished with status 'done'\n",
      "Collecting pytzdata>=2018.3\n",
      "  Downloading pytzdata-2020.1-py2.py3-none-any.whl (489 kB)\n",
      "Requirement already satisfied: python-dateutil<3.0,>=2.6 in d:\\bcp\\algortimo\\entorno_etl_certus\\lib\\site-packages (from pendulum==2.0.3) (2.8.2)\n",
      "Requirement already satisfied: six>=1.5 in d:\\bcp\\algortimo\\entorno_etl_certus\\lib\\site-packages (from python-dateutil<3.0,>=2.6->pendulum==2.0.3) (1.16.0)\n",
      "Building wheels for collected packages: pendulum\n",
      "  Building wheel for pendulum (pyproject.toml): started\n",
      "  Building wheel for pendulum (pyproject.toml): finished with status 'done'\n",
      "  Created wheel for pendulum: filename=pendulum-2.0.3-cp310-cp310-win_amd64.whl size=103757 sha256=e26e8da7abc1fb8fed6dbaf83ae1c487e2ac36e5df34045abf97005a826cdf10\n",
      "  Stored in directory: C:\\Users\\LUIGGI\\AppData\\Local\\Temp\\pip-ephem-wheel-cache-xllkp_mr\\wheels\\df\\20\\07\\f2f2eb2da24589a5964e7191a567ebefa01659e2f4ff3d176c\n",
      "Successfully built pendulum\n",
      "Installing collected packages: pytzdata, pendulum\n",
      "Successfully installed pendulum-2.0.3 pytzdata-2020.1\n"
     ]
    },
    {
     "name": "stderr",
     "output_type": "stream",
     "text": [
      "WARNING: You are using pip version 21.3.1; however, version 23.0.1 is available.\n",
      "You should consider upgrading via the 'D:\\BCP\\ALGORTIMO\\ENTORNO_ETL_CERTUS\\Scripts\\python.exe -m pip install --upgrade pip' command.\n"
     ]
    },
    {
     "name": "stdout",
     "output_type": "stream",
     "text": [
      "Looking in indexes: https://pypi.org/simple, https://pypi.ngc.nvidia.com\n",
      "Collecting prefect\n",
      "  Downloading prefect-2.8.2-py3-none-any.whl (1.7 MB)\n",
      "Collecting coolname>=1.0.4\n",
      "  Downloading coolname-2.2.0-py2.py3-none-any.whl (37 kB)\n",
      "Requirement already satisfied: pytz>=2021.1 in d:\\bcp\\algortimo\\entorno_etl_certus\\lib\\site-packages (from prefect) (2022.7)\n",
      "Collecting fsspec>=2022.5.0\n",
      "  Downloading fsspec-2023.1.0-py3-none-any.whl (143 kB)\n",
      "Collecting griffe>=0.20.0\n",
      "  Downloading griffe-0.25.5-py3-none-any.whl (87 kB)\n",
      "Collecting asyncpg>=0.23\n",
      "  Downloading asyncpg-0.27.0-cp310-cp310-win_amd64.whl (516 kB)\n",
      "Collecting cloudpickle>=2.0\n",
      "  Downloading cloudpickle-2.2.1-py3-none-any.whl (25 kB)\n",
      "Collecting readchar>=4.0.0\n",
      "  Downloading readchar-4.0.3-py3-none-any.whl (8.4 kB)\n",
      "Collecting uvicorn>=0.14.0\n",
      "  Downloading uvicorn-0.20.0-py3-none-any.whl (56 kB)\n",
      "Collecting pydantic>=1.10.0\n",
      "  Downloading pydantic-1.10.5-cp310-cp310-win_amd64.whl (2.1 MB)\n",
      "Collecting fastapi>=0.70\n",
      "  Downloading fastapi-0.92.0-py3-none-any.whl (56 kB)\n",
      "Collecting apprise>=1.1.0\n",
      "  Downloading apprise-1.2.1-py2.py3-none-any.whl (1.1 MB)\n",
      "Collecting pendulum>=2.1.2\n",
      "  Downloading pendulum-2.1.2.tar.gz (81 kB)\n",
      "  Installing build dependencies: started\n",
      "  Installing build dependencies: finished with status 'done'\n",
      "  Getting requirements to build wheel: started\n",
      "  Getting requirements to build wheel: finished with status 'done'\n",
      "  Preparing metadata (pyproject.toml): started\n",
      "  Preparing metadata (pyproject.toml): finished with status 'done'\n",
      "Collecting rich>=11.0\n",
      "  Downloading rich-13.3.1-py3-none-any.whl (239 kB)\n",
      "Collecting asgi-lifespan>=1.0\n",
      "  Downloading asgi_lifespan-2.0.0-py3-none-any.whl (10 kB)\n",
      "Collecting sqlalchemy[asyncio]!=1.4.33,<2.0,>=1.4.22\n",
      "  Downloading SQLAlchemy-1.4.46-cp310-cp310-win_amd64.whl (1.6 MB)\n",
      "Collecting aiosqlite>=0.17.0\n",
      "  Downloading aiosqlite-0.18.0-py3-none-any.whl (15 kB)\n",
      "Collecting docker>=4.0\n",
      "  Downloading docker-6.0.1-py3-none-any.whl (147 kB)\n",
      "Collecting python-slugify>=5.0\n",
      "  Downloading python_slugify-8.0.0-py2.py3-none-any.whl (9.5 kB)\n",
      "Requirement already satisfied: typing-extensions>=4.1.0 in d:\\bcp\\algortimo\\entorno_etl_certus\\lib\\site-packages (from prefect) (4.5.0)\n",
      "Requirement already satisfied: anyio>=3.4.0 in d:\\bcp\\algortimo\\entorno_etl_certus\\lib\\site-packages (from prefect) (3.6.2)\n",
      "Requirement already satisfied: pyyaml>=5.4.1 in d:\\bcp\\algortimo\\entorno_etl_certus\\lib\\site-packages (from prefect) (6.0)\n",
      "Requirement already satisfied: jsonschema<5.0.0,>=3.2.0 in d:\\bcp\\algortimo\\entorno_etl_certus\\lib\\site-packages (from prefect) (4.17.3)\n",
      "Collecting pathspec>=0.8.0\n",
      "  Downloading pathspec-0.11.0-py3-none-any.whl (29 kB)\n",
      "Collecting orjson>=3.7\n",
      "  Downloading orjson-3.8.6-cp310-none-win_amd64.whl (195 kB)\n",
      "Collecting kubernetes>=24.2.0\n",
      "  Downloading kubernetes-26.1.0-py2.py3-none-any.whl (1.4 MB)\n",
      "Collecting websockets>=10.4\n",
      "  Downloading websockets-10.4-cp310-cp310-win_amd64.whl (101 kB)\n",
      "Requirement already satisfied: toml>=0.10.0 in d:\\bcp\\algortimo\\entorno_etl_certus\\lib\\site-packages (from prefect) (0.10.2)\n",
      "Collecting click<8.2,>=8.0\n",
      "  Downloading click-8.1.3-py3-none-any.whl (96 kB)\n",
      "Requirement already satisfied: packaging>=21.3 in d:\\bcp\\algortimo\\entorno_etl_certus\\lib\\site-packages (from prefect) (22.0)\n",
      "Collecting jsonpatch>=1.32\n",
      "  Downloading jsonpatch-1.32-py2.py3-none-any.whl (12 kB)\n",
      "Collecting alembic>=1.7.5\n",
      "  Downloading alembic-1.9.4-py3-none-any.whl (210 kB)\n",
      "Collecting httpx[http2]!=0.23.2,>=0.23\n",
      "  Downloading httpx-0.23.3-py3-none-any.whl (71 kB)\n",
      "Collecting dateparser>=1.1.1\n",
      "  Downloading dateparser-1.1.7-py2.py3-none-any.whl (293 kB)\n",
      "Requirement already satisfied: jinja2>=3.0.0 in d:\\bcp\\algortimo\\entorno_etl_certus\\lib\\site-packages (from prefect) (3.1.2)\n",
      "Collecting typer>=0.4.2\n",
      "  Downloading typer-0.7.0-py3-none-any.whl (38 kB)\n",
      "Collecting cryptography>=36.0.1\n",
      "  Downloading cryptography-39.0.1-cp36-abi3-win_amd64.whl (2.5 MB)\n",
      "Collecting croniter>=1.0.12\n",
      "  Downloading croniter-1.3.8-py2.py3-none-any.whl (18 kB)\n",
      "Collecting Mako\n",
      "  Downloading Mako-1.2.4-py3-none-any.whl (78 kB)\n",
      "Requirement already satisfied: SQLAlchemy>=1.3.0 in d:\\bcp\\algortimo\\entorno_etl_certus\\lib\\site-packages (from alembic>=1.7.5->prefect) (2.0.3)\n",
      "Requirement already satisfied: sniffio>=1.1 in d:\\bcp\\algortimo\\entorno_etl_certus\\lib\\site-packages (from anyio>=3.4.0->prefect) (1.3.0)\n",
      "Requirement already satisfied: idna>=2.8 in d:\\bcp\\algortimo\\entorno_etl_certus\\lib\\site-packages (from anyio>=3.4.0->prefect) (3.4)\n",
      "Requirement already satisfied: requests in d:\\bcp\\algortimo\\entorno_etl_certus\\lib\\site-packages (from apprise>=1.1.0->prefect) (2.28.2)\n",
      "Collecting requests-oauthlib\n",
      "  Downloading requests_oauthlib-1.3.1-py2.py3-none-any.whl (23 kB)\n",
      "Collecting markdown\n",
      "  Downloading Markdown-3.4.1-py3-none-any.whl (93 kB)\n",
      "Requirement already satisfied: certifi in d:\\bcp\\algortimo\\entorno_etl_certus\\lib\\site-packages (from apprise>=1.1.0->prefect) (2022.12.7)\n",
      "Requirement already satisfied: colorama in d:\\bcp\\algortimo\\entorno_etl_certus\\lib\\site-packages (from click<8.2,>=8.0->prefect) (0.4.6)\n",
      "Requirement already satisfied: python-dateutil in d:\\bcp\\algortimo\\entorno_etl_certus\\lib\\site-packages (from croniter>=1.0.12->prefect) (2.8.2)\n",
      "Requirement already satisfied: cffi>=1.12 in d:\\bcp\\algortimo\\entorno_etl_certus\\lib\\site-packages (from cryptography>=36.0.1->prefect) (1.15.1)\n",
      "Collecting regex!=2019.02.19,!=2021.8.27\n",
      "  Downloading regex-2022.10.31-cp310-cp310-win_amd64.whl (267 kB)\n",
      "Collecting tzlocal\n",
      "  Downloading tzlocal-4.2-py3-none-any.whl (19 kB)\n",
      "Requirement already satisfied: pywin32>=304 in d:\\bcp\\algortimo\\entorno_etl_certus\\lib\\site-packages (from docker>=4.0->prefect) (305)\n",
      "Requirement already satisfied: urllib3>=1.26.0 in d:\\bcp\\algortimo\\entorno_etl_certus\\lib\\site-packages (from docker>=4.0->prefect) (1.26.14)\n",
      "Requirement already satisfied: websocket-client>=0.32.0 in d:\\bcp\\algortimo\\entorno_etl_certus\\lib\\site-packages (from docker>=4.0->prefect) (1.4.2)\n",
      "Collecting starlette<0.26.0,>=0.25.0\n",
      "  Downloading starlette-0.25.0-py3-none-any.whl (66 kB)\n",
      "Collecting rfc3986[idna2008]<2,>=1.3\n",
      "  Downloading rfc3986-1.5.0-py2.py3-none-any.whl (31 kB)\n",
      "Collecting httpcore<0.17.0,>=0.15.0\n",
      "  Downloading httpcore-0.16.3-py3-none-any.whl (69 kB)\n",
      "Collecting h2<5,>=3\n",
      "  Downloading h2-4.1.0-py3-none-any.whl (57 kB)\n",
      "Requirement already satisfied: MarkupSafe>=2.0 in d:\\bcp\\algortimo\\entorno_etl_certus\\lib\\site-packages (from jinja2>=3.0.0->prefect) (2.1.1)\n",
      "Requirement already satisfied: jsonpointer>=1.9 in d:\\bcp\\algortimo\\entorno_etl_certus\\lib\\site-packages (from jsonpatch>=1.32->prefect) (2.3)\n",
      "Requirement already satisfied: pyrsistent!=0.17.0,!=0.17.1,!=0.17.2,>=0.14.0 in d:\\bcp\\algortimo\\entorno_etl_certus\\lib\\site-packages (from jsonschema<5.0.0,>=3.2.0->prefect) (0.19.2)\n",
      "Requirement already satisfied: attrs>=17.4.0 in d:\\bcp\\algortimo\\entorno_etl_certus\\lib\\site-packages (from jsonschema<5.0.0,>=3.2.0->prefect) (22.2.0)\n",
      "Collecting google-auth>=1.0.1\n",
      "  Downloading google_auth-2.16.1-py2.py3-none-any.whl (177 kB)\n",
      "Requirement already satisfied: setuptools>=21.0.0 in d:\\bcp\\algortimo\\entorno_etl_certus\\lib\\site-packages (from kubernetes>=24.2.0->prefect) (60.0.3)\n",
      "Requirement already satisfied: six>=1.9.0 in d:\\bcp\\algortimo\\entorno_etl_certus\\lib\\site-packages (from kubernetes>=24.2.0->prefect) (1.16.0)\n",
      "Requirement already satisfied: pytzdata>=2020.1 in d:\\bcp\\algortimo\\entorno_etl_certus\\lib\\site-packages (from pendulum>=2.1.2->prefect) (2020.1)\n",
      "Collecting text-unidecode>=1.3\n",
      "  Downloading text_unidecode-1.3-py2.py3-none-any.whl (78 kB)\n",
      "Collecting markdown-it-py<3.0.0,>=2.1.0\n",
      "  Downloading markdown_it_py-2.1.0-py3-none-any.whl (84 kB)\n",
      "Collecting pygments<3.0.0,>=2.14.0\n",
      "  Downloading Pygments-2.14.0-py3-none-any.whl (1.1 MB)\n",
      "Requirement already satisfied: greenlet!=0.4.17 in d:\\bcp\\algortimo\\entorno_etl_certus\\lib\\site-packages (from sqlalchemy[asyncio]!=1.4.33,<2.0,>=1.4.22->prefect) (2.0.2)\n",
      "Collecting h11>=0.8\n",
      "  Downloading h11-0.14.0-py3-none-any.whl (58 kB)\n",
      "Requirement already satisfied: pycparser in d:\\bcp\\algortimo\\entorno_etl_certus\\lib\\site-packages (from cffi>=1.12->cryptography>=36.0.1->prefect) (2.21)\n",
      "Collecting pyasn1-modules>=0.2.1\n",
      "  Downloading pyasn1_modules-0.2.8-py2.py3-none-any.whl (155 kB)\n",
      "Collecting cachetools<6.0,>=2.0.0\n",
      "  Downloading cachetools-5.3.0-py3-none-any.whl (9.3 kB)\n",
      "Collecting rsa<5,>=3.1.4\n",
      "  Downloading rsa-4.9-py3-none-any.whl (34 kB)\n",
      "Collecting hpack<5,>=4.0\n",
      "  Downloading hpack-4.0.0-py3-none-any.whl (32 kB)\n",
      "Collecting hyperframe<7,>=6.0\n",
      "  Downloading hyperframe-6.0.1-py3-none-any.whl (12 kB)\n",
      "Collecting mdurl~=0.1\n",
      "  Downloading mdurl-0.1.2-py3-none-any.whl (10.0 kB)\n",
      "Requirement already satisfied: charset-normalizer<4,>=2 in d:\\bcp\\algortimo\\entorno_etl_certus\\lib\\site-packages (from requests->apprise>=1.1.0->prefect) (3.0.1)\n",
      "Collecting oauthlib>=3.0.0\n",
      "  Downloading oauthlib-3.2.2-py3-none-any.whl (151 kB)\n",
      "Collecting pytz-deprecation-shim\n",
      "  Downloading pytz_deprecation_shim-0.1.0.post0-py2.py3-none-any.whl (15 kB)\n",
      "Collecting tzdata\n",
      "  Downloading tzdata-2022.7-py2.py3-none-any.whl (340 kB)\n",
      "Collecting pyasn1<0.5.0,>=0.4.6\n",
      "  Downloading pyasn1-0.4.8-py2.py3-none-any.whl (77 kB)\n",
      "Building wheels for collected packages: pendulum\n",
      "  Building wheel for pendulum (pyproject.toml): started\n",
      "  Building wheel for pendulum (pyproject.toml): finished with status 'error'\n",
      "Failed to build pendulum\n"
     ]
    },
    {
     "name": "stderr",
     "output_type": "stream",
     "text": [
      "  ERROR: Command errored out with exit status 1:\n",
      "   command: 'D:\\BCP\\ALGORTIMO\\ENTORNO_ETL_CERTUS\\Scripts\\python.exe' 'D:\\BCP\\ALGORTIMO\\ENTORNO_ETL_CERTUS\\lib\\site-packages\\pip\\_vendor\\pep517\\in_process\\_in_process.py' build_wheel 'C:\\Users\\LUIGGI\\AppData\\Local\\Temp\\tmpmdc1d387'\n",
      "       cwd: C:\\Users\\LUIGGI\\AppData\\Local\\Temp\\pip-install-ohwbir4f\\pendulum_8c4a7690663f4256bbc3523456703796\n",
      "  Complete output (28 lines):\n",
      "  Traceback (most recent call last):\n",
      "    File \"C:\\Users\\LUIGGI\\AppData\\Local\\Temp\\pip-install-ohwbir4f\\pendulum_8c4a7690663f4256bbc3523456703796\\build.py\", line 5, in <module>\n",
      "      from distutils.command.build_ext import build_ext\n",
      "    File \"D:\\BCP\\ALGORTIMO\\ENTORNO_ETL_CERTUS\\lib\\site-packages\\_distutils_hack\\__init__.py\", line 92, in create_module\n",
      "      return importlib.import_module('setuptools._distutils')\n",
      "    File \"C:\\Python310\\lib\\importlib\\__init__.py\", line 126, in import_module\n",
      "      return _bootstrap._gcd_import(name[level:], package, level)\n",
      "  ModuleNotFoundError: No module named 'setuptools'\n",
      "  Traceback (most recent call last):\n",
      "    File \"D:\\BCP\\ALGORTIMO\\ENTORNO_ETL_CERTUS\\lib\\site-packages\\pip\\_vendor\\pep517\\in_process\\_in_process.py\", line 363, in <module>\n",
      "      main()\n",
      "    File \"D:\\BCP\\ALGORTIMO\\ENTORNO_ETL_CERTUS\\lib\\site-packages\\pip\\_vendor\\pep517\\in_process\\_in_process.py\", line 345, in main\n",
      "      json_out['return_val'] = hook(**hook_input['kwargs'])\n",
      "    File \"D:\\BCP\\ALGORTIMO\\ENTORNO_ETL_CERTUS\\lib\\site-packages\\pip\\_vendor\\pep517\\in_process\\_in_process.py\", line 261, in build_wheel\n",
      "      return _build_backend().build_wheel(wheel_directory, config_settings,\n",
      "    File \"C:\\Users\\LUIGGI\\AppData\\Local\\Temp\\pip-build-env-zfkm76nz\\overlay\\Lib\\site-packages\\poetry\\core\\masonry\\api.py\", line 56, in build_wheel\n",
      "      return WheelBuilder.make_in(\n",
      "    File \"C:\\Users\\LUIGGI\\AppData\\Local\\Temp\\pip-build-env-zfkm76nz\\overlay\\Lib\\site-packages\\poetry\\core\\masonry\\builders\\wheel.py\", line 85, in make_in\n",
      "      wb.build(target_dir=directory)\n",
      "    File \"C:\\Users\\LUIGGI\\AppData\\Local\\Temp\\pip-build-env-zfkm76nz\\overlay\\Lib\\site-packages\\poetry\\core\\masonry\\builders\\wheel.py\", line 120, in build\n",
      "      self._build(zip_file)\n",
      "    File \"C:\\Users\\LUIGGI\\AppData\\Local\\Temp\\pip-build-env-zfkm76nz\\overlay\\Lib\\site-packages\\poetry\\core\\masonry\\builders\\wheel.py\", line 169, in _build\n",
      "      self._run_build_script(self._package.build_script)\n",
      "    File \"C:\\Users\\LUIGGI\\AppData\\Local\\Temp\\pip-build-env-zfkm76nz\\overlay\\Lib\\site-packages\\poetry\\core\\masonry\\builders\\wheel.py\", line 229, in _run_build_script\n",
      "      subprocess.check_call([self.executable.as_posix(), build_script])\n",
      "    File \"C:\\Python310\\lib\\subprocess.py\", line 369, in check_call\n",
      "      raise CalledProcessError(retcode, cmd)\n",
      "  subprocess.CalledProcessError: Command '['D:/BCP/ALGORTIMO/ENTORNO_ETL_CERTUS/Scripts/python.exe', 'build.py']' returned non-zero exit status 1.\n",
      "  ----------------------------------------\n",
      "  ERROR: Failed building wheel for pendulum\n",
      "ERROR: Could not build wheels for pendulum, which is required to install pyproject.toml-based projects\n",
      "WARNING: You are using pip version 21.3.1; however, version 23.0.1 is available.\n",
      "You should consider upgrading via the 'D:\\BCP\\ALGORTIMO\\ENTORNO_ETL_CERTUS\\Scripts\\python.exe -m pip install --upgrade pip' command.\n"
     ]
    }
   ],
   "source": [
    "!pip install pendulum==2.0.3\n",
    "!pip install prefect"
   ]
  },
  {
   "cell_type": "code",
   "execution_count": null,
   "id": "b8351b11",
   "metadata": {},
   "outputs": [],
   "source": [
    "#En caso exista un error https://www.sqlite.org/download.html les enseñare este tutorial"
   ]
  },
  {
   "cell_type": "markdown",
   "id": "7f52b9b6",
   "metadata": {},
   "source": [
    "# Introduccion del flujo de prefect\n",
    "\n",
    "Comencemos con lo básico, definiendo los componentes centrales de los flujos de trabajo de Prefect.\n",
    "\n",
    "Un flujo es la base de todos los flujos de trabajo de Prefect. Un flujo es una función de Python decorada con un decorador. @flow\n",
    "\n",
    "Una tarea es una función de Python decorada con un decorador. Las tareas representan distintas piezas de trabajo ejecutadas dentro de un flujo. @task\n",
    "\n",
    "Todos los flujos de trabajo de Prefect se definen en el contexto de un flujo. Cada flujo de trabajo de Prefect debe contener al menos una función de flujo que sirva como punto de entrada para la ejecución del flujo.\n",
    "\n",
    "Los flujos pueden incluir llamadas a tareas, así como flujos secundarios, que llamamos \"subflujos\" en este contexto. En un nivel alto, esto es como escribir cualquier otra aplicación de Python: organiza el trabajo específico y repetitivo en tareas y llama a esas tareas desde flujos."
   ]
  },
  {
   "cell_type": "code",
   "execution_count": 21,
   "id": "bec3b777",
   "metadata": {},
   "outputs": [
    {
     "data": {
      "text/html": [
       "<pre style=\"white-space:pre;overflow-x:auto;line-height:normal;font-family:Menlo,'DejaVu Sans Mono',consolas,'Courier New',monospace\">20:06:44.589 | <span style=\"color: #008080; text-decoration-color: #008080\">INFO</span>    | prefect.engine - Created flow run<span style=\"color: #800080; text-decoration-color: #800080\"> 'messy-fossa'</span> for flow<span style=\"color: #800080; text-decoration-color: #800080; font-weight: bold\"> 'my-favorite-function'</span>\n",
       "</pre>\n"
      ],
      "text/plain": [
       "20:06:44.589 | \u001b[36mINFO\u001b[0m    | prefect.engine - Created flow run\u001b[35m 'messy-fossa'\u001b[0m for flow\u001b[1;35m 'my-favorite-function'\u001b[0m\n"
      ]
     },
     "metadata": {},
     "output_type": "display_data"
    },
    {
     "name": "stdout",
     "output_type": "stream",
     "text": [
      "What is your favorite number?\n"
     ]
    },
    {
     "data": {
      "text/html": [
       "<pre style=\"white-space:pre;overflow-x:auto;line-height:normal;font-family:Menlo,'DejaVu Sans Mono',consolas,'Courier New',monospace\">20:06:44.876 | <span style=\"color: #008080; text-decoration-color: #008080\">INFO</span>    | Flow run<span style=\"color: #800080; text-decoration-color: #800080\"> 'messy-fossa'</span> - Finished in state <span style=\"color: #008000; text-decoration-color: #008000\">Completed</span>()\n",
       "</pre>\n"
      ],
      "text/plain": [
       "20:06:44.876 | \u001b[36mINFO\u001b[0m    | Flow run\u001b[35m 'messy-fossa'\u001b[0m - Finished in state \u001b[32mCompleted\u001b[0m()\n"
      ]
     },
     "metadata": {},
     "output_type": "display_data"
    },
    {
     "data": {
      "text/plain": [
       "42"
      ]
     },
     "execution_count": 21,
     "metadata": {},
     "output_type": "execute_result"
    }
   ],
   "source": [
    "#FLujo basico\n",
    "from prefect import flow\n",
    "import sqlite3\n",
    "@flow\n",
    "def my_favorite_function():\n",
    "    print(\"What is your favorite number?\")\n",
    "    return(42)\n",
    "\n",
    "my_favorite_function()"
   ]
  },
  {
   "cell_type": "markdown",
   "id": "2ecf74b0",
   "metadata": {},
   "source": [
    "### Ejecutar flujos con parámetros\n",
    "Al igual que con cualquier función de Python, puede pasar argumentos. Los argumentos posicionales y de palabras clave definidos en la función de flujo se denominan parámetros. Para demostrarlo, ejecute este código:"
   ]
  },
  {
   "cell_type": "code",
   "execution_count": 22,
   "id": "6a488c9b",
   "metadata": {},
   "outputs": [
    {
     "data": {
      "text/html": [
       "<pre style=\"white-space:pre;overflow-x:auto;line-height:normal;font-family:Menlo,'DejaVu Sans Mono',consolas,'Courier New',monospace\">20:34:41.880 | <span style=\"color: #008080; text-decoration-color: #008080\">INFO</span>    | prefect.engine - Created flow run<span style=\"color: #800080; text-decoration-color: #800080\"> 'esoteric-raven'</span> for flow<span style=\"color: #800080; text-decoration-color: #800080; font-weight: bold\"> 'call-api'</span>\n",
       "</pre>\n"
      ],
      "text/plain": [
       "20:34:41.880 | \u001b[36mINFO\u001b[0m    | prefect.engine - Created flow run\u001b[35m 'esoteric-raven'\u001b[0m for flow\u001b[1;35m 'call-api'\u001b[0m\n"
      ]
     },
     "metadata": {},
     "output_type": "display_data"
    },
    {
     "data": {
      "text/html": [
       "<pre style=\"white-space:pre;overflow-x:auto;line-height:normal;font-family:Menlo,'DejaVu Sans Mono',consolas,'Courier New',monospace\">20:34:43.021 | <span style=\"color: #008080; text-decoration-color: #008080\">INFO</span>    | Flow run<span style=\"color: #800080; text-decoration-color: #800080\"> 'esoteric-raven'</span> - Finished in state <span style=\"color: #008000; text-decoration-color: #008000\">Completed</span>()\n",
       "</pre>\n"
      ],
      "text/plain": [
       "20:34:43.021 | \u001b[36mINFO\u001b[0m    | Flow run\u001b[35m 'esoteric-raven'\u001b[0m - Finished in state \u001b[32mCompleted\u001b[0m()\n"
      ]
     },
     "metadata": {},
     "output_type": "display_data"
    },
    {
     "name": "stdout",
     "output_type": "stream",
     "text": [
      "{'date': '01-13-2023', 'milliseconds_since_epoch': 1673573680416, 'time': '01:34:40 AM'}\n"
     ]
    }
   ],
   "source": [
    "import requests\n",
    "from prefect import flow\n",
    "\n",
    "@flow\n",
    "def call_api(url):\n",
    "    return requests.get(url).json()\n",
    "\n",
    "api_result = call_api(\"http://time.jsontest.com/\")\n",
    "print(api_result)"
   ]
  },
  {
   "cell_type": "markdown",
   "id": "d5cefe49",
   "metadata": {},
   "source": [
    "### Ejecutar un flujo básico con tareas\n",
    "Agreguemos ahora algunas tareas a un flujo para que podamos orquestar y monitorear a un nivel más granular.\n",
    "\n",
    "Una tarea es una función que representa una pieza distinta de trabajo ejecutada dentro de un flujo. No tiene que usar tareas: puede incluir toda la lógica de su flujo de trabajo dentro del propio flujo. Sin embargo, encapsular la lógica empresarial en unidades de tareas más pequeñas le proporciona una observabilidad más granular, control sobre cómo se ejecutan tareas específicas (aprovechando potencialmente la ejecución paralela) y la capacidad de reutilizar tareas en flujos y subflujos.\n",
    "\n",
    "La creación y adición de tareas sigue exactamente el mismo patrón que para los flujos. Importe y utilice el decorador @task para anotar funciones como tareas.task\n",
    "\n",
    "Tomemos el ejemplo anterior y movamos la solicitud HTTP real a su propia tarea.call_api()"
   ]
  },
  {
   "cell_type": "code",
   "execution_count": 23,
   "id": "197e8b1b",
   "metadata": {},
   "outputs": [
    {
     "data": {
      "text/html": [
       "<pre style=\"white-space:pre;overflow-x:auto;line-height:normal;font-family:Menlo,'DejaVu Sans Mono',consolas,'Courier New',monospace\">20:36:56.181 | <span style=\"color: #008080; text-decoration-color: #008080\">INFO</span>    | prefect.engine - Created flow run<span style=\"color: #800080; text-decoration-color: #800080\"> 'qualified-ostrich'</span> for flow<span style=\"color: #800080; text-decoration-color: #800080; font-weight: bold\"> 'api-flow'</span>\n",
       "</pre>\n"
      ],
      "text/plain": [
       "20:36:56.181 | \u001b[36mINFO\u001b[0m    | prefect.engine - Created flow run\u001b[35m 'qualified-ostrich'\u001b[0m for flow\u001b[1;35m 'api-flow'\u001b[0m\n"
      ]
     },
     "metadata": {},
     "output_type": "display_data"
    },
    {
     "data": {
      "text/html": [
       "<pre style=\"white-space:pre;overflow-x:auto;line-height:normal;font-family:Menlo,'DejaVu Sans Mono',consolas,'Courier New',monospace\">20:36:56.375 | <span style=\"color: #008080; text-decoration-color: #008080\">INFO</span>    | Flow run<span style=\"color: #800080; text-decoration-color: #800080\"> 'qualified-ostrich'</span> - Created task run 'call_api-ded10bed-0' for task 'call_api'\n",
       "</pre>\n"
      ],
      "text/plain": [
       "20:36:56.375 | \u001b[36mINFO\u001b[0m    | Flow run\u001b[35m 'qualified-ostrich'\u001b[0m - Created task run 'call_api-ded10bed-0' for task 'call_api'\n"
      ]
     },
     "metadata": {},
     "output_type": "display_data"
    },
    {
     "data": {
      "text/html": [
       "<pre style=\"white-space:pre;overflow-x:auto;line-height:normal;font-family:Menlo,'DejaVu Sans Mono',consolas,'Courier New',monospace\">20:36:56.377 | <span style=\"color: #008080; text-decoration-color: #008080\">INFO</span>    | Flow run<span style=\"color: #800080; text-decoration-color: #800080\"> 'qualified-ostrich'</span> - Executing 'call_api-ded10bed-0' immediately...\n",
       "</pre>\n"
      ],
      "text/plain": [
       "20:36:56.377 | \u001b[36mINFO\u001b[0m    | Flow run\u001b[35m 'qualified-ostrich'\u001b[0m - Executing 'call_api-ded10bed-0' immediately...\n"
      ]
     },
     "metadata": {},
     "output_type": "display_data"
    },
    {
     "name": "stdout",
     "output_type": "stream",
     "text": [
      "200\n"
     ]
    },
    {
     "data": {
      "text/html": [
       "<pre style=\"white-space:pre;overflow-x:auto;line-height:normal;font-family:Menlo,'DejaVu Sans Mono',consolas,'Courier New',monospace\">20:36:56.950 | <span style=\"color: #008080; text-decoration-color: #008080\">INFO</span>    | Task run 'call_api-ded10bed-0' - Finished in state <span style=\"color: #008000; text-decoration-color: #008000\">Completed</span>()\n",
       "</pre>\n"
      ],
      "text/plain": [
       "20:36:56.950 | \u001b[36mINFO\u001b[0m    | Task run 'call_api-ded10bed-0' - Finished in state \u001b[32mCompleted\u001b[0m()\n"
      ]
     },
     "metadata": {},
     "output_type": "display_data"
    },
    {
     "data": {
      "text/html": [
       "<pre style=\"white-space:pre;overflow-x:auto;line-height:normal;font-family:Menlo,'DejaVu Sans Mono',consolas,'Courier New',monospace\">20:36:56.991 | <span style=\"color: #008080; text-decoration-color: #008080\">INFO</span>    | Flow run<span style=\"color: #800080; text-decoration-color: #800080\"> 'qualified-ostrich'</span> - Finished in state <span style=\"color: #008000; text-decoration-color: #008000\">Completed</span>()\n",
       "</pre>\n"
      ],
      "text/plain": [
       "20:36:56.991 | \u001b[36mINFO\u001b[0m    | Flow run\u001b[35m 'qualified-ostrich'\u001b[0m - Finished in state \u001b[32mCompleted\u001b[0m()\n"
      ]
     },
     "metadata": {},
     "output_type": "display_data"
    },
    {
     "name": "stdout",
     "output_type": "stream",
     "text": [
      "{'fact': 'A cat will tremble or shiver when it is in extreme pain.', 'length': 56}\n"
     ]
    }
   ],
   "source": [
    "import requests\n",
    "from prefect import flow, task\n",
    "\n",
    "@task\n",
    "def call_api(url):\n",
    "    response = requests.get(url)\n",
    "    print(response.status_code)\n",
    "    return response.json()\n",
    "\n",
    "@flow\n",
    "def api_flow(url):\n",
    "    fact_json = call_api(url)\n",
    "    return fact_json\n",
    "\n",
    "print(api_flow(\"https://catfact.ninja/fact\"))"
   ]
  },
  {
   "cell_type": "markdown",
   "id": "cf03d44d",
   "metadata": {},
   "source": [
    "Y, por supuesto, podemos crear tareas que tomen entradas y pasen entradas a otras tareas."
   ]
  },
  {
   "cell_type": "code",
   "execution_count": 24,
   "id": "1bcb1eb0",
   "metadata": {},
   "outputs": [
    {
     "name": "stderr",
     "output_type": "stream",
     "text": [
      "D:\\BCP\\ALGORTIMO\\Curso_ETL_Python\\lib\\site-packages\\prefect\\tasks.py:256: UserWarning: A task named 'call_api2' and defined at 'C:\\Users\\LUIGGI\\AppData\\Local\\Temp\\ipykernel_17924\\407617822.py:4' conflicts with another task. Consider specifying a unique `name` parameter in the task definition:\n",
      "\n",
      " `@task(name='my_unique_name', ...)`\n",
      "  warnings.warn(\n",
      "D:\\BCP\\ALGORTIMO\\Curso_ETL_Python\\lib\\site-packages\\prefect\\tasks.py:256: UserWarning: A task named 'parse_fact2' and defined at 'C:\\Users\\LUIGGI\\AppData\\Local\\Temp\\ipykernel_17924\\407617822.py:10' conflicts with another task. Consider specifying a unique `name` parameter in the task definition:\n",
      "\n",
      " `@task(name='my_unique_name', ...)`\n",
      "  warnings.warn(\n",
      "D:\\BCP\\ALGORTIMO\\Curso_ETL_Python\\lib\\site-packages\\prefect\\flows.py:206: UserWarning: A flow named 'api-flow2' and defined at 'C:\\Users\\LUIGGI\\AppData\\Local\\Temp\\ipykernel_17924\\407617822.py:16' conflicts with another flow. Consider specifying a unique `name` parameter in the flow definition:\n",
      "\n",
      " `@flow(name='my_unique_name', ...)`\n",
      "  warnings.warn(\n"
     ]
    },
    {
     "data": {
      "text/html": [
       "<pre style=\"white-space:pre;overflow-x:auto;line-height:normal;font-family:Menlo,'DejaVu Sans Mono',consolas,'Courier New',monospace\">20:39:05.466 | <span style=\"color: #008080; text-decoration-color: #008080\">INFO</span>    | prefect.engine - Created flow run<span style=\"color: #800080; text-decoration-color: #800080\"> 'fanatic-echidna'</span> for flow<span style=\"color: #800080; text-decoration-color: #800080; font-weight: bold\"> 'api-flow2'</span>\n",
       "</pre>\n"
      ],
      "text/plain": [
       "20:39:05.466 | \u001b[36mINFO\u001b[0m    | prefect.engine - Created flow run\u001b[35m 'fanatic-echidna'\u001b[0m for flow\u001b[1;35m 'api-flow2'\u001b[0m\n"
      ]
     },
     "metadata": {},
     "output_type": "display_data"
    },
    {
     "data": {
      "text/html": [
       "<pre style=\"white-space:pre;overflow-x:auto;line-height:normal;font-family:Menlo,'DejaVu Sans Mono',consolas,'Courier New',monospace\">20:39:05.733 | <span style=\"color: #008080; text-decoration-color: #008080\">INFO</span>    | Flow run<span style=\"color: #800080; text-decoration-color: #800080\"> 'fanatic-echidna'</span> - Created task run 'call_api2-26498c32-0' for task 'call_api2'\n",
       "</pre>\n"
      ],
      "text/plain": [
       "20:39:05.733 | \u001b[36mINFO\u001b[0m    | Flow run\u001b[35m 'fanatic-echidna'\u001b[0m - Created task run 'call_api2-26498c32-0' for task 'call_api2'\n"
      ]
     },
     "metadata": {},
     "output_type": "display_data"
    },
    {
     "data": {
      "text/html": [
       "<pre style=\"white-space:pre;overflow-x:auto;line-height:normal;font-family:Menlo,'DejaVu Sans Mono',consolas,'Courier New',monospace\">20:39:05.735 | <span style=\"color: #008080; text-decoration-color: #008080\">INFO</span>    | Flow run<span style=\"color: #800080; text-decoration-color: #800080\"> 'fanatic-echidna'</span> - Executing 'call_api2-26498c32-0' immediately...\n",
       "</pre>\n"
      ],
      "text/plain": [
       "20:39:05.735 | \u001b[36mINFO\u001b[0m    | Flow run\u001b[35m 'fanatic-echidna'\u001b[0m - Executing 'call_api2-26498c32-0' immediately...\n"
      ]
     },
     "metadata": {},
     "output_type": "display_data"
    },
    {
     "name": "stdout",
     "output_type": "stream",
     "text": [
      "200\n"
     ]
    },
    {
     "data": {
      "text/html": [
       "<pre style=\"white-space:pre;overflow-x:auto;line-height:normal;font-family:Menlo,'DejaVu Sans Mono',consolas,'Courier New',monospace\">20:39:06.233 | <span style=\"color: #008080; text-decoration-color: #008080\">INFO</span>    | Task run 'call_api2-26498c32-0' - Finished in state <span style=\"color: #008000; text-decoration-color: #008000\">Completed</span>()\n",
       "</pre>\n"
      ],
      "text/plain": [
       "20:39:06.233 | \u001b[36mINFO\u001b[0m    | Task run 'call_api2-26498c32-0' - Finished in state \u001b[32mCompleted\u001b[0m()\n"
      ]
     },
     "metadata": {},
     "output_type": "display_data"
    },
    {
     "data": {
      "text/html": [
       "<pre style=\"white-space:pre;overflow-x:auto;line-height:normal;font-family:Menlo,'DejaVu Sans Mono',consolas,'Courier New',monospace\">20:39:06.284 | <span style=\"color: #008080; text-decoration-color: #008080\">INFO</span>    | Flow run<span style=\"color: #800080; text-decoration-color: #800080\"> 'fanatic-echidna'</span> - Created task run 'parse_fact2-3fba20db-0' for task 'parse_fact2'\n",
       "</pre>\n"
      ],
      "text/plain": [
       "20:39:06.284 | \u001b[36mINFO\u001b[0m    | Flow run\u001b[35m 'fanatic-echidna'\u001b[0m - Created task run 'parse_fact2-3fba20db-0' for task 'parse_fact2'\n"
      ]
     },
     "metadata": {},
     "output_type": "display_data"
    },
    {
     "data": {
      "text/html": [
       "<pre style=\"white-space:pre;overflow-x:auto;line-height:normal;font-family:Menlo,'DejaVu Sans Mono',consolas,'Courier New',monospace\">20:39:06.287 | <span style=\"color: #008080; text-decoration-color: #008080\">INFO</span>    | Flow run<span style=\"color: #800080; text-decoration-color: #800080\"> 'fanatic-echidna'</span> - Executing 'parse_fact2-3fba20db-0' immediately...\n",
       "</pre>\n"
      ],
      "text/plain": [
       "20:39:06.287 | \u001b[36mINFO\u001b[0m    | Flow run\u001b[35m 'fanatic-echidna'\u001b[0m - Executing 'parse_fact2-3fba20db-0' immediately...\n"
      ]
     },
     "metadata": {},
     "output_type": "display_data"
    },
    {
     "name": "stdout",
     "output_type": "stream",
     "text": [
      "The leopard is the most widespread of all big cats.\n"
     ]
    },
    {
     "data": {
      "text/html": [
       "<pre style=\"white-space:pre;overflow-x:auto;line-height:normal;font-family:Menlo,'DejaVu Sans Mono',consolas,'Courier New',monospace\">20:39:06.413 | <span style=\"color: #008080; text-decoration-color: #008080\">INFO</span>    | Task run 'parse_fact2-3fba20db-0' - Finished in state <span style=\"color: #008000; text-decoration-color: #008000\">Completed</span>()\n",
       "</pre>\n"
      ],
      "text/plain": [
       "20:39:06.413 | \u001b[36mINFO\u001b[0m    | Task run 'parse_fact2-3fba20db-0' - Finished in state \u001b[32mCompleted\u001b[0m()\n"
      ]
     },
     "metadata": {},
     "output_type": "display_data"
    },
    {
     "data": {
      "text/html": [
       "<pre style=\"white-space:pre;overflow-x:auto;line-height:normal;font-family:Menlo,'DejaVu Sans Mono',consolas,'Courier New',monospace\">20:39:06.475 | <span style=\"color: #008080; text-decoration-color: #008080\">INFO</span>    | Flow run<span style=\"color: #800080; text-decoration-color: #800080\"> 'fanatic-echidna'</span> - Finished in state <span style=\"color: #008000; text-decoration-color: #008000\">Completed</span>()\n",
       "</pre>\n"
      ],
      "text/plain": [
       "20:39:06.475 | \u001b[36mINFO\u001b[0m    | Flow run\u001b[35m 'fanatic-echidna'\u001b[0m - Finished in state \u001b[32mCompleted\u001b[0m()\n"
      ]
     },
     "metadata": {},
     "output_type": "display_data"
    },
    {
     "data": {
      "text/plain": [
       "'The leopard is the most widespread of all big cats.'"
      ]
     },
     "execution_count": 24,
     "metadata": {},
     "output_type": "execute_result"
    }
   ],
   "source": [
    "import requests\n",
    "from prefect import flow, task\n",
    "\n",
    "@task\n",
    "def call_api2(url):\n",
    "    response = requests.get(url)\n",
    "    print(response.status_code)\n",
    "    return response.json()\n",
    "\n",
    "@task\n",
    "def parse_fact2(response):\n",
    "    fact = response[\"fact\"]\n",
    "    print(fact)\n",
    "    return fact\n",
    "\n",
    "@flow\n",
    "def api_flow2(url):\n",
    "    fact_json = call_api2(url)\n",
    "    fact_text = parse_fact2(fact_json)\n",
    "    return fact_text\n",
    "\n",
    "api_flow2(\"https://catfact.ninja/fact\")"
   ]
  },
  {
   "cell_type": "markdown",
   "id": "347b6a01",
   "metadata": {},
   "source": [
    "### Ejecutar un flujo dentro de un flujo\n",
    "¡No solo puede llamar a funciones de tareas dentro de un flujo, sino que también puede llamar a otras funciones de flujo! Los flujos secundarios se denominan subflujos y permiten administrar, realizar un seguimiento y crear versiones de la lógica multitarea común de manera eficaz. Consulte la sección Redacción de flujos de la documentación de flujos para obtener más información.\n",
    "\n",
    "Considere el siguiente ejemplo simple:"
   ]
  },
  {
   "cell_type": "code",
   "execution_count": 25,
   "id": "e7373f34",
   "metadata": {},
   "outputs": [
    {
     "data": {
      "text/html": [
       "<pre style=\"white-space:pre;overflow-x:auto;line-height:normal;font-family:Menlo,'DejaVu Sans Mono',consolas,'Courier New',monospace\">20:42:25.779 | <span style=\"color: #008080; text-decoration-color: #008080\">INFO</span>    | prefect.engine - Created flow run<span style=\"color: #800080; text-decoration-color: #800080\"> 'eggplant-newt'</span> for flow<span style=\"color: #800080; text-decoration-color: #800080; font-weight: bold\"> 'main-flow'</span>\n",
       "</pre>\n"
      ],
      "text/plain": [
       "20:42:25.779 | \u001b[36mINFO\u001b[0m    | prefect.engine - Created flow run\u001b[35m 'eggplant-newt'\u001b[0m for flow\u001b[1;35m 'main-flow'\u001b[0m\n"
      ]
     },
     "metadata": {},
     "output_type": "display_data"
    },
    {
     "data": {
      "text/html": [
       "<pre style=\"white-space:pre;overflow-x:auto;line-height:normal;font-family:Menlo,'DejaVu Sans Mono',consolas,'Courier New',monospace\">20:42:26.049 | <span style=\"color: #008080; text-decoration-color: #008080\">INFO</span>    | Flow run<span style=\"color: #800080; text-decoration-color: #800080\"> 'eggplant-newt'</span> - Created subflow run<span style=\"color: #800080; text-decoration-color: #800080\"> 'careful-termite'</span> for flow<span style=\"color: #800080; text-decoration-color: #800080; font-weight: bold\"> 'common-flow'</span>\n",
       "</pre>\n"
      ],
      "text/plain": [
       "20:42:26.049 | \u001b[36mINFO\u001b[0m    | Flow run\u001b[35m 'eggplant-newt'\u001b[0m - Created subflow run\u001b[35m 'careful-termite'\u001b[0m for flow\u001b[1;35m 'common-flow'\u001b[0m\n"
      ]
     },
     "metadata": {},
     "output_type": "display_data"
    },
    {
     "name": "stdout",
     "output_type": "stream",
     "text": [
      "I am a subgraph that shows up in lots of places!\n"
     ]
    },
    {
     "data": {
      "text/html": [
       "<pre style=\"white-space:pre;overflow-x:auto;line-height:normal;font-family:Menlo,'DejaVu Sans Mono',consolas,'Courier New',monospace\">20:42:26.159 | <span style=\"color: #008080; text-decoration-color: #008080\">INFO</span>    | Flow run<span style=\"color: #800080; text-decoration-color: #800080\"> 'careful-termite'</span> - Finished in state <span style=\"color: #008000; text-decoration-color: #008000\">Completed</span>()\n",
       "</pre>\n"
      ],
      "text/plain": [
       "20:42:26.159 | \u001b[36mINFO\u001b[0m    | Flow run\u001b[35m 'careful-termite'\u001b[0m - Finished in state \u001b[32mCompleted\u001b[0m()\n"
      ]
     },
     "metadata": {},
     "output_type": "display_data"
    },
    {
     "data": {
      "text/html": [
       "<pre style=\"white-space:pre;overflow-x:auto;line-height:normal;font-family:Menlo,'DejaVu Sans Mono',consolas,'Courier New',monospace\">20:42:26.195 | <span style=\"color: #008080; text-decoration-color: #008080\">INFO</span>    | Flow run<span style=\"color: #800080; text-decoration-color: #800080\"> 'eggplant-newt'</span> - Finished in state <span style=\"color: #008000; text-decoration-color: #008000\">Completed</span>('All states completed.')\n",
       "</pre>\n"
      ],
      "text/plain": [
       "20:42:26.195 | \u001b[36mINFO\u001b[0m    | Flow run\u001b[35m 'eggplant-newt'\u001b[0m - Finished in state \u001b[32mCompleted\u001b[0m('All states completed.')\n"
      ]
     },
     "metadata": {},
     "output_type": "display_data"
    },
    {
     "data": {
      "text/plain": [
       "[Completed(message=None, type=COMPLETED, result=42)]"
      ]
     },
     "execution_count": 25,
     "metadata": {},
     "output_type": "execute_result"
    }
   ],
   "source": [
    "from prefect import flow\n",
    "\n",
    "@flow\n",
    "def common_flow(config: dict):\n",
    "    print(\"I am a subgraph that shows up in lots of places!\")\n",
    "    intermediate_result = 42\n",
    "    return intermediate_result\n",
    "\n",
    "@flow\n",
    "def main_flow():\n",
    "    # do some things\n",
    "    # then call another flow function\n",
    "    data = common_flow(config={})\n",
    "    # do more things\n",
    "\n",
    "main_flow()"
   ]
  },
  {
   "cell_type": "markdown",
   "id": "28aec708",
   "metadata": {},
   "source": [
    "### Configuración básica de flujo\n",
    "La configuración básica del flujo incluye la capacidad de proporcionar un nombre, una descripción y una versión y otras opciones para el flujo mediante argumentos de flujo.\n",
    "\n",
    "La configuración de flujo se especifica como argumentos en el decorador.@flow\n",
    "\n",
    "Un flujo es una pieza distinguida de metadatos dentro de Prefect. El nombre que se asigna a un flujo se convierte en el identificador unificador de todas las ejecuciones futuras de ese flujo, independientemente de la versión o la estructura de tareas.name"
   ]
  },
  {
   "cell_type": "code",
   "execution_count": 31,
   "id": "135888d7",
   "metadata": {},
   "outputs": [
    {
     "name": "stderr",
     "output_type": "stream",
     "text": [
      "D:\\BCP\\ALGORTIMO\\Curso_ETL_Python\\lib\\site-packages\\prefect\\tasks.py:256: UserWarning: A task named 'My Example Task' and defined at 'C:\\Users\\LUIGGI\\AppData\\Local\\Temp\\ipykernel_17924\\298959815.py:3' conflicts with another task. Consider specifying a unique `name` parameter in the task definition:\n",
      "\n",
      " `@task(name='my_unique_name', ...)`\n",
      "  warnings.warn(\n",
      "D:\\BCP\\ALGORTIMO\\Curso_ETL_Python\\lib\\site-packages\\prefect\\flows.py:206: UserWarning: A flow named 'my-flow' and defined at 'C:\\Users\\LUIGGI\\AppData\\Local\\Temp\\ipykernel_17924\\298959815.py:9' conflicts with another flow. Consider specifying a unique `name` parameter in the flow definition:\n",
      "\n",
      " `@flow(name='my_unique_name', ...)`\n",
      "  warnings.warn(\n"
     ]
    },
    {
     "data": {
      "text/html": [
       "<pre style=\"white-space:pre;overflow-x:auto;line-height:normal;font-family:Menlo,'DejaVu Sans Mono',consolas,'Courier New',monospace\">20:46:55.471 | <span style=\"color: #008080; text-decoration-color: #008080\">INFO</span>    | prefect.engine - Created flow run<span style=\"color: #800080; text-decoration-color: #800080\"> 'pistachio-lionfish'</span> for flow<span style=\"color: #800080; text-decoration-color: #800080; font-weight: bold\"> 'my-flow'</span>\n",
       "</pre>\n"
      ],
      "text/plain": [
       "20:46:55.471 | \u001b[36mINFO\u001b[0m    | prefect.engine - Created flow run\u001b[35m 'pistachio-lionfish'\u001b[0m for flow\u001b[1;35m 'my-flow'\u001b[0m\n"
      ]
     },
     "metadata": {},
     "output_type": "display_data"
    },
    {
     "data": {
      "text/html": [
       "<pre style=\"white-space:pre;overflow-x:auto;line-height:normal;font-family:Menlo,'DejaVu Sans Mono',consolas,'Courier New',monospace\">20:46:55.764 | <span style=\"color: #008080; text-decoration-color: #008080\">INFO</span>    | Flow run<span style=\"color: #800080; text-decoration-color: #800080\"> 'pistachio-lionfish'</span> - Created task run 'My Example Task-20c6ece6-0' for task 'My Example Task'\n",
       "</pre>\n"
      ],
      "text/plain": [
       "20:46:55.764 | \u001b[36mINFO\u001b[0m    | Flow run\u001b[35m 'pistachio-lionfish'\u001b[0m - Created task run 'My Example Task-20c6ece6-0' for task 'My Example Task'\n"
      ]
     },
     "metadata": {},
     "output_type": "display_data"
    },
    {
     "data": {
      "text/html": [
       "<pre style=\"white-space:pre;overflow-x:auto;line-height:normal;font-family:Menlo,'DejaVu Sans Mono',consolas,'Courier New',monospace\">20:46:55.770 | <span style=\"color: #008080; text-decoration-color: #008080\">INFO</span>    | Flow run<span style=\"color: #800080; text-decoration-color: #800080\"> 'pistachio-lionfish'</span> - Executing 'My Example Task-20c6ece6-0' immediately...\n",
       "</pre>\n"
      ],
      "text/plain": [
       "20:46:55.770 | \u001b[36mINFO\u001b[0m    | Flow run\u001b[35m 'pistachio-lionfish'\u001b[0m - Executing 'My Example Task-20c6ece6-0' immediately...\n"
      ]
     },
     "metadata": {},
     "output_type": "display_data"
    },
    {
     "name": "stdout",
     "output_type": "stream",
     "text": [
      "hello world\n"
     ]
    },
    {
     "data": {
      "text/html": [
       "<pre style=\"white-space:pre;overflow-x:auto;line-height:normal;font-family:Menlo,'DejaVu Sans Mono',consolas,'Courier New',monospace\">20:46:55.902 | <span style=\"color: #008080; text-decoration-color: #008080\">INFO</span>    | Task run 'My Example Task-20c6ece6-0' - Finished in state <span style=\"color: #008000; text-decoration-color: #008000\">Completed</span>()\n",
       "</pre>\n"
      ],
      "text/plain": [
       "20:46:55.902 | \u001b[36mINFO\u001b[0m    | Task run 'My Example Task-20c6ece6-0' - Finished in state \u001b[32mCompleted\u001b[0m()\n"
      ]
     },
     "metadata": {},
     "output_type": "display_data"
    },
    {
     "data": {
      "text/html": [
       "<pre style=\"white-space:pre;overflow-x:auto;line-height:normal;font-family:Menlo,'DejaVu Sans Mono',consolas,'Courier New',monospace\">20:46:55.945 | <span style=\"color: #008080; text-decoration-color: #008080\">INFO</span>    | Flow run<span style=\"color: #800080; text-decoration-color: #800080\"> 'pistachio-lionfish'</span> - Finished in state <span style=\"color: #008000; text-decoration-color: #008000\">Completed</span>('All states completed.')\n",
       "</pre>\n"
      ],
      "text/plain": [
       "20:46:55.945 | \u001b[36mINFO\u001b[0m    | Flow run\u001b[35m 'pistachio-lionfish'\u001b[0m - Finished in state \u001b[32mCompleted\u001b[0m('All states completed.')\n"
      ]
     },
     "metadata": {},
     "output_type": "display_data"
    },
    {
     "data": {
      "text/plain": [
       "[Completed(message=None, type=COMPLETED, result=LiteralResult(type='literal', value=None))]"
      ]
     },
     "execution_count": 31,
     "metadata": {},
     "output_type": "execute_result"
    }
   ],
   "source": [
    "from prefect import flow, task\n",
    "\n",
    "@task(name=\"My Example Task\", \n",
    "      description=\"An example task for a tutorial.\",\n",
    "      tags=[\"tutorial\",\"tag-test\"])\n",
    "def my_task():\n",
    "    print(\"hello world\")\n",
    "\n",
    "@flow\n",
    "def my_flow():\n",
    "    my_task()\n",
    "    \n",
    "my_flow()"
   ]
  },
  {
   "cell_type": "markdown",
   "id": "b9867ff0",
   "metadata": {},
   "source": [
    "### Reintentos de flujo y tareas\n",
    "Prefect incluye compatibilidad integrada para reintentos de flujo y tareas, que se configuran en el flujo o la tarea. Esto permite que los flujos y las tareas se reintenten automáticamente en caso de error. Puede especificar cuántos reintentos desea intentar y, opcionalmente, un retraso entre los intentos de reintento:"
   ]
  },
  {
   "cell_type": "code",
   "execution_count": 1,
   "id": "c14ba18f",
   "metadata": {},
   "outputs": [],
   "source": [
    "from prefect import flow, task\n",
    "\n",
    "# this tasks runs 3 times before the flow fails\n",
    "@task(retries=2, retry_delay_seconds=60)\n",
    "def failure():\n",
    "    print('running')\n",
    "    raise ValueError(\"bad code\")\n",
    "\n",
    "@flow\n",
    "def test_retries():\n",
    "    return failure()"
   ]
  },
  {
   "cell_type": "code",
   "execution_count": 19,
   "id": "b6f644d6",
   "metadata": {},
   "outputs": [
    {
     "data": {
      "text/html": [
       "<pre style=\"white-space:pre;overflow-x:auto;line-height:normal;font-family:Menlo,'DejaVu Sans Mono',consolas,'Courier New',monospace\">18:08:35.661 | <span style=\"color: #008080; text-decoration-color: #008080\">INFO</span>    | prefect.engine - Created flow run<span style=\"color: #800080; text-decoration-color: #800080\"> 'mustard-chimpanzee'</span> for flow<span style=\"color: #800080; text-decoration-color: #800080; font-weight: bold\"> 'test-retries'</span>\n",
       "</pre>\n"
      ],
      "text/plain": [
       "18:08:35.661 | \u001b[36mINFO\u001b[0m    | prefect.engine - Created flow run\u001b[35m 'mustard-chimpanzee'\u001b[0m for flow\u001b[1;35m 'test-retries'\u001b[0m\n"
      ]
     },
     "metadata": {},
     "output_type": "display_data"
    },
    {
     "data": {
      "text/html": [
       "<pre style=\"white-space:pre;overflow-x:auto;line-height:normal;font-family:Menlo,'DejaVu Sans Mono',consolas,'Courier New',monospace\">18:08:35.833 | <span style=\"color: #008080; text-decoration-color: #008080\">INFO</span>    | Flow run<span style=\"color: #800080; text-decoration-color: #800080\"> 'mustard-chimpanzee'</span> - Created task run 'failure-f8b6b21b-0' for task 'failure'\n",
       "</pre>\n"
      ],
      "text/plain": [
       "18:08:35.833 | \u001b[36mINFO\u001b[0m    | Flow run\u001b[35m 'mustard-chimpanzee'\u001b[0m - Created task run 'failure-f8b6b21b-0' for task 'failure'\n"
      ]
     },
     "metadata": {},
     "output_type": "display_data"
    },
    {
     "data": {
      "text/html": [
       "<pre style=\"white-space:pre;overflow-x:auto;line-height:normal;font-family:Menlo,'DejaVu Sans Mono',consolas,'Courier New',monospace\">18:08:35.834 | <span style=\"color: #008080; text-decoration-color: #008080\">INFO</span>    | Flow run<span style=\"color: #800080; text-decoration-color: #800080\"> 'mustard-chimpanzee'</span> - Executing 'failure-f8b6b21b-0' immediately...\n",
       "</pre>\n"
      ],
      "text/plain": [
       "18:08:35.834 | \u001b[36mINFO\u001b[0m    | Flow run\u001b[35m 'mustard-chimpanzee'\u001b[0m - Executing 'failure-f8b6b21b-0' immediately...\n"
      ]
     },
     "metadata": {},
     "output_type": "display_data"
    },
    {
     "name": "stdout",
     "output_type": "stream",
     "text": [
      "running\n"
     ]
    },
    {
     "data": {
      "text/html": [
       "<pre style=\"white-space:pre;overflow-x:auto;line-height:normal;font-family:Menlo,'DejaVu Sans Mono',consolas,'Courier New',monospace\">18:08:35.895 | <span style=\"color: #d70000; text-decoration-color: #d70000\">ERROR</span>   | Task run 'failure-f8b6b21b-0' - Encountered exception during execution:\n",
       "Traceback (most recent call last):\n",
       "  File \"D:\\BCP\\ALGORTIMO\\Curso_ETL_Python\\lib\\site-packages\\prefect\\engine.py\", line 1445, in orchestrate_task_run\n",
       "    result = await run_sync(task.fn, *args, **kwargs)\n",
       "  File \"D:\\BCP\\ALGORTIMO\\Curso_ETL_Python\\lib\\site-packages\\prefect\\utilities\\asyncutils.py\", line 156, in run_sync_in_interruptible_worker_thread\n",
       "    tg.start_soon(\n",
       "  File \"D:\\BCP\\ALGORTIMO\\Curso_ETL_Python\\lib\\site-packages\\anyio\\_backends\\_asyncio.py\", line 662, in __aexit__\n",
       "    raise exceptions[0]\n",
       "  File \"D:\\BCP\\ALGORTIMO\\Curso_ETL_Python\\lib\\site-packages\\anyio\\to_thread.py\", line 31, in run_sync\n",
       "    return await get_asynclib().run_sync_in_worker_thread(\n",
       "  File \"D:\\BCP\\ALGORTIMO\\Curso_ETL_Python\\lib\\site-packages\\anyio\\_backends\\_asyncio.py\", line 937, in run_sync_in_worker_thread\n",
       "    return await future\n",
       "  File \"D:\\BCP\\ALGORTIMO\\Curso_ETL_Python\\lib\\site-packages\\anyio\\_backends\\_asyncio.py\", line 867, in run\n",
       "    result = context.run(func, *args)\n",
       "  File \"D:\\BCP\\ALGORTIMO\\Curso_ETL_Python\\lib\\site-packages\\prefect\\utilities\\asyncutils.py\", line 135, in capture_worker_thread_and_result\n",
       "    result = __fn(*args, **kwargs)\n",
       "  File \"C:\\Users\\LUIGGI\\AppData\\Local\\Temp\\ipykernel_17924\\2081695652.py\", line 7, in failure\n",
       "    raise ValueError(\"bad code\")\n",
       "ValueError: bad code\n",
       "</pre>\n"
      ],
      "text/plain": [
       "18:08:35.895 | \u001b[38;5;160mERROR\u001b[0m   | Task run 'failure-f8b6b21b-0' - Encountered exception during execution:\n",
       "Traceback (most recent call last):\n",
       "  File \"D:\\BCP\\ALGORTIMO\\Curso_ETL_Python\\lib\\site-packages\\prefect\\engine.py\", line 1445, in orchestrate_task_run\n",
       "    result = await run_sync(task.fn, *args, **kwargs)\n",
       "  File \"D:\\BCP\\ALGORTIMO\\Curso_ETL_Python\\lib\\site-packages\\prefect\\utilities\\asyncutils.py\", line 156, in run_sync_in_interruptible_worker_thread\n",
       "    tg.start_soon(\n",
       "  File \"D:\\BCP\\ALGORTIMO\\Curso_ETL_Python\\lib\\site-packages\\anyio\\_backends\\_asyncio.py\", line 662, in __aexit__\n",
       "    raise exceptions[0]\n",
       "  File \"D:\\BCP\\ALGORTIMO\\Curso_ETL_Python\\lib\\site-packages\\anyio\\to_thread.py\", line 31, in run_sync\n",
       "    return await get_asynclib().run_sync_in_worker_thread(\n",
       "  File \"D:\\BCP\\ALGORTIMO\\Curso_ETL_Python\\lib\\site-packages\\anyio\\_backends\\_asyncio.py\", line 937, in run_sync_in_worker_thread\n",
       "    return await future\n",
       "  File \"D:\\BCP\\ALGORTIMO\\Curso_ETL_Python\\lib\\site-packages\\anyio\\_backends\\_asyncio.py\", line 867, in run\n",
       "    result = context.run(func, *args)\n",
       "  File \"D:\\BCP\\ALGORTIMO\\Curso_ETL_Python\\lib\\site-packages\\prefect\\utilities\\asyncutils.py\", line 135, in capture_worker_thread_and_result\n",
       "    result = __fn(*args, **kwargs)\n",
       "  File \"C:\\Users\\LUIGGI\\AppData\\Local\\Temp\\ipykernel_17924\\2081695652.py\", line 7, in failure\n",
       "    raise ValueError(\"bad code\")\n",
       "ValueError: bad code\n"
      ]
     },
     "metadata": {},
     "output_type": "display_data"
    },
    {
     "data": {
      "text/html": [
       "<pre style=\"white-space:pre;overflow-x:auto;line-height:normal;font-family:Menlo,'DejaVu Sans Mono',consolas,'Courier New',monospace\">18:08:35.923 | <span style=\"color: #008080; text-decoration-color: #008080\">INFO</span>    | Task run 'failure-f8b6b21b-0' - Received non-final state 'AwaitingRetry' when proposing final state '<span style=\"color: #d70000; text-decoration-color: #d70000\">Failed</span>' and will attempt to run again...\n",
       "</pre>\n"
      ],
      "text/plain": [
       "18:08:35.923 | \u001b[36mINFO\u001b[0m    | Task run 'failure-f8b6b21b-0' - Received non-final state 'AwaitingRetry' when proposing final state '\u001b[38;5;160mFailed\u001b[0m' and will attempt to run again...\n"
      ]
     },
     "metadata": {},
     "output_type": "display_data"
    },
    {
     "name": "stdout",
     "output_type": "stream",
     "text": [
      "running\n"
     ]
    },
    {
     "data": {
      "text/html": [
       "<pre style=\"white-space:pre;overflow-x:auto;line-height:normal;font-family:Menlo,'DejaVu Sans Mono',consolas,'Courier New',monospace\">18:09:36.042 | <span style=\"color: #d70000; text-decoration-color: #d70000\">ERROR</span>   | Task run 'failure-f8b6b21b-0' - Encountered exception during execution:\n",
       "Traceback (most recent call last):\n",
       "  File \"D:\\BCP\\ALGORTIMO\\Curso_ETL_Python\\lib\\site-packages\\prefect\\engine.py\", line 1445, in orchestrate_task_run\n",
       "    result = await run_sync(task.fn, *args, **kwargs)\n",
       "  File \"D:\\BCP\\ALGORTIMO\\Curso_ETL_Python\\lib\\site-packages\\prefect\\utilities\\asyncutils.py\", line 156, in run_sync_in_interruptible_worker_thread\n",
       "    tg.start_soon(\n",
       "  File \"D:\\BCP\\ALGORTIMO\\Curso_ETL_Python\\lib\\site-packages\\anyio\\_backends\\_asyncio.py\", line 662, in __aexit__\n",
       "    raise exceptions[0]\n",
       "  File \"D:\\BCP\\ALGORTIMO\\Curso_ETL_Python\\lib\\site-packages\\anyio\\to_thread.py\", line 31, in run_sync\n",
       "    return await get_asynclib().run_sync_in_worker_thread(\n",
       "  File \"D:\\BCP\\ALGORTIMO\\Curso_ETL_Python\\lib\\site-packages\\anyio\\_backends\\_asyncio.py\", line 937, in run_sync_in_worker_thread\n",
       "    return await future\n",
       "  File \"D:\\BCP\\ALGORTIMO\\Curso_ETL_Python\\lib\\site-packages\\anyio\\_backends\\_asyncio.py\", line 867, in run\n",
       "    result = context.run(func, *args)\n",
       "  File \"D:\\BCP\\ALGORTIMO\\Curso_ETL_Python\\lib\\site-packages\\prefect\\utilities\\asyncutils.py\", line 135, in capture_worker_thread_and_result\n",
       "    result = __fn(*args, **kwargs)\n",
       "  File \"C:\\Users\\LUIGGI\\AppData\\Local\\Temp\\ipykernel_17924\\2081695652.py\", line 7, in failure\n",
       "    raise ValueError(\"bad code\")\n",
       "ValueError: bad code\n",
       "</pre>\n"
      ],
      "text/plain": [
       "18:09:36.042 | \u001b[38;5;160mERROR\u001b[0m   | Task run 'failure-f8b6b21b-0' - Encountered exception during execution:\n",
       "Traceback (most recent call last):\n",
       "  File \"D:\\BCP\\ALGORTIMO\\Curso_ETL_Python\\lib\\site-packages\\prefect\\engine.py\", line 1445, in orchestrate_task_run\n",
       "    result = await run_sync(task.fn, *args, **kwargs)\n",
       "  File \"D:\\BCP\\ALGORTIMO\\Curso_ETL_Python\\lib\\site-packages\\prefect\\utilities\\asyncutils.py\", line 156, in run_sync_in_interruptible_worker_thread\n",
       "    tg.start_soon(\n",
       "  File \"D:\\BCP\\ALGORTIMO\\Curso_ETL_Python\\lib\\site-packages\\anyio\\_backends\\_asyncio.py\", line 662, in __aexit__\n",
       "    raise exceptions[0]\n",
       "  File \"D:\\BCP\\ALGORTIMO\\Curso_ETL_Python\\lib\\site-packages\\anyio\\to_thread.py\", line 31, in run_sync\n",
       "    return await get_asynclib().run_sync_in_worker_thread(\n",
       "  File \"D:\\BCP\\ALGORTIMO\\Curso_ETL_Python\\lib\\site-packages\\anyio\\_backends\\_asyncio.py\", line 937, in run_sync_in_worker_thread\n",
       "    return await future\n",
       "  File \"D:\\BCP\\ALGORTIMO\\Curso_ETL_Python\\lib\\site-packages\\anyio\\_backends\\_asyncio.py\", line 867, in run\n",
       "    result = context.run(func, *args)\n",
       "  File \"D:\\BCP\\ALGORTIMO\\Curso_ETL_Python\\lib\\site-packages\\prefect\\utilities\\asyncutils.py\", line 135, in capture_worker_thread_and_result\n",
       "    result = __fn(*args, **kwargs)\n",
       "  File \"C:\\Users\\LUIGGI\\AppData\\Local\\Temp\\ipykernel_17924\\2081695652.py\", line 7, in failure\n",
       "    raise ValueError(\"bad code\")\n",
       "ValueError: bad code\n"
      ]
     },
     "metadata": {},
     "output_type": "display_data"
    },
    {
     "data": {
      "text/html": [
       "<pre style=\"white-space:pre;overflow-x:auto;line-height:normal;font-family:Menlo,'DejaVu Sans Mono',consolas,'Courier New',monospace\">18:09:36.072 | <span style=\"color: #008080; text-decoration-color: #008080\">INFO</span>    | Task run 'failure-f8b6b21b-0' - Received non-final state 'AwaitingRetry' when proposing final state '<span style=\"color: #d70000; text-decoration-color: #d70000\">Failed</span>' and will attempt to run again...\n",
       "</pre>\n"
      ],
      "text/plain": [
       "18:09:36.072 | \u001b[36mINFO\u001b[0m    | Task run 'failure-f8b6b21b-0' - Received non-final state 'AwaitingRetry' when proposing final state '\u001b[38;5;160mFailed\u001b[0m' and will attempt to run again...\n"
      ]
     },
     "metadata": {},
     "output_type": "display_data"
    },
    {
     "name": "stdout",
     "output_type": "stream",
     "text": [
      "running\n"
     ]
    },
    {
     "data": {
      "text/html": [
       "<pre style=\"white-space:pre;overflow-x:auto;line-height:normal;font-family:Menlo,'DejaVu Sans Mono',consolas,'Courier New',monospace\">18:10:36.154 | <span style=\"color: #d70000; text-decoration-color: #d70000\">ERROR</span>   | Task run 'failure-f8b6b21b-0' - Encountered exception during execution:\n",
       "Traceback (most recent call last):\n",
       "  File \"D:\\BCP\\ALGORTIMO\\Curso_ETL_Python\\lib\\site-packages\\prefect\\engine.py\", line 1445, in orchestrate_task_run\n",
       "    result = await run_sync(task.fn, *args, **kwargs)\n",
       "  File \"D:\\BCP\\ALGORTIMO\\Curso_ETL_Python\\lib\\site-packages\\prefect\\utilities\\asyncutils.py\", line 156, in run_sync_in_interruptible_worker_thread\n",
       "    tg.start_soon(\n",
       "  File \"D:\\BCP\\ALGORTIMO\\Curso_ETL_Python\\lib\\site-packages\\anyio\\_backends\\_asyncio.py\", line 662, in __aexit__\n",
       "    raise exceptions[0]\n",
       "  File \"D:\\BCP\\ALGORTIMO\\Curso_ETL_Python\\lib\\site-packages\\anyio\\to_thread.py\", line 31, in run_sync\n",
       "    return await get_asynclib().run_sync_in_worker_thread(\n",
       "  File \"D:\\BCP\\ALGORTIMO\\Curso_ETL_Python\\lib\\site-packages\\anyio\\_backends\\_asyncio.py\", line 937, in run_sync_in_worker_thread\n",
       "    return await future\n",
       "  File \"D:\\BCP\\ALGORTIMO\\Curso_ETL_Python\\lib\\site-packages\\anyio\\_backends\\_asyncio.py\", line 867, in run\n",
       "    result = context.run(func, *args)\n",
       "  File \"D:\\BCP\\ALGORTIMO\\Curso_ETL_Python\\lib\\site-packages\\prefect\\utilities\\asyncutils.py\", line 135, in capture_worker_thread_and_result\n",
       "    result = __fn(*args, **kwargs)\n",
       "  File \"C:\\Users\\LUIGGI\\AppData\\Local\\Temp\\ipykernel_17924\\2081695652.py\", line 7, in failure\n",
       "    raise ValueError(\"bad code\")\n",
       "ValueError: bad code\n",
       "</pre>\n"
      ],
      "text/plain": [
       "18:10:36.154 | \u001b[38;5;160mERROR\u001b[0m   | Task run 'failure-f8b6b21b-0' - Encountered exception during execution:\n",
       "Traceback (most recent call last):\n",
       "  File \"D:\\BCP\\ALGORTIMO\\Curso_ETL_Python\\lib\\site-packages\\prefect\\engine.py\", line 1445, in orchestrate_task_run\n",
       "    result = await run_sync(task.fn, *args, **kwargs)\n",
       "  File \"D:\\BCP\\ALGORTIMO\\Curso_ETL_Python\\lib\\site-packages\\prefect\\utilities\\asyncutils.py\", line 156, in run_sync_in_interruptible_worker_thread\n",
       "    tg.start_soon(\n",
       "  File \"D:\\BCP\\ALGORTIMO\\Curso_ETL_Python\\lib\\site-packages\\anyio\\_backends\\_asyncio.py\", line 662, in __aexit__\n",
       "    raise exceptions[0]\n",
       "  File \"D:\\BCP\\ALGORTIMO\\Curso_ETL_Python\\lib\\site-packages\\anyio\\to_thread.py\", line 31, in run_sync\n",
       "    return await get_asynclib().run_sync_in_worker_thread(\n",
       "  File \"D:\\BCP\\ALGORTIMO\\Curso_ETL_Python\\lib\\site-packages\\anyio\\_backends\\_asyncio.py\", line 937, in run_sync_in_worker_thread\n",
       "    return await future\n",
       "  File \"D:\\BCP\\ALGORTIMO\\Curso_ETL_Python\\lib\\site-packages\\anyio\\_backends\\_asyncio.py\", line 867, in run\n",
       "    result = context.run(func, *args)\n",
       "  File \"D:\\BCP\\ALGORTIMO\\Curso_ETL_Python\\lib\\site-packages\\prefect\\utilities\\asyncutils.py\", line 135, in capture_worker_thread_and_result\n",
       "    result = __fn(*args, **kwargs)\n",
       "  File \"C:\\Users\\LUIGGI\\AppData\\Local\\Temp\\ipykernel_17924\\2081695652.py\", line 7, in failure\n",
       "    raise ValueError(\"bad code\")\n",
       "ValueError: bad code\n"
      ]
     },
     "metadata": {},
     "output_type": "display_data"
    },
    {
     "data": {
      "text/html": [
       "<pre style=\"white-space:pre;overflow-x:auto;line-height:normal;font-family:Menlo,'DejaVu Sans Mono',consolas,'Courier New',monospace\">18:10:36.184 | <span style=\"color: #d70000; text-decoration-color: #d70000\">ERROR</span>   | Task run 'failure-f8b6b21b-0' - Finished in state <span style=\"color: #d70000; text-decoration-color: #d70000\">Failed</span>('Task run encountered an exception: ValueError: bad code\\n')\n",
       "</pre>\n"
      ],
      "text/plain": [
       "18:10:36.184 | \u001b[38;5;160mERROR\u001b[0m   | Task run 'failure-f8b6b21b-0' - Finished in state \u001b[38;5;160mFailed\u001b[0m('Task run encountered an exception: ValueError: bad code\\n')\n"
      ]
     },
     "metadata": {},
     "output_type": "display_data"
    },
    {
     "data": {
      "text/html": [
       "<pre style=\"white-space:pre;overflow-x:auto;line-height:normal;font-family:Menlo,'DejaVu Sans Mono',consolas,'Courier New',monospace\">18:10:36.186 | <span style=\"color: #d70000; text-decoration-color: #d70000\">ERROR</span>   | Flow run<span style=\"color: #800080; text-decoration-color: #800080\"> 'mustard-chimpanzee'</span> - Encountered exception during execution:\n",
       "Traceback (most recent call last):\n",
       "  File \"D:\\BCP\\ALGORTIMO\\Curso_ETL_Python\\lib\\site-packages\\prefect\\engine.py\", line 636, in orchestrate_flow_run\n",
       "    result = await run_sync(flow_call)\n",
       "  File \"D:\\BCP\\ALGORTIMO\\Curso_ETL_Python\\lib\\site-packages\\prefect\\utilities\\asyncutils.py\", line 156, in run_sync_in_interruptible_worker_thread\n",
       "    tg.start_soon(\n",
       "  File \"D:\\BCP\\ALGORTIMO\\Curso_ETL_Python\\lib\\site-packages\\anyio\\_backends\\_asyncio.py\", line 662, in __aexit__\n",
       "    raise exceptions[0]\n",
       "  File \"D:\\BCP\\ALGORTIMO\\Curso_ETL_Python\\lib\\site-packages\\anyio\\to_thread.py\", line 31, in run_sync\n",
       "    return await get_asynclib().run_sync_in_worker_thread(\n",
       "  File \"D:\\BCP\\ALGORTIMO\\Curso_ETL_Python\\lib\\site-packages\\anyio\\_backends\\_asyncio.py\", line 937, in run_sync_in_worker_thread\n",
       "    return await future\n",
       "  File \"D:\\BCP\\ALGORTIMO\\Curso_ETL_Python\\lib\\site-packages\\anyio\\_backends\\_asyncio.py\", line 867, in run\n",
       "    result = context.run(func, *args)\n",
       "  File \"D:\\BCP\\ALGORTIMO\\Curso_ETL_Python\\lib\\site-packages\\prefect\\utilities\\asyncutils.py\", line 135, in capture_worker_thread_and_result\n",
       "    result = __fn(*args, **kwargs)\n",
       "  File \"C:\\Users\\LUIGGI\\AppData\\Local\\Temp\\ipykernel_17924\\2081695652.py\", line 11, in test_retries\n",
       "    return failure()\n",
       "  File \"D:\\BCP\\ALGORTIMO\\Curso_ETL_Python\\lib\\site-packages\\prefect\\tasks.py\", line 436, in __call__\n",
       "    return enter_task_run_engine(\n",
       "  File \"D:\\BCP\\ALGORTIMO\\Curso_ETL_Python\\lib\\site-packages\\prefect\\engine.py\", line 926, in enter_task_run_engine\n",
       "    return run_async_from_worker_thread(begin_run)\n",
       "  File \"D:\\BCP\\ALGORTIMO\\Curso_ETL_Python\\lib\\site-packages\\prefect\\utilities\\asyncutils.py\", line 177, in run_async_from_worker_thread\n",
       "    return anyio.from_thread.run(call)\n",
       "  File \"D:\\BCP\\ALGORTIMO\\Curso_ETL_Python\\lib\\site-packages\\anyio\\from_thread.py\", line 49, in run\n",
       "    return asynclib.run_async_from_thread(func, *args)\n",
       "  File \"D:\\BCP\\ALGORTIMO\\Curso_ETL_Python\\lib\\site-packages\\anyio\\_backends\\_asyncio.py\", line 970, in run_async_from_thread\n",
       "    return f.result()\n",
       "  File \"C:\\Users\\LUIGGI\\AppData\\Local\\Programs\\Python\\Python38\\lib\\concurrent\\futures\\_base.py\", line 444, in result\n",
       "    return self.__get_result()\n",
       "  File \"C:\\Users\\LUIGGI\\AppData\\Local\\Programs\\Python\\Python38\\lib\\concurrent\\futures\\_base.py\", line 389, in __get_result\n",
       "    raise self._exception\n",
       "  File \"D:\\BCP\\ALGORTIMO\\Curso_ETL_Python\\lib\\site-packages\\prefect\\engine.py\", line 1064, in get_task_call_return_value\n",
       "    return await future._result()\n",
       "  File \"D:\\BCP\\ALGORTIMO\\Curso_ETL_Python\\lib\\site-packages\\prefect\\futures.py\", line 237, in _result\n",
       "    return await final_state.result(raise_on_failure=raise_on_failure, fetch=True)\n",
       "  File \"D:\\BCP\\ALGORTIMO\\Curso_ETL_Python\\lib\\site-packages\\prefect\\states.py\", line 89, in _get_state_result\n",
       "    raise await get_state_exception(state)\n",
       "  File \"D:\\BCP\\ALGORTIMO\\Curso_ETL_Python\\lib\\site-packages\\prefect\\engine.py\", line 1445, in orchestrate_task_run\n",
       "    result = await run_sync(task.fn, *args, **kwargs)\n",
       "  File \"D:\\BCP\\ALGORTIMO\\Curso_ETL_Python\\lib\\site-packages\\prefect\\utilities\\asyncutils.py\", line 156, in run_sync_in_interruptible_worker_thread\n",
       "    tg.start_soon(\n",
       "  File \"D:\\BCP\\ALGORTIMO\\Curso_ETL_Python\\lib\\site-packages\\anyio\\_backends\\_asyncio.py\", line 662, in __aexit__\n",
       "    raise exceptions[0]\n",
       "  File \"D:\\BCP\\ALGORTIMO\\Curso_ETL_Python\\lib\\site-packages\\anyio\\to_thread.py\", line 31, in run_sync\n",
       "    return await get_asynclib().run_sync_in_worker_thread(\n",
       "  File \"D:\\BCP\\ALGORTIMO\\Curso_ETL_Python\\lib\\site-packages\\anyio\\_backends\\_asyncio.py\", line 937, in run_sync_in_worker_thread\n",
       "    return await future\n",
       "  File \"D:\\BCP\\ALGORTIMO\\Curso_ETL_Python\\lib\\site-packages\\anyio\\_backends\\_asyncio.py\", line 867, in run\n",
       "    result = context.run(func, *args)\n",
       "  File \"D:\\BCP\\ALGORTIMO\\Curso_ETL_Python\\lib\\site-packages\\prefect\\utilities\\asyncutils.py\", line 135, in capture_worker_thread_and_result\n",
       "    result = __fn(*args, **kwargs)\n",
       "  File \"C:\\Users\\LUIGGI\\AppData\\Local\\Temp\\ipykernel_17924\\2081695652.py\", line 7, in failure\n",
       "    raise ValueError(\"bad code\")\n",
       "ValueError: bad code\n",
       "</pre>\n"
      ],
      "text/plain": [
       "18:10:36.186 | \u001b[38;5;160mERROR\u001b[0m   | Flow run\u001b[35m 'mustard-chimpanzee'\u001b[0m - Encountered exception during execution:\n",
       "Traceback (most recent call last):\n",
       "  File \"D:\\BCP\\ALGORTIMO\\Curso_ETL_Python\\lib\\site-packages\\prefect\\engine.py\", line 636, in orchestrate_flow_run\n",
       "    result = await run_sync(flow_call)\n",
       "  File \"D:\\BCP\\ALGORTIMO\\Curso_ETL_Python\\lib\\site-packages\\prefect\\utilities\\asyncutils.py\", line 156, in run_sync_in_interruptible_worker_thread\n",
       "    tg.start_soon(\n",
       "  File \"D:\\BCP\\ALGORTIMO\\Curso_ETL_Python\\lib\\site-packages\\anyio\\_backends\\_asyncio.py\", line 662, in __aexit__\n",
       "    raise exceptions[0]\n",
       "  File \"D:\\BCP\\ALGORTIMO\\Curso_ETL_Python\\lib\\site-packages\\anyio\\to_thread.py\", line 31, in run_sync\n",
       "    return await get_asynclib().run_sync_in_worker_thread(\n",
       "  File \"D:\\BCP\\ALGORTIMO\\Curso_ETL_Python\\lib\\site-packages\\anyio\\_backends\\_asyncio.py\", line 937, in run_sync_in_worker_thread\n",
       "    return await future\n",
       "  File \"D:\\BCP\\ALGORTIMO\\Curso_ETL_Python\\lib\\site-packages\\anyio\\_backends\\_asyncio.py\", line 867, in run\n",
       "    result = context.run(func, *args)\n",
       "  File \"D:\\BCP\\ALGORTIMO\\Curso_ETL_Python\\lib\\site-packages\\prefect\\utilities\\asyncutils.py\", line 135, in capture_worker_thread_and_result\n",
       "    result = __fn(*args, **kwargs)\n",
       "  File \"C:\\Users\\LUIGGI\\AppData\\Local\\Temp\\ipykernel_17924\\2081695652.py\", line 11, in test_retries\n",
       "    return failure()\n",
       "  File \"D:\\BCP\\ALGORTIMO\\Curso_ETL_Python\\lib\\site-packages\\prefect\\tasks.py\", line 436, in __call__\n",
       "    return enter_task_run_engine(\n",
       "  File \"D:\\BCP\\ALGORTIMO\\Curso_ETL_Python\\lib\\site-packages\\prefect\\engine.py\", line 926, in enter_task_run_engine\n",
       "    return run_async_from_worker_thread(begin_run)\n",
       "  File \"D:\\BCP\\ALGORTIMO\\Curso_ETL_Python\\lib\\site-packages\\prefect\\utilities\\asyncutils.py\", line 177, in run_async_from_worker_thread\n",
       "    return anyio.from_thread.run(call)\n",
       "  File \"D:\\BCP\\ALGORTIMO\\Curso_ETL_Python\\lib\\site-packages\\anyio\\from_thread.py\", line 49, in run\n",
       "    return asynclib.run_async_from_thread(func, *args)\n",
       "  File \"D:\\BCP\\ALGORTIMO\\Curso_ETL_Python\\lib\\site-packages\\anyio\\_backends\\_asyncio.py\", line 970, in run_async_from_thread\n",
       "    return f.result()\n",
       "  File \"C:\\Users\\LUIGGI\\AppData\\Local\\Programs\\Python\\Python38\\lib\\concurrent\\futures\\_base.py\", line 444, in result\n",
       "    return self.__get_result()\n",
       "  File \"C:\\Users\\LUIGGI\\AppData\\Local\\Programs\\Python\\Python38\\lib\\concurrent\\futures\\_base.py\", line 389, in __get_result\n",
       "    raise self._exception\n",
       "  File \"D:\\BCP\\ALGORTIMO\\Curso_ETL_Python\\lib\\site-packages\\prefect\\engine.py\", line 1064, in get_task_call_return_value\n",
       "    return await future._result()\n",
       "  File \"D:\\BCP\\ALGORTIMO\\Curso_ETL_Python\\lib\\site-packages\\prefect\\futures.py\", line 237, in _result\n",
       "    return await final_state.result(raise_on_failure=raise_on_failure, fetch=True)\n",
       "  File \"D:\\BCP\\ALGORTIMO\\Curso_ETL_Python\\lib\\site-packages\\prefect\\states.py\", line 89, in _get_state_result\n",
       "    raise await get_state_exception(state)\n",
       "  File \"D:\\BCP\\ALGORTIMO\\Curso_ETL_Python\\lib\\site-packages\\prefect\\engine.py\", line 1445, in orchestrate_task_run\n",
       "    result = await run_sync(task.fn, *args, **kwargs)\n",
       "  File \"D:\\BCP\\ALGORTIMO\\Curso_ETL_Python\\lib\\site-packages\\prefect\\utilities\\asyncutils.py\", line 156, in run_sync_in_interruptible_worker_thread\n",
       "    tg.start_soon(\n",
       "  File \"D:\\BCP\\ALGORTIMO\\Curso_ETL_Python\\lib\\site-packages\\anyio\\_backends\\_asyncio.py\", line 662, in __aexit__\n",
       "    raise exceptions[0]\n",
       "  File \"D:\\BCP\\ALGORTIMO\\Curso_ETL_Python\\lib\\site-packages\\anyio\\to_thread.py\", line 31, in run_sync\n",
       "    return await get_asynclib().run_sync_in_worker_thread(\n",
       "  File \"D:\\BCP\\ALGORTIMO\\Curso_ETL_Python\\lib\\site-packages\\anyio\\_backends\\_asyncio.py\", line 937, in run_sync_in_worker_thread\n",
       "    return await future\n",
       "  File \"D:\\BCP\\ALGORTIMO\\Curso_ETL_Python\\lib\\site-packages\\anyio\\_backends\\_asyncio.py\", line 867, in run\n",
       "    result = context.run(func, *args)\n",
       "  File \"D:\\BCP\\ALGORTIMO\\Curso_ETL_Python\\lib\\site-packages\\prefect\\utilities\\asyncutils.py\", line 135, in capture_worker_thread_and_result\n",
       "    result = __fn(*args, **kwargs)\n",
       "  File \"C:\\Users\\LUIGGI\\AppData\\Local\\Temp\\ipykernel_17924\\2081695652.py\", line 7, in failure\n",
       "    raise ValueError(\"bad code\")\n",
       "ValueError: bad code\n"
      ]
     },
     "metadata": {},
     "output_type": "display_data"
    },
    {
     "data": {
      "text/html": [
       "<pre style=\"white-space:pre;overflow-x:auto;line-height:normal;font-family:Menlo,'DejaVu Sans Mono',consolas,'Courier New',monospace\">18:10:36.221 | <span style=\"color: #d70000; text-decoration-color: #d70000\">ERROR</span>   | Flow run<span style=\"color: #800080; text-decoration-color: #800080\"> 'mustard-chimpanzee'</span> - Finished in state <span style=\"color: #d70000; text-decoration-color: #d70000\">Failed</span>('Flow run encountered an exception. ValueError: bad code\\n')\n",
       "</pre>\n"
      ],
      "text/plain": [
       "18:10:36.221 | \u001b[38;5;160mERROR\u001b[0m   | Flow run\u001b[35m 'mustard-chimpanzee'\u001b[0m - Finished in state \u001b[38;5;160mFailed\u001b[0m('Flow run encountered an exception. ValueError: bad code\\n')\n"
      ]
     },
     "metadata": {},
     "output_type": "display_data"
    },
    {
     "ename": "ValueError",
     "evalue": "bad code",
     "output_type": "error",
     "traceback": [
      "\u001b[1;31m---------------------------------------------------------------------------\u001b[0m",
      "\u001b[1;31mValueError\u001b[0m                                Traceback (most recent call last)",
      "Cell \u001b[1;32mIn[19], line 1\u001b[0m\n\u001b[1;32m----> 1\u001b[0m state \u001b[38;5;241m=\u001b[39m \u001b[43mtest_retries\u001b[49m\u001b[43m(\u001b[49m\u001b[43m)\u001b[49m\n",
      "File \u001b[1;32mD:\\BCP\\ALGORTIMO\\Curso_ETL_Python\\lib\\site-packages\\prefect\\flows.py:448\u001b[0m, in \u001b[0;36mFlow.__call__\u001b[1;34m(self, return_state, wait_for, *args, **kwargs)\u001b[0m\n\u001b[0;32m    444\u001b[0m parameters \u001b[38;5;241m=\u001b[39m get_call_parameters(\u001b[38;5;28mself\u001b[39m\u001b[38;5;241m.\u001b[39mfn, args, kwargs)\n\u001b[0;32m    446\u001b[0m return_type \u001b[38;5;241m=\u001b[39m \u001b[38;5;124m\"\u001b[39m\u001b[38;5;124mstate\u001b[39m\u001b[38;5;124m\"\u001b[39m \u001b[38;5;28;01mif\u001b[39;00m return_state \u001b[38;5;28;01melse\u001b[39;00m \u001b[38;5;124m\"\u001b[39m\u001b[38;5;124mresult\u001b[39m\u001b[38;5;124m\"\u001b[39m\n\u001b[1;32m--> 448\u001b[0m \u001b[38;5;28;01mreturn\u001b[39;00m \u001b[43menter_flow_run_engine_from_flow_call\u001b[49m\u001b[43m(\u001b[49m\n\u001b[0;32m    449\u001b[0m \u001b[43m    \u001b[49m\u001b[38;5;28;43mself\u001b[39;49m\u001b[43m,\u001b[49m\n\u001b[0;32m    450\u001b[0m \u001b[43m    \u001b[49m\u001b[43mparameters\u001b[49m\u001b[43m,\u001b[49m\n\u001b[0;32m    451\u001b[0m \u001b[43m    \u001b[49m\u001b[43mwait_for\u001b[49m\u001b[38;5;241;43m=\u001b[39;49m\u001b[43mwait_for\u001b[49m\u001b[43m,\u001b[49m\n\u001b[0;32m    452\u001b[0m \u001b[43m    \u001b[49m\u001b[43mreturn_type\u001b[49m\u001b[38;5;241;43m=\u001b[39;49m\u001b[43mreturn_type\u001b[49m\u001b[43m,\u001b[49m\n\u001b[0;32m    453\u001b[0m \u001b[43m\u001b[49m\u001b[43m)\u001b[49m\n",
      "File \u001b[1;32mD:\\BCP\\ALGORTIMO\\Curso_ETL_Python\\lib\\site-packages\\prefect\\engine.py:161\u001b[0m, in \u001b[0;36menter_flow_run_engine_from_flow_call\u001b[1;34m(flow, parameters, wait_for, return_type)\u001b[0m\n\u001b[0;32m    157\u001b[0m \u001b[38;5;28;01melif\u001b[39;00m in_async_main_thread():\n\u001b[0;32m    158\u001b[0m     \u001b[38;5;66;03m# An event loop is already running and we must create a blocking portal to\u001b[39;00m\n\u001b[0;32m    159\u001b[0m     \u001b[38;5;66;03m# run async code from this synchronous context\u001b[39;00m\n\u001b[0;32m    160\u001b[0m     \u001b[38;5;28;01mwith\u001b[39;00m start_blocking_portal() \u001b[38;5;28;01mas\u001b[39;00m portal:\n\u001b[1;32m--> 161\u001b[0m         \u001b[38;5;28;01mreturn\u001b[39;00m \u001b[43mportal\u001b[49m\u001b[38;5;241;43m.\u001b[39;49m\u001b[43mcall\u001b[49m\u001b[43m(\u001b[49m\u001b[43mbegin_run\u001b[49m\u001b[43m)\u001b[49m\n\u001b[0;32m    162\u001b[0m \u001b[38;5;28;01melse\u001b[39;00m:\n\u001b[0;32m    163\u001b[0m     \u001b[38;5;66;03m# An event loop is not running so we will create one\u001b[39;00m\n\u001b[0;32m    164\u001b[0m     \u001b[38;5;28;01mreturn\u001b[39;00m anyio\u001b[38;5;241m.\u001b[39mrun(begin_run)\n",
      "File \u001b[1;32mD:\\BCP\\ALGORTIMO\\Curso_ETL_Python\\lib\\site-packages\\anyio\\from_thread.py:283\u001b[0m, in \u001b[0;36mBlockingPortal.call\u001b[1;34m(self, func, *args)\u001b[0m\n\u001b[0;32m    268\u001b[0m \u001b[38;5;28;01mdef\u001b[39;00m \u001b[38;5;21mcall\u001b[39m(\n\u001b[0;32m    269\u001b[0m     \u001b[38;5;28mself\u001b[39m,\n\u001b[0;32m    270\u001b[0m     func: Callable[\u001b[38;5;241m.\u001b[39m\u001b[38;5;241m.\u001b[39m\u001b[38;5;241m.\u001b[39m, Union[Coroutine[Any, Any, T_Retval], T_Retval]],\n\u001b[0;32m    271\u001b[0m     \u001b[38;5;241m*\u001b[39margs: \u001b[38;5;28mobject\u001b[39m\n\u001b[0;32m    272\u001b[0m ) \u001b[38;5;241m-\u001b[39m\u001b[38;5;241m>\u001b[39m T_Retval:\n\u001b[0;32m    273\u001b[0m     \u001b[38;5;124;03m\"\"\"\u001b[39;00m\n\u001b[0;32m    274\u001b[0m \u001b[38;5;124;03m    Call the given function in the event loop thread.\u001b[39;00m\n\u001b[0;32m    275\u001b[0m \n\u001b[1;32m   (...)\u001b[0m\n\u001b[0;32m    281\u001b[0m \n\u001b[0;32m    282\u001b[0m \u001b[38;5;124;03m    \"\"\"\u001b[39;00m\n\u001b[1;32m--> 283\u001b[0m     \u001b[38;5;28;01mreturn\u001b[39;00m cast(T_Retval, \u001b[38;5;28;43mself\u001b[39;49m\u001b[38;5;241;43m.\u001b[39;49m\u001b[43mstart_task_soon\u001b[49m\u001b[43m(\u001b[49m\u001b[43mfunc\u001b[49m\u001b[43m,\u001b[49m\u001b[43m \u001b[49m\u001b[38;5;241;43m*\u001b[39;49m\u001b[43margs\u001b[49m\u001b[43m)\u001b[49m\u001b[38;5;241;43m.\u001b[39;49m\u001b[43mresult\u001b[49m\u001b[43m(\u001b[49m\u001b[43m)\u001b[49m)\n",
      "File \u001b[1;32m~\\AppData\\Local\\Programs\\Python\\Python38\\lib\\concurrent\\futures\\_base.py:444\u001b[0m, in \u001b[0;36mFuture.result\u001b[1;34m(self, timeout)\u001b[0m\n\u001b[0;32m    442\u001b[0m     \u001b[38;5;28;01mraise\u001b[39;00m CancelledError()\n\u001b[0;32m    443\u001b[0m \u001b[38;5;28;01melif\u001b[39;00m \u001b[38;5;28mself\u001b[39m\u001b[38;5;241m.\u001b[39m_state \u001b[38;5;241m==\u001b[39m FINISHED:\n\u001b[1;32m--> 444\u001b[0m     \u001b[38;5;28;01mreturn\u001b[39;00m \u001b[38;5;28;43mself\u001b[39;49m\u001b[38;5;241;43m.\u001b[39;49m\u001b[43m__get_result\u001b[49m\u001b[43m(\u001b[49m\u001b[43m)\u001b[49m\n\u001b[0;32m    445\u001b[0m \u001b[38;5;28;01melse\u001b[39;00m:\n\u001b[0;32m    446\u001b[0m     \u001b[38;5;28;01mraise\u001b[39;00m \u001b[38;5;167;01mTimeoutError\u001b[39;00m()\n",
      "File \u001b[1;32m~\\AppData\\Local\\Programs\\Python\\Python38\\lib\\concurrent\\futures\\_base.py:389\u001b[0m, in \u001b[0;36mFuture.__get_result\u001b[1;34m(self)\u001b[0m\n\u001b[0;32m    387\u001b[0m \u001b[38;5;28;01mif\u001b[39;00m \u001b[38;5;28mself\u001b[39m\u001b[38;5;241m.\u001b[39m_exception:\n\u001b[0;32m    388\u001b[0m     \u001b[38;5;28;01mtry\u001b[39;00m:\n\u001b[1;32m--> 389\u001b[0m         \u001b[38;5;28;01mraise\u001b[39;00m \u001b[38;5;28mself\u001b[39m\u001b[38;5;241m.\u001b[39m_exception\n\u001b[0;32m    390\u001b[0m     \u001b[38;5;28;01mfinally\u001b[39;00m:\n\u001b[0;32m    391\u001b[0m         \u001b[38;5;66;03m# Break a reference cycle with the exception in self._exception\u001b[39;00m\n\u001b[0;32m    392\u001b[0m         \u001b[38;5;28mself\u001b[39m \u001b[38;5;241m=\u001b[39m \u001b[38;5;28;01mNone\u001b[39;00m\n",
      "File \u001b[1;32mD:\\BCP\\ALGORTIMO\\Curso_ETL_Python\\lib\\site-packages\\anyio\\from_thread.py:219\u001b[0m, in \u001b[0;36mBlockingPortal._call_func\u001b[1;34m(self, func, args, kwargs, future)\u001b[0m\n\u001b[0;32m    216\u001b[0m             \u001b[38;5;28;01melse\u001b[39;00m:\n\u001b[0;32m    217\u001b[0m                 future\u001b[38;5;241m.\u001b[39madd_done_callback(callback)\n\u001b[1;32m--> 219\u001b[0m             retval \u001b[38;5;241m=\u001b[39m \u001b[38;5;28;01mawait\u001b[39;00m retval\n\u001b[0;32m    220\u001b[0m \u001b[38;5;28;01mexcept\u001b[39;00m \u001b[38;5;28mself\u001b[39m\u001b[38;5;241m.\u001b[39m_cancelled_exc_class:\n\u001b[0;32m    221\u001b[0m     future\u001b[38;5;241m.\u001b[39mcancel()\n",
      "File \u001b[1;32mD:\\BCP\\ALGORTIMO\\Curso_ETL_Python\\lib\\site-packages\\prefect\\client\\utilities.py:47\u001b[0m, in \u001b[0;36minject_client.<locals>.with_injected_client\u001b[1;34m(*args, **kwargs)\u001b[0m\n\u001b[0;32m     45\u001b[0m \u001b[38;5;28;01masync\u001b[39;00m \u001b[38;5;28;01mwith\u001b[39;00m client_context \u001b[38;5;28;01mas\u001b[39;00m new_client:\n\u001b[0;32m     46\u001b[0m     kwargs\u001b[38;5;241m.\u001b[39msetdefault(\u001b[38;5;124m\"\u001b[39m\u001b[38;5;124mclient\u001b[39m\u001b[38;5;124m\"\u001b[39m, new_client \u001b[38;5;129;01mor\u001b[39;00m client)\n\u001b[1;32m---> 47\u001b[0m     \u001b[38;5;28;01mreturn\u001b[39;00m \u001b[38;5;28;01mawait\u001b[39;00m fn(\u001b[38;5;241m*\u001b[39margs, \u001b[38;5;241m*\u001b[39m\u001b[38;5;241m*\u001b[39mkwargs)\n",
      "File \u001b[1;32mD:\\BCP\\ALGORTIMO\\Curso_ETL_Python\\lib\\site-packages\\prefect\\engine.py:244\u001b[0m, in \u001b[0;36mcreate_then_begin_flow_run\u001b[1;34m(flow, parameters, wait_for, return_type, client)\u001b[0m\n\u001b[0;32m    242\u001b[0m     \u001b[38;5;28;01mreturn\u001b[39;00m state\n\u001b[0;32m    243\u001b[0m \u001b[38;5;28;01melif\u001b[39;00m return_type \u001b[38;5;241m==\u001b[39m \u001b[38;5;124m\"\u001b[39m\u001b[38;5;124mresult\u001b[39m\u001b[38;5;124m\"\u001b[39m:\n\u001b[1;32m--> 244\u001b[0m     \u001b[38;5;28;01mreturn\u001b[39;00m \u001b[38;5;28;01mawait\u001b[39;00m state\u001b[38;5;241m.\u001b[39mresult(fetch\u001b[38;5;241m=\u001b[39m\u001b[38;5;28;01mTrue\u001b[39;00m)\n\u001b[0;32m    245\u001b[0m \u001b[38;5;28;01melse\u001b[39;00m:\n\u001b[0;32m    246\u001b[0m     \u001b[38;5;28;01mraise\u001b[39;00m \u001b[38;5;167;01mValueError\u001b[39;00m(\u001b[38;5;124mf\u001b[39m\u001b[38;5;124m\"\u001b[39m\u001b[38;5;124mInvalid return type for flow engine \u001b[39m\u001b[38;5;132;01m{\u001b[39;00mreturn_type\u001b[38;5;132;01m!r}\u001b[39;00m\u001b[38;5;124m.\u001b[39m\u001b[38;5;124m\"\u001b[39m)\n",
      "File \u001b[1;32mD:\\BCP\\ALGORTIMO\\Curso_ETL_Python\\lib\\site-packages\\prefect\\states.py:89\u001b[0m, in \u001b[0;36m_get_state_result\u001b[1;34m(state, raise_on_failure)\u001b[0m\n\u001b[0;32m     84\u001b[0m     \u001b[38;5;28;01mraise\u001b[39;00m PausedRun(\u001b[38;5;124m\"\u001b[39m\u001b[38;5;124mRun paused.\u001b[39m\u001b[38;5;124m\"\u001b[39m)\n\u001b[0;32m     86\u001b[0m \u001b[38;5;28;01mif\u001b[39;00m raise_on_failure \u001b[38;5;129;01mand\u001b[39;00m (\n\u001b[0;32m     87\u001b[0m     state\u001b[38;5;241m.\u001b[39mis_crashed() \u001b[38;5;129;01mor\u001b[39;00m state\u001b[38;5;241m.\u001b[39mis_failed() \u001b[38;5;129;01mor\u001b[39;00m state\u001b[38;5;241m.\u001b[39mis_cancelled()\n\u001b[0;32m     88\u001b[0m ):\n\u001b[1;32m---> 89\u001b[0m     \u001b[38;5;28;01mraise\u001b[39;00m \u001b[38;5;28;01mawait\u001b[39;00m get_state_exception(state)\n\u001b[0;32m     91\u001b[0m \u001b[38;5;28;01mif\u001b[39;00m \u001b[38;5;28misinstance\u001b[39m(state\u001b[38;5;241m.\u001b[39mdata, DataDocument):\n\u001b[0;32m     92\u001b[0m     result \u001b[38;5;241m=\u001b[39m result_from_state_with_data_document(\n\u001b[0;32m     93\u001b[0m         state, raise_on_failure\u001b[38;5;241m=\u001b[39mraise_on_failure\n\u001b[0;32m     94\u001b[0m     )\n",
      "File \u001b[1;32mD:\\BCP\\ALGORTIMO\\Curso_ETL_Python\\lib\\site-packages\\prefect\\engine.py:636\u001b[0m, in \u001b[0;36morchestrate_flow_run\u001b[1;34m(flow, flow_run, parameters, wait_for, interruptible, client, partial_flow_run_context)\u001b[0m\n\u001b[0;32m    630\u001b[0m             \u001b[38;5;28;01melse\u001b[39;00m:\n\u001b[0;32m    631\u001b[0m                 run_sync \u001b[38;5;241m=\u001b[39m (\n\u001b[0;32m    632\u001b[0m                     run_sync_in_interruptible_worker_thread\n\u001b[0;32m    633\u001b[0m                     \u001b[38;5;28;01mif\u001b[39;00m interruptible \u001b[38;5;129;01mor\u001b[39;00m timeout_scope\n\u001b[0;32m    634\u001b[0m                     \u001b[38;5;28;01melse\u001b[39;00m run_sync_in_worker_thread\n\u001b[0;32m    635\u001b[0m                 )\n\u001b[1;32m--> 636\u001b[0m                 result \u001b[38;5;241m=\u001b[39m \u001b[38;5;28;01mawait\u001b[39;00m run_sync(flow_call)\n\u001b[0;32m    638\u001b[0m         waited_for_task_runs \u001b[38;5;241m=\u001b[39m \u001b[38;5;28;01mawait\u001b[39;00m wait_for_task_runs_and_report_crashes(\n\u001b[0;32m    639\u001b[0m             flow_run_context\u001b[38;5;241m.\u001b[39mtask_run_futures, client\u001b[38;5;241m=\u001b[39mclient\n\u001b[0;32m    640\u001b[0m         )\n\u001b[0;32m    641\u001b[0m \u001b[38;5;28;01mexcept\u001b[39;00m PausedRun:\n",
      "File \u001b[1;32mD:\\BCP\\ALGORTIMO\\Curso_ETL_Python\\lib\\site-packages\\prefect\\utilities\\asyncutils.py:156\u001b[0m, in \u001b[0;36mrun_sync_in_interruptible_worker_thread\u001b[1;34m(__fn, *args, **kwargs)\u001b[0m\n\u001b[0;32m    154\u001b[0m \u001b[38;5;28;01masync\u001b[39;00m \u001b[38;5;28;01mwith\u001b[39;00m anyio\u001b[38;5;241m.\u001b[39mcreate_task_group() \u001b[38;5;28;01mas\u001b[39;00m tg:\n\u001b[0;32m    155\u001b[0m     tg\u001b[38;5;241m.\u001b[39mstart_soon(send_interrupt_to_thread)\n\u001b[1;32m--> 156\u001b[0m     tg\u001b[38;5;241m.\u001b[39mstart_soon(\n\u001b[0;32m    157\u001b[0m         partial(\n\u001b[0;32m    158\u001b[0m             anyio\u001b[38;5;241m.\u001b[39mto_thread\u001b[38;5;241m.\u001b[39mrun_sync,\n\u001b[0;32m    159\u001b[0m             capture_worker_thread_and_result,\n\u001b[0;32m    160\u001b[0m             cancellable\u001b[38;5;241m=\u001b[39m\u001b[38;5;28;01mTrue\u001b[39;00m,\n\u001b[0;32m    161\u001b[0m             limiter\u001b[38;5;241m=\u001b[39mget_thread_limiter(),\n\u001b[0;32m    162\u001b[0m         )\n\u001b[0;32m    163\u001b[0m     )\n\u001b[0;32m    165\u001b[0m \u001b[38;5;28;01massert\u001b[39;00m result \u001b[38;5;129;01mis\u001b[39;00m \u001b[38;5;129;01mnot\u001b[39;00m NotSet\n\u001b[0;32m    166\u001b[0m \u001b[38;5;28;01mreturn\u001b[39;00m result\n",
      "File \u001b[1;32mD:\\BCP\\ALGORTIMO\\Curso_ETL_Python\\lib\\site-packages\\anyio\\_backends\\_asyncio.py:662\u001b[0m, in \u001b[0;36mTaskGroup.__aexit__\u001b[1;34m(self, exc_type, exc_val, exc_tb)\u001b[0m\n\u001b[0;32m    660\u001b[0m             \u001b[38;5;28;01mraise\u001b[39;00m ExceptionGroup(exceptions)\n\u001b[0;32m    661\u001b[0m     \u001b[38;5;28;01melif\u001b[39;00m exceptions \u001b[38;5;129;01mand\u001b[39;00m exceptions[\u001b[38;5;241m0\u001b[39m] \u001b[38;5;129;01mis\u001b[39;00m \u001b[38;5;129;01mnot\u001b[39;00m exc_val:\n\u001b[1;32m--> 662\u001b[0m         \u001b[38;5;28;01mraise\u001b[39;00m exceptions[\u001b[38;5;241m0\u001b[39m]\n\u001b[0;32m    663\u001b[0m \u001b[38;5;28;01mexcept\u001b[39;00m \u001b[38;5;167;01mBaseException\u001b[39;00m \u001b[38;5;28;01mas\u001b[39;00m exc:\n\u001b[0;32m    664\u001b[0m     \u001b[38;5;66;03m# Clear the context here, as it can only be done in-flight.\u001b[39;00m\n\u001b[0;32m    665\u001b[0m     \u001b[38;5;66;03m# If the context is not cleared, it can result in recursive tracebacks (see #145).\u001b[39;00m\n\u001b[0;32m    666\u001b[0m     exc\u001b[38;5;241m.\u001b[39m__context__ \u001b[38;5;241m=\u001b[39m \u001b[38;5;28;01mNone\u001b[39;00m\n",
      "File \u001b[1;32mD:\\BCP\\ALGORTIMO\\Curso_ETL_Python\\lib\\site-packages\\anyio\\to_thread.py:31\u001b[0m, in \u001b[0;36mrun_sync\u001b[1;34m(func, cancellable, limiter, *args)\u001b[0m\n\u001b[0;32m     10\u001b[0m \u001b[38;5;28;01masync\u001b[39;00m \u001b[38;5;28;01mdef\u001b[39;00m \u001b[38;5;21mrun_sync\u001b[39m(\n\u001b[0;32m     11\u001b[0m     func: Callable[\u001b[38;5;241m.\u001b[39m\u001b[38;5;241m.\u001b[39m\u001b[38;5;241m.\u001b[39m, T_Retval],\n\u001b[0;32m     12\u001b[0m     \u001b[38;5;241m*\u001b[39margs: \u001b[38;5;28mobject\u001b[39m,\n\u001b[0;32m     13\u001b[0m     cancellable: \u001b[38;5;28mbool\u001b[39m \u001b[38;5;241m=\u001b[39m \u001b[38;5;28;01mFalse\u001b[39;00m,\n\u001b[0;32m     14\u001b[0m     limiter: Optional[CapacityLimiter] \u001b[38;5;241m=\u001b[39m \u001b[38;5;28;01mNone\u001b[39;00m\n\u001b[0;32m     15\u001b[0m ) \u001b[38;5;241m-\u001b[39m\u001b[38;5;241m>\u001b[39m T_Retval:\n\u001b[0;32m     16\u001b[0m     \u001b[38;5;124;03m\"\"\"\u001b[39;00m\n\u001b[0;32m     17\u001b[0m \u001b[38;5;124;03m    Call the given function with the given arguments in a worker thread.\u001b[39;00m\n\u001b[0;32m     18\u001b[0m \n\u001b[1;32m   (...)\u001b[0m\n\u001b[0;32m     29\u001b[0m \n\u001b[0;32m     30\u001b[0m \u001b[38;5;124;03m    \"\"\"\u001b[39;00m\n\u001b[1;32m---> 31\u001b[0m     \u001b[38;5;28;01mreturn\u001b[39;00m \u001b[38;5;28;01mawait\u001b[39;00m get_asynclib()\u001b[38;5;241m.\u001b[39mrun_sync_in_worker_thread(\n\u001b[0;32m     32\u001b[0m         func, \u001b[38;5;241m*\u001b[39margs, cancellable\u001b[38;5;241m=\u001b[39mcancellable, limiter\u001b[38;5;241m=\u001b[39mlimiter\n\u001b[0;32m     33\u001b[0m     )\n",
      "File \u001b[1;32mD:\\BCP\\ALGORTIMO\\Curso_ETL_Python\\lib\\site-packages\\anyio\\_backends\\_asyncio.py:937\u001b[0m, in \u001b[0;36mrun_sync_in_worker_thread\u001b[1;34m(func, cancellable, limiter, *args)\u001b[0m\n\u001b[0;32m    935\u001b[0m context\u001b[38;5;241m.\u001b[39mrun(sniffio\u001b[38;5;241m.\u001b[39mcurrent_async_library_cvar\u001b[38;5;241m.\u001b[39mset, \u001b[38;5;28;01mNone\u001b[39;00m)\n\u001b[0;32m    936\u001b[0m worker\u001b[38;5;241m.\u001b[39mqueue\u001b[38;5;241m.\u001b[39mput_nowait((context, func, args, future))\n\u001b[1;32m--> 937\u001b[0m \u001b[38;5;28;01mreturn\u001b[39;00m \u001b[38;5;28;01mawait\u001b[39;00m future\n",
      "File \u001b[1;32mD:\\BCP\\ALGORTIMO\\Curso_ETL_Python\\lib\\site-packages\\anyio\\_backends\\_asyncio.py:867\u001b[0m, in \u001b[0;36mWorkerThread.run\u001b[1;34m(self)\u001b[0m\n\u001b[0;32m    865\u001b[0m exception: Optional[\u001b[38;5;167;01mBaseException\u001b[39;00m] \u001b[38;5;241m=\u001b[39m \u001b[38;5;28;01mNone\u001b[39;00m\n\u001b[0;32m    866\u001b[0m \u001b[38;5;28;01mtry\u001b[39;00m:\n\u001b[1;32m--> 867\u001b[0m     result \u001b[38;5;241m=\u001b[39m \u001b[43mcontext\u001b[49m\u001b[38;5;241;43m.\u001b[39;49m\u001b[43mrun\u001b[49m\u001b[43m(\u001b[49m\u001b[43mfunc\u001b[49m\u001b[43m,\u001b[49m\u001b[43m \u001b[49m\u001b[38;5;241;43m*\u001b[39;49m\u001b[43margs\u001b[49m\u001b[43m)\u001b[49m\n\u001b[0;32m    868\u001b[0m \u001b[38;5;28;01mexcept\u001b[39;00m \u001b[38;5;167;01mBaseException\u001b[39;00m \u001b[38;5;28;01mas\u001b[39;00m exc:\n\u001b[0;32m    869\u001b[0m     exception \u001b[38;5;241m=\u001b[39m exc\n",
      "File \u001b[1;32mD:\\BCP\\ALGORTIMO\\Curso_ETL_Python\\lib\\site-packages\\prefect\\utilities\\asyncutils.py:135\u001b[0m, in \u001b[0;36mrun_sync_in_interruptible_worker_thread.<locals>.capture_worker_thread_and_result\u001b[1;34m()\u001b[0m\n\u001b[0;32m    133\u001b[0m \u001b[38;5;28;01mtry\u001b[39;00m:\n\u001b[0;32m    134\u001b[0m     thread \u001b[38;5;241m=\u001b[39m threading\u001b[38;5;241m.\u001b[39mcurrent_thread()\n\u001b[1;32m--> 135\u001b[0m     result \u001b[38;5;241m=\u001b[39m \u001b[43m__fn\u001b[49m\u001b[43m(\u001b[49m\u001b[38;5;241;43m*\u001b[39;49m\u001b[43margs\u001b[49m\u001b[43m,\u001b[49m\u001b[43m \u001b[49m\u001b[38;5;241;43m*\u001b[39;49m\u001b[38;5;241;43m*\u001b[39;49m\u001b[43mkwargs\u001b[49m\u001b[43m)\u001b[49m\n\u001b[0;32m    136\u001b[0m \u001b[38;5;28;01mexcept\u001b[39;00m \u001b[38;5;167;01mBaseException\u001b[39;00m \u001b[38;5;28;01mas\u001b[39;00m exc:\n\u001b[0;32m    137\u001b[0m     result \u001b[38;5;241m=\u001b[39m exc\n",
      "Cell \u001b[1;32mIn[1], line 11\u001b[0m, in \u001b[0;36mtest_retries\u001b[1;34m()\u001b[0m\n\u001b[0;32m      9\u001b[0m \u001b[38;5;129m@flow\u001b[39m\n\u001b[0;32m     10\u001b[0m \u001b[38;5;28;01mdef\u001b[39;00m \u001b[38;5;21mtest_retries\u001b[39m():\n\u001b[1;32m---> 11\u001b[0m     \u001b[38;5;28;01mreturn\u001b[39;00m \u001b[43mfailure\u001b[49m\u001b[43m(\u001b[49m\u001b[43m)\u001b[49m\n",
      "File \u001b[1;32mD:\\BCP\\ALGORTIMO\\Curso_ETL_Python\\lib\\site-packages\\prefect\\tasks.py:436\u001b[0m, in \u001b[0;36mTask.__call__\u001b[1;34m(self, return_state, wait_for, *args, **kwargs)\u001b[0m\n\u001b[0;32m    432\u001b[0m parameters \u001b[38;5;241m=\u001b[39m get_call_parameters(\u001b[38;5;28mself\u001b[39m\u001b[38;5;241m.\u001b[39mfn, args, kwargs)\n\u001b[0;32m    434\u001b[0m return_type \u001b[38;5;241m=\u001b[39m \u001b[38;5;124m\"\u001b[39m\u001b[38;5;124mstate\u001b[39m\u001b[38;5;124m\"\u001b[39m \u001b[38;5;28;01mif\u001b[39;00m return_state \u001b[38;5;28;01melse\u001b[39;00m \u001b[38;5;124m\"\u001b[39m\u001b[38;5;124mresult\u001b[39m\u001b[38;5;124m\"\u001b[39m\n\u001b[1;32m--> 436\u001b[0m \u001b[38;5;28;01mreturn\u001b[39;00m \u001b[43menter_task_run_engine\u001b[49m\u001b[43m(\u001b[49m\n\u001b[0;32m    437\u001b[0m \u001b[43m    \u001b[49m\u001b[38;5;28;43mself\u001b[39;49m\u001b[43m,\u001b[49m\n\u001b[0;32m    438\u001b[0m \u001b[43m    \u001b[49m\u001b[43mparameters\u001b[49m\u001b[38;5;241;43m=\u001b[39;49m\u001b[43mparameters\u001b[49m\u001b[43m,\u001b[49m\n\u001b[0;32m    439\u001b[0m \u001b[43m    \u001b[49m\u001b[43mwait_for\u001b[49m\u001b[38;5;241;43m=\u001b[39;49m\u001b[43mwait_for\u001b[49m\u001b[43m,\u001b[49m\n\u001b[0;32m    440\u001b[0m \u001b[43m    \u001b[49m\u001b[43mtask_runner\u001b[49m\u001b[38;5;241;43m=\u001b[39;49m\u001b[43mSequentialTaskRunner\u001b[49m\u001b[43m(\u001b[49m\u001b[43m)\u001b[49m\u001b[43m,\u001b[49m\n\u001b[0;32m    441\u001b[0m \u001b[43m    \u001b[49m\u001b[43mreturn_type\u001b[49m\u001b[38;5;241;43m=\u001b[39;49m\u001b[43mreturn_type\u001b[49m\u001b[43m,\u001b[49m\n\u001b[0;32m    442\u001b[0m \u001b[43m    \u001b[49m\u001b[43mmapped\u001b[49m\u001b[38;5;241;43m=\u001b[39;49m\u001b[38;5;28;43;01mFalse\u001b[39;49;00m\u001b[43m,\u001b[49m\n\u001b[0;32m    443\u001b[0m \u001b[43m\u001b[49m\u001b[43m)\u001b[49m\n",
      "File \u001b[1;32mD:\\BCP\\ALGORTIMO\\Curso_ETL_Python\\lib\\site-packages\\prefect\\engine.py:926\u001b[0m, in \u001b[0;36menter_task_run_engine\u001b[1;34m(task, parameters, wait_for, return_type, task_runner, mapped)\u001b[0m\n\u001b[0;32m    924\u001b[0m \u001b[38;5;66;03m# Async or sync task run in sync flow run\u001b[39;00m\n\u001b[0;32m    925\u001b[0m \u001b[38;5;28;01melif\u001b[39;00m \u001b[38;5;129;01mnot\u001b[39;00m flow_run_context\u001b[38;5;241m.\u001b[39mflow\u001b[38;5;241m.\u001b[39misasync:\n\u001b[1;32m--> 926\u001b[0m     \u001b[38;5;28;01mreturn\u001b[39;00m \u001b[43mrun_async_from_worker_thread\u001b[49m\u001b[43m(\u001b[49m\u001b[43mbegin_run\u001b[49m\u001b[43m)\u001b[49m\n\u001b[0;32m    928\u001b[0m \u001b[38;5;66;03m# Sync task run in async flow run\u001b[39;00m\n\u001b[0;32m    929\u001b[0m \u001b[38;5;28;01melse\u001b[39;00m:\n\u001b[0;32m    930\u001b[0m     \u001b[38;5;66;03m# Call out to the sync portal since we are not in a worker thread\u001b[39;00m\n\u001b[0;32m    931\u001b[0m     \u001b[38;5;28;01mreturn\u001b[39;00m flow_run_context\u001b[38;5;241m.\u001b[39msync_portal\u001b[38;5;241m.\u001b[39mcall(begin_run)\n",
      "File \u001b[1;32mD:\\BCP\\ALGORTIMO\\Curso_ETL_Python\\lib\\site-packages\\prefect\\utilities\\asyncutils.py:177\u001b[0m, in \u001b[0;36mrun_async_from_worker_thread\u001b[1;34m(__fn, *args, **kwargs)\u001b[0m\n\u001b[0;32m    172\u001b[0m \u001b[38;5;124;03m\"\"\"\u001b[39;00m\n\u001b[0;32m    173\u001b[0m \u001b[38;5;124;03mRuns an async function in the main thread's event loop, blocking the worker\u001b[39;00m\n\u001b[0;32m    174\u001b[0m \u001b[38;5;124;03mthread until completion\u001b[39;00m\n\u001b[0;32m    175\u001b[0m \u001b[38;5;124;03m\"\"\"\u001b[39;00m\n\u001b[0;32m    176\u001b[0m call \u001b[38;5;241m=\u001b[39m partial(__fn, \u001b[38;5;241m*\u001b[39margs, \u001b[38;5;241m*\u001b[39m\u001b[38;5;241m*\u001b[39mkwargs)\n\u001b[1;32m--> 177\u001b[0m \u001b[38;5;28;01mreturn\u001b[39;00m \u001b[43manyio\u001b[49m\u001b[38;5;241;43m.\u001b[39;49m\u001b[43mfrom_thread\u001b[49m\u001b[38;5;241;43m.\u001b[39;49m\u001b[43mrun\u001b[49m\u001b[43m(\u001b[49m\u001b[43mcall\u001b[49m\u001b[43m)\u001b[49m\n",
      "File \u001b[1;32mD:\\BCP\\ALGORTIMO\\Curso_ETL_Python\\lib\\site-packages\\anyio\\from_thread.py:49\u001b[0m, in \u001b[0;36mrun\u001b[1;34m(func, *args)\u001b[0m\n\u001b[0;32m     46\u001b[0m \u001b[38;5;28;01mexcept\u001b[39;00m \u001b[38;5;167;01mAttributeError\u001b[39;00m:\n\u001b[0;32m     47\u001b[0m     \u001b[38;5;28;01mraise\u001b[39;00m \u001b[38;5;167;01mRuntimeError\u001b[39;00m(\u001b[38;5;124m\"\u001b[39m\u001b[38;5;124mThis function can only be run from an AnyIO worker thread\u001b[39m\u001b[38;5;124m\"\u001b[39m)\n\u001b[1;32m---> 49\u001b[0m \u001b[38;5;28;01mreturn\u001b[39;00m \u001b[43masynclib\u001b[49m\u001b[38;5;241;43m.\u001b[39;49m\u001b[43mrun_async_from_thread\u001b[49m\u001b[43m(\u001b[49m\u001b[43mfunc\u001b[49m\u001b[43m,\u001b[49m\u001b[43m \u001b[49m\u001b[38;5;241;43m*\u001b[39;49m\u001b[43margs\u001b[49m\u001b[43m)\u001b[49m\n",
      "File \u001b[1;32mD:\\BCP\\ALGORTIMO\\Curso_ETL_Python\\lib\\site-packages\\anyio\\_backends\\_asyncio.py:970\u001b[0m, in \u001b[0;36mrun_async_from_thread\u001b[1;34m(func, *args)\u001b[0m\n\u001b[0;32m    964\u001b[0m \u001b[38;5;28;01mdef\u001b[39;00m \u001b[38;5;21mrun_async_from_thread\u001b[39m(\n\u001b[0;32m    965\u001b[0m     func: Callable[\u001b[38;5;241m.\u001b[39m\u001b[38;5;241m.\u001b[39m\u001b[38;5;241m.\u001b[39m, Coroutine[Any, Any, T_Retval]], \u001b[38;5;241m*\u001b[39margs: \u001b[38;5;28mobject\u001b[39m\n\u001b[0;32m    966\u001b[0m ) \u001b[38;5;241m-\u001b[39m\u001b[38;5;241m>\u001b[39m T_Retval:\n\u001b[0;32m    967\u001b[0m     f: concurrent\u001b[38;5;241m.\u001b[39mfutures\u001b[38;5;241m.\u001b[39mFuture[T_Retval] \u001b[38;5;241m=\u001b[39m asyncio\u001b[38;5;241m.\u001b[39mrun_coroutine_threadsafe(\n\u001b[0;32m    968\u001b[0m         func(\u001b[38;5;241m*\u001b[39margs), threadlocals\u001b[38;5;241m.\u001b[39mloop\n\u001b[0;32m    969\u001b[0m     )\n\u001b[1;32m--> 970\u001b[0m     \u001b[38;5;28;01mreturn\u001b[39;00m \u001b[43mf\u001b[49m\u001b[38;5;241;43m.\u001b[39;49m\u001b[43mresult\u001b[49m\u001b[43m(\u001b[49m\u001b[43m)\u001b[49m\n",
      "File \u001b[1;32m~\\AppData\\Local\\Programs\\Python\\Python38\\lib\\concurrent\\futures\\_base.py:444\u001b[0m, in \u001b[0;36mFuture.result\u001b[1;34m(self, timeout)\u001b[0m\n\u001b[0;32m    442\u001b[0m     \u001b[38;5;28;01mraise\u001b[39;00m CancelledError()\n\u001b[0;32m    443\u001b[0m \u001b[38;5;28;01melif\u001b[39;00m \u001b[38;5;28mself\u001b[39m\u001b[38;5;241m.\u001b[39m_state \u001b[38;5;241m==\u001b[39m FINISHED:\n\u001b[1;32m--> 444\u001b[0m     \u001b[38;5;28;01mreturn\u001b[39;00m \u001b[38;5;28;43mself\u001b[39;49m\u001b[38;5;241;43m.\u001b[39;49m\u001b[43m__get_result\u001b[49m\u001b[43m(\u001b[49m\u001b[43m)\u001b[49m\n\u001b[0;32m    445\u001b[0m \u001b[38;5;28;01melse\u001b[39;00m:\n\u001b[0;32m    446\u001b[0m     \u001b[38;5;28;01mraise\u001b[39;00m \u001b[38;5;167;01mTimeoutError\u001b[39;00m()\n",
      "File \u001b[1;32m~\\AppData\\Local\\Programs\\Python\\Python38\\lib\\concurrent\\futures\\_base.py:389\u001b[0m, in \u001b[0;36mFuture.__get_result\u001b[1;34m(self)\u001b[0m\n\u001b[0;32m    387\u001b[0m \u001b[38;5;28;01mif\u001b[39;00m \u001b[38;5;28mself\u001b[39m\u001b[38;5;241m.\u001b[39m_exception:\n\u001b[0;32m    388\u001b[0m     \u001b[38;5;28;01mtry\u001b[39;00m:\n\u001b[1;32m--> 389\u001b[0m         \u001b[38;5;28;01mraise\u001b[39;00m \u001b[38;5;28mself\u001b[39m\u001b[38;5;241m.\u001b[39m_exception\n\u001b[0;32m    390\u001b[0m     \u001b[38;5;28;01mfinally\u001b[39;00m:\n\u001b[0;32m    391\u001b[0m         \u001b[38;5;66;03m# Break a reference cycle with the exception in self._exception\u001b[39;00m\n\u001b[0;32m    392\u001b[0m         \u001b[38;5;28mself\u001b[39m \u001b[38;5;241m=\u001b[39m \u001b[38;5;28;01mNone\u001b[39;00m\n",
      "File \u001b[1;32mD:\\BCP\\ALGORTIMO\\Curso_ETL_Python\\lib\\site-packages\\prefect\\engine.py:1064\u001b[0m, in \u001b[0;36mget_task_call_return_value\u001b[1;34m(task, flow_run_context, parameters, wait_for, return_type, task_runner, extra_task_inputs)\u001b[0m\n\u001b[0;32m   1062\u001b[0m     \u001b[38;5;28;01mreturn\u001b[39;00m \u001b[38;5;28;01mawait\u001b[39;00m future\u001b[38;5;241m.\u001b[39m_wait()\n\u001b[0;32m   1063\u001b[0m \u001b[38;5;28;01melif\u001b[39;00m return_type \u001b[38;5;241m==\u001b[39m \u001b[38;5;124m\"\u001b[39m\u001b[38;5;124mresult\u001b[39m\u001b[38;5;124m\"\u001b[39m:\n\u001b[1;32m-> 1064\u001b[0m     \u001b[38;5;28;01mreturn\u001b[39;00m \u001b[38;5;28;01mawait\u001b[39;00m future\u001b[38;5;241m.\u001b[39m_result()\n\u001b[0;32m   1065\u001b[0m \u001b[38;5;28;01melse\u001b[39;00m:\n\u001b[0;32m   1066\u001b[0m     \u001b[38;5;28;01mraise\u001b[39;00m \u001b[38;5;167;01mValueError\u001b[39;00m(\u001b[38;5;124mf\u001b[39m\u001b[38;5;124m\"\u001b[39m\u001b[38;5;124mInvalid return type for task engine \u001b[39m\u001b[38;5;132;01m{\u001b[39;00mreturn_type\u001b[38;5;132;01m!r}\u001b[39;00m\u001b[38;5;124m.\u001b[39m\u001b[38;5;124m\"\u001b[39m)\n",
      "File \u001b[1;32mD:\\BCP\\ALGORTIMO\\Curso_ETL_Python\\lib\\site-packages\\prefect\\futures.py:237\u001b[0m, in \u001b[0;36mPrefectFuture._result\u001b[1;34m(self, timeout, raise_on_failure)\u001b[0m\n\u001b[0;32m    235\u001b[0m \u001b[38;5;28;01mif\u001b[39;00m \u001b[38;5;129;01mnot\u001b[39;00m final_state:\n\u001b[0;32m    236\u001b[0m     \u001b[38;5;28;01mraise\u001b[39;00m \u001b[38;5;167;01mTimeoutError\u001b[39;00m(\u001b[38;5;124m\"\u001b[39m\u001b[38;5;124mCall timed out before task finished.\u001b[39m\u001b[38;5;124m\"\u001b[39m)\n\u001b[1;32m--> 237\u001b[0m \u001b[38;5;28;01mreturn\u001b[39;00m \u001b[38;5;28;01mawait\u001b[39;00m final_state\u001b[38;5;241m.\u001b[39mresult(raise_on_failure\u001b[38;5;241m=\u001b[39mraise_on_failure, fetch\u001b[38;5;241m=\u001b[39m\u001b[38;5;28;01mTrue\u001b[39;00m)\n",
      "File \u001b[1;32mD:\\BCP\\ALGORTIMO\\Curso_ETL_Python\\lib\\site-packages\\prefect\\states.py:89\u001b[0m, in \u001b[0;36m_get_state_result\u001b[1;34m(state, raise_on_failure)\u001b[0m\n\u001b[0;32m     84\u001b[0m     \u001b[38;5;28;01mraise\u001b[39;00m PausedRun(\u001b[38;5;124m\"\u001b[39m\u001b[38;5;124mRun paused.\u001b[39m\u001b[38;5;124m\"\u001b[39m)\n\u001b[0;32m     86\u001b[0m \u001b[38;5;28;01mif\u001b[39;00m raise_on_failure \u001b[38;5;129;01mand\u001b[39;00m (\n\u001b[0;32m     87\u001b[0m     state\u001b[38;5;241m.\u001b[39mis_crashed() \u001b[38;5;129;01mor\u001b[39;00m state\u001b[38;5;241m.\u001b[39mis_failed() \u001b[38;5;129;01mor\u001b[39;00m state\u001b[38;5;241m.\u001b[39mis_cancelled()\n\u001b[0;32m     88\u001b[0m ):\n\u001b[1;32m---> 89\u001b[0m     \u001b[38;5;28;01mraise\u001b[39;00m \u001b[38;5;28;01mawait\u001b[39;00m get_state_exception(state)\n\u001b[0;32m     91\u001b[0m \u001b[38;5;28;01mif\u001b[39;00m \u001b[38;5;28misinstance\u001b[39m(state\u001b[38;5;241m.\u001b[39mdata, DataDocument):\n\u001b[0;32m     92\u001b[0m     result \u001b[38;5;241m=\u001b[39m result_from_state_with_data_document(\n\u001b[0;32m     93\u001b[0m         state, raise_on_failure\u001b[38;5;241m=\u001b[39mraise_on_failure\n\u001b[0;32m     94\u001b[0m     )\n",
      "File \u001b[1;32mD:\\BCP\\ALGORTIMO\\Curso_ETL_Python\\lib\\site-packages\\prefect\\engine.py:1445\u001b[0m, in \u001b[0;36morchestrate_task_run\u001b[1;34m(task, task_run, parameters, wait_for, result_factory, log_prints, interruptible, client)\u001b[0m\n\u001b[0;32m   1439\u001b[0m             \u001b[38;5;28;01melse\u001b[39;00m:\n\u001b[0;32m   1440\u001b[0m                 run_sync \u001b[38;5;241m=\u001b[39m (\n\u001b[0;32m   1441\u001b[0m                     run_sync_in_interruptible_worker_thread\n\u001b[0;32m   1442\u001b[0m                     \u001b[38;5;28;01mif\u001b[39;00m interruptible \u001b[38;5;129;01mor\u001b[39;00m timeout_scope\n\u001b[0;32m   1443\u001b[0m                     \u001b[38;5;28;01melse\u001b[39;00m run_sync_in_worker_thread\n\u001b[0;32m   1444\u001b[0m                 )\n\u001b[1;32m-> 1445\u001b[0m                 result \u001b[38;5;241m=\u001b[39m \u001b[38;5;28;01mawait\u001b[39;00m run_sync(task\u001b[38;5;241m.\u001b[39mfn, \u001b[38;5;241m*\u001b[39margs, \u001b[38;5;241m*\u001b[39m\u001b[38;5;241m*\u001b[39mkwargs)\n\u001b[0;32m   1447\u001b[0m \u001b[38;5;28;01mexcept\u001b[39;00m \u001b[38;5;167;01mException\u001b[39;00m \u001b[38;5;28;01mas\u001b[39;00m exc:\n\u001b[0;32m   1448\u001b[0m     name \u001b[38;5;241m=\u001b[39m message \u001b[38;5;241m=\u001b[39m \u001b[38;5;28;01mNone\u001b[39;00m\n",
      "File \u001b[1;32mD:\\BCP\\ALGORTIMO\\Curso_ETL_Python\\lib\\site-packages\\prefect\\utilities\\asyncutils.py:156\u001b[0m, in \u001b[0;36mrun_sync_in_interruptible_worker_thread\u001b[1;34m(__fn, *args, **kwargs)\u001b[0m\n\u001b[0;32m    154\u001b[0m \u001b[38;5;28;01masync\u001b[39;00m \u001b[38;5;28;01mwith\u001b[39;00m anyio\u001b[38;5;241m.\u001b[39mcreate_task_group() \u001b[38;5;28;01mas\u001b[39;00m tg:\n\u001b[0;32m    155\u001b[0m     tg\u001b[38;5;241m.\u001b[39mstart_soon(send_interrupt_to_thread)\n\u001b[1;32m--> 156\u001b[0m     tg\u001b[38;5;241m.\u001b[39mstart_soon(\n\u001b[0;32m    157\u001b[0m         partial(\n\u001b[0;32m    158\u001b[0m             anyio\u001b[38;5;241m.\u001b[39mto_thread\u001b[38;5;241m.\u001b[39mrun_sync,\n\u001b[0;32m    159\u001b[0m             capture_worker_thread_and_result,\n\u001b[0;32m    160\u001b[0m             cancellable\u001b[38;5;241m=\u001b[39m\u001b[38;5;28;01mTrue\u001b[39;00m,\n\u001b[0;32m    161\u001b[0m             limiter\u001b[38;5;241m=\u001b[39mget_thread_limiter(),\n\u001b[0;32m    162\u001b[0m         )\n\u001b[0;32m    163\u001b[0m     )\n\u001b[0;32m    165\u001b[0m \u001b[38;5;28;01massert\u001b[39;00m result \u001b[38;5;129;01mis\u001b[39;00m \u001b[38;5;129;01mnot\u001b[39;00m NotSet\n\u001b[0;32m    166\u001b[0m \u001b[38;5;28;01mreturn\u001b[39;00m result\n",
      "File \u001b[1;32mD:\\BCP\\ALGORTIMO\\Curso_ETL_Python\\lib\\site-packages\\anyio\\_backends\\_asyncio.py:662\u001b[0m, in \u001b[0;36mTaskGroup.__aexit__\u001b[1;34m(self, exc_type, exc_val, exc_tb)\u001b[0m\n\u001b[0;32m    660\u001b[0m             \u001b[38;5;28;01mraise\u001b[39;00m ExceptionGroup(exceptions)\n\u001b[0;32m    661\u001b[0m     \u001b[38;5;28;01melif\u001b[39;00m exceptions \u001b[38;5;129;01mand\u001b[39;00m exceptions[\u001b[38;5;241m0\u001b[39m] \u001b[38;5;129;01mis\u001b[39;00m \u001b[38;5;129;01mnot\u001b[39;00m exc_val:\n\u001b[1;32m--> 662\u001b[0m         \u001b[38;5;28;01mraise\u001b[39;00m exceptions[\u001b[38;5;241m0\u001b[39m]\n\u001b[0;32m    663\u001b[0m \u001b[38;5;28;01mexcept\u001b[39;00m \u001b[38;5;167;01mBaseException\u001b[39;00m \u001b[38;5;28;01mas\u001b[39;00m exc:\n\u001b[0;32m    664\u001b[0m     \u001b[38;5;66;03m# Clear the context here, as it can only be done in-flight.\u001b[39;00m\n\u001b[0;32m    665\u001b[0m     \u001b[38;5;66;03m# If the context is not cleared, it can result in recursive tracebacks (see #145).\u001b[39;00m\n\u001b[0;32m    666\u001b[0m     exc\u001b[38;5;241m.\u001b[39m__context__ \u001b[38;5;241m=\u001b[39m \u001b[38;5;28;01mNone\u001b[39;00m\n",
      "File \u001b[1;32mD:\\BCP\\ALGORTIMO\\Curso_ETL_Python\\lib\\site-packages\\anyio\\to_thread.py:31\u001b[0m, in \u001b[0;36mrun_sync\u001b[1;34m(func, cancellable, limiter, *args)\u001b[0m\n\u001b[0;32m     10\u001b[0m \u001b[38;5;28;01masync\u001b[39;00m \u001b[38;5;28;01mdef\u001b[39;00m \u001b[38;5;21mrun_sync\u001b[39m(\n\u001b[0;32m     11\u001b[0m     func: Callable[\u001b[38;5;241m.\u001b[39m\u001b[38;5;241m.\u001b[39m\u001b[38;5;241m.\u001b[39m, T_Retval],\n\u001b[0;32m     12\u001b[0m     \u001b[38;5;241m*\u001b[39margs: \u001b[38;5;28mobject\u001b[39m,\n\u001b[0;32m     13\u001b[0m     cancellable: \u001b[38;5;28mbool\u001b[39m \u001b[38;5;241m=\u001b[39m \u001b[38;5;28;01mFalse\u001b[39;00m,\n\u001b[0;32m     14\u001b[0m     limiter: Optional[CapacityLimiter] \u001b[38;5;241m=\u001b[39m \u001b[38;5;28;01mNone\u001b[39;00m\n\u001b[0;32m     15\u001b[0m ) \u001b[38;5;241m-\u001b[39m\u001b[38;5;241m>\u001b[39m T_Retval:\n\u001b[0;32m     16\u001b[0m     \u001b[38;5;124;03m\"\"\"\u001b[39;00m\n\u001b[0;32m     17\u001b[0m \u001b[38;5;124;03m    Call the given function with the given arguments in a worker thread.\u001b[39;00m\n\u001b[0;32m     18\u001b[0m \n\u001b[1;32m   (...)\u001b[0m\n\u001b[0;32m     29\u001b[0m \n\u001b[0;32m     30\u001b[0m \u001b[38;5;124;03m    \"\"\"\u001b[39;00m\n\u001b[1;32m---> 31\u001b[0m     \u001b[38;5;28;01mreturn\u001b[39;00m \u001b[38;5;28;01mawait\u001b[39;00m get_asynclib()\u001b[38;5;241m.\u001b[39mrun_sync_in_worker_thread(\n\u001b[0;32m     32\u001b[0m         func, \u001b[38;5;241m*\u001b[39margs, cancellable\u001b[38;5;241m=\u001b[39mcancellable, limiter\u001b[38;5;241m=\u001b[39mlimiter\n\u001b[0;32m     33\u001b[0m     )\n",
      "File \u001b[1;32mD:\\BCP\\ALGORTIMO\\Curso_ETL_Python\\lib\\site-packages\\anyio\\_backends\\_asyncio.py:937\u001b[0m, in \u001b[0;36mrun_sync_in_worker_thread\u001b[1;34m(func, cancellable, limiter, *args)\u001b[0m\n\u001b[0;32m    935\u001b[0m context\u001b[38;5;241m.\u001b[39mrun(sniffio\u001b[38;5;241m.\u001b[39mcurrent_async_library_cvar\u001b[38;5;241m.\u001b[39mset, \u001b[38;5;28;01mNone\u001b[39;00m)\n\u001b[0;32m    936\u001b[0m worker\u001b[38;5;241m.\u001b[39mqueue\u001b[38;5;241m.\u001b[39mput_nowait((context, func, args, future))\n\u001b[1;32m--> 937\u001b[0m \u001b[38;5;28;01mreturn\u001b[39;00m \u001b[38;5;28;01mawait\u001b[39;00m future\n",
      "File \u001b[1;32mD:\\BCP\\ALGORTIMO\\Curso_ETL_Python\\lib\\site-packages\\anyio\\_backends\\_asyncio.py:867\u001b[0m, in \u001b[0;36mWorkerThread.run\u001b[1;34m(self)\u001b[0m\n\u001b[0;32m    865\u001b[0m exception: Optional[\u001b[38;5;167;01mBaseException\u001b[39;00m] \u001b[38;5;241m=\u001b[39m \u001b[38;5;28;01mNone\u001b[39;00m\n\u001b[0;32m    866\u001b[0m \u001b[38;5;28;01mtry\u001b[39;00m:\n\u001b[1;32m--> 867\u001b[0m     result \u001b[38;5;241m=\u001b[39m \u001b[43mcontext\u001b[49m\u001b[38;5;241;43m.\u001b[39;49m\u001b[43mrun\u001b[49m\u001b[43m(\u001b[49m\u001b[43mfunc\u001b[49m\u001b[43m,\u001b[49m\u001b[43m \u001b[49m\u001b[38;5;241;43m*\u001b[39;49m\u001b[43margs\u001b[49m\u001b[43m)\u001b[49m\n\u001b[0;32m    868\u001b[0m \u001b[38;5;28;01mexcept\u001b[39;00m \u001b[38;5;167;01mBaseException\u001b[39;00m \u001b[38;5;28;01mas\u001b[39;00m exc:\n\u001b[0;32m    869\u001b[0m     exception \u001b[38;5;241m=\u001b[39m exc\n",
      "File \u001b[1;32mD:\\BCP\\ALGORTIMO\\Curso_ETL_Python\\lib\\site-packages\\prefect\\utilities\\asyncutils.py:135\u001b[0m, in \u001b[0;36mrun_sync_in_interruptible_worker_thread.<locals>.capture_worker_thread_and_result\u001b[1;34m()\u001b[0m\n\u001b[0;32m    133\u001b[0m \u001b[38;5;28;01mtry\u001b[39;00m:\n\u001b[0;32m    134\u001b[0m     thread \u001b[38;5;241m=\u001b[39m threading\u001b[38;5;241m.\u001b[39mcurrent_thread()\n\u001b[1;32m--> 135\u001b[0m     result \u001b[38;5;241m=\u001b[39m \u001b[43m__fn\u001b[49m\u001b[43m(\u001b[49m\u001b[38;5;241;43m*\u001b[39;49m\u001b[43margs\u001b[49m\u001b[43m,\u001b[49m\u001b[43m \u001b[49m\u001b[38;5;241;43m*\u001b[39;49m\u001b[38;5;241;43m*\u001b[39;49m\u001b[43mkwargs\u001b[49m\u001b[43m)\u001b[49m\n\u001b[0;32m    136\u001b[0m \u001b[38;5;28;01mexcept\u001b[39;00m \u001b[38;5;167;01mBaseException\u001b[39;00m \u001b[38;5;28;01mas\u001b[39;00m exc:\n\u001b[0;32m    137\u001b[0m     result \u001b[38;5;241m=\u001b[39m exc\n",
      "Cell \u001b[1;32mIn[1], line 7\u001b[0m, in \u001b[0;36mfailure\u001b[1;34m()\u001b[0m\n\u001b[0;32m      4\u001b[0m \u001b[38;5;129m@task\u001b[39m(retries\u001b[38;5;241m=\u001b[39m\u001b[38;5;241m2\u001b[39m, retry_delay_seconds\u001b[38;5;241m=\u001b[39m\u001b[38;5;241m60\u001b[39m)\n\u001b[0;32m      5\u001b[0m \u001b[38;5;28;01mdef\u001b[39;00m \u001b[38;5;21mfailure\u001b[39m():\n\u001b[0;32m      6\u001b[0m     \u001b[38;5;28mprint\u001b[39m(\u001b[38;5;124m'\u001b[39m\u001b[38;5;124mrunning\u001b[39m\u001b[38;5;124m'\u001b[39m)\n\u001b[1;32m----> 7\u001b[0m     \u001b[38;5;28;01mraise\u001b[39;00m \u001b[38;5;167;01mValueError\u001b[39;00m(\u001b[38;5;124m\"\u001b[39m\u001b[38;5;124mbad code\u001b[39m\u001b[38;5;124m\"\u001b[39m)\n",
      "\u001b[1;31mValueError\u001b[0m: bad code"
     ]
    }
   ],
   "source": [
    "state = test_retries()\n"
   ]
  },
  {
   "cell_type": "code",
   "execution_count": null,
   "id": "a27de77c",
   "metadata": {},
   "outputs": [],
   "source": [
    "#Revisemos el servidor desde el pycharm\n",
    "prefect orion start"
   ]
  },
  {
   "cell_type": "code",
   "execution_count": null,
   "id": "a0b76812",
   "metadata": {},
   "outputs": [],
   "source": [
    "#pruebas"
   ]
  }
 ],
 "metadata": {
  "kernelspec": {
   "display_name": "Python 3 (ipykernel)",
   "language": "python",
   "name": "python3"
  },
  "language_info": {
   "codemirror_mode": {
    "name": "ipython",
    "version": 3
   },
   "file_extension": ".py",
   "mimetype": "text/x-python",
   "name": "python",
   "nbconvert_exporter": "python",
   "pygments_lexer": "ipython3",
   "version": "3.10.9"
  }
 },
 "nbformat": 4,
 "nbformat_minor": 5
}
